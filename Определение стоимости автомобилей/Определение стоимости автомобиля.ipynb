{
 "cells": [
  {
   "cell_type": "markdown",
   "metadata": {},
   "source": [
    "# Определение стоимости автомобилей"
   ]
  },
  {
   "cell_type": "markdown",
   "metadata": {},
   "source": [
    "Сервис по продаже автомобилей с пробегом «Не бит, не крашен» разрабатывает приложение для привлечения новых клиентов. В нём можно быстро узнать рыночную стоимость своего автомобиля. В вашем распоряжении исторические данные: технические характеристики, комплектации и цены автомобилей. Вам нужно построить модель для определения стоимости. \n",
    "\n",
    "Заказчику важны:\n",
    "\n",
    "- качество предсказания;\n",
    "- скорость предсказания;\n",
    "- время обучения."
   ]
  },
  {
   "cell_type": "markdown",
   "metadata": {},
   "source": [
    "## Подготовка данных"
   ]
  },
  {
   "cell_type": "code",
   "execution_count": 2,
   "metadata": {},
   "outputs": [
    {
     "name": "stderr",
     "output_type": "stream",
     "text": [
      "/opt/conda/lib/python3.9/site-packages/xgboost/compat.py:36: FutureWarning: pandas.Int64Index is deprecated and will be removed from pandas in a future version. Use pandas.Index with the appropriate dtype instead.\n",
      "  from pandas import MultiIndex, Int64Index\n"
     ]
    }
   ],
   "source": [
    "import time\n",
    "import warnings\n",
    "import numpy as np\n",
    "import pandas as pd\n",
    "import seaborn as sns\n",
    "import lightgbm as lgb\n",
    "import matplotlib.pyplot as plt\n",
    "\n",
    "from random import randint\n",
    "from tqdm import tqdm_notebook\n",
    "from xgboost import XGBRegressor\n",
    "from skimpy import clean_columns\n",
    "from lightgbm import LGBMRegressor\n",
    "from catboost import CatBoostRegressor\n",
    "from sklearn.metrics import mean_squared_error\n",
    "from sklearn.linear_model import LinearRegression\n",
    "from sklearn.model_selection import GridSearchCV, KFold, train_test_split\n",
    "from sklearn.preprocessing import OrdinalEncoder, StandardScaler, LabelEncoder"
   ]
  },
  {
   "cell_type": "code",
   "execution_count": 3,
   "metadata": {},
   "outputs": [],
   "source": [
    "# снимаем ограничение на количество столбцов\n",
    "pd.set_option('display.max_columns', None)\n",
    "\n",
    "# снимаем ограничение на ширину столбцов\n",
    "#pd.set_option('display.max_colwidth', None)\n",
    "\n",
    "# игнорируем предупреждения\n",
    "pd.set_option('chained_assignment', None)  \n",
    "\n",
    "# выставляем ограничение на показ знаков после запятой\n",
    "pd.options.display.float_format = '{:,.2f}'.format\n",
    "\n",
    "# устанавливаем стиль графиков\n",
    "sns.set_style('darkgrid')\n",
    "sns.set(rc={'figure.dpi':200, 'savefig.dpi':300})   \n",
    "sns.set_context('notebook')    \n",
    "sns.set_style('ticks')  \n",
    "\n",
    "warnings.filterwarnings('ignore')"
   ]
  },
  {
   "cell_type": "code",
   "execution_count": 4,
   "metadata": {},
   "outputs": [],
   "source": [
    "try:\n",
    "    data = pd.read_csv('autos.csv') \n",
    "except:\n",
    "    data = pd.read_csv('/datasets/autos.csv')"
   ]
  },
  {
   "cell_type": "code",
   "execution_count": 5,
   "metadata": {},
   "outputs": [
    {
     "data": {
      "text/html": [
       "<div>\n",
       "<style scoped>\n",
       "    .dataframe tbody tr th:only-of-type {\n",
       "        vertical-align: middle;\n",
       "    }\n",
       "\n",
       "    .dataframe tbody tr th {\n",
       "        vertical-align: top;\n",
       "    }\n",
       "\n",
       "    .dataframe thead th {\n",
       "        text-align: right;\n",
       "    }\n",
       "</style>\n",
       "<table border=\"1\" class=\"dataframe\">\n",
       "  <thead>\n",
       "    <tr style=\"text-align: right;\">\n",
       "      <th></th>\n",
       "      <th>DateCrawled</th>\n",
       "      <th>Price</th>\n",
       "      <th>VehicleType</th>\n",
       "      <th>RegistrationYear</th>\n",
       "      <th>Gearbox</th>\n",
       "      <th>Power</th>\n",
       "      <th>Model</th>\n",
       "      <th>Kilometer</th>\n",
       "      <th>RegistrationMonth</th>\n",
       "      <th>FuelType</th>\n",
       "      <th>Brand</th>\n",
       "      <th>Repaired</th>\n",
       "      <th>DateCreated</th>\n",
       "      <th>NumberOfPictures</th>\n",
       "      <th>PostalCode</th>\n",
       "      <th>LastSeen</th>\n",
       "    </tr>\n",
       "  </thead>\n",
       "  <tbody>\n",
       "    <tr>\n",
       "      <th>0</th>\n",
       "      <td>2016-03-24 11:52:17</td>\n",
       "      <td>480</td>\n",
       "      <td>NaN</td>\n",
       "      <td>1993</td>\n",
       "      <td>manual</td>\n",
       "      <td>0</td>\n",
       "      <td>golf</td>\n",
       "      <td>150000</td>\n",
       "      <td>0</td>\n",
       "      <td>petrol</td>\n",
       "      <td>volkswagen</td>\n",
       "      <td>NaN</td>\n",
       "      <td>2016-03-24 00:00:00</td>\n",
       "      <td>0</td>\n",
       "      <td>70435</td>\n",
       "      <td>2016-04-07 03:16:57</td>\n",
       "    </tr>\n",
       "    <tr>\n",
       "      <th>1</th>\n",
       "      <td>2016-03-24 10:58:45</td>\n",
       "      <td>18300</td>\n",
       "      <td>coupe</td>\n",
       "      <td>2011</td>\n",
       "      <td>manual</td>\n",
       "      <td>190</td>\n",
       "      <td>NaN</td>\n",
       "      <td>125000</td>\n",
       "      <td>5</td>\n",
       "      <td>gasoline</td>\n",
       "      <td>audi</td>\n",
       "      <td>yes</td>\n",
       "      <td>2016-03-24 00:00:00</td>\n",
       "      <td>0</td>\n",
       "      <td>66954</td>\n",
       "      <td>2016-04-07 01:46:50</td>\n",
       "    </tr>\n",
       "    <tr>\n",
       "      <th>2</th>\n",
       "      <td>2016-03-14 12:52:21</td>\n",
       "      <td>9800</td>\n",
       "      <td>suv</td>\n",
       "      <td>2004</td>\n",
       "      <td>auto</td>\n",
       "      <td>163</td>\n",
       "      <td>grand</td>\n",
       "      <td>125000</td>\n",
       "      <td>8</td>\n",
       "      <td>gasoline</td>\n",
       "      <td>jeep</td>\n",
       "      <td>NaN</td>\n",
       "      <td>2016-03-14 00:00:00</td>\n",
       "      <td>0</td>\n",
       "      <td>90480</td>\n",
       "      <td>2016-04-05 12:47:46</td>\n",
       "    </tr>\n",
       "    <tr>\n",
       "      <th>3</th>\n",
       "      <td>2016-03-17 16:54:04</td>\n",
       "      <td>1500</td>\n",
       "      <td>small</td>\n",
       "      <td>2001</td>\n",
       "      <td>manual</td>\n",
       "      <td>75</td>\n",
       "      <td>golf</td>\n",
       "      <td>150000</td>\n",
       "      <td>6</td>\n",
       "      <td>petrol</td>\n",
       "      <td>volkswagen</td>\n",
       "      <td>no</td>\n",
       "      <td>2016-03-17 00:00:00</td>\n",
       "      <td>0</td>\n",
       "      <td>91074</td>\n",
       "      <td>2016-03-17 17:40:17</td>\n",
       "    </tr>\n",
       "    <tr>\n",
       "      <th>4</th>\n",
       "      <td>2016-03-31 17:25:20</td>\n",
       "      <td>3600</td>\n",
       "      <td>small</td>\n",
       "      <td>2008</td>\n",
       "      <td>manual</td>\n",
       "      <td>69</td>\n",
       "      <td>fabia</td>\n",
       "      <td>90000</td>\n",
       "      <td>7</td>\n",
       "      <td>gasoline</td>\n",
       "      <td>skoda</td>\n",
       "      <td>no</td>\n",
       "      <td>2016-03-31 00:00:00</td>\n",
       "      <td>0</td>\n",
       "      <td>60437</td>\n",
       "      <td>2016-04-06 10:17:21</td>\n",
       "    </tr>\n",
       "  </tbody>\n",
       "</table>\n",
       "</div>"
      ],
      "text/plain": [
       "           DateCrawled  Price VehicleType  RegistrationYear Gearbox  Power  \\\n",
       "0  2016-03-24 11:52:17    480         NaN              1993  manual      0   \n",
       "1  2016-03-24 10:58:45  18300       coupe              2011  manual    190   \n",
       "2  2016-03-14 12:52:21   9800         suv              2004    auto    163   \n",
       "3  2016-03-17 16:54:04   1500       small              2001  manual     75   \n",
       "4  2016-03-31 17:25:20   3600       small              2008  manual     69   \n",
       "\n",
       "   Model  Kilometer  RegistrationMonth  FuelType       Brand Repaired  \\\n",
       "0   golf     150000                  0    petrol  volkswagen      NaN   \n",
       "1    NaN     125000                  5  gasoline        audi      yes   \n",
       "2  grand     125000                  8  gasoline        jeep      NaN   \n",
       "3   golf     150000                  6    petrol  volkswagen       no   \n",
       "4  fabia      90000                  7  gasoline       skoda       no   \n",
       "\n",
       "           DateCreated  NumberOfPictures  PostalCode             LastSeen  \n",
       "0  2016-03-24 00:00:00                 0       70435  2016-04-07 03:16:57  \n",
       "1  2016-03-24 00:00:00                 0       66954  2016-04-07 01:46:50  \n",
       "2  2016-03-14 00:00:00                 0       90480  2016-04-05 12:47:46  \n",
       "3  2016-03-17 00:00:00                 0       91074  2016-03-17 17:40:17  \n",
       "4  2016-03-31 00:00:00                 0       60437  2016-04-06 10:17:21  "
      ]
     },
     "execution_count": 5,
     "metadata": {},
     "output_type": "execute_result"
    }
   ],
   "source": [
    "data.head()"
   ]
  },
  {
   "cell_type": "code",
   "execution_count": 6,
   "metadata": {},
   "outputs": [
    {
     "data": {
      "text/html": [
       "<pre style=\"white-space:pre;overflow-x:auto;line-height:normal;font-family:Menlo,'DejaVu Sans Mono',consolas,'Courier New',monospace\"><span style=\"color: #008080; text-decoration-color: #008080; font-weight: bold\">16</span> column names have been cleaned\n",
       "</pre>\n"
      ],
      "text/plain": [
       "\u001b[1;36m16\u001b[0m column names have been cleaned\n"
      ]
     },
     "metadata": {},
     "output_type": "display_data"
    },
    {
     "data": {
      "text/html": [
       "<div>\n",
       "<style scoped>\n",
       "    .dataframe tbody tr th:only-of-type {\n",
       "        vertical-align: middle;\n",
       "    }\n",
       "\n",
       "    .dataframe tbody tr th {\n",
       "        vertical-align: top;\n",
       "    }\n",
       "\n",
       "    .dataframe thead th {\n",
       "        text-align: right;\n",
       "    }\n",
       "</style>\n",
       "<table border=\"1\" class=\"dataframe\">\n",
       "  <thead>\n",
       "    <tr style=\"text-align: right;\">\n",
       "      <th></th>\n",
       "      <th>date_crawled</th>\n",
       "      <th>price</th>\n",
       "      <th>vehicle_type</th>\n",
       "      <th>registration_year</th>\n",
       "      <th>gearbox</th>\n",
       "      <th>power</th>\n",
       "      <th>model</th>\n",
       "      <th>kilometer</th>\n",
       "      <th>registration_month</th>\n",
       "      <th>fuel_type</th>\n",
       "      <th>brand</th>\n",
       "      <th>repaired</th>\n",
       "      <th>date_created</th>\n",
       "      <th>number_of_pictures</th>\n",
       "      <th>postal_code</th>\n",
       "      <th>last_seen</th>\n",
       "    </tr>\n",
       "  </thead>\n",
       "  <tbody>\n",
       "    <tr>\n",
       "      <th>0</th>\n",
       "      <td>2016-03-24 11:52:17</td>\n",
       "      <td>480</td>\n",
       "      <td>NaN</td>\n",
       "      <td>1993</td>\n",
       "      <td>manual</td>\n",
       "      <td>0</td>\n",
       "      <td>golf</td>\n",
       "      <td>150000</td>\n",
       "      <td>0</td>\n",
       "      <td>petrol</td>\n",
       "      <td>volkswagen</td>\n",
       "      <td>NaN</td>\n",
       "      <td>2016-03-24 00:00:00</td>\n",
       "      <td>0</td>\n",
       "      <td>70435</td>\n",
       "      <td>2016-04-07 03:16:57</td>\n",
       "    </tr>\n",
       "    <tr>\n",
       "      <th>1</th>\n",
       "      <td>2016-03-24 10:58:45</td>\n",
       "      <td>18300</td>\n",
       "      <td>coupe</td>\n",
       "      <td>2011</td>\n",
       "      <td>manual</td>\n",
       "      <td>190</td>\n",
       "      <td>NaN</td>\n",
       "      <td>125000</td>\n",
       "      <td>5</td>\n",
       "      <td>gasoline</td>\n",
       "      <td>audi</td>\n",
       "      <td>yes</td>\n",
       "      <td>2016-03-24 00:00:00</td>\n",
       "      <td>0</td>\n",
       "      <td>66954</td>\n",
       "      <td>2016-04-07 01:46:50</td>\n",
       "    </tr>\n",
       "    <tr>\n",
       "      <th>2</th>\n",
       "      <td>2016-03-14 12:52:21</td>\n",
       "      <td>9800</td>\n",
       "      <td>suv</td>\n",
       "      <td>2004</td>\n",
       "      <td>auto</td>\n",
       "      <td>163</td>\n",
       "      <td>grand</td>\n",
       "      <td>125000</td>\n",
       "      <td>8</td>\n",
       "      <td>gasoline</td>\n",
       "      <td>jeep</td>\n",
       "      <td>NaN</td>\n",
       "      <td>2016-03-14 00:00:00</td>\n",
       "      <td>0</td>\n",
       "      <td>90480</td>\n",
       "      <td>2016-04-05 12:47:46</td>\n",
       "    </tr>\n",
       "    <tr>\n",
       "      <th>3</th>\n",
       "      <td>2016-03-17 16:54:04</td>\n",
       "      <td>1500</td>\n",
       "      <td>small</td>\n",
       "      <td>2001</td>\n",
       "      <td>manual</td>\n",
       "      <td>75</td>\n",
       "      <td>golf</td>\n",
       "      <td>150000</td>\n",
       "      <td>6</td>\n",
       "      <td>petrol</td>\n",
       "      <td>volkswagen</td>\n",
       "      <td>no</td>\n",
       "      <td>2016-03-17 00:00:00</td>\n",
       "      <td>0</td>\n",
       "      <td>91074</td>\n",
       "      <td>2016-03-17 17:40:17</td>\n",
       "    </tr>\n",
       "    <tr>\n",
       "      <th>4</th>\n",
       "      <td>2016-03-31 17:25:20</td>\n",
       "      <td>3600</td>\n",
       "      <td>small</td>\n",
       "      <td>2008</td>\n",
       "      <td>manual</td>\n",
       "      <td>69</td>\n",
       "      <td>fabia</td>\n",
       "      <td>90000</td>\n",
       "      <td>7</td>\n",
       "      <td>gasoline</td>\n",
       "      <td>skoda</td>\n",
       "      <td>no</td>\n",
       "      <td>2016-03-31 00:00:00</td>\n",
       "      <td>0</td>\n",
       "      <td>60437</td>\n",
       "      <td>2016-04-06 10:17:21</td>\n",
       "    </tr>\n",
       "  </tbody>\n",
       "</table>\n",
       "</div>"
      ],
      "text/plain": [
       "          date_crawled  price vehicle_type  registration_year gearbox  power  \\\n",
       "0  2016-03-24 11:52:17    480          NaN               1993  manual      0   \n",
       "1  2016-03-24 10:58:45  18300        coupe               2011  manual    190   \n",
       "2  2016-03-14 12:52:21   9800          suv               2004    auto    163   \n",
       "3  2016-03-17 16:54:04   1500        small               2001  manual     75   \n",
       "4  2016-03-31 17:25:20   3600        small               2008  manual     69   \n",
       "\n",
       "   model  kilometer  registration_month fuel_type       brand repaired  \\\n",
       "0   golf     150000                   0    petrol  volkswagen      NaN   \n",
       "1    NaN     125000                   5  gasoline        audi      yes   \n",
       "2  grand     125000                   8  gasoline        jeep      NaN   \n",
       "3   golf     150000                   6    petrol  volkswagen       no   \n",
       "4  fabia      90000                   7  gasoline       skoda       no   \n",
       "\n",
       "          date_created  number_of_pictures  postal_code            last_seen  \n",
       "0  2016-03-24 00:00:00                   0        70435  2016-04-07 03:16:57  \n",
       "1  2016-03-24 00:00:00                   0        66954  2016-04-07 01:46:50  \n",
       "2  2016-03-14 00:00:00                   0        90480  2016-04-05 12:47:46  \n",
       "3  2016-03-17 00:00:00                   0        91074  2016-03-17 17:40:17  \n",
       "4  2016-03-31 00:00:00                   0        60437  2016-04-06 10:17:21  "
      ]
     },
     "execution_count": 6,
     "metadata": {},
     "output_type": "execute_result"
    }
   ],
   "source": [
    "# Приведем наименования столбцов к хорошему стилю\n",
    "data = clean_columns(data)\n",
    "data.head()"
   ]
  },
  {
   "cell_type": "code",
   "execution_count": 7,
   "metadata": {},
   "outputs": [
    {
     "name": "stdout",
     "output_type": "stream",
     "text": [
      "<class 'pandas.core.frame.DataFrame'>\n",
      "RangeIndex: 354369 entries, 0 to 354368\n",
      "Data columns (total 16 columns):\n",
      " #   Column              Non-Null Count   Dtype \n",
      "---  ------              --------------   ----- \n",
      " 0   date_crawled        354369 non-null  object\n",
      " 1   price               354369 non-null  int64 \n",
      " 2   vehicle_type        316879 non-null  object\n",
      " 3   registration_year   354369 non-null  int64 \n",
      " 4   gearbox             334536 non-null  object\n",
      " 5   power               354369 non-null  int64 \n",
      " 6   model               334664 non-null  object\n",
      " 7   kilometer           354369 non-null  int64 \n",
      " 8   registration_month  354369 non-null  int64 \n",
      " 9   fuel_type           321474 non-null  object\n",
      " 10  brand               354369 non-null  object\n",
      " 11  repaired            283215 non-null  object\n",
      " 12  date_created        354369 non-null  object\n",
      " 13  number_of_pictures  354369 non-null  int64 \n",
      " 14  postal_code         354369 non-null  int64 \n",
      " 15  last_seen           354369 non-null  object\n",
      "dtypes: int64(7), object(9)\n",
      "memory usage: 43.3+ MB\n"
     ]
    }
   ],
   "source": [
    "data.info()"
   ]
  },
  {
   "cell_type": "code",
   "execution_count": 8,
   "metadata": {},
   "outputs": [
    {
     "data": {
      "text/plain": [
       "date_crawled              0\n",
       "price                     0\n",
       "vehicle_type          37490\n",
       "registration_year         0\n",
       "gearbox               19833\n",
       "power                     0\n",
       "model                 19705\n",
       "kilometer                 0\n",
       "registration_month        0\n",
       "fuel_type             32895\n",
       "brand                     0\n",
       "repaired              71154\n",
       "date_created              0\n",
       "number_of_pictures        0\n",
       "postal_code               0\n",
       "last_seen                 0\n",
       "dtype: int64"
      ]
     },
     "execution_count": 8,
     "metadata": {},
     "output_type": "execute_result"
    }
   ],
   "source": [
    "data.isna().sum()"
   ]
  },
  {
   "cell_type": "code",
   "execution_count": 9,
   "metadata": {},
   "outputs": [
    {
     "data": {
      "text/plain": [
       "4"
      ]
     },
     "execution_count": 9,
     "metadata": {},
     "output_type": "execute_result"
    }
   ],
   "source": [
    "data.duplicated().sum()"
   ]
  },
  {
   "cell_type": "code",
   "execution_count": 10,
   "metadata": {},
   "outputs": [],
   "source": [
    "# удалим дубликаты\n",
    "data = data.drop_duplicates()"
   ]
  },
  {
   "cell_type": "code",
   "execution_count": 11,
   "metadata": {},
   "outputs": [
    {
     "data": {
      "text/html": [
       "<div>\n",
       "<style scoped>\n",
       "    .dataframe tbody tr th:only-of-type {\n",
       "        vertical-align: middle;\n",
       "    }\n",
       "\n",
       "    .dataframe tbody tr th {\n",
       "        vertical-align: top;\n",
       "    }\n",
       "\n",
       "    .dataframe thead th {\n",
       "        text-align: right;\n",
       "    }\n",
       "</style>\n",
       "<table border=\"1\" class=\"dataframe\">\n",
       "  <thead>\n",
       "    <tr style=\"text-align: right;\">\n",
       "      <th></th>\n",
       "      <th>price</th>\n",
       "      <th>registration_year</th>\n",
       "      <th>power</th>\n",
       "      <th>kilometer</th>\n",
       "      <th>registration_month</th>\n",
       "      <th>number_of_pictures</th>\n",
       "      <th>postal_code</th>\n",
       "    </tr>\n",
       "  </thead>\n",
       "  <tbody>\n",
       "    <tr>\n",
       "      <th>count</th>\n",
       "      <td>354,365.00</td>\n",
       "      <td>354,365.00</td>\n",
       "      <td>354,365.00</td>\n",
       "      <td>354,365.00</td>\n",
       "      <td>354,365.00</td>\n",
       "      <td>354,365.00</td>\n",
       "      <td>354,365.00</td>\n",
       "    </tr>\n",
       "    <tr>\n",
       "      <th>mean</th>\n",
       "      <td>4,416.68</td>\n",
       "      <td>2,004.23</td>\n",
       "      <td>110.09</td>\n",
       "      <td>128,211.36</td>\n",
       "      <td>5.71</td>\n",
       "      <td>0.00</td>\n",
       "      <td>50,508.50</td>\n",
       "    </tr>\n",
       "    <tr>\n",
       "      <th>std</th>\n",
       "      <td>4,514.18</td>\n",
       "      <td>90.23</td>\n",
       "      <td>189.85</td>\n",
       "      <td>37,905.08</td>\n",
       "      <td>3.73</td>\n",
       "      <td>0.00</td>\n",
       "      <td>25,783.10</td>\n",
       "    </tr>\n",
       "    <tr>\n",
       "      <th>min</th>\n",
       "      <td>0.00</td>\n",
       "      <td>1,000.00</td>\n",
       "      <td>0.00</td>\n",
       "      <td>5,000.00</td>\n",
       "      <td>0.00</td>\n",
       "      <td>0.00</td>\n",
       "      <td>1,067.00</td>\n",
       "    </tr>\n",
       "    <tr>\n",
       "      <th>25%</th>\n",
       "      <td>1,050.00</td>\n",
       "      <td>1,999.00</td>\n",
       "      <td>69.00</td>\n",
       "      <td>125,000.00</td>\n",
       "      <td>3.00</td>\n",
       "      <td>0.00</td>\n",
       "      <td>30,165.00</td>\n",
       "    </tr>\n",
       "    <tr>\n",
       "      <th>50%</th>\n",
       "      <td>2,700.00</td>\n",
       "      <td>2,003.00</td>\n",
       "      <td>105.00</td>\n",
       "      <td>150,000.00</td>\n",
       "      <td>6.00</td>\n",
       "      <td>0.00</td>\n",
       "      <td>49,413.00</td>\n",
       "    </tr>\n",
       "    <tr>\n",
       "      <th>75%</th>\n",
       "      <td>6,400.00</td>\n",
       "      <td>2,008.00</td>\n",
       "      <td>143.00</td>\n",
       "      <td>150,000.00</td>\n",
       "      <td>9.00</td>\n",
       "      <td>0.00</td>\n",
       "      <td>71,083.00</td>\n",
       "    </tr>\n",
       "    <tr>\n",
       "      <th>max</th>\n",
       "      <td>20,000.00</td>\n",
       "      <td>9,999.00</td>\n",
       "      <td>20,000.00</td>\n",
       "      <td>150,000.00</td>\n",
       "      <td>12.00</td>\n",
       "      <td>0.00</td>\n",
       "      <td>99,998.00</td>\n",
       "    </tr>\n",
       "  </tbody>\n",
       "</table>\n",
       "</div>"
      ],
      "text/plain": [
       "           price  registration_year      power  kilometer  registration_month  \\\n",
       "count 354,365.00         354,365.00 354,365.00 354,365.00          354,365.00   \n",
       "mean    4,416.68           2,004.23     110.09 128,211.36                5.71   \n",
       "std     4,514.18              90.23     189.85  37,905.08                3.73   \n",
       "min         0.00           1,000.00       0.00   5,000.00                0.00   \n",
       "25%     1,050.00           1,999.00      69.00 125,000.00                3.00   \n",
       "50%     2,700.00           2,003.00     105.00 150,000.00                6.00   \n",
       "75%     6,400.00           2,008.00     143.00 150,000.00                9.00   \n",
       "max    20,000.00           9,999.00  20,000.00 150,000.00               12.00   \n",
       "\n",
       "       number_of_pictures  postal_code  \n",
       "count          354,365.00   354,365.00  \n",
       "mean                 0.00    50,508.50  \n",
       "std                  0.00    25,783.10  \n",
       "min                  0.00     1,067.00  \n",
       "25%                  0.00    30,165.00  \n",
       "50%                  0.00    49,413.00  \n",
       "75%                  0.00    71,083.00  \n",
       "max                  0.00    99,998.00  "
      ]
     },
     "execution_count": 11,
     "metadata": {},
     "output_type": "execute_result"
    }
   ],
   "source": [
    "data.describe()"
   ]
  },
  {
   "cell_type": "markdown",
   "metadata": {},
   "source": [
    "## Предобработка данных"
   ]
  },
  {
   "cell_type": "markdown",
   "metadata": {},
   "source": [
    "<div style=\"border:solid black 2px; padding: 10px\">  \n",
    "    \n",
    "**Комментарий:**  \n",
    "    \n",
    "Удалим 6 неинформативных для модели признаков"
   ]
  },
  {
   "cell_type": "code",
   "execution_count": 12,
   "metadata": {},
   "outputs": [
    {
     "data": {
      "text/html": [
       "<div>\n",
       "<style scoped>\n",
       "    .dataframe tbody tr th:only-of-type {\n",
       "        vertical-align: middle;\n",
       "    }\n",
       "\n",
       "    .dataframe tbody tr th {\n",
       "        vertical-align: top;\n",
       "    }\n",
       "\n",
       "    .dataframe thead th {\n",
       "        text-align: right;\n",
       "    }\n",
       "</style>\n",
       "<table border=\"1\" class=\"dataframe\">\n",
       "  <thead>\n",
       "    <tr style=\"text-align: right;\">\n",
       "      <th></th>\n",
       "      <th>price</th>\n",
       "      <th>vehicle_type</th>\n",
       "      <th>registration_year</th>\n",
       "      <th>gearbox</th>\n",
       "      <th>power</th>\n",
       "      <th>model</th>\n",
       "      <th>kilometer</th>\n",
       "      <th>fuel_type</th>\n",
       "      <th>brand</th>\n",
       "      <th>repaired</th>\n",
       "    </tr>\n",
       "  </thead>\n",
       "  <tbody>\n",
       "    <tr>\n",
       "      <th>0</th>\n",
       "      <td>480</td>\n",
       "      <td>NaN</td>\n",
       "      <td>1993</td>\n",
       "      <td>manual</td>\n",
       "      <td>0</td>\n",
       "      <td>golf</td>\n",
       "      <td>150000</td>\n",
       "      <td>petrol</td>\n",
       "      <td>volkswagen</td>\n",
       "      <td>NaN</td>\n",
       "    </tr>\n",
       "    <tr>\n",
       "      <th>1</th>\n",
       "      <td>18300</td>\n",
       "      <td>coupe</td>\n",
       "      <td>2011</td>\n",
       "      <td>manual</td>\n",
       "      <td>190</td>\n",
       "      <td>NaN</td>\n",
       "      <td>125000</td>\n",
       "      <td>gasoline</td>\n",
       "      <td>audi</td>\n",
       "      <td>yes</td>\n",
       "    </tr>\n",
       "    <tr>\n",
       "      <th>2</th>\n",
       "      <td>9800</td>\n",
       "      <td>suv</td>\n",
       "      <td>2004</td>\n",
       "      <td>auto</td>\n",
       "      <td>163</td>\n",
       "      <td>grand</td>\n",
       "      <td>125000</td>\n",
       "      <td>gasoline</td>\n",
       "      <td>jeep</td>\n",
       "      <td>NaN</td>\n",
       "    </tr>\n",
       "    <tr>\n",
       "      <th>3</th>\n",
       "      <td>1500</td>\n",
       "      <td>small</td>\n",
       "      <td>2001</td>\n",
       "      <td>manual</td>\n",
       "      <td>75</td>\n",
       "      <td>golf</td>\n",
       "      <td>150000</td>\n",
       "      <td>petrol</td>\n",
       "      <td>volkswagen</td>\n",
       "      <td>no</td>\n",
       "    </tr>\n",
       "    <tr>\n",
       "      <th>4</th>\n",
       "      <td>3600</td>\n",
       "      <td>small</td>\n",
       "      <td>2008</td>\n",
       "      <td>manual</td>\n",
       "      <td>69</td>\n",
       "      <td>fabia</td>\n",
       "      <td>90000</td>\n",
       "      <td>gasoline</td>\n",
       "      <td>skoda</td>\n",
       "      <td>no</td>\n",
       "    </tr>\n",
       "  </tbody>\n",
       "</table>\n",
       "</div>"
      ],
      "text/plain": [
       "   price vehicle_type  registration_year gearbox  power  model  kilometer  \\\n",
       "0    480          NaN               1993  manual      0   golf     150000   \n",
       "1  18300        coupe               2011  manual    190    NaN     125000   \n",
       "2   9800          suv               2004    auto    163  grand     125000   \n",
       "3   1500        small               2001  manual     75   golf     150000   \n",
       "4   3600        small               2008  manual     69  fabia      90000   \n",
       "\n",
       "  fuel_type       brand repaired  \n",
       "0    petrol  volkswagen      NaN  \n",
       "1  gasoline        audi      yes  \n",
       "2  gasoline        jeep      NaN  \n",
       "3    petrol  volkswagen       no  \n",
       "4  gasoline       skoda       no  "
      ]
     },
     "execution_count": 12,
     "metadata": {},
     "output_type": "execute_result"
    }
   ],
   "source": [
    "data = data.drop(['date_crawled', 'registration_month', 'date_created', \n",
    "                  'number_of_pictures', 'postal_code', 'last_seen'], axis=1)\n",
    "data.head()"
   ]
  },
  {
   "cell_type": "markdown",
   "metadata": {},
   "source": [
    "<div style=\"border:solid black 2px; padding: 10px\">  \n",
    "    \n",
    "**Комментарий:**  \n",
    "    \n",
    "Продолжим анализ данных, восполнив пропуски, отбросив аномальные значения и проведя дополнительные шаги предобработки данных."
   ]
  },
  {
   "cell_type": "code",
   "execution_count": 13,
   "metadata": {},
   "outputs": [
    {
     "data": {
      "text/plain": [
       "sedan          91457\n",
       "small          79830\n",
       "wagon          65165\n",
       "bus            28775\n",
       "convertible    20203\n",
       "coupe          16161\n",
       "suv            11996\n",
       "other           3288\n",
       "Name: vehicle_type, dtype: int64"
      ]
     },
     "execution_count": 13,
     "metadata": {},
     "output_type": "execute_result"
    }
   ],
   "source": [
    "data['vehicle_type'].value_counts()"
   ]
  },
  {
   "cell_type": "code",
   "execution_count": 14,
   "metadata": {},
   "outputs": [
    {
     "data": {
      "text/plain": [
       "manual    268249\n",
       "auto       66283\n",
       "Name: gearbox, dtype: int64"
      ]
     },
     "execution_count": 14,
     "metadata": {},
     "output_type": "execute_result"
    }
   ],
   "source": [
    "data['gearbox'].value_counts()"
   ]
  },
  {
   "cell_type": "code",
   "execution_count": 15,
   "metadata": {},
   "outputs": [
    {
     "data": {
      "text/plain": [
       "golf                  29232\n",
       "other                 24420\n",
       "3er                   19761\n",
       "polo                  13066\n",
       "corsa                 12570\n",
       "                      ...  \n",
       "i3                        8\n",
       "serie_3                   4\n",
       "rangerover                4\n",
       "range_rover_evoque        2\n",
       "serie_1                   2\n",
       "Name: model, Length: 250, dtype: int64"
      ]
     },
     "execution_count": 15,
     "metadata": {},
     "output_type": "execute_result"
    }
   ],
   "source": [
    "data['model'].value_counts()"
   ]
  },
  {
   "cell_type": "code",
   "execution_count": 16,
   "metadata": {},
   "outputs": [
    {
     "data": {
      "text/plain": [
       "array(['golf', nan, 'grand', 'fabia', '3er', '2_reihe', 'other', 'c_max',\n",
       "       '3_reihe', 'passat', 'navara', 'ka', 'polo', 'twingo', 'a_klasse',\n",
       "       'scirocco', '5er', 'meriva', 'arosa', 'c4', 'civic', 'transporter',\n",
       "       'punto', 'e_klasse', 'clio', 'kadett', 'kangoo', 'corsa', 'one',\n",
       "       'fortwo', '1er', 'b_klasse', 'signum', 'astra', 'a8', 'jetta',\n",
       "       'fiesta', 'c_klasse', 'micra', 'vito', 'sprinter', '156', 'escort',\n",
       "       'forester', 'xc_reihe', 'scenic', 'a4', 'a1', 'insignia', 'combo',\n",
       "       'focus', 'tt', 'a6', 'jazz', 'omega', 'slk', '7er', '80', '147',\n",
       "       '100', 'z_reihe', 'sportage', 'sorento', 'v40', 'ibiza', 'mustang',\n",
       "       'eos', 'touran', 'getz', 'a3', 'almera', 'megane', 'lupo', 'r19',\n",
       "       'zafira', 'caddy', 'mondeo', 'cordoba', 'colt', 'impreza',\n",
       "       'vectra', 'berlingo', 'tiguan', 'i_reihe', 'espace', 'sharan',\n",
       "       '6_reihe', 'panda', 'up', 'seicento', 'ceed', '5_reihe', 'yeti',\n",
       "       'octavia', 'mii', 'rx_reihe', '6er', 'modus', 'fox', 'matiz',\n",
       "       'beetle', 'c1', 'rio', 'touareg', 'logan', 'spider', 'cuore',\n",
       "       's_max', 'a2', 'galaxy', 'c3', 'viano', 's_klasse', '1_reihe',\n",
       "       'avensis', 'roomster', 'sl', 'kaefer', 'santa', 'cooper', 'leon',\n",
       "       '4_reihe', 'a5', '500', 'laguna', 'ptcruiser', 'clk', 'primera',\n",
       "       'x_reihe', 'exeo', '159', 'transit', 'juke', 'qashqai', 'carisma',\n",
       "       'accord', 'corolla', 'lanos', 'phaeton', 'verso', 'swift', 'rav',\n",
       "       'picanto', 'boxster', 'kalos', 'superb', 'stilo', 'alhambra',\n",
       "       'mx_reihe', 'roadster', 'ypsilon', 'cayenne', 'galant', 'justy',\n",
       "       '90', 'sirion', 'crossfire', 'agila', 'duster', 'cr_reihe', 'v50',\n",
       "       'c_reihe', 'v_klasse', 'm_klasse', 'yaris', 'c5', 'aygo', 'cc',\n",
       "       'carnival', 'fusion', '911', 'bora', 'forfour', 'm_reihe', 'cl',\n",
       "       'tigra', '300c', 'spark', 'v70', 'kuga', 'x_type', 'ducato',\n",
       "       's_type', 'x_trail', 'toledo', 'altea', 'voyager', 'calibra',\n",
       "       'bravo', 'antara', 'tucson', 'citigo', 'jimny', 'wrangler',\n",
       "       'lybra', 'q7', 'lancer', 'captiva', 'c2', 'discovery',\n",
       "       'freelander', 'sandero', 'note', '900', 'cherokee', 'clubman',\n",
       "       'samara', 'defender', '601', 'cx_reihe', 'legacy', 'pajero',\n",
       "       'auris', 'niva', 's60', 'nubira', 'vivaro', 'g_klasse', 'lodgy',\n",
       "       '850', 'range_rover', 'q3', 'serie_2', 'glk', 'charade', 'croma',\n",
       "       'outlander', 'doblo', 'musa', 'move', '9000', 'v60', '145', 'aveo',\n",
       "       '200', 'b_max', 'range_rover_sport', 'terios', 'rangerover', 'q5',\n",
       "       'range_rover_evoque', 'materia', 'delta', 'gl', 'kalina', 'amarok',\n",
       "       'elefantino', 'i3', 'kappa', 'serie_3', 'serie_1'], dtype=object)"
      ]
     },
     "execution_count": 16,
     "metadata": {},
     "output_type": "execute_result"
    }
   ],
   "source": [
    "# Взгляним на модельный ряд автомобилей\n",
    "data['model'].unique()"
   ]
  },
  {
   "cell_type": "code",
   "execution_count": 17,
   "metadata": {},
   "outputs": [
    {
     "data": {
      "text/plain": [
       "petrol      216349\n",
       "gasoline     98719\n",
       "lpg           5310\n",
       "cng            565\n",
       "hybrid         233\n",
       "other          204\n",
       "electric        90\n",
       "Name: fuel_type, dtype: int64"
      ]
     },
     "execution_count": 17,
     "metadata": {},
     "output_type": "execute_result"
    }
   ],
   "source": [
    "data['fuel_type'].value_counts()"
   ]
  },
  {
   "cell_type": "code",
   "execution_count": 18,
   "metadata": {},
   "outputs": [
    {
     "data": {
      "text/plain": [
       "no     247158\n",
       "yes     36053\n",
       "Name: repaired, dtype: int64"
      ]
     },
     "execution_count": 18,
     "metadata": {},
     "output_type": "execute_result"
    }
   ],
   "source": [
    "data['repaired'].value_counts()"
   ]
  },
  {
   "cell_type": "markdown",
   "metadata": {},
   "source": [
    "<div style=\"border:solid black 2px; padding: 10px\">  \n",
    "    \n",
    "**Комментарий:**  \n",
    "    \n",
    "Предлагаю в колонках `vehicle_type`, `model`, `fuel_type` восполнить пропущенные значения дополнительной категорией `unknown`"
   ]
  },
  {
   "cell_type": "code",
   "execution_count": 19,
   "metadata": {},
   "outputs": [],
   "source": [
    "data['vehicle_type'] = data['vehicle_type'].fillna('unknown')\n",
    "data['model'] = data['model'].fillna('unknown')\n",
    "data['fuel_type'] = data['fuel_type'].fillna('unknown')"
   ]
  },
  {
   "cell_type": "markdown",
   "metadata": {},
   "source": [
    "<div style=\"border:solid black 2px; padding: 10px\">  \n",
    "    \n",
    "**Комментарий:**  \n",
    "\n",
    "Категориальные признаки `gearbox` и `repaired` являются бинарными. И в этой связи предлагаю восполнить пропущенные значения методом научного тыка `np.random.choice`"
   ]
  },
  {
   "cell_type": "code",
   "execution_count": 20,
   "metadata": {},
   "outputs": [],
   "source": [
    "data[['gearbox', 'repaired']] = data[['gearbox', 'repaired']].fillna({\n",
    "    'gearbox': np.random.choice(data['gearbox'].dropna()),\n",
    "    'repaired': np.random.choice(data['repaired'].dropna())\n",
    "})\n"
   ]
  },
  {
   "cell_type": "code",
   "execution_count": 21,
   "metadata": {},
   "outputs": [
    {
     "data": {
      "text/plain": [
       "price                0\n",
       "vehicle_type         0\n",
       "registration_year    0\n",
       "gearbox              0\n",
       "power                0\n",
       "model                0\n",
       "kilometer            0\n",
       "fuel_type            0\n",
       "brand                0\n",
       "repaired             0\n",
       "dtype: int64"
      ]
     },
     "execution_count": 21,
     "metadata": {},
     "output_type": "execute_result"
    }
   ],
   "source": [
    "data.isna().sum()"
   ]
  },
  {
   "cell_type": "markdown",
   "metadata": {},
   "source": [
    "Проспуски восполненны "
   ]
  },
  {
   "cell_type": "code",
   "execution_count": 22,
   "metadata": {},
   "outputs": [
    {
     "data": {
      "text/html": [
       "<div>\n",
       "<style scoped>\n",
       "    .dataframe tbody tr th:only-of-type {\n",
       "        vertical-align: middle;\n",
       "    }\n",
       "\n",
       "    .dataframe tbody tr th {\n",
       "        vertical-align: top;\n",
       "    }\n",
       "\n",
       "    .dataframe thead th {\n",
       "        text-align: right;\n",
       "    }\n",
       "</style>\n",
       "<table border=\"1\" class=\"dataframe\">\n",
       "  <thead>\n",
       "    <tr style=\"text-align: right;\">\n",
       "      <th></th>\n",
       "      <th>price</th>\n",
       "      <th>registration_year</th>\n",
       "      <th>power</th>\n",
       "      <th>kilometer</th>\n",
       "    </tr>\n",
       "  </thead>\n",
       "  <tbody>\n",
       "    <tr>\n",
       "      <th>count</th>\n",
       "      <td>354,365.00</td>\n",
       "      <td>354,365.00</td>\n",
       "      <td>354,365.00</td>\n",
       "      <td>354,365.00</td>\n",
       "    </tr>\n",
       "    <tr>\n",
       "      <th>mean</th>\n",
       "      <td>4,416.68</td>\n",
       "      <td>2,004.23</td>\n",
       "      <td>110.09</td>\n",
       "      <td>128,211.36</td>\n",
       "    </tr>\n",
       "    <tr>\n",
       "      <th>std</th>\n",
       "      <td>4,514.18</td>\n",
       "      <td>90.23</td>\n",
       "      <td>189.85</td>\n",
       "      <td>37,905.08</td>\n",
       "    </tr>\n",
       "    <tr>\n",
       "      <th>min</th>\n",
       "      <td>0.00</td>\n",
       "      <td>1,000.00</td>\n",
       "      <td>0.00</td>\n",
       "      <td>5,000.00</td>\n",
       "    </tr>\n",
       "    <tr>\n",
       "      <th>25%</th>\n",
       "      <td>1,050.00</td>\n",
       "      <td>1,999.00</td>\n",
       "      <td>69.00</td>\n",
       "      <td>125,000.00</td>\n",
       "    </tr>\n",
       "    <tr>\n",
       "      <th>50%</th>\n",
       "      <td>2,700.00</td>\n",
       "      <td>2,003.00</td>\n",
       "      <td>105.00</td>\n",
       "      <td>150,000.00</td>\n",
       "    </tr>\n",
       "    <tr>\n",
       "      <th>75%</th>\n",
       "      <td>6,400.00</td>\n",
       "      <td>2,008.00</td>\n",
       "      <td>143.00</td>\n",
       "      <td>150,000.00</td>\n",
       "    </tr>\n",
       "    <tr>\n",
       "      <th>max</th>\n",
       "      <td>20,000.00</td>\n",
       "      <td>9,999.00</td>\n",
       "      <td>20,000.00</td>\n",
       "      <td>150,000.00</td>\n",
       "    </tr>\n",
       "  </tbody>\n",
       "</table>\n",
       "</div>"
      ],
      "text/plain": [
       "           price  registration_year      power  kilometer\n",
       "count 354,365.00         354,365.00 354,365.00 354,365.00\n",
       "mean    4,416.68           2,004.23     110.09 128,211.36\n",
       "std     4,514.18              90.23     189.85  37,905.08\n",
       "min         0.00           1,000.00       0.00   5,000.00\n",
       "25%     1,050.00           1,999.00      69.00 125,000.00\n",
       "50%     2,700.00           2,003.00     105.00 150,000.00\n",
       "75%     6,400.00           2,008.00     143.00 150,000.00\n",
       "max    20,000.00           9,999.00  20,000.00 150,000.00"
      ]
     },
     "execution_count": 22,
     "metadata": {},
     "output_type": "execute_result"
    }
   ],
   "source": [
    "data.describe()"
   ]
  },
  {
   "cell_type": "markdown",
   "metadata": {},
   "source": [
    "<div style=\"border:solid black 2px; padding: 10px\">  \n",
    "    \n",
    "**Комментарий:**  \n",
    "   \n",
    "На первый взгляд, эти три колонки выглядят довольно забавно. Похоже, что владельцы этих автомобилей договорились с Владимиром I о покупке машин по нулевой цене, и даже получили дату регистрации времен его правления! Но, кажется, эти машины не оснащены двигателями, возможно, это специальная партия \"автомобилей без двигателя\" для коллекционеров, чтобы они могли наслаждаться абсолютной тишиной и спокойствием на дороге. Что ж, с такими автомобилями можно путешествовать во времени и наслаждаться атмосферой прошлого, пока они тихо стоят на парковке. Но стоит историю немного подправить, чтобы она не казалась сказачной."
   ]
  },
  {
   "cell_type": "markdown",
   "metadata": {},
   "source": [
    "<div style=\"border:solid black 2px; padding: 10px\">  \n",
    "    \n",
    "**Комментарий:**  \n",
    "    \n",
    "Мы сохраним только те машины, чей год регистрации находится в диапазоне с 1960 по 2016 гг.  \n",
    "Удалим нулевые значения в колонке `price` и поставим ограничение лошадинных сил до 500 л.с. также заменим нули на медианное значение л.с. модели"
   ]
  },
  {
   "cell_type": "code",
   "execution_count": 23,
   "metadata": {},
   "outputs": [],
   "source": [
    "data = data[data['price'] != 0]"
   ]
  },
  {
   "cell_type": "code",
   "execution_count": 24,
   "metadata": {},
   "outputs": [],
   "source": [
    "data = data[(data['registration_year'] >= 1960) & (data['registration_year'] <= 2016)]"
   ]
  },
  {
   "cell_type": "code",
   "execution_count": 25,
   "metadata": {},
   "outputs": [
    {
     "data": {
      "image/png": "[encoded data removed]",
      "text/plain": [
       "<Figure size 2400x1000 with 1 Axes>"
      ]
     },
     "metadata": {},
     "output_type": "display_data"
    }
   ],
   "source": [
    "data.boxplot(column='power', showfliers=False, figsize=(12, 5))\n",
    "plt.xlabel(\"Признак 'Power' (мощность автомобиля)\")\n",
    "plt.ylabel('Мощность автомобиля (л. с.)')\n",
    "plt.title('Распределение мощности автомобиля (без выбросов)')\n",
    "plt.show()"
   ]
  },
  {
   "cell_type": "code",
   "execution_count": 26,
   "metadata": {},
   "outputs": [
    {
     "data": {
      "text/plain": [
       "329083"
      ]
     },
     "execution_count": 26,
     "metadata": {},
     "output_type": "execute_result"
    }
   ],
   "source": [
    "data[data['power'] <= 500].shape[0]"
   ]
  },
  {
   "cell_type": "code",
   "execution_count": 27,
   "metadata": {},
   "outputs": [],
   "source": [
    "# Заменим нули в признаке Power на медиану по бренду.\n",
    "data = data[data['power'] <= 500]\n",
    "data['power'] = data['power'].replace(0, np.NaN) \\\n",
    ".fillna(data.groupby('model')['power'].transform(lambda x: x.median() if x.median() else np.nan))"
   ]
  },
  {
   "cell_type": "markdown",
   "metadata": {},
   "source": [
    "<div style=\"border:solid black 2px; padding: 10px\">  \n",
    "    \n",
    "**Промежуточный вывод:**  \n",
    "    \n",
    "**В разделе Исследование данных были выполнены следующие задачи:**. \n",
    "1. Произведено изучение данных  \n",
    "2. Удалены явные дубликаты  \n",
    "3. Исключены неинформативные признаки  \n",
    "4. Проведено исследование данных после первоначальной предобработки  \n",
    "5. Произведена обработка аномалий  \n",
    "6. Обработаны пропущенные значения  "
   ]
  },
  {
   "cell_type": "markdown",
   "metadata": {},
   "source": [
    "## Обучение моделей"
   ]
  },
  {
   "cell_type": "code",
   "execution_count": 28,
   "metadata": {},
   "outputs": [],
   "source": [
    "# Замена категориальных переменных на числовые\n",
    "data['vehicle_type'] = data['vehicle_type'].astype('category').cat.codes\n",
    "data['gearbox'] = data['gearbox'].astype('category').cat.codes\n",
    "data['model'] = data['model'].astype('category').cat.codes\n",
    "data['fuel_type'] = data['fuel_type'].astype('category').cat.codes\n",
    "data['brand'] = data['brand'].astype('category').cat.codes\n",
    "data['repaired'] = data['repaired'].astype('category').cat.codes\n",
    "\n",
    "# Разделение данных на признаки и целевую переменную\n",
    "X = data.drop('price', axis=1)\n",
    "y = data['price']\n",
    "\n",
    "# Разделение на тренировочный, тестовый и валидационный наборы данных\n",
    "X_train, X_test, y_train, y_test = train_test_split(X, y, test_size=0.2, random_state=42)\n",
    "X_train, X_val, y_train, y_val = train_test_split(X_train, y_train, test_size=0.2, random_state=42)"
   ]
  },
  {
   "cell_type": "code",
   "execution_count": 29,
   "metadata": {},
   "outputs": [
    {
     "name": "stdout",
     "output_type": "stream",
     "text": [
      "[LightGBM] [Warning] Auto-choosing row-wise multi-threading, the overhead of testing was 0.401682 seconds.\n",
      "You can set `force_row_wise=true` to remove the overhead.\n",
      "And if memory is not enough, you can set `force_col_wise=true`.\n",
      "Training until validation scores don't improve for 50 rounds\n",
      "[100]\ttraining's rmse: 1796.99\tvalid_1's rmse: 1817.65\n",
      "[200]\ttraining's rmse: 1706.36\tvalid_1's rmse: 1741.28\n",
      "[300]\ttraining's rmse: 1658.52\tvalid_1's rmse: 1706.13\n",
      "[400]\ttraining's rmse: 1626.38\tvalid_1's rmse: 1686.63\n",
      "[500]\ttraining's rmse: 1601.46\tvalid_1's rmse: 1672.66\n",
      "[600]\ttraining's rmse: 1582.02\tvalid_1's rmse: 1663.02\n",
      "[700]\ttraining's rmse: 1564.55\tvalid_1's rmse: 1654.22\n",
      "[800]\ttraining's rmse: 1547.96\tvalid_1's rmse: 1646.64\n",
      "[900]\ttraining's rmse: 1535.11\tvalid_1's rmse: 1640.94\n",
      "[1000]\ttraining's rmse: 1521.82\tvalid_1's rmse: 1634.73\n",
      "Did not meet early stopping. Best iteration is:\n",
      "[1000]\ttraining's rmse: 1521.82\tvalid_1's rmse: 1634.73\n",
      "Время обучения LightGBM: 78.10541296005249 секунд\n",
      "Время предсказания LightGBM: 6.2365288734436035 секунд\n",
      "RMSE LightGBM на валидационной выборке: 1634.73\n"
     ]
    }
   ],
   "source": [
    "# Обучение модели LightGBM\n",
    "start_time = time.time()\n",
    "\n",
    "params = {\n",
    "    'boosting_type': 'gbdt',\n",
    "    'objective': 'regression',\n",
    "    'metric': 'rmse',\n",
    "    'num_leaves': 31,\n",
    "    'learning_rate': 0.05,\n",
    "    'feature_fraction': 0.9,\n",
    "    'bagging_fraction': 0.8,\n",
    "    'bagging_freq': 5,\n",
    "    'verbose': 0,\n",
    "    'n_jobs': -1\n",
    "}\n",
    "\n",
    "lgb_train = lgb.Dataset(X_train, y_train)\n",
    "lgb_val = lgb.Dataset(X_val, y_val)\n",
    "\n",
    "model_lgb = lgb.train(params,\n",
    "                      lgb_train,\n",
    "                      num_boost_round=1000,\n",
    "                      valid_sets=[lgb_train, lgb_val],\n",
    "                      early_stopping_rounds=50,\n",
    "                      verbose_eval=100)\n",
    "\n",
    "end_time = time.time()\n",
    "training_time_lgb = end_time - start_time\n",
    "\n",
    "# Время обучения модели LightGBM\n",
    "print(\"Время обучения LightGBM: %s секунд\" % training_time_lgb)\n",
    "\n",
    "# Время предсказания модели LightGBM\n",
    "start_time = time.time()\n",
    "y_pred_lgb = model_lgb.predict(X_test)\n",
    "end_time = time.time()\n",
    "prediction_time_lgb = end_time - start_time\n",
    "print(\"Время предсказания LightGBM: %s секунд\" % prediction_time_lgb)\n",
    "\n",
    "# Оценка качества модели LightGBM на валидационной выборке\n",
    "rmse_lgb = mean_squared_error(y_val, model_lgb.predict(X_val), squared=False)\n",
    "print(\"RMSE LightGBM на валидационной выборке: %.2f\" % rmse_lgb)"
   ]
  },
  {
   "cell_type": "code",
   "execution_count": 30,
   "metadata": {},
   "outputs": [
    {
     "name": "stdout",
     "output_type": "stream",
     "text": [
      "0:\tlearn: 4262.0720118\ttest: 4277.6542190\tbest: 4277.6542190 (0)\ttotal: 84.9ms\tremaining: 1m 24s\n",
      "100:\tlearn: 1839.6365372\ttest: 1859.6840564\tbest: 1859.6840564 (100)\ttotal: 2.84s\tremaining: 25.3s\n",
      "200:\tlearn: 1746.4535386\ttest: 1774.5226989\tbest: 1774.5226989 (200)\ttotal: 5.54s\tremaining: 22s\n",
      "300:\tlearn: 1700.6398365\ttest: 1739.1199051\tbest: 1739.1199051 (300)\ttotal: 8.25s\tremaining: 19.2s\n",
      "400:\tlearn: 1670.0905057\ttest: 1715.8886607\tbest: 1715.8886607 (400)\ttotal: 11s\tremaining: 16.4s\n",
      "500:\tlearn: 1646.1786352\ttest: 1700.1806305\tbest: 1700.1806305 (500)\ttotal: 13.6s\tremaining: 13.6s\n",
      "600:\tlearn: 1627.4495932\ttest: 1689.1175058\tbest: 1689.1175058 (600)\ttotal: 16.4s\tremaining: 10.9s\n",
      "700:\tlearn: 1611.6897914\ttest: 1679.9486108\tbest: 1679.9321178 (699)\ttotal: 19.2s\tremaining: 8.18s\n",
      "800:\tlearn: 1596.6311915\ttest: 1671.9388727\tbest: 1671.9009227 (799)\ttotal: 21.8s\tremaining: 5.42s\n",
      "900:\tlearn: 1583.9295675\ttest: 1665.3018152\tbest: 1665.3018152 (900)\ttotal: 24.4s\tremaining: 2.68s\n",
      "999:\tlearn: 1572.6327848\ttest: 1658.7894590\tbest: 1658.7894590 (999)\ttotal: 27.1s\tremaining: 0us\n",
      "\n",
      "bestTest = 1658.789459\n",
      "bestIteration = 999\n",
      "\n",
      "Время обучения CatBoostRegressor: 29.466367483139038 секунд\n",
      "Время предсказания CatBoostRegressor: 0.06172466278076172 секунд\n",
      "RMSE CatBoostRegressor на валидационной выборке: 1658.79\n"
     ]
    }
   ],
   "source": [
    "# Обучение модели CatBoostRegressor\n",
    "start_time = time.time()\n",
    "\n",
    "model_catboost = CatBoostRegressor(iterations=1000,\n",
    "                                   learning_rate=0.1,\n",
    "                                   depth=6,\n",
    "                                   loss_function='RMSE',\n",
    "                                   random_state=42)\n",
    "\n",
    "model_catboost.fit(X_train, y_train, eval_set=(X_val, y_val), verbose=100, early_stopping_rounds=50)\n",
    "\n",
    "end_time = time.time()\n",
    "training_time_catboost = end_time - start_time\n",
    "\n",
    "# Время обучения модели CatBoostRegressor\n",
    "print(\"Время обучения CatBoostRegressor: %s секунд\" % training_time_catboost)\n",
    "\n",
    "# Время предсказания модели CatBoostRegressor\n",
    "start_time = time.time()\n",
    "y_pred_catboost = model_catboost.predict(X_test)\n",
    "end_time = time.time()\n",
    "prediction_time_catboost = end_time - start_time\n",
    "print(\"Время предсказания CatBoostRegressor: %s секунд\" % prediction_time_catboost)\n",
    "\n",
    "# Оценка качества модели CatBoostRegressor на валидационной выборке\n",
    "rmse_catboost = mean_squared_error(y_val, model_catboost.predict(X_val), squared=False)\n",
    "print(\"RMSE CatBoostRegressor на валидационной выборке: %.2f\" % rmse_catboost)\n"
   ]
  },
  {
   "cell_type": "code",
   "execution_count": 31,
   "metadata": {},
   "outputs": [
    {
     "name": "stdout",
     "output_type": "stream",
     "text": [
      "[0]\tvalidation_0-rmse:5953.03125\n",
      "[100]\tvalidation_0-rmse:1602.40283\n",
      "[200]\tvalidation_0-rmse:1583.79468\n",
      "[300]\tvalidation_0-rmse:1578.23315\n",
      "[400]\tvalidation_0-rmse:1577.02014\n",
      "[440]\tvalidation_0-rmse:1577.60498\n",
      "Время обучения XGBRegressor: 380.0115520954132 секунд\n",
      "Время предсказания XGBRegressor: 1.9037024974822998 секунд\n",
      "RMSE XGBRegressor на валидационной выборке: 1576.76\n"
     ]
    }
   ],
   "source": [
    "start_time = time.time()\n",
    "\n",
    "model_xgb = XGBRegressor(n_estimators=1000,\n",
    "                         learning_rate=0.1,\n",
    "                         max_depth=10,\n",
    "                         random_state=12345,\n",
    "                         subsample=0.8,\n",
    "                         colsample_bytree=0.8)\n",
    "\n",
    "model_xgb.fit(X_train, y_train, eval_set=[(X_val, y_val)], early_stopping_rounds=50, verbose=100)\n",
    "\n",
    "end_time = time.time()\n",
    "training_time_xgb = end_time - start_time\n",
    "\n",
    "# Время обучения модели XGBRegressor\n",
    "print(\"Время обучения XGBRegressor: %s секунд\" % training_time_xgb)\n",
    "\n",
    "# Время предсказания модели XGBRegressor\n",
    "start_time = time.time()\n",
    "y_pred_xgb = model_xgb.predict(X_test)\n",
    "end_time = time.time()\n",
    "prediction_time_xgb = end_time - start_time\n",
    "print(\"Время предсказания XGBRegressor: %s секунд\" % prediction_time_xgb)\n",
    "\n",
    "# Оценка качества модели XGBRegressor на валидационной выборке\n",
    "rmse_xgb = mean_squared_error(y_val, model_xgb.predict(X_val), squared=False)\n",
    "print(\"RMSE XGBRegressor на валидационной выборке: %.2f\" % rmse_xgb)"
   ]
  },
  {
   "cell_type": "code",
   "execution_count": 32,
   "metadata": {},
   "outputs": [],
   "source": [
    "# Заполнение пропущенных значений средними значениями для числовых признаков\n",
    "X_train = X_train.fillna(X_train.mean())\n",
    "X_val = X_val.fillna(X_val.mean())\n",
    "X_test = X_test.fillna(X_test.mean())\n",
    "\n",
    "# Заполнение пропущенных значений наиболее часто встречающимися значениями для категориальных признаков\n",
    "X_train = X_train.fillna(X_train.mode().iloc[0])\n",
    "X_val = X_val.fillna(X_val.mode().iloc[0])\n",
    "X_test = X_test.fillna(X_test.mode().iloc[0])"
   ]
  },
  {
   "cell_type": "code",
   "execution_count": 33,
   "metadata": {},
   "outputs": [
    {
     "name": "stdout",
     "output_type": "stream",
     "text": [
      "Лучшие гиперпараметры модели LinearRegression:  {'copy_X': True, 'fit_intercept': True, 'n_jobs': 1, 'normalize': False}\n",
      "RMSE LinearRegression на валидационной выборке: 2992.29\n"
     ]
    }
   ],
   "source": [
    "start_time = time.time()\n",
    "\n",
    "# Создаем объект модели линейной регрессии\n",
    "model_lr = LinearRegression()\n",
    "\n",
    "# Задаем сетку гиперпараметров для подбора\n",
    "param_grid = {\n",
    "    'fit_intercept': [True, False],\n",
    "    'normalize': [True, False],\n",
    "    'copy_X': [True, False],\n",
    "    'n_jobs': [1, -1]\n",
    "}\n",
    "\n",
    "# Создаем объект GridSearchCV для подбора гиперпараметров\n",
    "grid_cv = GridSearchCV(estimator=model_lr, param_grid=param_grid, cv=3, scoring='neg_mean_squared_error')\n",
    "\n",
    "# Обучаем модель с подбором гиперпараметров\n",
    "grid_cv.fit(X_train, y_train)\n",
    "\n",
    "# Получаем лучшие гиперпараметры\n",
    "best_params = grid_cv.best_params_\n",
    "\n",
    "# Создаем новую модель с лучшими гиперпараметрами\n",
    "best_model_lr = LinearRegression(**best_params)\n",
    "\n",
    "# Обучаем модель на всем обучающем наборе данных\n",
    "best_model_lr.fit(X_train, y_train)\n",
    "\n",
    "end_time = time.time()\n",
    "training_time_lr = end_time - start_time\n",
    "\n",
    "# Предсказание цен на валидационной выборке\n",
    "val_predictions_lr = best_model_lr.predict(X_val)\n",
    "\n",
    "end_time = time.time()\n",
    "prediction_time_lr = end_time - start_time\n",
    "\n",
    "# Вычисление RMSE на валидационной выборке\n",
    "rmse_lr = np.sqrt(mean_squared_error(y_val, val_predictions_lr))\n",
    "\n",
    "print(\"Лучшие гиперпараметры модели LinearRegression: \", best_params)\n",
    "print(\"RMSE LinearRegression на валидационной выборке: %.2f\" % rmse_lr)"
   ]
  },
  {
   "cell_type": "code",
   "execution_count": 34,
   "metadata": {},
   "outputs": [
    {
     "data": {
      "text/html": [
       "<div>\n",
       "<style scoped>\n",
       "    .dataframe tbody tr th:only-of-type {\n",
       "        vertical-align: middle;\n",
       "    }\n",
       "\n",
       "    .dataframe tbody tr th {\n",
       "        vertical-align: top;\n",
       "    }\n",
       "\n",
       "    .dataframe thead th {\n",
       "        text-align: right;\n",
       "    }\n",
       "</style>\n",
       "<table border=\"1\" class=\"dataframe\">\n",
       "  <thead>\n",
       "    <tr style=\"text-align: right;\">\n",
       "      <th></th>\n",
       "      <th>Model</th>\n",
       "      <th>Training Time (sec)</th>\n",
       "      <th>Prediction Time (sec)</th>\n",
       "      <th>RMSE (Validation)</th>\n",
       "    </tr>\n",
       "  </thead>\n",
       "  <tbody>\n",
       "    <tr>\n",
       "      <th>0</th>\n",
       "      <td>Linear Regression</td>\n",
       "      <td>9.86</td>\n",
       "      <td>9.86</td>\n",
       "      <td>2,992.29</td>\n",
       "    </tr>\n",
       "    <tr>\n",
       "      <th>1</th>\n",
       "      <td>LightGBM</td>\n",
       "      <td>78.11</td>\n",
       "      <td>6.24</td>\n",
       "      <td>1,634.73</td>\n",
       "    </tr>\n",
       "    <tr>\n",
       "      <th>2</th>\n",
       "      <td>CatBoostRegressor</td>\n",
       "      <td>29.47</td>\n",
       "      <td>0.06</td>\n",
       "      <td>1,658.79</td>\n",
       "    </tr>\n",
       "    <tr>\n",
       "      <th>3</th>\n",
       "      <td>XGBRegressor</td>\n",
       "      <td>380.01</td>\n",
       "      <td>1.90</td>\n",
       "      <td>1,576.76</td>\n",
       "    </tr>\n",
       "  </tbody>\n",
       "</table>\n",
       "</div>"
      ],
      "text/plain": [
       "               Model  Training Time (sec)  Prediction Time (sec)  \\\n",
       "0  Linear Regression                 9.86                   9.86   \n",
       "1           LightGBM                78.11                   6.24   \n",
       "2  CatBoostRegressor                29.47                   0.06   \n",
       "3       XGBRegressor               380.01                   1.90   \n",
       "\n",
       "   RMSE (Validation)  \n",
       "0           2,992.29  \n",
       "1           1,634.73  \n",
       "2           1,658.79  \n",
       "3           1,576.76  "
      ]
     },
     "execution_count": 34,
     "metadata": {},
     "output_type": "execute_result"
    }
   ],
   "source": [
    "# Создание DataFrame с результатами\n",
    "results = pd.DataFrame({'Model': ['Linear Regression', 'LightGBM', 'CatBoostRegressor', 'XGBRegressor'],\n",
    "                        'Training Time (sec)': [training_time_lr, training_time_lgb, training_time_catboost, training_time_xgb],\n",
    "                        'Prediction Time (sec)': [prediction_time_lr, prediction_time_lgb, prediction_time_catboost, prediction_time_xgb],\n",
    "                        'RMSE (Validation)': [rmse_lr, rmse_lgb, rmse_catboost, rmse_xgb]})\n",
    "\n",
    "# Вывод результатов\n",
    "results"
   ]
  },
  {
   "cell_type": "markdown",
   "metadata": {},
   "source": [
    "## Анализ модели"
   ]
  },
  {
   "cell_type": "code",
   "execution_count": 35,
   "metadata": {},
   "outputs": [
    {
     "name": "stdout",
     "output_type": "stream",
     "text": [
      "RMSE XGBRegressor на тестовой выборке: 1556.97\n"
     ]
    }
   ],
   "source": [
    "# Оценка качества модели LightGBM на тестовой выборке\n",
    "rmse_test = mean_squared_error(y_test, model_xgb.predict(X_test), squared=False)\n",
    "print(\"RMSE XGBRegressor на тестовой выборке: %.2f\" % rmse_test)"
   ]
  },
  {
   "cell_type": "markdown",
   "metadata": {},
   "source": [
    "<div style=\"border:solid black 2px; padding: 10px\">  \n",
    "    \n",
    "**Вывод:**  \n",
    "    \n",
    "**В разделе Анализ моделей были выполнены следующие задачи:**. \n",
    "\n",
    "1. Выведена таблица сравнения метрик для сравнения моделей;\n",
    "2. Проанализированы время обучения, время предсказания и качество моделей;\n",
    "3. Опираясь на критерии заказчика, выбрана лучшая модель, и проверено её качество на тестовой выборке.\n",
    "\n",
    "В результате выполнения задач этого раздела было выявлено следующее:\n",
    "\n",
    "Лучшая модель градиентного бустинга XGBRegressor тестовой выборке имеет значение метрики оценки качества *RMSE = 1556.97*.\n",
    "Во всех моделях значение метрики RMSE не превышает 2500, что соответствует изначальному требованию в условии задачи проекта."
   ]
  },
  {
   "cell_type": "markdown",
   "metadata": {},
   "source": [
    "## Чек-лист проверки"
   ]
  },
  {
   "cell_type": "markdown",
   "metadata": {},
   "source": [
    "Поставьте 'x' в выполненных пунктах. Далее нажмите Shift+Enter."
   ]
  },
  {
   "cell_type": "markdown",
   "metadata": {},
   "source": [
    "- [x]  Jupyter Notebook открыт\n",
    "- [x]  Весь код выполняется без ошибок\n",
    "- [x]  Ячейки с кодом расположены в порядке исполнения\n",
    "- [x]  Выполнена загрузка и подготовка данных\n",
    "- [x]  Выполнено обучение моделей\n",
    "- [x]  Есть анализ скорости работы и качества моделей"
   ]
  }
 ],
 "metadata": {
  "ExecuteTimeLog": [
   {
    "duration": 1785,
    "start_time": "2023-05-22T08:36:06.180Z"
   },
   {
    "duration": 1047,
    "start_time": "2023-05-22T08:37:22.106Z"
   },
   {
    "duration": 21,
    "start_time": "2023-05-22T08:37:54.558Z"
   },
   {
    "duration": 111,
    "start_time": "2023-05-22T08:38:25.424Z"
   },
   {
    "duration": 108,
    "start_time": "2023-05-22T08:39:10.361Z"
   },
   {
    "duration": 3,
    "start_time": "2023-05-22T08:39:41.814Z"
   },
   {
    "duration": 413,
    "start_time": "2023-05-22T08:39:44.152Z"
   },
   {
    "duration": 444,
    "start_time": "2023-05-22T08:40:04.818Z"
   },
   {
    "duration": 482,
    "start_time": "2023-05-22T08:40:27.869Z"
   },
   {
    "duration": 129,
    "start_time": "2023-05-22T08:43:55.382Z"
   },
   {
    "duration": 29167,
    "start_time": "2023-05-22T08:44:20.580Z"
   },
   {
    "duration": 52,
    "start_time": "2023-05-22T08:44:49.749Z"
   },
   {
    "duration": 148,
    "start_time": "2023-05-22T08:45:30.461Z"
   },
   {
    "duration": 4,
    "start_time": "2023-05-22T08:50:17.531Z"
   },
   {
    "duration": 90,
    "start_time": "2023-05-22T08:50:39.263Z"
   },
   {
    "duration": 4,
    "start_time": "2023-05-22T09:06:14.812Z"
   },
   {
    "duration": 23,
    "start_time": "2023-05-22T09:08:29.959Z"
   },
   {
    "duration": 5,
    "start_time": "2023-05-22T09:10:06.362Z"
   },
   {
    "duration": 4,
    "start_time": "2023-05-22T09:10:10.312Z"
   },
   {
    "duration": 5,
    "start_time": "2023-05-22T09:10:10.605Z"
   },
   {
    "duration": 780,
    "start_time": "2023-05-22T09:10:10.997Z"
   },
   {
    "duration": 12,
    "start_time": "2023-05-22T09:10:11.779Z"
   },
   {
    "duration": 84,
    "start_time": "2023-05-22T09:10:12.624Z"
   },
   {
    "duration": 110,
    "start_time": "2023-05-22T09:10:18.259Z"
   },
   {
    "duration": 129,
    "start_time": "2023-05-22T09:10:20.946Z"
   },
   {
    "duration": 345,
    "start_time": "2023-05-22T09:10:21.130Z"
   },
   {
    "duration": 401,
    "start_time": "2023-05-22T09:10:26.103Z"
   },
   {
    "duration": 94,
    "start_time": "2023-05-22T09:10:27.785Z"
   },
   {
    "duration": 16,
    "start_time": "2023-05-22T09:12:16.404Z"
   },
   {
    "duration": 9459,
    "start_time": "2023-05-22T09:13:11.999Z"
   },
   {
    "duration": 25,
    "start_time": "2023-05-22T09:13:34.134Z"
   },
   {
    "duration": 7937,
    "start_time": "2023-05-22T09:14:20.702Z"
   },
   {
    "duration": 7888,
    "start_time": "2023-05-22T09:14:34.526Z"
   },
   {
    "duration": 22,
    "start_time": "2023-05-22T09:14:49.686Z"
   },
   {
    "duration": 12,
    "start_time": "2023-05-22T09:15:13.916Z"
   },
   {
    "duration": 17,
    "start_time": "2023-05-22T09:16:03.504Z"
   },
   {
    "duration": 15,
    "start_time": "2023-05-22T09:16:52.452Z"
   },
   {
    "duration": 4,
    "start_time": "2023-05-22T09:17:34.792Z"
   },
   {
    "duration": 5,
    "start_time": "2023-05-22T09:17:39.700Z"
   },
   {
    "duration": 1430,
    "start_time": "2023-05-22T09:17:40.060Z"
   },
   {
    "duration": 1772,
    "start_time": "2023-05-22T09:17:51.314Z"
   },
   {
    "duration": 16,
    "start_time": "2023-05-22T09:18:35.340Z"
   },
   {
    "duration": 2842,
    "start_time": "2023-05-22T09:18:44.741Z"
   },
   {
    "duration": 21,
    "start_time": "2023-05-22T09:18:55.052Z"
   },
   {
    "duration": 1949,
    "start_time": "2023-05-22T09:24:49.298Z"
   },
   {
    "duration": 5,
    "start_time": "2023-05-22T09:24:51.249Z"
   },
   {
    "duration": 895,
    "start_time": "2023-05-22T09:24:51.256Z"
   },
   {
    "duration": 16,
    "start_time": "2023-05-22T09:24:52.152Z"
   },
   {
    "duration": 143,
    "start_time": "2023-05-22T09:24:52.170Z"
   },
   {
    "duration": 113,
    "start_time": "2023-05-22T09:24:52.314Z"
   },
   {
    "duration": 390,
    "start_time": "2023-05-22T09:24:52.429Z"
   },
   {
    "duration": 399,
    "start_time": "2023-05-22T09:24:52.821Z"
   },
   {
    "duration": 84,
    "start_time": "2023-05-22T09:24:53.222Z"
   },
   {
    "duration": 585,
    "start_time": "2023-05-22T09:24:53.307Z"
   },
   {
    "duration": 1879,
    "start_time": "2023-05-22T09:26:36.777Z"
   },
   {
    "duration": 437,
    "start_time": "2023-05-22T09:27:05.606Z"
   },
   {
    "duration": 64,
    "start_time": "2023-05-22T09:37:02.020Z"
   },
   {
    "duration": 564,
    "start_time": "2023-05-22T09:37:30.524Z"
   },
   {
    "duration": 2213,
    "start_time": "2023-05-22T09:43:55.110Z"
   },
   {
    "duration": 2206,
    "start_time": "2023-05-22T09:44:18.835Z"
   },
   {
    "duration": 8,
    "start_time": "2023-05-22T09:44:49.445Z"
   },
   {
    "duration": 7825,
    "start_time": "2023-05-22T09:45:45.370Z"
   },
   {
    "duration": 2520,
    "start_time": "2023-05-22T09:46:49.328Z"
   },
   {
    "duration": 1631,
    "start_time": "2023-05-22T09:46:51.850Z"
   },
   {
    "duration": 6,
    "start_time": "2023-05-22T09:46:53.482Z"
   },
   {
    "duration": 924,
    "start_time": "2023-05-22T09:46:53.490Z"
   },
   {
    "duration": 15,
    "start_time": "2023-05-22T09:46:54.415Z"
   },
   {
    "duration": 128,
    "start_time": "2023-05-22T09:46:54.432Z"
   },
   {
    "duration": 359,
    "start_time": "2023-05-22T09:46:54.562Z"
   },
   {
    "duration": 354,
    "start_time": "2023-05-22T09:46:54.923Z"
   },
   {
    "duration": 384,
    "start_time": "2023-05-22T09:46:55.279Z"
   },
   {
    "duration": 396,
    "start_time": "2023-05-22T09:46:55.666Z"
   },
   {
    "duration": 93,
    "start_time": "2023-05-22T09:46:56.064Z"
   },
   {
    "duration": 1863,
    "start_time": "2023-05-22T09:46:56.159Z"
   },
   {
    "duration": 1579,
    "start_time": "2023-05-22T09:46:58.024Z"
   },
   {
    "duration": 1928,
    "start_time": "2023-05-22T09:47:44.794Z"
   },
   {
    "duration": 21,
    "start_time": "2023-05-22T09:47:51.416Z"
   },
   {
    "duration": 2476,
    "start_time": "2023-05-22T09:48:20.466Z"
   },
   {
    "duration": 1595,
    "start_time": "2023-05-22T09:48:22.944Z"
   },
   {
    "duration": 6,
    "start_time": "2023-05-22T09:48:24.541Z"
   },
   {
    "duration": 927,
    "start_time": "2023-05-22T09:48:24.550Z"
   },
   {
    "duration": 16,
    "start_time": "2023-05-22T09:48:25.479Z"
   },
   {
    "duration": 113,
    "start_time": "2023-05-22T09:48:25.499Z"
   },
   {
    "duration": 320,
    "start_time": "2023-05-22T09:48:25.617Z"
   },
   {
    "duration": 316,
    "start_time": "2023-05-22T09:48:25.939Z"
   },
   {
    "duration": 352,
    "start_time": "2023-05-22T09:48:26.257Z"
   },
   {
    "duration": 366,
    "start_time": "2023-05-22T09:48:26.612Z"
   },
   {
    "duration": 89,
    "start_time": "2023-05-22T09:48:26.980Z"
   },
   {
    "duration": 1850,
    "start_time": "2023-05-22T09:48:27.071Z"
   },
   {
    "duration": 2070,
    "start_time": "2023-05-22T09:48:28.923Z"
   },
   {
    "duration": 1850,
    "start_time": "2023-05-22T09:48:36.971Z"
   },
   {
    "duration": 2467,
    "start_time": "2023-05-22T09:49:56.317Z"
   },
   {
    "duration": 1656,
    "start_time": "2023-05-22T09:49:58.788Z"
   },
   {
    "duration": 5,
    "start_time": "2023-05-22T09:50:00.446Z"
   },
   {
    "duration": 1034,
    "start_time": "2023-05-22T09:50:00.453Z"
   },
   {
    "duration": 13,
    "start_time": "2023-05-22T09:50:01.489Z"
   },
   {
    "duration": 115,
    "start_time": "2023-05-22T09:50:01.504Z"
   },
   {
    "duration": 353,
    "start_time": "2023-05-22T09:50:01.620Z"
   },
   {
    "duration": 361,
    "start_time": "2023-05-22T09:50:01.975Z"
   },
   {
    "duration": 391,
    "start_time": "2023-05-22T09:50:02.338Z"
   },
   {
    "duration": 390,
    "start_time": "2023-05-22T09:50:02.731Z"
   },
   {
    "duration": 95,
    "start_time": "2023-05-22T09:50:03.123Z"
   },
   {
    "duration": 2107,
    "start_time": "2023-05-22T09:50:03.219Z"
   },
   {
    "duration": 1784,
    "start_time": "2023-05-22T09:50:05.328Z"
   },
   {
    "duration": 87,
    "start_time": "2023-05-22T09:59:18.141Z"
   },
   {
    "duration": 542,
    "start_time": "2023-05-22T10:02:53.890Z"
   },
   {
    "duration": 495,
    "start_time": "2023-05-22T10:04:02.304Z"
   },
   {
    "duration": 115,
    "start_time": "2023-05-22T10:14:13.906Z"
   },
   {
    "duration": 353,
    "start_time": "2023-05-22T10:17:18.465Z"
   },
   {
    "duration": 389,
    "start_time": "2023-05-22T10:21:51.741Z"
   },
   {
    "duration": 38604,
    "start_time": "2023-05-22T10:26:53.256Z"
   },
   {
    "duration": 2382,
    "start_time": "2023-05-22T10:32:37.657Z"
   },
   {
    "duration": 1554,
    "start_time": "2023-05-22T10:32:40.041Z"
   },
   {
    "duration": 5,
    "start_time": "2023-05-22T10:32:41.597Z"
   },
   {
    "duration": 881,
    "start_time": "2023-05-22T10:32:41.604Z"
   },
   {
    "duration": 13,
    "start_time": "2023-05-22T10:32:42.486Z"
   },
   {
    "duration": 103,
    "start_time": "2023-05-22T10:32:42.501Z"
   },
   {
    "duration": 311,
    "start_time": "2023-05-22T10:32:42.606Z"
   },
   {
    "duration": 313,
    "start_time": "2023-05-22T10:32:42.919Z"
   },
   {
    "duration": 2,
    "start_time": "2023-05-22T10:32:43.233Z"
   },
   {
    "duration": 390,
    "start_time": "2023-05-22T10:32:43.237Z"
   },
   {
    "duration": 89,
    "start_time": "2023-05-22T10:32:43.629Z"
   },
   {
    "duration": 1609,
    "start_time": "2023-05-22T10:32:43.720Z"
   },
   {
    "duration": 32678,
    "start_time": "2023-05-22T10:32:45.417Z"
   },
   {
    "duration": 0,
    "start_time": "2023-05-22T10:33:18.097Z"
   },
   {
    "duration": 27547,
    "start_time": "2023-05-29T18:38:51.185Z"
   },
   {
    "duration": 2509,
    "start_time": "2023-05-29T18:39:18.734Z"
   },
   {
    "duration": 11,
    "start_time": "2023-05-29T18:39:21.246Z"
   },
   {
    "duration": 3280,
    "start_time": "2023-05-29T18:39:21.259Z"
   },
   {
    "duration": 18,
    "start_time": "2023-05-29T18:39:24.542Z"
   },
   {
    "duration": 119,
    "start_time": "2023-05-29T18:39:24.562Z"
   },
   {
    "duration": 407,
    "start_time": "2023-05-29T18:39:24.682Z"
   },
   {
    "duration": 352,
    "start_time": "2023-05-29T18:39:25.091Z"
   },
   {
    "duration": 12,
    "start_time": "2023-05-29T18:39:25.445Z"
   },
   {
    "duration": 543,
    "start_time": "2023-05-29T18:39:25.459Z"
   },
   {
    "duration": 117,
    "start_time": "2023-05-29T18:39:26.004Z"
   },
   {
    "duration": 2941,
    "start_time": "2023-05-29T18:39:26.123Z"
   },
   {
    "duration": 48952,
    "start_time": "2023-05-29T18:39:29.067Z"
   },
   {
    "duration": 0,
    "start_time": "2023-05-29T18:40:18.020Z"
   },
   {
    "duration": 39,
    "start_time": "2023-05-29T18:51:57.802Z"
   },
   {
    "duration": 2472,
    "start_time": "2023-05-29T18:52:09.316Z"
   },
   {
    "duration": 2540,
    "start_time": "2023-05-29T18:52:25.393Z"
   },
   {
    "duration": 1696,
    "start_time": "2023-05-29T18:52:27.935Z"
   },
   {
    "duration": 5,
    "start_time": "2023-05-29T18:52:29.633Z"
   },
   {
    "duration": 1016,
    "start_time": "2023-05-29T18:52:29.640Z"
   },
   {
    "duration": 17,
    "start_time": "2023-05-29T18:52:30.659Z"
   },
   {
    "duration": 154,
    "start_time": "2023-05-29T18:52:30.678Z"
   },
   {
    "duration": 317,
    "start_time": "2023-05-29T18:52:30.834Z"
   },
   {
    "duration": 313,
    "start_time": "2023-05-29T18:52:31.157Z"
   },
   {
    "duration": 2,
    "start_time": "2023-05-29T18:52:31.472Z"
   },
   {
    "duration": 630,
    "start_time": "2023-05-29T18:52:31.476Z"
   },
   {
    "duration": 101,
    "start_time": "2023-05-29T18:52:32.109Z"
   },
   {
    "duration": 47,
    "start_time": "2023-05-29T18:52:32.212Z"
   },
   {
    "duration": 2696,
    "start_time": "2023-05-29T18:52:32.261Z"
   },
   {
    "duration": 46201,
    "start_time": "2023-05-29T18:52:34.960Z"
   },
   {
    "duration": 0,
    "start_time": "2023-05-29T18:53:21.163Z"
   },
   {
    "duration": 204,
    "start_time": "2023-05-29T18:57:40.520Z"
   },
   {
    "duration": 218,
    "start_time": "2023-05-29T18:57:57.230Z"
   },
   {
    "duration": 34,
    "start_time": "2023-05-29T19:13:38.216Z"
   },
   {
    "duration": 781,
    "start_time": "2023-05-29T19:14:54.630Z"
   },
   {
    "duration": 107,
    "start_time": "2023-05-29T19:15:16.931Z"
   },
   {
    "duration": 26681,
    "start_time": "2023-05-29T19:17:57.206Z"
   },
   {
    "duration": 6169,
    "start_time": "2023-05-29T19:19:49.927Z"
   },
   {
    "duration": 16,
    "start_time": "2023-05-29T19:20:04.186Z"
   },
   {
    "duration": 7,
    "start_time": "2023-05-29T19:20:33.836Z"
   },
   {
    "duration": 4,
    "start_time": "2023-05-29T19:27:43.092Z"
   },
   {
    "duration": 5,
    "start_time": "2023-05-29T19:27:43.290Z"
   },
   {
    "duration": 846,
    "start_time": "2023-05-29T19:27:43.448Z"
   },
   {
    "duration": 14,
    "start_time": "2023-05-29T19:27:44.296Z"
   },
   {
    "duration": 101,
    "start_time": "2023-05-29T19:27:44.312Z"
   },
   {
    "duration": 309,
    "start_time": "2023-05-29T19:27:44.416Z"
   },
   {
    "duration": 311,
    "start_time": "2023-05-29T19:27:44.729Z"
   },
   {
    "duration": 3,
    "start_time": "2023-05-29T19:27:45.043Z"
   },
   {
    "duration": 500,
    "start_time": "2023-05-29T19:27:45.390Z"
   },
   {
    "duration": 94,
    "start_time": "2023-05-29T19:27:45.892Z"
   },
   {
    "duration": 39,
    "start_time": "2023-05-29T19:27:52.604Z"
   },
   {
    "duration": 2413,
    "start_time": "2023-05-29T19:27:57.045Z"
   },
   {
    "duration": 58,
    "start_time": "2023-05-29T19:29:07.596Z"
   },
   {
    "duration": 768,
    "start_time": "2023-05-29T19:31:38.546Z"
   },
   {
    "duration": 13599,
    "start_time": "2023-05-29T19:48:23.321Z"
   },
   {
    "duration": 13,
    "start_time": "2023-05-29T19:48:43.981Z"
   },
   {
    "duration": 189,
    "start_time": "2023-05-29T19:48:57.288Z"
   },
   {
    "duration": 22,
    "start_time": "2023-05-29T19:49:30.220Z"
   },
   {
    "duration": 20558,
    "start_time": "2023-05-30T05:36:20.984Z"
   },
   {
    "duration": 1741,
    "start_time": "2023-05-30T05:36:41.544Z"
   },
   {
    "duration": 4,
    "start_time": "2023-05-30T05:36:43.287Z"
   },
   {
    "duration": 1024,
    "start_time": "2023-05-30T05:36:43.293Z"
   },
   {
    "duration": 15,
    "start_time": "2023-05-30T05:36:44.319Z"
   },
   {
    "duration": 93,
    "start_time": "2023-05-30T05:36:44.336Z"
   },
   {
    "duration": 300,
    "start_time": "2023-05-30T05:36:44.432Z"
   },
   {
    "duration": 304,
    "start_time": "2023-05-30T05:36:44.734Z"
   },
   {
    "duration": 3,
    "start_time": "2023-05-30T05:36:45.039Z"
   },
   {
    "duration": 369,
    "start_time": "2023-05-30T05:36:45.044Z"
   },
   {
    "duration": 84,
    "start_time": "2023-05-30T05:36:45.414Z"
   },
   {
    "duration": 32,
    "start_time": "2023-05-30T05:36:45.500Z"
   },
   {
    "duration": 12377,
    "start_time": "2023-05-30T05:36:45.534Z"
   },
   {
    "duration": 19,
    "start_time": "2023-05-30T05:36:57.913Z"
   },
   {
    "duration": 1258,
    "start_time": "2023-05-30T05:36:57.934Z"
   },
   {
    "duration": 12182,
    "start_time": "2023-05-30T05:37:17.013Z"
   },
   {
    "duration": 12469,
    "start_time": "2023-05-30T05:37:37.383Z"
   },
   {
    "duration": 12627,
    "start_time": "2023-05-30T05:37:54.656Z"
   },
   {
    "duration": 170,
    "start_time": "2023-05-30T05:38:16.175Z"
   },
   {
    "duration": 163,
    "start_time": "2023-05-30T05:38:25.633Z"
   },
   {
    "duration": 8,
    "start_time": "2023-05-30T05:39:22.026Z"
   },
   {
    "duration": 154,
    "start_time": "2023-05-30T05:40:13.241Z"
   },
   {
    "duration": 57,
    "start_time": "2023-05-30T05:43:50.052Z"
   },
   {
    "duration": 11339,
    "start_time": "2023-05-30T05:44:01.020Z"
   },
   {
    "duration": 10,
    "start_time": "2023-05-30T05:44:24.904Z"
   },
   {
    "duration": 21,
    "start_time": "2023-05-30T05:45:37.802Z"
   },
   {
    "duration": 172,
    "start_time": "2023-05-30T05:46:33.699Z"
   },
   {
    "duration": 4,
    "start_time": "2023-05-30T05:47:50.944Z"
   },
   {
    "duration": 4,
    "start_time": "2023-05-30T05:48:18.848Z"
   },
   {
    "duration": 4,
    "start_time": "2023-05-30T05:48:19.853Z"
   },
   {
    "duration": 767,
    "start_time": "2023-05-30T05:48:20.655Z"
   },
   {
    "duration": 10,
    "start_time": "2023-05-30T05:48:26.538Z"
   },
   {
    "duration": 62,
    "start_time": "2023-05-30T05:48:30.446Z"
   },
   {
    "duration": 285,
    "start_time": "2023-05-30T05:48:31.378Z"
   },
   {
    "duration": 318,
    "start_time": "2023-05-30T05:48:34.938Z"
   },
   {
    "duration": 2,
    "start_time": "2023-05-30T05:48:36.959Z"
   },
   {
    "duration": 338,
    "start_time": "2023-05-30T05:48:37.718Z"
   },
   {
    "duration": 84,
    "start_time": "2023-05-30T05:48:43.294Z"
   },
   {
    "duration": 28,
    "start_time": "2023-05-30T05:48:47.364Z"
   },
   {
    "duration": 3,
    "start_time": "2023-05-30T05:48:59.864Z"
   },
   {
    "duration": 12705,
    "start_time": "2023-05-30T05:49:04.048Z"
   },
   {
    "duration": 4,
    "start_time": "2023-05-30T05:49:21.545Z"
   },
   {
    "duration": 4,
    "start_time": "2023-05-30T05:52:07.513Z"
   },
   {
    "duration": 4,
    "start_time": "2023-05-30T05:52:07.789Z"
   },
   {
    "duration": 777,
    "start_time": "2023-05-30T05:52:08.023Z"
   },
   {
    "duration": 10,
    "start_time": "2023-05-30T05:52:08.801Z"
   },
   {
    "duration": 77,
    "start_time": "2023-05-30T05:52:08.813Z"
   },
   {
    "duration": 300,
    "start_time": "2023-05-30T05:52:08.892Z"
   },
   {
    "duration": 304,
    "start_time": "2023-05-30T05:52:09.194Z"
   },
   {
    "duration": 3,
    "start_time": "2023-05-30T05:52:09.499Z"
   },
   {
    "duration": 432,
    "start_time": "2023-05-30T05:52:09.914Z"
   },
   {
    "duration": 88,
    "start_time": "2023-05-30T05:52:10.439Z"
   },
   {
    "duration": 38,
    "start_time": "2023-05-30T05:52:12.306Z"
   },
   {
    "duration": 3,
    "start_time": "2023-05-30T05:52:13.053Z"
   },
   {
    "duration": 15066,
    "start_time": "2023-05-30T05:52:15.971Z"
   },
   {
    "duration": 4,
    "start_time": "2023-05-30T05:52:51.723Z"
   },
   {
    "duration": 141,
    "start_time": "2023-05-30T05:52:53.261Z"
   },
   {
    "duration": 33,
    "start_time": "2023-05-30T05:53:17.397Z"
   },
   {
    "duration": 4,
    "start_time": "2023-05-30T05:54:20.083Z"
   },
   {
    "duration": 4,
    "start_time": "2023-05-30T05:54:20.348Z"
   },
   {
    "duration": 732,
    "start_time": "2023-05-30T05:54:20.873Z"
   },
   {
    "duration": 10,
    "start_time": "2023-05-30T05:54:23.598Z"
   },
   {
    "duration": 79,
    "start_time": "2023-05-30T05:54:24.345Z"
   },
   {
    "duration": 22,
    "start_time": "2023-05-30T05:54:39.553Z"
   },
   {
    "duration": 2449,
    "start_time": "2023-05-30T06:35:39.088Z"
   },
   {
    "duration": 1437,
    "start_time": "2023-05-30T06:35:41.540Z"
   },
   {
    "duration": 7,
    "start_time": "2023-05-30T06:35:42.979Z"
   },
   {
    "duration": 955,
    "start_time": "2023-05-30T06:35:42.988Z"
   },
   {
    "duration": 13,
    "start_time": "2023-05-30T06:35:43.945Z"
   },
   {
    "duration": 102,
    "start_time": "2023-05-30T06:35:43.960Z"
   },
   {
    "duration": 349,
    "start_time": "2023-05-30T06:35:44.063Z"
   },
   {
    "duration": 329,
    "start_time": "2023-05-30T06:35:44.414Z"
   },
   {
    "duration": 2,
    "start_time": "2023-05-30T06:35:44.745Z"
   },
   {
    "duration": 386,
    "start_time": "2023-05-30T06:35:44.749Z"
   },
   {
    "duration": 85,
    "start_time": "2023-05-30T06:35:45.137Z"
   },
   {
    "duration": 34,
    "start_time": "2023-05-30T06:35:45.223Z"
   },
   {
    "duration": 1439,
    "start_time": "2023-05-30T06:35:45.259Z"
   },
   {
    "duration": 1544,
    "start_time": "2023-05-30T06:45:18.059Z"
   },
   {
    "duration": 21,
    "start_time": "2023-05-30T06:45:24.653Z"
   },
   {
    "duration": 1420,
    "start_time": "2023-05-30T06:45:36.956Z"
   },
   {
    "duration": 37,
    "start_time": "2023-05-30T06:45:42.011Z"
   },
   {
    "duration": 1508,
    "start_time": "2023-05-30T06:46:09.356Z"
   },
   {
    "duration": 25,
    "start_time": "2023-05-30T06:46:15.752Z"
   },
   {
    "duration": 18,
    "start_time": "2023-05-30T06:48:13.733Z"
   },
   {
    "duration": 20,
    "start_time": "2023-05-30T06:48:24.140Z"
   },
   {
    "duration": 18,
    "start_time": "2023-05-30T06:48:43.626Z"
   },
   {
    "duration": 20,
    "start_time": "2023-05-30T06:48:52.205Z"
   },
   {
    "duration": 18,
    "start_time": "2023-05-30T06:48:59.836Z"
   },
   {
    "duration": 23,
    "start_time": "2023-05-30T06:49:09.290Z"
   },
   {
    "duration": 21,
    "start_time": "2023-05-30T06:49:29.875Z"
   },
   {
    "duration": 69,
    "start_time": "2023-05-30T06:53:55.364Z"
   },
   {
    "duration": 4,
    "start_time": "2023-05-30T06:59:04.797Z"
   },
   {
    "duration": 1306,
    "start_time": "2023-05-30T06:59:15.428Z"
   },
   {
    "duration": 135,
    "start_time": "2023-05-30T07:00:53.378Z"
   },
   {
    "duration": 488,
    "start_time": "2023-05-30T07:02:56.256Z"
   },
   {
    "duration": 15,
    "start_time": "2023-05-30T07:03:01.772Z"
   },
   {
    "duration": 609,
    "start_time": "2023-05-30T07:03:24.091Z"
   },
   {
    "duration": 93,
    "start_time": "2023-05-30T07:03:36.179Z"
   },
   {
    "duration": 212,
    "start_time": "2023-05-30T07:03:40.999Z"
   },
   {
    "duration": 3,
    "start_time": "2023-05-30T07:04:01.874Z"
   },
   {
    "duration": 412,
    "start_time": "2023-05-30T07:06:08.080Z"
   },
   {
    "duration": 208,
    "start_time": "2023-05-30T07:06:09.735Z"
   },
   {
    "duration": 50,
    "start_time": "2023-05-30T07:07:15.515Z"
   },
   {
    "duration": 88,
    "start_time": "2023-05-30T07:07:42.752Z"
   },
   {
    "duration": 205,
    "start_time": "2023-05-30T07:07:45.275Z"
   },
   {
    "duration": 18,
    "start_time": "2023-05-30T07:07:53.186Z"
   },
   {
    "duration": 29,
    "start_time": "2023-05-30T07:14:11.180Z"
   },
   {
    "duration": 2252,
    "start_time": "2023-05-30T07:14:21.292Z"
   },
   {
    "duration": 1365,
    "start_time": "2023-05-30T07:14:23.547Z"
   },
   {
    "duration": 5,
    "start_time": "2023-05-30T07:14:24.913Z"
   },
   {
    "duration": 811,
    "start_time": "2023-05-30T07:14:24.920Z"
   },
   {
    "duration": 13,
    "start_time": "2023-05-30T07:14:25.733Z"
   },
   {
    "duration": 96,
    "start_time": "2023-05-30T07:14:25.747Z"
   },
   {
    "duration": 387,
    "start_time": "2023-05-30T07:14:25.845Z"
   },
   {
    "duration": 333,
    "start_time": "2023-05-30T07:14:26.234Z"
   },
   {
    "duration": 2,
    "start_time": "2023-05-30T07:14:26.569Z"
   },
   {
    "duration": 381,
    "start_time": "2023-05-30T07:14:26.573Z"
   },
   {
    "duration": 85,
    "start_time": "2023-05-30T07:14:26.955Z"
   },
   {
    "duration": 44,
    "start_time": "2023-05-30T07:14:27.042Z"
   },
   {
    "duration": 21,
    "start_time": "2023-05-30T07:14:27.087Z"
   },
   {
    "duration": 53,
    "start_time": "2023-05-30T07:14:27.109Z"
   },
   {
    "duration": 38,
    "start_time": "2023-05-30T07:14:27.163Z"
   },
   {
    "duration": 31,
    "start_time": "2023-05-30T07:14:27.203Z"
   },
   {
    "duration": 101,
    "start_time": "2023-05-30T07:14:27.236Z"
   },
   {
    "duration": 26,
    "start_time": "2023-05-30T07:14:27.339Z"
   },
   {
    "duration": 98,
    "start_time": "2023-05-30T07:14:27.367Z"
   },
   {
    "duration": 28,
    "start_time": "2023-05-30T07:14:27.467Z"
   },
   {
    "duration": 193,
    "start_time": "2023-05-30T07:14:27.497Z"
   },
   {
    "duration": 126,
    "start_time": "2023-05-30T07:14:27.692Z"
   },
   {
    "duration": 0,
    "start_time": "2023-05-30T07:14:27.820Z"
   },
   {
    "duration": 0,
    "start_time": "2023-05-30T07:14:27.821Z"
   },
   {
    "duration": 12,
    "start_time": "2023-05-30T07:14:36.705Z"
   },
   {
    "duration": 126,
    "start_time": "2023-05-30T07:15:18.128Z"
   },
   {
    "duration": 182,
    "start_time": "2023-05-30T07:15:19.875Z"
   },
   {
    "duration": 12,
    "start_time": "2023-05-30T07:15:20.863Z"
   },
   {
    "duration": 2375,
    "start_time": "2023-05-30T07:15:30.382Z"
   },
   {
    "duration": 1483,
    "start_time": "2023-05-30T07:15:32.760Z"
   },
   {
    "duration": 5,
    "start_time": "2023-05-30T07:15:34.244Z"
   },
   {
    "duration": 879,
    "start_time": "2023-05-30T07:15:34.251Z"
   },
   {
    "duration": 11,
    "start_time": "2023-05-30T07:15:35.133Z"
   },
   {
    "duration": 112,
    "start_time": "2023-05-30T07:15:35.146Z"
   },
   {
    "duration": 297,
    "start_time": "2023-05-30T07:15:35.259Z"
   },
   {
    "duration": 292,
    "start_time": "2023-05-30T07:15:35.558Z"
   },
   {
    "duration": 2,
    "start_time": "2023-05-30T07:15:35.851Z"
   },
   {
    "duration": 425,
    "start_time": "2023-05-30T07:15:35.855Z"
   },
   {
    "duration": 81,
    "start_time": "2023-05-30T07:15:36.282Z"
   },
   {
    "duration": 44,
    "start_time": "2023-05-30T07:15:36.365Z"
   },
   {
    "duration": 21,
    "start_time": "2023-05-30T07:15:36.410Z"
   },
   {
    "duration": 32,
    "start_time": "2023-05-30T07:15:36.434Z"
   },
   {
    "duration": 28,
    "start_time": "2023-05-30T07:15:36.468Z"
   },
   {
    "duration": 25,
    "start_time": "2023-05-30T07:15:36.498Z"
   },
   {
    "duration": 23,
    "start_time": "2023-05-30T07:15:36.525Z"
   },
   {
    "duration": 21,
    "start_time": "2023-05-30T07:15:36.549Z"
   },
   {
    "duration": 86,
    "start_time": "2023-05-30T07:15:36.571Z"
   },
   {
    "duration": 140,
    "start_time": "2023-05-30T07:15:36.659Z"
   },
   {
    "duration": 194,
    "start_time": "2023-05-30T07:15:36.801Z"
   },
   {
    "duration": 14,
    "start_time": "2023-05-30T07:15:36.997Z"
   },
   {
    "duration": 1371,
    "start_time": "2023-05-30T07:15:37.012Z"
   },
   {
    "duration": 124,
    "start_time": "2023-05-30T07:19:00.582Z"
   },
   {
    "duration": 189,
    "start_time": "2023-05-30T07:19:00.965Z"
   },
   {
    "duration": 127,
    "start_time": "2023-05-30T07:21:41.244Z"
   },
   {
    "duration": 2458,
    "start_time": "2023-05-30T07:21:54.370Z"
   },
   {
    "duration": 1597,
    "start_time": "2023-05-30T07:21:56.831Z"
   },
   {
    "duration": 5,
    "start_time": "2023-05-30T07:21:58.429Z"
   },
   {
    "duration": 814,
    "start_time": "2023-05-30T07:21:58.436Z"
   },
   {
    "duration": 13,
    "start_time": "2023-05-30T07:21:59.252Z"
   },
   {
    "duration": 96,
    "start_time": "2023-05-30T07:21:59.266Z"
   },
   {
    "duration": 288,
    "start_time": "2023-05-30T07:21:59.363Z"
   },
   {
    "duration": 289,
    "start_time": "2023-05-30T07:21:59.653Z"
   },
   {
    "duration": 346,
    "start_time": "2023-05-30T07:21:59.944Z"
   },
   {
    "duration": 364,
    "start_time": "2023-05-30T07:22:00.292Z"
   },
   {
    "duration": 85,
    "start_time": "2023-05-30T07:22:00.658Z"
   },
   {
    "duration": 31,
    "start_time": "2023-05-30T07:22:00.745Z"
   },
   {
    "duration": 45,
    "start_time": "2023-05-30T07:22:00.784Z"
   },
   {
    "duration": 48,
    "start_time": "2023-05-30T07:22:00.831Z"
   },
   {
    "duration": 64,
    "start_time": "2023-05-30T07:22:00.881Z"
   },
   {
    "duration": 49,
    "start_time": "2023-05-30T07:22:00.946Z"
   },
   {
    "duration": 63,
    "start_time": "2023-05-30T07:22:00.997Z"
   },
   {
    "duration": 70,
    "start_time": "2023-05-30T07:22:01.062Z"
   },
   {
    "duration": 151,
    "start_time": "2023-05-30T07:22:01.134Z"
   },
   {
    "duration": 135,
    "start_time": "2023-05-30T07:22:01.287Z"
   },
   {
    "duration": 193,
    "start_time": "2023-05-30T07:22:01.424Z"
   },
   {
    "duration": 2678,
    "start_time": "2023-05-30T07:22:01.618Z"
   },
   {
    "duration": 51,
    "start_time": "2023-05-30T07:25:24.866Z"
   },
   {
    "duration": 5,
    "start_time": "2023-05-30T07:37:49.455Z"
   },
   {
    "duration": 4,
    "start_time": "2023-05-30T07:38:01.245Z"
   },
   {
    "duration": 5,
    "start_time": "2023-05-30T07:38:07.157Z"
   },
   {
    "duration": 4,
    "start_time": "2023-05-30T07:38:15.014Z"
   },
   {
    "duration": 4,
    "start_time": "2023-05-30T07:38:27.182Z"
   },
   {
    "duration": 6,
    "start_time": "2023-05-30T07:38:32.953Z"
   },
   {
    "duration": 5,
    "start_time": "2023-05-30T07:38:39.912Z"
   },
   {
    "duration": 40,
    "start_time": "2023-05-30T07:39:01.599Z"
   },
   {
    "duration": 25,
    "start_time": "2023-05-30T07:39:09.405Z"
   },
   {
    "duration": 5,
    "start_time": "2023-05-30T07:39:16.536Z"
   },
   {
    "duration": 5,
    "start_time": "2023-05-30T07:39:28.672Z"
   },
   {
    "duration": 5,
    "start_time": "2023-05-30T07:39:33.506Z"
   },
   {
    "duration": 6,
    "start_time": "2023-05-30T07:39:41.844Z"
   },
   {
    "duration": 27,
    "start_time": "2023-05-30T07:40:54.387Z"
   },
   {
    "duration": 50,
    "start_time": "2023-05-30T07:40:57.017Z"
   },
   {
    "duration": 20,
    "start_time": "2023-05-30T07:42:14.574Z"
   },
   {
    "duration": 302,
    "start_time": "2023-05-30T07:44:39.720Z"
   },
   {
    "duration": 577,
    "start_time": "2023-05-30T07:44:49.722Z"
   },
   {
    "duration": 628,
    "start_time": "2023-05-30T07:45:02.757Z"
   },
   {
    "duration": 451,
    "start_time": "2023-05-30T07:45:28.459Z"
   },
   {
    "duration": 25,
    "start_time": "2023-05-30T07:46:56.659Z"
   },
   {
    "duration": 42,
    "start_time": "2023-05-30T07:46:58.392Z"
   },
   {
    "duration": 5,
    "start_time": "2023-05-30T07:47:27.944Z"
   },
   {
    "duration": 6,
    "start_time": "2023-05-30T07:47:39.417Z"
   },
   {
    "duration": 5,
    "start_time": "2023-05-30T07:47:50.580Z"
   },
   {
    "duration": 7,
    "start_time": "2023-05-30T07:47:57.602Z"
   },
   {
    "duration": 5,
    "start_time": "2023-05-30T07:48:01.992Z"
   },
   {
    "duration": 25,
    "start_time": "2023-05-30T07:48:13.041Z"
   },
   {
    "duration": 24,
    "start_time": "2023-05-30T07:48:18.058Z"
   },
   {
    "duration": 24,
    "start_time": "2023-05-30T07:48:30.297Z"
   },
   {
    "duration": 25,
    "start_time": "2023-05-30T07:48:36.052Z"
   },
   {
    "duration": 24,
    "start_time": "2023-05-30T07:48:39.418Z"
   },
   {
    "duration": 25,
    "start_time": "2023-05-30T07:48:43.298Z"
   },
   {
    "duration": 41,
    "start_time": "2023-05-30T07:48:52.748Z"
   },
   {
    "duration": 24,
    "start_time": "2023-05-30T07:48:59.473Z"
   },
   {
    "duration": 23,
    "start_time": "2023-05-30T07:49:02.652Z"
   },
   {
    "duration": 23,
    "start_time": "2023-05-30T07:49:27.353Z"
   },
   {
    "duration": 24,
    "start_time": "2023-05-30T07:50:12.362Z"
   },
   {
    "duration": 30,
    "start_time": "2023-05-30T07:50:26.908Z"
   },
   {
    "duration": 24,
    "start_time": "2023-05-30T07:50:27.818Z"
   },
   {
    "duration": 3,
    "start_time": "2023-05-30T07:50:35.373Z"
   },
   {
    "duration": 51,
    "start_time": "2023-05-30T07:50:46.366Z"
   },
   {
    "duration": 517,
    "start_time": "2023-05-30T07:51:02.845Z"
   },
   {
    "duration": 445,
    "start_time": "2023-05-30T07:51:27.923Z"
   },
   {
    "duration": 6,
    "start_time": "2023-05-30T07:51:43.457Z"
   },
   {
    "duration": 7,
    "start_time": "2023-05-30T07:51:50.042Z"
   },
   {
    "duration": 5,
    "start_time": "2023-05-30T07:51:56.041Z"
   },
   {
    "duration": 4,
    "start_time": "2023-05-30T07:51:59.241Z"
   },
   {
    "duration": 6,
    "start_time": "2023-05-30T07:52:02.423Z"
   },
   {
    "duration": 5,
    "start_time": "2023-05-30T07:52:06.977Z"
   },
   {
    "duration": 14,
    "start_time": "2023-05-30T07:52:57.559Z"
   },
   {
    "duration": 36,
    "start_time": "2023-05-30T07:53:02.049Z"
   },
   {
    "duration": 2447,
    "start_time": "2023-05-30T07:53:23.781Z"
   },
   {
    "duration": 1471,
    "start_time": "2023-05-30T07:53:26.231Z"
   },
   {
    "duration": 6,
    "start_time": "2023-05-30T07:53:27.704Z"
   },
   {
    "duration": 863,
    "start_time": "2023-05-30T07:53:27.712Z"
   },
   {
    "duration": 14,
    "start_time": "2023-05-30T07:53:28.576Z"
   },
   {
    "duration": 120,
    "start_time": "2023-05-30T07:53:28.592Z"
   },
   {
    "duration": 372,
    "start_time": "2023-05-30T07:53:28.714Z"
   },
   {
    "duration": 328,
    "start_time": "2023-05-30T07:53:29.088Z"
   },
   {
    "duration": 329,
    "start_time": "2023-05-30T07:53:29.418Z"
   },
   {
    "duration": 355,
    "start_time": "2023-05-30T07:53:29.750Z"
   },
   {
    "duration": 88,
    "start_time": "2023-05-30T07:53:30.107Z"
   },
   {
    "duration": 33,
    "start_time": "2023-05-30T07:53:30.197Z"
   },
   {
    "duration": 46,
    "start_time": "2023-05-30T07:53:30.232Z"
   },
   {
    "duration": 41,
    "start_time": "2023-05-30T07:53:30.280Z"
   },
   {
    "duration": 52,
    "start_time": "2023-05-30T07:53:30.322Z"
   },
   {
    "duration": 45,
    "start_time": "2023-05-30T07:53:30.376Z"
   },
   {
    "duration": 28,
    "start_time": "2023-05-30T07:53:30.422Z"
   },
   {
    "duration": 26,
    "start_time": "2023-05-30T07:53:30.452Z"
   },
   {
    "duration": 81,
    "start_time": "2023-05-30T07:53:30.480Z"
   },
   {
    "duration": 128,
    "start_time": "2023-05-30T07:53:30.563Z"
   },
   {
    "duration": 200,
    "start_time": "2023-05-30T07:53:30.692Z"
   },
   {
    "duration": 86,
    "start_time": "2023-05-30T07:53:30.894Z"
   },
   {
    "duration": 87,
    "start_time": "2023-05-30T07:53:30.982Z"
   },
   {
    "duration": 25,
    "start_time": "2023-05-30T07:53:31.071Z"
   },
   {
    "duration": 509,
    "start_time": "2023-05-30T07:53:31.098Z"
   },
   {
    "duration": 32,
    "start_time": "2023-05-30T07:53:31.610Z"
   },
   {
    "duration": 106,
    "start_time": "2023-05-30T07:53:31.644Z"
   },
   {
    "duration": 2010,
    "start_time": "2023-05-30T07:53:31.753Z"
   },
   {
    "duration": 1258,
    "start_time": "2023-05-30T07:56:04.268Z"
   },
   {
    "duration": 193,
    "start_time": "2023-05-30T07:56:33.476Z"
   },
   {
    "duration": 54,
    "start_time": "2023-05-30T07:56:47.943Z"
   },
   {
    "duration": 136,
    "start_time": "2023-05-30T07:57:01.608Z"
   },
   {
    "duration": 53,
    "start_time": "2023-05-30T07:57:13.402Z"
   },
   {
    "duration": 198,
    "start_time": "2023-05-30T07:57:34.828Z"
   },
   {
    "duration": 2654,
    "start_time": "2023-05-30T07:57:41.399Z"
   },
   {
    "duration": 1513,
    "start_time": "2023-05-30T07:57:44.056Z"
   },
   {
    "duration": 5,
    "start_time": "2023-05-30T07:57:45.570Z"
   },
   {
    "duration": 924,
    "start_time": "2023-05-30T07:57:45.576Z"
   },
   {
    "duration": 16,
    "start_time": "2023-05-30T07:57:46.503Z"
   },
   {
    "duration": 102,
    "start_time": "2023-05-30T07:57:46.521Z"
   },
   {
    "duration": 340,
    "start_time": "2023-05-30T07:57:46.625Z"
   },
   {
    "duration": 324,
    "start_time": "2023-05-30T07:57:46.967Z"
   },
   {
    "duration": 342,
    "start_time": "2023-05-30T07:57:47.293Z"
   },
   {
    "duration": 352,
    "start_time": "2023-05-30T07:57:47.639Z"
   },
   {
    "duration": 82,
    "start_time": "2023-05-30T07:57:47.993Z"
   },
   {
    "duration": 35,
    "start_time": "2023-05-30T07:57:48.085Z"
   },
   {
    "duration": 21,
    "start_time": "2023-05-30T07:57:48.122Z"
   },
   {
    "duration": 45,
    "start_time": "2023-05-30T07:57:48.145Z"
   },
   {
    "duration": 42,
    "start_time": "2023-05-30T07:57:48.192Z"
   },
   {
    "duration": 18,
    "start_time": "2023-05-30T07:57:48.235Z"
   },
   {
    "duration": 32,
    "start_time": "2023-05-30T07:57:48.255Z"
   },
   {
    "duration": 32,
    "start_time": "2023-05-30T07:57:48.289Z"
   },
   {
    "duration": 127,
    "start_time": "2023-05-30T07:57:48.323Z"
   },
   {
    "duration": 159,
    "start_time": "2023-05-30T07:57:48.452Z"
   },
   {
    "duration": 278,
    "start_time": "2023-05-30T07:57:48.614Z"
   },
   {
    "duration": 67,
    "start_time": "2023-05-30T07:57:48.895Z"
   },
   {
    "duration": 62,
    "start_time": "2023-05-30T07:57:48.964Z"
   },
   {
    "duration": 25,
    "start_time": "2023-05-30T07:57:49.027Z"
   },
   {
    "duration": 546,
    "start_time": "2023-05-30T07:57:49.053Z"
   },
   {
    "duration": 39,
    "start_time": "2023-05-30T07:57:49.601Z"
   },
   {
    "duration": 213,
    "start_time": "2023-05-30T07:57:49.643Z"
   },
   {
    "duration": 1919,
    "start_time": "2023-05-30T07:57:49.860Z"
   },
   {
    "duration": 47,
    "start_time": "2023-05-31T12:17:49.928Z"
   },
   {
    "duration": 32227,
    "start_time": "2023-05-31T12:17:57.775Z"
   },
   {
    "duration": 2123,
    "start_time": "2023-05-31T12:18:30.005Z"
   },
   {
    "duration": 6,
    "start_time": "2023-05-31T12:18:32.130Z"
   },
   {
    "duration": 1426,
    "start_time": "2023-05-31T12:18:32.139Z"
   },
   {
    "duration": 14,
    "start_time": "2023-05-31T12:18:33.567Z"
   },
   {
    "duration": 96,
    "start_time": "2023-05-31T12:18:33.583Z"
   },
   {
    "duration": 379,
    "start_time": "2023-05-31T12:18:33.680Z"
   },
   {
    "duration": 367,
    "start_time": "2023-05-31T12:18:34.061Z"
   },
   {
    "duration": 435,
    "start_time": "2023-05-31T12:18:34.430Z"
   },
   {
    "duration": 421,
    "start_time": "2023-05-31T12:18:34.867Z"
   },
   {
    "duration": 100,
    "start_time": "2023-05-31T12:18:35.292Z"
   },
   {
    "duration": 33,
    "start_time": "2023-05-31T12:18:35.394Z"
   },
   {
    "duration": 46,
    "start_time": "2023-05-31T12:18:35.430Z"
   },
   {
    "duration": 25,
    "start_time": "2023-05-31T12:18:35.479Z"
   },
   {
    "duration": 33,
    "start_time": "2023-05-31T12:18:35.506Z"
   },
   {
    "duration": 37,
    "start_time": "2023-05-31T12:18:35.541Z"
   },
   {
    "duration": 27,
    "start_time": "2023-05-31T12:18:35.580Z"
   },
   {
    "duration": 26,
    "start_time": "2023-05-31T12:18:35.609Z"
   },
   {
    "duration": 110,
    "start_time": "2023-05-31T12:18:35.637Z"
   },
   {
    "duration": 147,
    "start_time": "2023-05-31T12:18:35.749Z"
   },
   {
    "duration": 250,
    "start_time": "2023-05-31T12:18:35.898Z"
   },
   {
    "duration": 66,
    "start_time": "2023-05-31T12:18:36.149Z"
   },
   {
    "duration": 75,
    "start_time": "2023-05-31T12:18:36.217Z"
   },
   {
    "duration": 30,
    "start_time": "2023-05-31T12:18:36.295Z"
   },
   {
    "duration": 654,
    "start_time": "2023-05-31T12:18:36.327Z"
   },
   {
    "duration": 30,
    "start_time": "2023-05-31T12:18:36.983Z"
   },
   {
    "duration": 222,
    "start_time": "2023-05-31T12:18:37.015Z"
   },
   {
    "duration": 2932,
    "start_time": "2023-05-31T12:18:37.241Z"
   },
   {
    "duration": 12,
    "start_time": "2023-05-31T12:20:18.054Z"
   },
   {
    "duration": 62,
    "start_time": "2023-05-31T12:20:20.004Z"
   },
   {
    "duration": 4,
    "start_time": "2023-05-31T12:21:02.152Z"
   },
   {
    "duration": 19,
    "start_time": "2023-05-31T12:21:47.427Z"
   },
   {
    "duration": 14,
    "start_time": "2023-05-31T12:27:53.421Z"
   },
   {
    "duration": 16,
    "start_time": "2023-05-31T12:29:30.314Z"
   },
   {
    "duration": 15,
    "start_time": "2023-05-31T12:29:41.871Z"
   },
   {
    "duration": 618,
    "start_time": "2023-05-31T12:30:07.097Z"
   },
   {
    "duration": 626,
    "start_time": "2023-05-31T12:31:15.053Z"
   },
   {
    "duration": 191,
    "start_time": "2023-05-31T12:32:00.005Z"
   },
   {
    "duration": 637,
    "start_time": "2023-05-31T12:32:27.161Z"
   },
   {
    "duration": 239,
    "start_time": "2023-05-31T12:32:28.476Z"
   },
   {
    "duration": 16,
    "start_time": "2023-05-31T12:35:51.903Z"
   },
   {
    "duration": 5,
    "start_time": "2023-05-31T12:36:18.308Z"
   },
   {
    "duration": 618,
    "start_time": "2023-05-31T12:36:24.564Z"
   },
   {
    "duration": 4,
    "start_time": "2023-05-31T12:39:06.106Z"
   },
   {
    "duration": 2610,
    "start_time": "2023-05-31T12:39:46.570Z"
   },
   {
    "duration": 1496,
    "start_time": "2023-05-31T12:39:49.183Z"
   },
   {
    "duration": 6,
    "start_time": "2023-05-31T12:39:50.681Z"
   },
   {
    "duration": 955,
    "start_time": "2023-05-31T12:39:50.689Z"
   },
   {
    "duration": 14,
    "start_time": "2023-05-31T12:39:51.647Z"
   },
   {
    "duration": 113,
    "start_time": "2023-05-31T12:39:51.663Z"
   },
   {
    "duration": 345,
    "start_time": "2023-05-31T12:39:51.778Z"
   },
   {
    "duration": 352,
    "start_time": "2023-05-31T12:39:52.125Z"
   },
   {
    "duration": 416,
    "start_time": "2023-05-31T12:39:52.479Z"
   },
   {
    "duration": 434,
    "start_time": "2023-05-31T12:39:52.897Z"
   },
   {
    "duration": 101,
    "start_time": "2023-05-31T12:39:53.334Z"
   },
   {
    "duration": 41,
    "start_time": "2023-05-31T12:39:53.437Z"
   },
   {
    "duration": 24,
    "start_time": "2023-05-31T12:39:53.479Z"
   },
   {
    "duration": 50,
    "start_time": "2023-05-31T12:39:53.506Z"
   },
   {
    "duration": 45,
    "start_time": "2023-05-31T12:39:53.558Z"
   },
   {
    "duration": 36,
    "start_time": "2023-05-31T12:39:53.605Z"
   },
   {
    "duration": 42,
    "start_time": "2023-05-31T12:39:53.642Z"
   },
   {
    "duration": 55,
    "start_time": "2023-05-31T12:39:53.686Z"
   },
   {
    "duration": 89,
    "start_time": "2023-05-31T12:39:53.743Z"
   },
   {
    "duration": 143,
    "start_time": "2023-05-31T12:39:53.834Z"
   },
   {
    "duration": 225,
    "start_time": "2023-05-31T12:39:53.979Z"
   },
   {
    "duration": 55,
    "start_time": "2023-05-31T12:39:54.206Z"
   },
   {
    "duration": 52,
    "start_time": "2023-05-31T12:39:54.276Z"
   },
   {
    "duration": 47,
    "start_time": "2023-05-31T12:39:54.330Z"
   },
   {
    "duration": 534,
    "start_time": "2023-05-31T12:39:54.379Z"
   },
   {
    "duration": 30,
    "start_time": "2023-05-31T12:39:54.915Z"
   },
   {
    "duration": 217,
    "start_time": "2023-05-31T12:39:54.947Z"
   },
   {
    "duration": 17,
    "start_time": "2023-05-31T12:39:55.166Z"
   },
   {
    "duration": 650,
    "start_time": "2023-05-31T12:39:55.184Z"
   },
   {
    "duration": 264,
    "start_time": "2023-05-31T12:39:55.836Z"
   },
   {
    "duration": 141,
    "start_time": "2023-05-31T12:39:56.102Z"
   },
   {
    "duration": 0,
    "start_time": "2023-05-31T12:39:56.245Z"
   },
   {
    "duration": 0,
    "start_time": "2023-05-31T12:39:56.246Z"
   },
   {
    "duration": 4,
    "start_time": "2023-05-31T12:40:17.396Z"
   },
   {
    "duration": 834,
    "start_time": "2023-05-31T12:41:28.178Z"
   },
   {
    "duration": 808,
    "start_time": "2023-05-31T12:44:40.022Z"
   },
   {
    "duration": 2562,
    "start_time": "2023-05-31T12:44:53.935Z"
   },
   {
    "duration": 1491,
    "start_time": "2023-05-31T12:44:56.499Z"
   },
   {
    "duration": 6,
    "start_time": "2023-05-31T12:44:57.992Z"
   },
   {
    "duration": 918,
    "start_time": "2023-05-31T12:44:57.999Z"
   },
   {
    "duration": 13,
    "start_time": "2023-05-31T12:44:58.920Z"
   },
   {
    "duration": 114,
    "start_time": "2023-05-31T12:44:58.935Z"
   },
   {
    "duration": 336,
    "start_time": "2023-05-31T12:44:59.050Z"
   },
   {
    "duration": 348,
    "start_time": "2023-05-31T12:44:59.387Z"
   },
   {
    "duration": 402,
    "start_time": "2023-05-31T12:44:59.737Z"
   },
   {
    "duration": 431,
    "start_time": "2023-05-31T12:45:00.141Z"
   },
   {
    "duration": 84,
    "start_time": "2023-05-31T12:45:00.574Z"
   },
   {
    "duration": 39,
    "start_time": "2023-05-31T12:45:00.660Z"
   },
   {
    "duration": 48,
    "start_time": "2023-05-31T12:45:00.701Z"
   },
   {
    "duration": 53,
    "start_time": "2023-05-31T12:45:00.753Z"
   },
   {
    "duration": 60,
    "start_time": "2023-05-31T12:45:00.807Z"
   },
   {
    "duration": 48,
    "start_time": "2023-05-31T12:45:00.869Z"
   },
   {
    "duration": 74,
    "start_time": "2023-05-31T12:45:00.919Z"
   },
   {
    "duration": 62,
    "start_time": "2023-05-31T12:45:00.994Z"
   },
   {
    "duration": 109,
    "start_time": "2023-05-31T12:45:01.058Z"
   },
   {
    "duration": 142,
    "start_time": "2023-05-31T12:45:01.169Z"
   },
   {
    "duration": 225,
    "start_time": "2023-05-31T12:45:01.313Z"
   },
   {
    "duration": 66,
    "start_time": "2023-05-31T12:45:01.540Z"
   },
   {
    "duration": 56,
    "start_time": "2023-05-31T12:45:01.607Z"
   },
   {
    "duration": 37,
    "start_time": "2023-05-31T12:45:01.665Z"
   },
   {
    "duration": 557,
    "start_time": "2023-05-31T12:45:01.704Z"
   },
   {
    "duration": 31,
    "start_time": "2023-05-31T12:45:02.262Z"
   },
   {
    "duration": 212,
    "start_time": "2023-05-31T12:45:02.295Z"
   },
   {
    "duration": 16,
    "start_time": "2023-05-31T12:45:02.509Z"
   },
   {
    "duration": 625,
    "start_time": "2023-05-31T12:45:02.527Z"
   },
   {
    "duration": 242,
    "start_time": "2023-05-31T12:45:03.154Z"
   },
   {
    "duration": 935,
    "start_time": "2023-05-31T12:45:03.398Z"
   },
   {
    "duration": 0,
    "start_time": "2023-05-31T12:45:04.334Z"
   },
   {
    "duration": 98,
    "start_time": "2023-05-31T12:53:28.683Z"
   },
   {
    "duration": 4,
    "start_time": "2023-05-31T12:54:37.751Z"
   },
   {
    "duration": 4,
    "start_time": "2023-05-31T12:55:22.493Z"
   },
   {
    "duration": 4,
    "start_time": "2023-05-31T12:55:26.184Z"
   },
   {
    "duration": 2441,
    "start_time": "2023-05-31T12:59:28.544Z"
   },
   {
    "duration": 1631,
    "start_time": "2023-05-31T12:59:30.987Z"
   },
   {
    "duration": 5,
    "start_time": "2023-05-31T12:59:32.620Z"
   },
   {
    "duration": 1013,
    "start_time": "2023-05-31T12:59:32.627Z"
   },
   {
    "duration": 14,
    "start_time": "2023-05-31T12:59:33.642Z"
   },
   {
    "duration": 115,
    "start_time": "2023-05-31T12:59:33.658Z"
   },
   {
    "duration": 357,
    "start_time": "2023-05-31T12:59:33.776Z"
   },
   {
    "duration": 347,
    "start_time": "2023-05-31T12:59:34.136Z"
   },
   {
    "duration": 396,
    "start_time": "2023-05-31T12:59:34.485Z"
   },
   {
    "duration": 427,
    "start_time": "2023-05-31T12:59:34.884Z"
   },
   {
    "duration": 102,
    "start_time": "2023-05-31T12:59:35.313Z"
   },
   {
    "duration": 36,
    "start_time": "2023-05-31T12:59:35.418Z"
   },
   {
    "duration": 42,
    "start_time": "2023-05-31T12:59:35.457Z"
   },
   {
    "duration": 42,
    "start_time": "2023-05-31T12:59:35.501Z"
   },
   {
    "duration": 32,
    "start_time": "2023-05-31T12:59:35.545Z"
   },
   {
    "duration": 27,
    "start_time": "2023-05-31T12:59:35.579Z"
   },
   {
    "duration": 29,
    "start_time": "2023-05-31T12:59:35.608Z"
   },
   {
    "duration": 36,
    "start_time": "2023-05-31T12:59:35.640Z"
   },
   {
    "duration": 88,
    "start_time": "2023-05-31T12:59:35.679Z"
   },
   {
    "duration": 158,
    "start_time": "2023-05-31T12:59:35.769Z"
   },
   {
    "duration": 253,
    "start_time": "2023-05-31T12:59:35.929Z"
   },
   {
    "duration": 53,
    "start_time": "2023-05-31T12:59:36.184Z"
   },
   {
    "duration": 65,
    "start_time": "2023-05-31T12:59:36.239Z"
   },
   {
    "duration": 24,
    "start_time": "2023-05-31T12:59:36.306Z"
   },
   {
    "duration": 566,
    "start_time": "2023-05-31T12:59:36.332Z"
   },
   {
    "duration": 31,
    "start_time": "2023-05-31T12:59:36.900Z"
   },
   {
    "duration": 231,
    "start_time": "2023-05-31T12:59:36.933Z"
   },
   {
    "duration": 17,
    "start_time": "2023-05-31T12:59:37.168Z"
   },
   {
    "duration": 115,
    "start_time": "2023-05-31T12:59:37.187Z"
   },
   {
    "duration": 5,
    "start_time": "2023-05-31T12:59:37.304Z"
   },
   {
    "duration": 643,
    "start_time": "2023-05-31T12:59:37.311Z"
   },
   {
    "duration": 249,
    "start_time": "2023-05-31T12:59:37.956Z"
   },
   {
    "duration": 3381,
    "start_time": "2023-05-31T12:59:38.207Z"
   },
   {
    "duration": 5,
    "start_time": "2023-05-31T13:03:54.405Z"
   },
   {
    "duration": 318,
    "start_time": "2023-05-31T13:04:07.672Z"
   },
   {
    "duration": 120,
    "start_time": "2023-05-31T13:04:32.537Z"
   },
   {
    "duration": 8,
    "start_time": "2023-05-31T13:04:46.730Z"
   },
   {
    "duration": 119,
    "start_time": "2023-05-31T13:04:47.128Z"
   },
   {
    "duration": 5,
    "start_time": "2023-05-31T13:05:18.013Z"
   },
   {
    "duration": 577,
    "start_time": "2023-05-31T13:05:18.240Z"
   },
   {
    "duration": 730,
    "start_time": "2023-05-31T13:19:06.805Z"
   },
   {
    "duration": 231,
    "start_time": "2023-05-31T13:19:21.845Z"
   },
   {
    "duration": 4,
    "start_time": "2023-05-31T13:19:51.133Z"
   },
   {
    "duration": 564,
    "start_time": "2023-05-31T13:19:52.438Z"
   },
   {
    "duration": 600,
    "start_time": "2023-05-31T13:21:53.201Z"
   },
   {
    "duration": 244,
    "start_time": "2023-05-31T13:21:55.664Z"
   },
   {
    "duration": 5,
    "start_time": "2023-05-31T13:21:56.911Z"
   },
   {
    "duration": 600,
    "start_time": "2023-05-31T13:21:57.595Z"
   },
   {
    "duration": 155,
    "start_time": "2023-05-31T13:22:16.980Z"
   },
   {
    "duration": 5,
    "start_time": "2023-05-31T13:22:41.786Z"
   },
   {
    "duration": 307256,
    "start_time": "2023-05-31T13:22:55.540Z"
   },
   {
    "duration": 24,
    "start_time": "2023-05-31T13:28:02.876Z"
   },
   {
    "duration": 24,
    "start_time": "2023-05-31T13:28:16.804Z"
   },
   {
    "duration": 5,
    "start_time": "2023-05-31T13:28:55.741Z"
   },
   {
    "duration": 21,
    "start_time": "2023-05-31T13:30:41.273Z"
   },
   {
    "duration": 23,
    "start_time": "2023-05-31T13:30:41.906Z"
   },
   {
    "duration": 23,
    "start_time": "2023-05-31T13:30:51.613Z"
   },
   {
    "duration": 395,
    "start_time": "2023-05-31T13:31:08.097Z"
   },
   {
    "duration": 102,
    "start_time": "2023-05-31T13:31:15.279Z"
   },
   {
    "duration": 6,
    "start_time": "2023-05-31T13:31:16.043Z"
   },
   {
    "duration": 4,
    "start_time": "2023-05-31T13:31:50.738Z"
   },
   {
    "duration": 5,
    "start_time": "2023-05-31T13:32:07.567Z"
   },
   {
    "duration": 225213,
    "start_time": "2023-05-31T13:32:08.564Z"
   },
   {
    "duration": 11,
    "start_time": "2023-05-31T13:35:53.780Z"
   },
   {
    "duration": 12,
    "start_time": "2023-05-31T13:36:22.011Z"
   },
   {
    "duration": 170,
    "start_time": "2023-05-31T13:36:46.658Z"
   },
   {
    "duration": 149,
    "start_time": "2023-05-31T13:37:54.025Z"
   },
   {
    "duration": 162,
    "start_time": "2023-05-31T13:37:57.508Z"
   },
   {
    "duration": 2609,
    "start_time": "2023-05-31T13:38:04.194Z"
   },
   {
    "duration": 1570,
    "start_time": "2023-05-31T13:38:06.805Z"
   },
   {
    "duration": 5,
    "start_time": "2023-05-31T13:38:08.377Z"
   },
   {
    "duration": 922,
    "start_time": "2023-05-31T13:38:08.383Z"
   },
   {
    "duration": 14,
    "start_time": "2023-05-31T13:38:09.307Z"
   },
   {
    "duration": 141,
    "start_time": "2023-05-31T13:38:09.323Z"
   },
   {
    "duration": 372,
    "start_time": "2023-05-31T13:38:09.466Z"
   },
   {
    "duration": 344,
    "start_time": "2023-05-31T13:38:09.840Z"
   },
   {
    "duration": 399,
    "start_time": "2023-05-31T13:38:10.186Z"
   },
   {
    "duration": 416,
    "start_time": "2023-05-31T13:38:10.588Z"
   },
   {
    "duration": 91,
    "start_time": "2023-05-31T13:38:11.006Z"
   },
   {
    "duration": 36,
    "start_time": "2023-05-31T13:38:11.099Z"
   },
   {
    "duration": 41,
    "start_time": "2023-05-31T13:38:11.137Z"
   },
   {
    "duration": 54,
    "start_time": "2023-05-31T13:38:11.180Z"
   },
   {
    "duration": 44,
    "start_time": "2023-05-31T13:38:11.236Z"
   },
   {
    "duration": 35,
    "start_time": "2023-05-31T13:38:11.282Z"
   },
   {
    "duration": 47,
    "start_time": "2023-05-31T13:38:11.319Z"
   },
   {
    "duration": 38,
    "start_time": "2023-05-31T13:38:11.368Z"
   },
   {
    "duration": 100,
    "start_time": "2023-05-31T13:38:11.407Z"
   },
   {
    "duration": 155,
    "start_time": "2023-05-31T13:38:11.509Z"
   },
   {
    "duration": 258,
    "start_time": "2023-05-31T13:38:11.665Z"
   },
   {
    "duration": 67,
    "start_time": "2023-05-31T13:38:11.925Z"
   },
   {
    "duration": 60,
    "start_time": "2023-05-31T13:38:11.994Z"
   },
   {
    "duration": 38,
    "start_time": "2023-05-31T13:38:12.056Z"
   },
   {
    "duration": 537,
    "start_time": "2023-05-31T13:38:12.096Z"
   },
   {
    "duration": 27,
    "start_time": "2023-05-31T13:38:12.635Z"
   },
   {
    "duration": 200,
    "start_time": "2023-05-31T13:38:12.664Z"
   },
   {
    "duration": 17,
    "start_time": "2023-05-31T13:38:12.867Z"
   },
   {
    "duration": 568,
    "start_time": "2023-05-31T13:38:12.885Z"
   },
   {
    "duration": 107,
    "start_time": "2023-05-31T13:38:13.455Z"
   },
   {
    "duration": 14,
    "start_time": "2023-05-31T13:38:13.564Z"
   },
   {
    "duration": 15,
    "start_time": "2023-05-31T13:38:13.580Z"
   },
   {
    "duration": 221,
    "start_time": "2023-05-31T13:38:13.596Z"
   },
   {
    "duration": 1332,
    "start_time": "2023-05-31T13:38:13.819Z"
   },
   {
    "duration": 597,
    "start_time": "2023-05-31T13:39:00.468Z"
   },
   {
    "duration": 2512,
    "start_time": "2023-05-31T13:44:23.599Z"
   },
   {
    "duration": 1591,
    "start_time": "2023-05-31T13:44:26.114Z"
   },
   {
    "duration": 8,
    "start_time": "2023-05-31T13:44:27.707Z"
   },
   {
    "duration": 943,
    "start_time": "2023-05-31T13:44:27.717Z"
   },
   {
    "duration": 15,
    "start_time": "2023-05-31T13:44:28.662Z"
   },
   {
    "duration": 99,
    "start_time": "2023-05-31T13:44:28.679Z"
   },
   {
    "duration": 345,
    "start_time": "2023-05-31T13:44:28.780Z"
   },
   {
    "duration": 376,
    "start_time": "2023-05-31T13:44:29.128Z"
   },
   {
    "duration": 434,
    "start_time": "2023-05-31T13:44:29.506Z"
   },
   {
    "duration": 423,
    "start_time": "2023-05-31T13:44:29.943Z"
   },
   {
    "duration": 87,
    "start_time": "2023-05-31T13:44:30.368Z"
   },
   {
    "duration": 41,
    "start_time": "2023-05-31T13:44:30.457Z"
   },
   {
    "duration": 39,
    "start_time": "2023-05-31T13:44:30.499Z"
   },
   {
    "duration": 72,
    "start_time": "2023-05-31T13:44:30.540Z"
   },
   {
    "duration": 66,
    "start_time": "2023-05-31T13:44:30.613Z"
   },
   {
    "duration": 58,
    "start_time": "2023-05-31T13:44:30.681Z"
   },
   {
    "duration": 84,
    "start_time": "2023-05-31T13:44:30.741Z"
   },
   {
    "duration": 59,
    "start_time": "2023-05-31T13:44:30.827Z"
   },
   {
    "duration": 104,
    "start_time": "2023-05-31T13:44:30.888Z"
   },
   {
    "duration": 148,
    "start_time": "2023-05-31T13:44:30.994Z"
   },
   {
    "duration": 239,
    "start_time": "2023-05-31T13:44:31.144Z"
   },
   {
    "duration": 57,
    "start_time": "2023-05-31T13:44:31.385Z"
   },
   {
    "duration": 66,
    "start_time": "2023-05-31T13:44:31.444Z"
   },
   {
    "duration": 28,
    "start_time": "2023-05-31T13:44:31.512Z"
   },
   {
    "duration": 603,
    "start_time": "2023-05-31T13:44:31.542Z"
   },
   {
    "duration": 24,
    "start_time": "2023-05-31T13:44:32.147Z"
   },
   {
    "duration": 199,
    "start_time": "2023-05-31T13:44:32.173Z"
   },
   {
    "duration": 15,
    "start_time": "2023-05-31T13:44:32.377Z"
   },
   {
    "duration": 136,
    "start_time": "2023-05-31T13:44:32.394Z"
   },
   {
    "duration": 0,
    "start_time": "2023-05-31T13:44:32.532Z"
   },
   {
    "duration": 0,
    "start_time": "2023-05-31T13:44:32.533Z"
   },
   {
    "duration": 0,
    "start_time": "2023-05-31T13:44:32.535Z"
   },
   {
    "duration": 0,
    "start_time": "2023-05-31T13:44:32.535Z"
   },
   {
    "duration": 0,
    "start_time": "2023-05-31T13:44:32.537Z"
   },
   {
    "duration": 0,
    "start_time": "2023-05-31T13:44:32.538Z"
   },
   {
    "duration": 0,
    "start_time": "2023-05-31T13:44:32.539Z"
   },
   {
    "duration": 412,
    "start_time": "2023-05-31T13:47:21.867Z"
   },
   {
    "duration": 95,
    "start_time": "2023-05-31T13:47:23.339Z"
   },
   {
    "duration": 6,
    "start_time": "2023-05-31T13:47:24.178Z"
   },
   {
    "duration": 3,
    "start_time": "2023-05-31T13:47:27.799Z"
   },
   {
    "duration": 25,
    "start_time": "2023-05-31T13:47:28.881Z"
   },
   {
    "duration": 3,
    "start_time": "2023-05-31T13:47:39.063Z"
   },
   {
    "duration": 44,
    "start_time": "2023-05-31T13:47:39.718Z"
   },
   {
    "duration": 5,
    "start_time": "2023-05-31T13:47:41.505Z"
   },
   {
    "duration": 565,
    "start_time": "2023-05-31T13:47:42.284Z"
   },
   {
    "duration": 5,
    "start_time": "2023-05-31T13:49:19.783Z"
   },
   {
    "duration": 87,
    "start_time": "2023-05-31T13:49:22.091Z"
   },
   {
    "duration": 5,
    "start_time": "2023-05-31T13:49:30.465Z"
   },
   {
    "duration": 84,
    "start_time": "2023-05-31T13:49:31.336Z"
   },
   {
    "duration": 7,
    "start_time": "2023-05-31T13:49:56.486Z"
   },
   {
    "duration": 582,
    "start_time": "2023-05-31T13:49:57.341Z"
   },
   {
    "duration": 29,
    "start_time": "2023-05-31T13:51:33.643Z"
   },
   {
    "duration": 5,
    "start_time": "2023-05-31T13:51:34.559Z"
   },
   {
    "duration": 548,
    "start_time": "2023-05-31T13:51:35.613Z"
   },
   {
    "duration": 13,
    "start_time": "2023-05-31T13:51:58.933Z"
   },
   {
    "duration": 5,
    "start_time": "2023-05-31T13:56:02.125Z"
   },
   {
    "duration": 535,
    "start_time": "2023-05-31T13:56:06.666Z"
   },
   {
    "duration": 2646,
    "start_time": "2023-05-31T14:30:42.135Z"
   },
   {
    "duration": 1540,
    "start_time": "2023-05-31T14:30:44.783Z"
   },
   {
    "duration": 5,
    "start_time": "2023-05-31T14:30:46.325Z"
   },
   {
    "duration": 998,
    "start_time": "2023-05-31T14:30:46.332Z"
   },
   {
    "duration": 14,
    "start_time": "2023-05-31T14:30:47.332Z"
   },
   {
    "duration": 109,
    "start_time": "2023-05-31T14:30:47.348Z"
   },
   {
    "duration": 364,
    "start_time": "2023-05-31T14:30:47.458Z"
   },
   {
    "duration": 357,
    "start_time": "2023-05-31T14:30:47.824Z"
   },
   {
    "duration": 396,
    "start_time": "2023-05-31T14:30:48.183Z"
   },
   {
    "duration": 421,
    "start_time": "2023-05-31T14:30:48.581Z"
   },
   {
    "duration": 90,
    "start_time": "2023-05-31T14:30:49.004Z"
   },
   {
    "duration": 35,
    "start_time": "2023-05-31T14:30:49.096Z"
   },
   {
    "duration": 24,
    "start_time": "2023-05-31T14:30:49.133Z"
   },
   {
    "duration": 40,
    "start_time": "2023-05-31T14:30:49.159Z"
   },
   {
    "duration": 31,
    "start_time": "2023-05-31T14:30:49.200Z"
   },
   {
    "duration": 32,
    "start_time": "2023-05-31T14:30:49.232Z"
   },
   {
    "duration": 38,
    "start_time": "2023-05-31T14:30:49.265Z"
   },
   {
    "duration": 25,
    "start_time": "2023-05-31T14:30:49.304Z"
   },
   {
    "duration": 103,
    "start_time": "2023-05-31T14:30:49.331Z"
   },
   {
    "duration": 136,
    "start_time": "2023-05-31T14:30:49.435Z"
   },
   {
    "duration": 230,
    "start_time": "2023-05-31T14:30:49.576Z"
   },
   {
    "duration": 52,
    "start_time": "2023-05-31T14:30:49.808Z"
   },
   {
    "duration": 71,
    "start_time": "2023-05-31T14:30:49.861Z"
   },
   {
    "duration": 24,
    "start_time": "2023-05-31T14:30:49.934Z"
   },
   {
    "duration": 546,
    "start_time": "2023-05-31T14:30:49.959Z"
   },
   {
    "duration": 26,
    "start_time": "2023-05-31T14:30:50.507Z"
   },
   {
    "duration": 190,
    "start_time": "2023-05-31T14:30:50.535Z"
   },
   {
    "duration": 15,
    "start_time": "2023-05-31T14:30:50.728Z"
   },
   {
    "duration": 410,
    "start_time": "2023-05-31T14:30:50.744Z"
   },
   {
    "duration": 94,
    "start_time": "2023-05-31T14:30:51.156Z"
   },
   {
    "duration": 4,
    "start_time": "2023-05-31T14:30:51.252Z"
   },
   {
    "duration": 61,
    "start_time": "2023-05-31T14:30:51.257Z"
   },
   {
    "duration": 69,
    "start_time": "2023-05-31T14:30:51.320Z"
   },
   {
    "duration": 5,
    "start_time": "2023-05-31T14:30:51.390Z"
   },
   {
    "duration": 620,
    "start_time": "2023-05-31T14:30:51.397Z"
   },
   {
    "duration": 0,
    "start_time": "2023-05-31T14:30:52.019Z"
   },
   {
    "duration": 0,
    "start_time": "2023-05-31T14:30:52.020Z"
   },
   {
    "duration": 0,
    "start_time": "2023-05-31T14:30:52.021Z"
   },
   {
    "duration": 12,
    "start_time": "2023-05-31T14:31:29.105Z"
   },
   {
    "duration": 12,
    "start_time": "2023-05-31T14:31:29.588Z"
   },
   {
    "duration": 13,
    "start_time": "2023-05-31T14:56:49.360Z"
   },
   {
    "duration": 68,
    "start_time": "2023-05-31T14:57:18.208Z"
   },
   {
    "duration": 5931,
    "start_time": "2023-05-31T14:57:27.758Z"
   },
   {
    "duration": 37054,
    "start_time": "2023-05-31T14:57:50.800Z"
   },
   {
    "duration": 11,
    "start_time": "2023-05-31T14:59:16.846Z"
   },
   {
    "duration": 173,
    "start_time": "2023-05-31T14:59:36.266Z"
   },
   {
    "duration": 63305,
    "start_time": "2023-05-31T15:00:45.284Z"
   },
   {
    "duration": 4,
    "start_time": "2023-05-31T15:06:48.578Z"
   },
   {
    "duration": 9659,
    "start_time": "2023-05-31T15:17:13.933Z"
   },
   {
    "duration": 32316,
    "start_time": "2023-05-31T15:19:28.678Z"
   },
   {
    "duration": 37593,
    "start_time": "2023-05-31T15:20:00.997Z"
   },
   {
    "duration": 100285,
    "start_time": "2023-05-31T15:20:38.592Z"
   },
   {
    "duration": 5,
    "start_time": "2023-05-31T15:22:18.880Z"
   },
   {
    "duration": 5,
    "start_time": "2023-05-31T15:22:52.431Z"
   },
   {
    "duration": 12,
    "start_time": "2023-05-31T15:31:18.043Z"
   },
   {
    "duration": 59,
    "start_time": "2023-05-31T15:31:18.432Z"
   },
   {
    "duration": 5410,
    "start_time": "2023-05-31T15:31:18.785Z"
   },
   {
    "duration": 0,
    "start_time": "2023-05-31T15:31:24.196Z"
   },
   {
    "duration": 12,
    "start_time": "2023-05-31T15:32:16.002Z"
   },
   {
    "duration": 60,
    "start_time": "2023-05-31T15:32:16.555Z"
   },
   {
    "duration": 5469,
    "start_time": "2023-05-31T15:32:17.415Z"
   },
   {
    "duration": 33978,
    "start_time": "2023-05-31T15:32:51.838Z"
   },
   {
    "duration": 55263,
    "start_time": "2023-05-31T15:33:25.818Z"
   },
   {
    "duration": 4,
    "start_time": "2023-05-31T15:34:21.083Z"
   },
   {
    "duration": 9,
    "start_time": "2023-05-31T15:34:21.089Z"
   },
   {
    "duration": 8,
    "start_time": "2023-05-31T15:34:31.826Z"
   },
   {
    "duration": 2460,
    "start_time": "2023-05-31T15:51:47.106Z"
   },
   {
    "duration": 1571,
    "start_time": "2023-05-31T15:51:49.568Z"
   },
   {
    "duration": 5,
    "start_time": "2023-05-31T15:51:51.141Z"
   },
   {
    "duration": 911,
    "start_time": "2023-05-31T15:51:51.148Z"
   },
   {
    "duration": 16,
    "start_time": "2023-05-31T15:51:52.061Z"
   },
   {
    "duration": 102,
    "start_time": "2023-05-31T15:51:52.079Z"
   },
   {
    "duration": 353,
    "start_time": "2023-05-31T15:51:52.182Z"
   },
   {
    "duration": 330,
    "start_time": "2023-05-31T15:51:52.537Z"
   },
   {
    "duration": 395,
    "start_time": "2023-05-31T15:51:52.869Z"
   },
   {
    "duration": 406,
    "start_time": "2023-05-31T15:51:53.267Z"
   },
   {
    "duration": 93,
    "start_time": "2023-05-31T15:51:53.675Z"
   },
   {
    "duration": 34,
    "start_time": "2023-05-31T15:51:53.776Z"
   },
   {
    "duration": 22,
    "start_time": "2023-05-31T15:51:53.811Z"
   },
   {
    "duration": 25,
    "start_time": "2023-05-31T15:51:53.835Z"
   },
   {
    "duration": 26,
    "start_time": "2023-05-31T15:51:53.877Z"
   },
   {
    "duration": 22,
    "start_time": "2023-05-31T15:51:53.905Z"
   },
   {
    "duration": 39,
    "start_time": "2023-05-31T15:51:53.929Z"
   },
   {
    "duration": 27,
    "start_time": "2023-05-31T15:51:53.970Z"
   },
   {
    "duration": 88,
    "start_time": "2023-05-31T15:51:53.998Z"
   },
   {
    "duration": 142,
    "start_time": "2023-05-31T15:51:54.088Z"
   },
   {
    "duration": 236,
    "start_time": "2023-05-31T15:51:54.232Z"
   },
   {
    "duration": 55,
    "start_time": "2023-05-31T15:51:54.469Z"
   },
   {
    "duration": 74,
    "start_time": "2023-05-31T15:51:54.526Z"
   },
   {
    "duration": 24,
    "start_time": "2023-05-31T15:51:54.601Z"
   },
   {
    "duration": 538,
    "start_time": "2023-05-31T15:51:54.627Z"
   },
   {
    "duration": 24,
    "start_time": "2023-05-31T15:51:55.167Z"
   },
   {
    "duration": 197,
    "start_time": "2023-05-31T15:51:55.193Z"
   },
   {
    "duration": 14,
    "start_time": "2023-05-31T15:51:55.394Z"
   },
   {
    "duration": 87,
    "start_time": "2023-05-31T15:51:55.410Z"
   },
   {
    "duration": 151,
    "start_time": "2023-05-31T15:51:55.498Z"
   },
   {
    "duration": 0,
    "start_time": "2023-05-31T15:51:55.651Z"
   },
   {
    "duration": 0,
    "start_time": "2023-05-31T15:51:55.652Z"
   },
   {
    "duration": 0,
    "start_time": "2023-05-31T15:51:55.653Z"
   },
   {
    "duration": 0,
    "start_time": "2023-05-31T15:51:55.654Z"
   },
   {
    "duration": 100,
    "start_time": "2023-05-31T15:54:46.007Z"
   },
   {
    "duration": 2508,
    "start_time": "2023-05-31T15:55:08.429Z"
   },
   {
    "duration": 1590,
    "start_time": "2023-05-31T15:55:10.940Z"
   },
   {
    "duration": 5,
    "start_time": "2023-05-31T15:55:12.532Z"
   },
   {
    "duration": 917,
    "start_time": "2023-05-31T15:55:12.538Z"
   },
   {
    "duration": 20,
    "start_time": "2023-05-31T15:55:13.457Z"
   },
   {
    "duration": 101,
    "start_time": "2023-05-31T15:55:13.479Z"
   },
   {
    "duration": 382,
    "start_time": "2023-05-31T15:55:13.582Z"
   },
   {
    "duration": 356,
    "start_time": "2023-05-31T15:55:13.966Z"
   },
   {
    "duration": 393,
    "start_time": "2023-05-31T15:55:14.323Z"
   },
   {
    "duration": 453,
    "start_time": "2023-05-31T15:55:14.719Z"
   },
   {
    "duration": 89,
    "start_time": "2023-05-31T15:55:15.174Z"
   },
   {
    "duration": 45,
    "start_time": "2023-05-31T15:55:15.265Z"
   },
   {
    "duration": 26,
    "start_time": "2023-05-31T15:55:15.312Z"
   },
   {
    "duration": 43,
    "start_time": "2023-05-31T15:55:15.340Z"
   },
   {
    "duration": 41,
    "start_time": "2023-05-31T15:55:15.385Z"
   },
   {
    "duration": 21,
    "start_time": "2023-05-31T15:55:15.428Z"
   },
   {
    "duration": 44,
    "start_time": "2023-05-31T15:55:15.451Z"
   },
   {
    "duration": 31,
    "start_time": "2023-05-31T15:55:15.497Z"
   },
   {
    "duration": 93,
    "start_time": "2023-05-31T15:55:15.530Z"
   },
   {
    "duration": 171,
    "start_time": "2023-05-31T15:55:15.625Z"
   },
   {
    "duration": 240,
    "start_time": "2023-05-31T15:55:15.797Z"
   },
   {
    "duration": 65,
    "start_time": "2023-05-31T15:55:16.038Z"
   },
   {
    "duration": 56,
    "start_time": "2023-05-31T15:55:16.105Z"
   },
   {
    "duration": 37,
    "start_time": "2023-05-31T15:55:16.163Z"
   },
   {
    "duration": 543,
    "start_time": "2023-05-31T15:55:16.202Z"
   },
   {
    "duration": 30,
    "start_time": "2023-05-31T15:55:16.746Z"
   },
   {
    "duration": 214,
    "start_time": "2023-05-31T15:55:16.778Z"
   },
   {
    "duration": 17,
    "start_time": "2023-05-31T15:55:16.995Z"
   },
   {
    "duration": 95,
    "start_time": "2023-05-31T15:55:17.014Z"
   },
   {
    "duration": 247,
    "start_time": "2023-05-31T15:55:17.111Z"
   },
   {
    "duration": 0,
    "start_time": "2023-05-31T15:55:17.360Z"
   },
   {
    "duration": 0,
    "start_time": "2023-05-31T15:55:17.361Z"
   },
   {
    "duration": 0,
    "start_time": "2023-05-31T15:55:17.363Z"
   },
   {
    "duration": 0,
    "start_time": "2023-05-31T15:55:17.377Z"
   },
   {
    "duration": 0,
    "start_time": "2023-05-31T15:55:17.379Z"
   },
   {
    "duration": 629,
    "start_time": "2023-05-31T15:56:49.913Z"
   },
   {
    "duration": 77,
    "start_time": "2023-05-31T15:56:51.696Z"
   },
   {
    "duration": 75,
    "start_time": "2023-05-31T15:58:06.094Z"
   },
   {
    "duration": 69,
    "start_time": "2023-05-31T15:58:25.234Z"
   },
   {
    "duration": 506442,
    "start_time": "2023-05-31T15:58:38.027Z"
   },
   {
    "duration": 89,
    "start_time": "2023-05-31T16:10:20.508Z"
   },
   {
    "duration": 982091,
    "start_time": "2023-05-31T16:11:02.313Z"
   },
   {
    "duration": 2754,
    "start_time": "2023-05-31T16:28:15.659Z"
   },
   {
    "duration": 5,
    "start_time": "2023-05-31T16:28:18.416Z"
   },
   {
    "duration": 22,
    "start_time": "2023-05-31T16:28:18.422Z"
   },
   {
    "duration": 910,
    "start_time": "2023-05-31T16:28:19.137Z"
   },
   {
    "duration": 12,
    "start_time": "2023-05-31T16:28:20.050Z"
   },
   {
    "duration": 73,
    "start_time": "2023-05-31T16:28:20.480Z"
   },
   {
    "duration": 356,
    "start_time": "2023-05-31T16:28:22.950Z"
   },
   {
    "duration": 360,
    "start_time": "2023-05-31T16:28:24.255Z"
   },
   {
    "duration": 405,
    "start_time": "2023-05-31T16:28:25.017Z"
   },
   {
    "duration": 466,
    "start_time": "2023-05-31T16:28:25.784Z"
   },
   {
    "duration": 94,
    "start_time": "2023-05-31T16:28:28.372Z"
   },
   {
    "duration": 32,
    "start_time": "2023-05-31T16:28:38.476Z"
   },
   {
    "duration": 25,
    "start_time": "2023-05-31T16:28:42.502Z"
   },
   {
    "duration": 25,
    "start_time": "2023-05-31T16:28:43.214Z"
   },
   {
    "duration": 27,
    "start_time": "2023-05-31T16:28:55.753Z"
   },
   {
    "duration": 27,
    "start_time": "2023-05-31T16:28:56.394Z"
   },
   {
    "duration": 25,
    "start_time": "2023-05-31T16:28:57.111Z"
   },
   {
    "duration": 26,
    "start_time": "2023-05-31T16:28:57.808Z"
   },
   {
    "duration": 110,
    "start_time": "2023-05-31T16:29:03.376Z"
   },
   {
    "duration": 135,
    "start_time": "2023-05-31T16:29:03.918Z"
   },
   {
    "duration": 247,
    "start_time": "2023-05-31T16:29:04.105Z"
   },
   {
    "duration": 58,
    "start_time": "2023-05-31T16:29:04.572Z"
   },
   {
    "duration": 66,
    "start_time": "2023-05-31T16:29:05.679Z"
   },
   {
    "duration": 25,
    "start_time": "2023-05-31T16:29:05.894Z"
   },
   {
    "duration": 568,
    "start_time": "2023-05-31T16:29:06.280Z"
   },
   {
    "duration": 39,
    "start_time": "2023-05-31T16:29:06.851Z"
   },
   {
    "duration": 213,
    "start_time": "2023-05-31T16:29:08.172Z"
   },
   {
    "duration": 19,
    "start_time": "2023-05-31T16:29:09.701Z"
   },
   {
    "duration": 645,
    "start_time": "2023-05-31T16:29:10.724Z"
   },
   {
    "duration": 35,
    "start_time": "2023-05-31T16:30:59.362Z"
   },
   {
    "duration": 2696,
    "start_time": "2023-05-31T16:33:22.533Z"
   },
   {
    "duration": 2547,
    "start_time": "2023-05-31T16:33:25.232Z"
   },
   {
    "duration": 6,
    "start_time": "2023-05-31T16:33:27.781Z"
   },
   {
    "duration": 1006,
    "start_time": "2023-05-31T16:33:27.789Z"
   },
   {
    "duration": 14,
    "start_time": "2023-05-31T16:33:28.797Z"
   },
   {
    "duration": 116,
    "start_time": "2023-05-31T16:33:28.813Z"
   },
   {
    "duration": 377,
    "start_time": "2023-05-31T16:33:28.931Z"
   },
   {
    "duration": 365,
    "start_time": "2023-05-31T16:33:29.310Z"
   },
   {
    "duration": 439,
    "start_time": "2023-05-31T16:33:29.677Z"
   },
   {
    "duration": 460,
    "start_time": "2023-05-31T16:33:30.119Z"
   },
   {
    "duration": 97,
    "start_time": "2023-05-31T16:33:30.580Z"
   },
   {
    "duration": 37,
    "start_time": "2023-05-31T16:33:30.678Z"
   },
   {
    "duration": 26,
    "start_time": "2023-05-31T16:33:30.717Z"
   },
   {
    "duration": 78,
    "start_time": "2023-05-31T16:33:30.745Z"
   },
   {
    "duration": 51,
    "start_time": "2023-05-31T16:33:30.825Z"
   },
   {
    "duration": 45,
    "start_time": "2023-05-31T16:33:30.878Z"
   },
   {
    "duration": 63,
    "start_time": "2023-05-31T16:33:30.925Z"
   },
   {
    "duration": 43,
    "start_time": "2023-05-31T16:33:30.990Z"
   },
   {
    "duration": 110,
    "start_time": "2023-05-31T16:33:31.035Z"
   },
   {
    "duration": 156,
    "start_time": "2023-05-31T16:33:31.147Z"
   },
   {
    "duration": 245,
    "start_time": "2023-05-31T16:33:31.305Z"
   },
   {
    "duration": 67,
    "start_time": "2023-05-31T16:33:31.552Z"
   },
   {
    "duration": 80,
    "start_time": "2023-05-31T16:33:31.621Z"
   },
   {
    "duration": 34,
    "start_time": "2023-05-31T16:33:31.703Z"
   },
   {
    "duration": 590,
    "start_time": "2023-05-31T16:33:31.739Z"
   },
   {
    "duration": 26,
    "start_time": "2023-05-31T16:33:32.331Z"
   },
   {
    "duration": 210,
    "start_time": "2023-05-31T16:33:32.359Z"
   },
   {
    "duration": 16,
    "start_time": "2023-05-31T16:33:32.577Z"
   },
   {
    "duration": 652,
    "start_time": "2023-05-31T16:33:32.595Z"
   },
   {
    "duration": 161,
    "start_time": "2023-05-31T16:33:33.249Z"
   },
   {
    "duration": 0,
    "start_time": "2023-05-31T16:33:33.412Z"
   },
   {
    "duration": 0,
    "start_time": "2023-05-31T16:33:33.413Z"
   },
   {
    "duration": 0,
    "start_time": "2023-05-31T16:33:33.415Z"
   },
   {
    "duration": 0,
    "start_time": "2023-05-31T16:33:33.416Z"
   },
   {
    "duration": 0,
    "start_time": "2023-05-31T16:33:33.418Z"
   },
   {
    "duration": 0,
    "start_time": "2023-05-31T16:33:33.419Z"
   },
   {
    "duration": 29,
    "start_time": "2023-05-31T16:35:11.990Z"
   },
   {
    "duration": 694,
    "start_time": "2023-05-31T16:35:12.892Z"
   },
   {
    "duration": 38,
    "start_time": "2023-05-31T16:35:16.747Z"
   },
   {
    "duration": 2591,
    "start_time": "2023-05-31T17:11:51.405Z"
   },
   {
    "duration": 1576,
    "start_time": "2023-05-31T17:11:53.999Z"
   },
   {
    "duration": 5,
    "start_time": "2023-05-31T17:11:55.577Z"
   },
   {
    "duration": 1036,
    "start_time": "2023-05-31T17:11:55.584Z"
   },
   {
    "duration": 14,
    "start_time": "2023-05-31T17:11:56.622Z"
   },
   {
    "duration": 113,
    "start_time": "2023-05-31T17:11:56.638Z"
   },
   {
    "duration": 352,
    "start_time": "2023-05-31T17:11:56.753Z"
   },
   {
    "duration": 351,
    "start_time": "2023-05-31T17:11:57.117Z"
   },
   {
    "duration": 436,
    "start_time": "2023-05-31T17:11:57.470Z"
   },
   {
    "duration": 453,
    "start_time": "2023-05-31T17:11:57.909Z"
   },
   {
    "duration": 97,
    "start_time": "2023-05-31T17:11:58.364Z"
   },
   {
    "duration": 45,
    "start_time": "2023-05-31T17:11:58.462Z"
   },
   {
    "duration": 29,
    "start_time": "2023-05-31T17:11:58.509Z"
   },
   {
    "duration": 40,
    "start_time": "2023-05-31T17:11:58.540Z"
   },
   {
    "duration": 32,
    "start_time": "2023-05-31T17:11:58.582Z"
   },
   {
    "duration": 34,
    "start_time": "2023-05-31T17:11:58.616Z"
   },
   {
    "duration": 35,
    "start_time": "2023-05-31T17:11:58.652Z"
   },
   {
    "duration": 30,
    "start_time": "2023-05-31T17:11:58.689Z"
   },
   {
    "duration": 88,
    "start_time": "2023-05-31T17:11:58.721Z"
   },
   {
    "duration": 152,
    "start_time": "2023-05-31T17:11:58.811Z"
   },
   {
    "duration": 237,
    "start_time": "2023-05-31T17:11:58.965Z"
   },
   {
    "duration": 54,
    "start_time": "2023-05-31T17:11:59.204Z"
   },
   {
    "duration": 65,
    "start_time": "2023-05-31T17:11:59.260Z"
   },
   {
    "duration": 27,
    "start_time": "2023-05-31T17:11:59.327Z"
   },
   {
    "duration": 561,
    "start_time": "2023-05-31T17:11:59.356Z"
   },
   {
    "duration": 24,
    "start_time": "2023-05-31T17:11:59.919Z"
   },
   {
    "duration": 210,
    "start_time": "2023-05-31T17:11:59.945Z"
   },
   {
    "duration": 22,
    "start_time": "2023-05-31T17:12:00.158Z"
   },
   {
    "duration": 1260,
    "start_time": "2023-05-31T17:12:00.182Z"
   },
   {
    "duration": 11554,
    "start_time": "2023-05-31T17:12:01.443Z"
   },
   {
    "duration": 37893,
    "start_time": "2023-05-31T17:12:13.077Z"
   },
   {
    "duration": 479115,
    "start_time": "2023-05-31T17:12:50.972Z"
   },
   {
    "duration": 89,
    "start_time": "2023-05-31T17:20:50.089Z"
   },
   {
    "duration": 0,
    "start_time": "2023-05-31T17:20:50.180Z"
   },
   {
    "duration": 0,
    "start_time": "2023-05-31T17:20:50.181Z"
   },
   {
    "duration": 0,
    "start_time": "2023-05-31T17:20:50.183Z"
   },
   {
    "duration": 699,
    "start_time": "2023-05-31T17:21:39.081Z"
   },
   {
    "duration": 230,
    "start_time": "2023-05-31T17:25:37.288Z"
   },
   {
    "duration": 193,
    "start_time": "2023-05-31T17:26:26.322Z"
   },
   {
    "duration": 2688,
    "start_time": "2023-05-31T17:28:46.149Z"
   },
   {
    "duration": 3169,
    "start_time": "2023-05-31T17:28:55.825Z"
   },
   {
    "duration": 874,
    "start_time": "2023-05-31T17:29:52.248Z"
   },
   {
    "duration": 5,
    "start_time": "2023-05-31T17:29:57.721Z"
   },
   {
    "duration": 7,
    "start_time": "2023-05-31T17:30:01.051Z"
   },
   {
    "duration": 12,
    "start_time": "2023-05-31T17:42:30.126Z"
   },
   {
    "duration": 1479,
    "start_time": "2023-05-31T17:42:45.926Z"
   },
   {
    "duration": 5447,
    "start_time": "2023-05-31T17:44:26.359Z"
   },
   {
    "duration": 16,
    "start_time": "2023-05-31T17:46:15.611Z"
   },
   {
    "duration": 17,
    "start_time": "2023-05-31T17:47:41.299Z"
   },
   {
    "duration": 63,
    "start_time": "2023-05-31T17:48:25.780Z"
   },
   {
    "duration": 4048,
    "start_time": "2023-05-31T17:49:02.747Z"
   },
   {
    "duration": 2823,
    "start_time": "2023-05-31T17:50:27.778Z"
   },
   {
    "duration": 2566,
    "start_time": "2023-05-31T17:50:30.603Z"
   },
   {
    "duration": 8,
    "start_time": "2023-05-31T17:50:33.171Z"
   },
   {
    "duration": 1278,
    "start_time": "2023-05-31T17:50:33.181Z"
   },
   {
    "duration": 21,
    "start_time": "2023-05-31T17:50:34.461Z"
   },
   {
    "duration": 104,
    "start_time": "2023-05-31T17:50:34.483Z"
   },
   {
    "duration": 381,
    "start_time": "2023-05-31T17:50:34.589Z"
   },
   {
    "duration": 372,
    "start_time": "2023-05-31T17:50:34.972Z"
   },
   {
    "duration": 435,
    "start_time": "2023-05-31T17:50:35.346Z"
   },
   {
    "duration": 474,
    "start_time": "2023-05-31T17:50:35.784Z"
   },
   {
    "duration": 109,
    "start_time": "2023-05-31T17:50:36.260Z"
   },
   {
    "duration": 42,
    "start_time": "2023-05-31T17:50:36.371Z"
   },
   {
    "duration": 36,
    "start_time": "2023-05-31T17:50:36.416Z"
   },
   {
    "duration": 52,
    "start_time": "2023-05-31T17:50:36.454Z"
   },
   {
    "duration": 42,
    "start_time": "2023-05-31T17:50:36.509Z"
   },
   {
    "duration": 49,
    "start_time": "2023-05-31T17:50:36.553Z"
   },
   {
    "duration": 31,
    "start_time": "2023-05-31T17:50:36.604Z"
   },
   {
    "duration": 39,
    "start_time": "2023-05-31T17:50:36.637Z"
   },
   {
    "duration": 102,
    "start_time": "2023-05-31T17:50:36.678Z"
   },
   {
    "duration": 148,
    "start_time": "2023-05-31T17:50:36.781Z"
   },
   {
    "duration": 277,
    "start_time": "2023-05-31T17:50:36.931Z"
   },
   {
    "duration": 68,
    "start_time": "2023-05-31T17:50:37.211Z"
   },
   {
    "duration": 57,
    "start_time": "2023-05-31T17:50:37.281Z"
   },
   {
    "duration": 42,
    "start_time": "2023-05-31T17:50:37.340Z"
   },
   {
    "duration": 593,
    "start_time": "2023-05-31T17:50:37.384Z"
   },
   {
    "duration": 31,
    "start_time": "2023-05-31T17:50:37.979Z"
   },
   {
    "duration": 236,
    "start_time": "2023-05-31T17:50:38.011Z"
   },
   {
    "duration": 16,
    "start_time": "2023-05-31T17:50:38.251Z"
   },
   {
    "duration": 1296,
    "start_time": "2023-05-31T17:50:38.269Z"
   },
   {
    "duration": 10424,
    "start_time": "2023-05-31T17:50:39.567Z"
   },
   {
    "duration": 38401,
    "start_time": "2023-05-31T17:50:49.993Z"
   },
   {
    "duration": 484732,
    "start_time": "2023-05-31T17:51:28.396Z"
   },
   {
    "duration": 5,
    "start_time": "2023-05-31T17:59:33.130Z"
   },
   {
    "duration": 10,
    "start_time": "2023-05-31T17:59:33.178Z"
   },
   {
    "duration": 636,
    "start_time": "2023-05-31T18:26:27.515Z"
   },
   {
    "duration": 2623,
    "start_time": "2023-05-31T18:34:27.656Z"
   },
   {
    "duration": 2031,
    "start_time": "2023-05-31T18:34:30.283Z"
   },
   {
    "duration": 5,
    "start_time": "2023-05-31T18:34:32.316Z"
   },
   {
    "duration": 1004,
    "start_time": "2023-05-31T18:34:32.323Z"
   },
   {
    "duration": 16,
    "start_time": "2023-05-31T18:34:33.330Z"
   },
   {
    "duration": 117,
    "start_time": "2023-05-31T18:34:33.348Z"
   },
   {
    "duration": 375,
    "start_time": "2023-05-31T18:34:33.468Z"
   },
   {
    "duration": 354,
    "start_time": "2023-05-31T18:34:33.845Z"
   },
   {
    "duration": 439,
    "start_time": "2023-05-31T18:34:34.201Z"
   },
   {
    "duration": 437,
    "start_time": "2023-05-31T18:34:34.642Z"
   },
   {
    "duration": 97,
    "start_time": "2023-05-31T18:34:35.081Z"
   },
   {
    "duration": 38,
    "start_time": "2023-05-31T18:34:35.179Z"
   },
   {
    "duration": 58,
    "start_time": "2023-05-31T18:34:35.219Z"
   },
   {
    "duration": 25,
    "start_time": "2023-05-31T18:34:35.280Z"
   },
   {
    "duration": 51,
    "start_time": "2023-05-31T18:34:35.307Z"
   },
   {
    "duration": 55,
    "start_time": "2023-05-31T18:34:35.360Z"
   },
   {
    "duration": 42,
    "start_time": "2023-05-31T18:34:35.417Z"
   },
   {
    "duration": 49,
    "start_time": "2023-05-31T18:34:35.461Z"
   },
   {
    "duration": 96,
    "start_time": "2023-05-31T18:34:35.512Z"
   },
   {
    "duration": 160,
    "start_time": "2023-05-31T18:34:35.610Z"
   },
   {
    "duration": 232,
    "start_time": "2023-05-31T18:34:35.772Z"
   },
   {
    "duration": 54,
    "start_time": "2023-05-31T18:34:36.005Z"
   },
   {
    "duration": 73,
    "start_time": "2023-05-31T18:34:36.060Z"
   },
   {
    "duration": 25,
    "start_time": "2023-05-31T18:34:36.134Z"
   },
   {
    "duration": 588,
    "start_time": "2023-05-31T18:34:36.161Z"
   },
   {
    "duration": 32,
    "start_time": "2023-05-31T18:34:36.752Z"
   },
   {
    "duration": 230,
    "start_time": "2023-05-31T18:34:36.786Z"
   },
   {
    "duration": 17,
    "start_time": "2023-05-31T18:34:37.018Z"
   },
   {
    "duration": 1319,
    "start_time": "2023-05-31T18:34:37.037Z"
   },
   {
    "duration": 9330,
    "start_time": "2023-05-31T18:34:38.358Z"
   },
   {
    "duration": 36553,
    "start_time": "2023-05-31T18:34:47.690Z"
   },
   {
    "duration": 2745,
    "start_time": "2023-05-31T18:43:44.759Z"
   },
   {
    "duration": 5,
    "start_time": "2023-05-31T18:43:47.506Z"
   },
   {
    "duration": 20,
    "start_time": "2023-05-31T18:43:47.513Z"
   },
   {
    "duration": 5,
    "start_time": "2023-05-31T18:43:54.116Z"
   },
   {
    "duration": 1009,
    "start_time": "2023-05-31T18:43:54.760Z"
   },
   {
    "duration": 13,
    "start_time": "2023-05-31T18:43:55.853Z"
   },
   {
    "duration": 76,
    "start_time": "2023-05-31T18:43:56.528Z"
   },
   {
    "duration": 441,
    "start_time": "2023-05-31T18:43:57.140Z"
   },
   {
    "duration": 435,
    "start_time": "2023-05-31T18:43:57.750Z"
   },
   {
    "duration": 431,
    "start_time": "2023-05-31T18:43:58.539Z"
   },
   {
    "duration": 462,
    "start_time": "2023-05-31T18:43:59.133Z"
   },
   {
    "duration": 99,
    "start_time": "2023-05-31T18:43:59.597Z"
   },
   {
    "duration": 34,
    "start_time": "2023-05-31T18:44:00.751Z"
   },
   {
    "duration": 27,
    "start_time": "2023-05-31T18:44:01.330Z"
   },
   {
    "duration": 37,
    "start_time": "2023-05-31T18:44:02.121Z"
   },
   {
    "duration": 29,
    "start_time": "2023-05-31T18:44:02.808Z"
   },
   {
    "duration": 21,
    "start_time": "2023-05-31T18:44:03.884Z"
   },
   {
    "duration": 29,
    "start_time": "2023-05-31T18:44:04.701Z"
   },
   {
    "duration": 25,
    "start_time": "2023-05-31T18:44:05.880Z"
   },
   {
    "duration": 85,
    "start_time": "2023-05-31T18:44:07.043Z"
   },
   {
    "duration": 153,
    "start_time": "2023-05-31T18:44:11.712Z"
   },
   {
    "duration": 235,
    "start_time": "2023-05-31T18:44:12.690Z"
   },
   {
    "duration": 56,
    "start_time": "2023-05-31T18:44:19.268Z"
   },
   {
    "duration": 62,
    "start_time": "2023-05-31T18:44:21.621Z"
   },
   {
    "duration": 25,
    "start_time": "2023-05-31T18:44:22.055Z"
   },
   {
    "duration": 524,
    "start_time": "2023-05-31T18:44:22.941Z"
   },
   {
    "duration": 25,
    "start_time": "2023-05-31T18:44:24.294Z"
   },
   {
    "duration": 254,
    "start_time": "2023-05-31T18:44:26.552Z"
   },
   {
    "duration": 19,
    "start_time": "2023-05-31T18:44:37.100Z"
   },
   {
    "duration": 5,
    "start_time": "2023-05-31T18:45:34.256Z"
   },
   {
    "duration": 504495,
    "start_time": "2023-05-31T18:45:57.500Z"
   },
   {
    "duration": 9,
    "start_time": "2023-05-31T18:54:21.997Z"
   },
   {
    "duration": 4,
    "start_time": "2023-05-31T18:56:43.011Z"
   },
   {
    "duration": 5,
    "start_time": "2023-05-31T18:57:14.809Z"
   },
   {
    "duration": 9,
    "start_time": "2023-05-31T18:57:33.057Z"
   },
   {
    "duration": 5,
    "start_time": "2023-05-31T18:57:54.270Z"
   },
   {
    "duration": 2691,
    "start_time": "2023-05-31T19:18:13.160Z"
   },
   {
    "duration": 6,
    "start_time": "2023-05-31T19:18:17.054Z"
   },
   {
    "duration": 8,
    "start_time": "2023-05-31T19:18:17.737Z"
   },
   {
    "duration": 879,
    "start_time": "2023-05-31T19:18:18.128Z"
   },
   {
    "duration": 13,
    "start_time": "2023-05-31T19:18:19.009Z"
   },
   {
    "duration": 85,
    "start_time": "2023-05-31T19:18:19.024Z"
   },
   {
    "duration": 371,
    "start_time": "2023-05-31T19:18:19.239Z"
   },
   {
    "duration": 366,
    "start_time": "2023-05-31T19:18:19.612Z"
   },
   {
    "duration": 404,
    "start_time": "2023-05-31T19:18:19.980Z"
   },
   {
    "duration": 434,
    "start_time": "2023-05-31T19:18:20.386Z"
   },
   {
    "duration": 91,
    "start_time": "2023-05-31T19:18:20.823Z"
   },
   {
    "duration": 32,
    "start_time": "2023-05-31T19:18:22.323Z"
   },
   {
    "duration": 31,
    "start_time": "2023-05-31T19:18:23.527Z"
   },
   {
    "duration": 37,
    "start_time": "2023-05-31T19:18:23.720Z"
   },
   {
    "duration": 27,
    "start_time": "2023-05-31T19:18:23.914Z"
   },
   {
    "duration": 21,
    "start_time": "2023-05-31T19:18:24.073Z"
   },
   {
    "duration": 26,
    "start_time": "2023-05-31T19:18:24.247Z"
   },
   {
    "duration": 24,
    "start_time": "2023-05-31T19:18:24.974Z"
   },
   {
    "duration": 86,
    "start_time": "2023-05-31T19:18:26.280Z"
   },
   {
    "duration": 144,
    "start_time": "2023-05-31T19:18:27.374Z"
   },
   {
    "duration": 257,
    "start_time": "2023-05-31T19:18:27.834Z"
   },
   {
    "duration": 56,
    "start_time": "2023-05-31T19:18:30.705Z"
   },
   {
    "duration": 59,
    "start_time": "2023-05-31T19:18:34.768Z"
   },
   {
    "duration": 24,
    "start_time": "2023-05-31T19:18:35.513Z"
   },
   {
    "duration": 579,
    "start_time": "2023-05-31T19:18:36.221Z"
   },
   {
    "duration": 24,
    "start_time": "2023-05-31T19:18:37.832Z"
   },
   {
    "duration": 320,
    "start_time": "2023-05-31T19:18:42.552Z"
   },
   {
    "duration": 338,
    "start_time": "2023-05-31T19:19:02.105Z"
   },
   {
    "duration": 72,
    "start_time": "2023-05-31T19:19:20.256Z"
   },
   {
    "duration": 138,
    "start_time": "2023-05-31T19:19:48.154Z"
   },
   {
    "duration": 8264,
    "start_time": "2023-05-31T19:20:03.025Z"
   },
   {
    "duration": 50,
    "start_time": "2023-05-31T19:20:27.008Z"
   },
   {
    "duration": 57,
    "start_time": "2023-05-31T19:20:52.984Z"
   },
   {
    "duration": 367,
    "start_time": "2023-05-31T19:21:39.310Z"
   },
   {
    "duration": 25,
    "start_time": "2023-05-31T19:22:06.544Z"
   },
   {
    "duration": 8,
    "start_time": "2023-05-31T19:22:43.624Z"
   },
   {
    "duration": 1333,
    "start_time": "2023-05-31T19:23:35.735Z"
   },
   {
    "duration": 1203,
    "start_time": "2023-05-31T19:24:44.577Z"
   },
   {
    "duration": 2647,
    "start_time": "2023-05-31T19:42:41.488Z"
   },
   {
    "duration": 4,
    "start_time": "2023-05-31T19:42:44.138Z"
   },
   {
    "duration": 11,
    "start_time": "2023-05-31T19:42:44.144Z"
   },
   {
    "duration": 864,
    "start_time": "2023-05-31T19:42:44.157Z"
   },
   {
    "duration": 13,
    "start_time": "2023-05-31T19:42:45.024Z"
   },
   {
    "duration": 90,
    "start_time": "2023-05-31T19:42:45.038Z"
   },
   {
    "duration": 357,
    "start_time": "2023-05-31T19:42:45.130Z"
   },
   {
    "duration": 359,
    "start_time": "2023-05-31T19:42:45.490Z"
   },
   {
    "duration": 407,
    "start_time": "2023-05-31T19:42:45.851Z"
   },
   {
    "duration": 486,
    "start_time": "2023-05-31T19:42:46.261Z"
   },
   {
    "duration": 116,
    "start_time": "2023-05-31T19:42:46.749Z"
   },
   {
    "duration": 36,
    "start_time": "2023-05-31T19:42:46.867Z"
   },
   {
    "duration": 25,
    "start_time": "2023-05-31T19:42:46.904Z"
   },
   {
    "duration": 26,
    "start_time": "2023-05-31T19:42:46.931Z"
   },
   {
    "duration": 27,
    "start_time": "2023-05-31T19:42:47.123Z"
   },
   {
    "duration": 21,
    "start_time": "2023-05-31T19:42:48.003Z"
   },
   {
    "duration": 30,
    "start_time": "2023-05-31T19:42:48.663Z"
   },
   {
    "duration": 24,
    "start_time": "2023-05-31T19:42:49.294Z"
   },
   {
    "duration": 82,
    "start_time": "2023-05-31T19:42:50.221Z"
   },
   {
    "duration": 123,
    "start_time": "2023-05-31T19:42:53.603Z"
   },
   {
    "duration": 224,
    "start_time": "2023-05-31T19:42:53.934Z"
   },
   {
    "duration": 58,
    "start_time": "2023-05-31T19:42:54.794Z"
   },
   {
    "duration": 61,
    "start_time": "2023-05-31T19:42:56.848Z"
   },
   {
    "duration": 24,
    "start_time": "2023-05-31T19:42:57.493Z"
   },
   {
    "duration": 520,
    "start_time": "2023-05-31T19:42:57.973Z"
   },
   {
    "duration": 24,
    "start_time": "2023-05-31T19:42:58.495Z"
   },
   {
    "duration": 204,
    "start_time": "2023-05-31T19:42:58.919Z"
   },
   {
    "duration": 1324,
    "start_time": "2023-05-31T19:46:49.414Z"
   },
   {
    "duration": 1785,
    "start_time": "2023-05-31T19:47:03.755Z"
   },
   {
    "duration": 45787,
    "start_time": "2023-05-31T19:47:21.058Z"
   },
   {
    "duration": 506845,
    "start_time": "2023-05-31T19:51:38.237Z"
   },
   {
    "duration": 0,
    "start_time": "2023-05-31T20:00:05.085Z"
   },
   {
    "duration": 0,
    "start_time": "2023-05-31T20:00:05.087Z"
   },
   {
    "duration": 133,
    "start_time": "2023-05-31T20:00:39.931Z"
   },
   {
    "duration": 116,
    "start_time": "2023-05-31T20:00:52.416Z"
   },
   {
    "duration": 95,
    "start_time": "2023-05-31T20:01:06.690Z"
   },
   {
    "duration": 26,
    "start_time": "2023-05-31T20:01:34.381Z"
   },
   {
    "duration": 1793399,
    "start_time": "2023-05-31T20:01:58.490Z"
   },
   {
    "duration": 352,
    "start_time": "2023-05-31T20:32:12.445Z"
   },
   {
    "duration": 13,
    "start_time": "2023-05-31T20:34:41.565Z"
   },
   {
    "duration": 14,
    "start_time": "2023-05-31T20:35:37.503Z"
   },
   {
    "duration": 14,
    "start_time": "2023-05-31T20:36:15.165Z"
   },
   {
    "duration": 453,
    "start_time": "2023-05-31T20:36:53.984Z"
   },
   {
    "duration": 2361,
    "start_time": "2023-06-01T05:50:30.614Z"
   },
   {
    "duration": 4,
    "start_time": "2023-06-01T05:50:37.296Z"
   },
   {
    "duration": 6,
    "start_time": "2023-06-01T05:50:37.500Z"
   },
   {
    "duration": 787,
    "start_time": "2023-06-01T05:50:37.790Z"
   },
   {
    "duration": 13,
    "start_time": "2023-06-01T05:50:39.184Z"
   },
   {
    "duration": 64,
    "start_time": "2023-06-01T05:50:39.414Z"
   },
   {
    "duration": 330,
    "start_time": "2023-06-01T05:50:39.694Z"
   },
   {
    "duration": 384,
    "start_time": "2023-06-01T05:50:40.026Z"
   },
   {
    "duration": 346,
    "start_time": "2023-06-01T05:50:40.413Z"
   },
   {
    "duration": 355,
    "start_time": "2023-06-01T05:50:40.760Z"
   },
   {
    "duration": 92,
    "start_time": "2023-06-01T05:50:41.117Z"
   },
   {
    "duration": 31,
    "start_time": "2023-06-01T05:50:41.326Z"
   },
   {
    "duration": 22,
    "start_time": "2023-06-01T05:50:41.781Z"
   },
   {
    "duration": 38,
    "start_time": "2023-06-01T05:50:41.906Z"
   },
   {
    "duration": 35,
    "start_time": "2023-06-01T05:50:42.127Z"
   },
   {
    "duration": 27,
    "start_time": "2023-06-01T05:50:42.328Z"
   },
   {
    "duration": 33,
    "start_time": "2023-06-01T05:50:42.586Z"
   },
   {
    "duration": 20,
    "start_time": "2023-06-01T05:50:43.093Z"
   },
   {
    "duration": 105,
    "start_time": "2023-06-01T05:50:43.759Z"
   },
   {
    "duration": 122,
    "start_time": "2023-06-01T05:50:44.532Z"
   },
   {
    "duration": 210,
    "start_time": "2023-06-01T05:50:44.879Z"
   },
   {
    "duration": 55,
    "start_time": "2023-06-01T05:50:45.514Z"
   },
   {
    "duration": 39,
    "start_time": "2023-06-01T05:50:47.134Z"
   },
   {
    "duration": 26,
    "start_time": "2023-06-01T05:50:47.579Z"
   },
   {
    "duration": 495,
    "start_time": "2023-06-01T05:50:47.857Z"
   },
   {
    "duration": 23,
    "start_time": "2023-06-01T05:50:48.814Z"
   },
   {
    "duration": 185,
    "start_time": "2023-06-01T05:50:52.255Z"
   },
   {
    "duration": 5768,
    "start_time": "2023-06-01T05:51:52.613Z"
   },
   {
    "duration": 177,
    "start_time": "2023-06-01T05:52:21.807Z"
   },
   {
    "duration": 3521,
    "start_time": "2023-06-01T05:57:59.623Z"
   },
   {
    "duration": 2431,
    "start_time": "2023-06-01T05:58:16.177Z"
   },
   {
    "duration": 337,
    "start_time": "2023-06-01T05:58:18.611Z"
   },
   {
    "duration": 5,
    "start_time": "2023-06-01T05:58:18.991Z"
   },
   {
    "duration": 1180,
    "start_time": "2023-06-01T05:58:19.802Z"
   },
   {
    "duration": 19,
    "start_time": "2023-06-01T05:58:20.984Z"
   },
   {
    "duration": 126,
    "start_time": "2023-06-01T05:58:21.005Z"
   },
   {
    "duration": 312,
    "start_time": "2023-06-01T05:58:21.712Z"
   },
   {
    "duration": 282,
    "start_time": "2023-06-01T05:58:22.026Z"
   },
   {
    "duration": 384,
    "start_time": "2023-06-01T05:58:22.311Z"
   },
   {
    "duration": 376,
    "start_time": "2023-06-01T05:58:22.697Z"
   },
   {
    "duration": 96,
    "start_time": "2023-06-01T05:58:23.075Z"
   },
   {
    "duration": 31,
    "start_time": "2023-06-01T05:58:23.382Z"
   },
   {
    "duration": 22,
    "start_time": "2023-06-01T05:58:23.826Z"
   },
   {
    "duration": 22,
    "start_time": "2023-06-01T05:58:24.562Z"
   },
   {
    "duration": 42,
    "start_time": "2023-06-01T05:58:24.586Z"
   },
   {
    "duration": 39,
    "start_time": "2023-06-01T05:58:24.630Z"
   },
   {
    "duration": 25,
    "start_time": "2023-06-01T05:58:24.898Z"
   },
   {
    "duration": 20,
    "start_time": "2023-06-01T05:58:25.082Z"
   },
   {
    "duration": 79,
    "start_time": "2023-06-01T05:58:25.522Z"
   },
   {
    "duration": 146,
    "start_time": "2023-06-01T05:58:28.229Z"
   },
   {
    "duration": 202,
    "start_time": "2023-06-01T05:58:28.532Z"
   },
   {
    "duration": 49,
    "start_time": "2023-06-01T05:58:29.297Z"
   },
   {
    "duration": 43,
    "start_time": "2023-06-01T05:58:30.627Z"
   },
   {
    "duration": 26,
    "start_time": "2023-06-01T05:58:30.822Z"
   },
   {
    "duration": 527,
    "start_time": "2023-06-01T05:58:31.020Z"
   },
   {
    "duration": 25,
    "start_time": "2023-06-01T05:58:31.549Z"
   },
   {
    "duration": 167,
    "start_time": "2023-06-01T05:58:31.815Z"
   },
   {
    "duration": 5738,
    "start_time": "2023-06-01T05:58:35.190Z"
   },
   {
    "duration": 2360,
    "start_time": "2023-06-01T06:00:32.680Z"
   },
   {
    "duration": 2678,
    "start_time": "2023-06-01T06:00:52.265Z"
   },
   {
    "duration": 2605,
    "start_time": "2023-06-01T06:01:03.965Z"
   },
   {
    "duration": 320,
    "start_time": "2023-06-01T06:01:07.917Z"
   },
   {
    "duration": 5,
    "start_time": "2023-06-01T06:01:08.357Z"
   },
   {
    "duration": 1185,
    "start_time": "2023-06-01T06:01:08.585Z"
   },
   {
    "duration": 22,
    "start_time": "2023-06-01T06:01:09.772Z"
   },
   {
    "duration": 94,
    "start_time": "2023-06-01T06:01:09.796Z"
   },
   {
    "duration": 308,
    "start_time": "2023-06-01T06:01:09.892Z"
   },
   {
    "duration": 289,
    "start_time": "2023-06-01T06:01:10.201Z"
   },
   {
    "duration": 351,
    "start_time": "2023-06-01T06:01:10.493Z"
   },
   {
    "duration": 357,
    "start_time": "2023-06-01T06:01:10.846Z"
   },
   {
    "duration": 82,
    "start_time": "2023-06-01T06:01:11.205Z"
   },
   {
    "duration": 32,
    "start_time": "2023-06-01T06:01:11.290Z"
   },
   {
    "duration": 19,
    "start_time": "2023-06-01T06:01:11.324Z"
   },
   {
    "duration": 20,
    "start_time": "2023-06-01T06:01:11.861Z"
   },
   {
    "duration": 23,
    "start_time": "2023-06-01T06:01:12.076Z"
   },
   {
    "duration": 19,
    "start_time": "2023-06-01T06:01:12.619Z"
   },
   {
    "duration": 21,
    "start_time": "2023-06-01T06:01:12.812Z"
   },
   {
    "duration": 20,
    "start_time": "2023-06-01T06:01:13.003Z"
   },
   {
    "duration": 71,
    "start_time": "2023-06-01T06:01:13.397Z"
   },
   {
    "duration": 144,
    "start_time": "2023-06-01T06:01:14.527Z"
   },
   {
    "duration": 185,
    "start_time": "2023-06-01T06:01:14.713Z"
   },
   {
    "duration": 60,
    "start_time": "2023-06-01T06:01:16.677Z"
   },
   {
    "duration": 63,
    "start_time": "2023-06-01T06:01:18.564Z"
   },
   {
    "duration": 22,
    "start_time": "2023-06-01T06:01:19.007Z"
   },
   {
    "duration": 522,
    "start_time": "2023-06-01T06:01:19.337Z"
   },
   {
    "duration": 22,
    "start_time": "2023-06-01T06:01:19.861Z"
   },
   {
    "duration": 164,
    "start_time": "2023-06-01T06:01:20.402Z"
   },
   {
    "duration": 40,
    "start_time": "2023-06-01T06:01:26.556Z"
   },
   {
    "duration": 248,
    "start_time": "2023-06-01T06:02:09.068Z"
   },
   {
    "duration": 5509,
    "start_time": "2023-06-01T06:03:31.747Z"
   },
   {
    "duration": 5517,
    "start_time": "2023-06-01T06:04:30.982Z"
   },
   {
    "duration": 2974,
    "start_time": "2023-06-01T06:05:34.228Z"
   },
   {
    "duration": 2601,
    "start_time": "2023-06-01T06:05:44.797Z"
   },
   {
    "duration": 346,
    "start_time": "2023-06-01T06:05:47.402Z"
   },
   {
    "duration": 4,
    "start_time": "2023-06-01T06:05:47.750Z"
   },
   {
    "duration": 1160,
    "start_time": "2023-06-01T06:05:47.756Z"
   },
   {
    "duration": 19,
    "start_time": "2023-06-01T06:05:48.917Z"
   },
   {
    "duration": 86,
    "start_time": "2023-06-01T06:05:48.937Z"
   },
   {
    "duration": 324,
    "start_time": "2023-06-01T06:05:49.025Z"
   },
   {
    "duration": 298,
    "start_time": "2023-06-01T06:05:49.351Z"
   },
   {
    "duration": 350,
    "start_time": "2023-06-01T06:05:49.652Z"
   },
   {
    "duration": 365,
    "start_time": "2023-06-01T06:05:50.004Z"
   },
   {
    "duration": 84,
    "start_time": "2023-06-01T06:05:50.371Z"
   },
   {
    "duration": 45,
    "start_time": "2023-06-01T06:05:50.458Z"
   },
   {
    "duration": 21,
    "start_time": "2023-06-01T06:05:50.720Z"
   },
   {
    "duration": 33,
    "start_time": "2023-06-01T06:05:50.877Z"
   },
   {
    "duration": 22,
    "start_time": "2023-06-01T06:05:51.035Z"
   },
   {
    "duration": 17,
    "start_time": "2023-06-01T06:05:51.202Z"
   },
   {
    "duration": 22,
    "start_time": "2023-06-01T06:05:51.398Z"
   },
   {
    "duration": 20,
    "start_time": "2023-06-01T06:05:51.600Z"
   },
   {
    "duration": 78,
    "start_time": "2023-06-01T06:05:51.964Z"
   },
   {
    "duration": 142,
    "start_time": "2023-06-01T06:05:52.399Z"
   },
   {
    "duration": 205,
    "start_time": "2023-06-01T06:05:52.566Z"
   },
   {
    "duration": 52,
    "start_time": "2023-06-01T06:05:52.976Z"
   },
   {
    "duration": 53,
    "start_time": "2023-06-01T06:05:53.582Z"
   },
   {
    "duration": 22,
    "start_time": "2023-06-01T06:05:53.746Z"
   },
   {
    "duration": 564,
    "start_time": "2023-06-01T06:05:53.936Z"
   },
   {
    "duration": 23,
    "start_time": "2023-06-01T06:05:54.501Z"
   },
   {
    "duration": 168,
    "start_time": "2023-06-01T06:05:54.526Z"
   },
   {
    "duration": 5498,
    "start_time": "2023-06-01T06:05:54.997Z"
   },
   {
    "duration": 222,
    "start_time": "2023-06-01T06:07:08.400Z"
   },
   {
    "duration": 2535,
    "start_time": "2023-06-01T06:31:19.639Z"
   },
   {
    "duration": 5,
    "start_time": "2023-06-01T06:31:22.176Z"
   },
   {
    "duration": 33,
    "start_time": "2023-06-01T06:31:22.182Z"
   },
   {
    "duration": 898,
    "start_time": "2023-06-01T06:31:22.216Z"
   },
   {
    "duration": 13,
    "start_time": "2023-06-01T06:31:23.116Z"
   },
   {
    "duration": 89,
    "start_time": "2023-06-01T06:31:23.131Z"
   },
   {
    "duration": 346,
    "start_time": "2023-06-01T06:31:23.222Z"
   },
   {
    "duration": 374,
    "start_time": "2023-06-01T06:31:24.145Z"
   },
   {
    "duration": 372,
    "start_time": "2023-06-01T06:31:24.658Z"
   },
   {
    "duration": 398,
    "start_time": "2023-06-01T06:31:25.154Z"
   },
   {
    "duration": 90,
    "start_time": "2023-06-01T06:31:25.754Z"
   },
   {
    "duration": 37,
    "start_time": "2023-06-01T06:31:27.683Z"
   },
   {
    "duration": 21,
    "start_time": "2023-06-01T06:31:28.956Z"
   },
   {
    "duration": 21,
    "start_time": "2023-06-01T06:31:29.114Z"
   },
   {
    "duration": 25,
    "start_time": "2023-06-01T06:31:29.312Z"
   },
   {
    "duration": 20,
    "start_time": "2023-06-01T06:31:29.444Z"
   },
   {
    "duration": 23,
    "start_time": "2023-06-01T06:31:29.928Z"
   },
   {
    "duration": 24,
    "start_time": "2023-06-01T06:31:30.104Z"
   },
   {
    "duration": 89,
    "start_time": "2023-06-01T06:31:30.963Z"
   },
   {
    "duration": 123,
    "start_time": "2023-06-01T06:31:31.403Z"
   },
   {
    "duration": 256,
    "start_time": "2023-06-01T06:31:31.711Z"
   },
   {
    "duration": 54,
    "start_time": "2023-06-01T06:31:32.019Z"
   },
   {
    "duration": 55,
    "start_time": "2023-06-01T06:31:33.019Z"
   },
   {
    "duration": 29,
    "start_time": "2023-06-01T06:31:33.269Z"
   },
   {
    "duration": 570,
    "start_time": "2023-06-01T06:31:33.524Z"
   },
   {
    "duration": 28,
    "start_time": "2023-06-01T06:31:34.181Z"
   },
   {
    "duration": 193,
    "start_time": "2023-06-01T06:31:39.640Z"
   },
   {
    "duration": 50,
    "start_time": "2023-06-01T06:31:41.084Z"
   },
   {
    "duration": 797,
    "start_time": "2023-06-01T06:31:53.299Z"
   },
   {
    "duration": 200,
    "start_time": "2023-06-01T06:32:09.904Z"
   },
   {
    "duration": 538,
    "start_time": "2023-06-01T06:32:23.625Z"
   },
   {
    "duration": 201,
    "start_time": "2023-06-01T06:32:27.329Z"
   },
   {
    "duration": 13,
    "start_time": "2023-06-01T06:32:40.151Z"
   },
   {
    "duration": 13,
    "start_time": "2023-06-01T06:33:04.085Z"
   },
   {
    "duration": 701,
    "start_time": "2023-06-01T06:34:03.106Z"
   },
   {
    "duration": 787,
    "start_time": "2023-06-01T06:36:15.620Z"
   },
   {
    "duration": 726,
    "start_time": "2023-06-01T06:37:09.069Z"
   },
   {
    "duration": 776,
    "start_time": "2023-06-01T06:37:47.765Z"
   },
   {
    "duration": 31,
    "start_time": "2023-06-01T06:39:54.618Z"
   },
   {
    "duration": 53,
    "start_time": "2023-06-01T06:40:28.252Z"
   },
   {
    "duration": 49,
    "start_time": "2023-06-01T06:41:23.010Z"
   },
   {
    "duration": 90,
    "start_time": "2023-06-01T06:50:45.331Z"
   },
   {
    "duration": 32,
    "start_time": "2023-06-01T06:51:04.376Z"
   },
   {
    "duration": 4,
    "start_time": "2023-06-01T06:51:17.840Z"
   },
   {
    "duration": 51,
    "start_time": "2023-06-01T06:51:28.427Z"
   },
   {
    "duration": 663,
    "start_time": "2023-06-01T06:53:30.154Z"
   },
   {
    "duration": 109,
    "start_time": "2023-06-01T06:53:31.566Z"
   },
   {
    "duration": 29,
    "start_time": "2023-06-01T06:53:32.315Z"
   },
   {
    "duration": 4,
    "start_time": "2023-06-01T06:53:33.126Z"
   },
   {
    "duration": 44,
    "start_time": "2023-06-01T06:53:34.115Z"
   },
   {
    "duration": 1170,
    "start_time": "2023-06-01T06:55:04.564Z"
   },
   {
    "duration": 638,
    "start_time": "2023-06-01T06:55:07.410Z"
   },
   {
    "duration": 1150,
    "start_time": "2023-06-01T06:55:08.669Z"
   },
   {
    "duration": 31,
    "start_time": "2023-06-01T06:55:10.436Z"
   },
   {
    "duration": 4,
    "start_time": "2023-06-01T06:55:11.504Z"
   },
   {
    "duration": 29439,
    "start_time": "2023-06-01T12:16:21.911Z"
   },
   {
    "duration": 1895,
    "start_time": "2023-06-01T12:17:30.721Z"
   },
   {
    "duration": 4,
    "start_time": "2023-06-01T12:17:33.696Z"
   },
   {
    "duration": 3252,
    "start_time": "2023-06-01T12:17:34.201Z"
   },
   {
    "duration": 13,
    "start_time": "2023-06-01T12:17:37.454Z"
   },
   {
    "duration": 93,
    "start_time": "2023-06-01T12:17:38.427Z"
   },
   {
    "duration": 303,
    "start_time": "2023-06-01T12:17:39.018Z"
   },
   {
    "duration": 304,
    "start_time": "2023-06-01T12:17:39.498Z"
   },
   {
    "duration": 355,
    "start_time": "2023-06-01T12:17:40.319Z"
   },
   {
    "duration": 339,
    "start_time": "2023-06-01T12:17:40.957Z"
   },
   {
    "duration": 74,
    "start_time": "2023-06-01T12:17:41.620Z"
   },
   {
    "duration": 32,
    "start_time": "2023-06-01T12:17:43.106Z"
   },
   {
    "duration": 23,
    "start_time": "2023-06-01T12:17:44.712Z"
   },
   {
    "duration": 18,
    "start_time": "2023-06-01T12:17:45.556Z"
   },
   {
    "duration": 22,
    "start_time": "2023-06-01T12:17:45.857Z"
   },
   {
    "duration": 26,
    "start_time": "2023-06-01T12:17:46.499Z"
   },
   {
    "duration": 39,
    "start_time": "2023-06-01T12:17:47.062Z"
   },
   {
    "duration": 31,
    "start_time": "2023-06-01T12:17:48.257Z"
   },
   {
    "duration": 73,
    "start_time": "2023-06-01T12:17:49.567Z"
   },
   {
    "duration": 123,
    "start_time": "2023-06-01T12:17:50.681Z"
   },
   {
    "duration": 222,
    "start_time": "2023-06-01T12:17:51.200Z"
   },
   {
    "duration": 57,
    "start_time": "2023-06-01T12:18:00.606Z"
   },
   {
    "duration": 50,
    "start_time": "2023-06-01T12:18:01.899Z"
   },
   {
    "duration": 24,
    "start_time": "2023-06-01T12:18:02.111Z"
   },
   {
    "duration": 530,
    "start_time": "2023-06-01T12:18:02.359Z"
   },
   {
    "duration": 26,
    "start_time": "2023-06-01T12:18:03.221Z"
   },
   {
    "duration": 215,
    "start_time": "2023-06-01T12:18:03.959Z"
   },
   {
    "duration": 515,
    "start_time": "2023-06-01T12:18:11.921Z"
   },
   {
    "duration": 1142,
    "start_time": "2023-06-01T12:18:13.075Z"
   },
   {
    "duration": 30,
    "start_time": "2023-06-01T12:18:14.222Z"
   },
   {
    "duration": 3,
    "start_time": "2023-06-01T12:18:15.656Z"
   },
   {
    "duration": 281795,
    "start_time": "2023-06-01T12:18:18.156Z"
   },
   {
    "duration": 344431,
    "start_time": "2023-06-01T12:23:13.076Z"
   },
   {
    "duration": 29876,
    "start_time": "2023-06-01T12:29:42.342Z"
   },
   {
    "duration": 23,
    "start_time": "2023-06-01T12:30:12.220Z"
   },
   {
    "duration": 0,
    "start_time": "2023-06-01T12:30:12.247Z"
   },
   {
    "duration": 965,
    "start_time": "2023-06-01T12:32:39.433Z"
   },
   {
    "duration": 9,
    "start_time": "2023-06-01T12:32:45.382Z"
   },
   {
    "duration": 1120,
    "start_time": "2023-06-01T14:38:50.860Z"
   },
   {
    "duration": 25544,
    "start_time": "2023-06-01T14:45:36.684Z"
   },
   {
    "duration": 2009,
    "start_time": "2023-06-01T14:46:02.230Z"
   },
   {
    "duration": 5,
    "start_time": "2023-06-01T14:46:04.241Z"
   },
   {
    "duration": 2939,
    "start_time": "2023-06-01T14:46:04.248Z"
   },
   {
    "duration": 20,
    "start_time": "2023-06-01T14:46:07.189Z"
   },
   {
    "duration": 116,
    "start_time": "2023-06-01T14:46:07.210Z"
   },
   {
    "duration": 349,
    "start_time": "2023-06-01T14:46:07.328Z"
   },
   {
    "duration": 324,
    "start_time": "2023-06-01T14:46:07.679Z"
   },
   {
    "duration": 453,
    "start_time": "2023-06-01T14:46:08.005Z"
   },
   {
    "duration": 474,
    "start_time": "2023-06-01T14:46:08.461Z"
   },
   {
    "duration": 122,
    "start_time": "2023-06-01T14:46:08.937Z"
   },
   {
    "duration": 38,
    "start_time": "2023-06-01T14:46:09.061Z"
   },
   {
    "duration": 24,
    "start_time": "2023-06-01T14:46:09.100Z"
   },
   {
    "duration": 49,
    "start_time": "2023-06-01T14:46:09.126Z"
   },
   {
    "duration": 39,
    "start_time": "2023-06-01T14:46:09.178Z"
   },
   {
    "duration": 80,
    "start_time": "2023-06-01T14:46:09.220Z"
   },
   {
    "duration": 61,
    "start_time": "2023-06-01T14:46:09.302Z"
   },
   {
    "duration": 54,
    "start_time": "2023-06-01T14:46:09.365Z"
   },
   {
    "duration": 97,
    "start_time": "2023-06-01T14:46:09.421Z"
   },
   {
    "duration": 152,
    "start_time": "2023-06-01T14:46:09.519Z"
   },
   {
    "duration": 223,
    "start_time": "2023-06-01T14:46:09.673Z"
   },
   {
    "duration": 80,
    "start_time": "2023-06-01T14:46:09.898Z"
   },
   {
    "duration": 56,
    "start_time": "2023-06-01T14:46:09.979Z"
   },
   {
    "duration": 25,
    "start_time": "2023-06-01T14:46:10.037Z"
   },
   {
    "duration": 533,
    "start_time": "2023-06-01T14:46:10.064Z"
   },
   {
    "duration": 28,
    "start_time": "2023-06-01T14:46:10.600Z"
   },
   {
    "duration": 216,
    "start_time": "2023-06-01T14:46:10.631Z"
   },
   {
    "duration": 143,
    "start_time": "2023-06-01T14:46:10.851Z"
   },
   {
    "duration": 134,
    "start_time": "2023-06-01T14:46:10.997Z"
   },
   {
    "duration": 250,
    "start_time": "2023-06-01T14:50:53.563Z"
   },
   {
    "duration": 197,
    "start_time": "2023-06-01T14:57:24.171Z"
   },
   {
    "duration": 188,
    "start_time": "2023-06-01T14:57:28.599Z"
   },
   {
    "duration": 68,
    "start_time": "2023-06-01T14:57:40.117Z"
   },
   {
    "duration": 2961,
    "start_time": "2023-06-01T14:58:36.461Z"
   },
   {
    "duration": 3100,
    "start_time": "2023-06-01T15:03:13.425Z"
   },
   {
    "duration": 12,
    "start_time": "2023-06-01T15:03:47.977Z"
   },
   {
    "duration": 220,
    "start_time": "2023-06-01T15:04:05.270Z"
   },
   {
    "duration": 148,
    "start_time": "2023-06-01T15:04:31.876Z"
   },
   {
    "duration": 8,
    "start_time": "2023-06-01T15:13:02.376Z"
   },
   {
    "duration": 186,
    "start_time": "2023-06-01T15:13:10.825Z"
   },
   {
    "duration": 6,
    "start_time": "2023-06-01T15:13:27.065Z"
   },
   {
    "duration": 75,
    "start_time": "2023-06-01T15:13:36.982Z"
   },
   {
    "duration": 36,
    "start_time": "2023-06-01T15:14:37.715Z"
   },
   {
    "duration": 4660,
    "start_time": "2023-06-01T15:15:55.767Z"
   },
   {
    "duration": 4,
    "start_time": "2023-06-01T15:16:03.516Z"
   },
   {
    "duration": 82,
    "start_time": "2023-06-01T15:16:04.784Z"
   },
   {
    "duration": 2110,
    "start_time": "2023-06-01T15:25:15.051Z"
   },
   {
    "duration": 0,
    "start_time": "2023-06-01T15:28:39.594Z"
   },
   {
    "duration": 2630,
    "start_time": "2023-06-01T15:28:51.508Z"
   },
   {
    "duration": 1704,
    "start_time": "2023-06-01T15:28:54.141Z"
   },
   {
    "duration": 5,
    "start_time": "2023-06-01T15:28:55.847Z"
   },
   {
    "duration": 1088,
    "start_time": "2023-06-01T15:28:55.854Z"
   },
   {
    "duration": 31,
    "start_time": "2023-06-01T15:28:56.944Z"
   },
   {
    "duration": 116,
    "start_time": "2023-06-01T15:28:56.978Z"
   },
   {
    "duration": 390,
    "start_time": "2023-06-01T15:28:57.096Z"
   },
   {
    "duration": 424,
    "start_time": "2023-06-01T15:28:57.489Z"
   },
   {
    "duration": 529,
    "start_time": "2023-06-01T15:28:57.915Z"
   },
   {
    "duration": 571,
    "start_time": "2023-06-01T15:28:58.458Z"
   },
   {
    "duration": 113,
    "start_time": "2023-06-01T15:28:59.032Z"
   },
   {
    "duration": 53,
    "start_time": "2023-06-01T15:28:59.147Z"
   },
   {
    "duration": 27,
    "start_time": "2023-06-01T15:28:59.202Z"
   },
   {
    "duration": 57,
    "start_time": "2023-06-01T15:28:59.232Z"
   },
   {
    "duration": 83,
    "start_time": "2023-06-01T15:28:59.292Z"
   },
   {
    "duration": 20,
    "start_time": "2023-06-01T15:28:59.378Z"
   },
   {
    "duration": 32,
    "start_time": "2023-06-01T15:28:59.400Z"
   },
   {
    "duration": 45,
    "start_time": "2023-06-01T15:28:59.433Z"
   },
   {
    "duration": 92,
    "start_time": "2023-06-01T15:28:59.480Z"
   },
   {
    "duration": 163,
    "start_time": "2023-06-01T15:28:59.574Z"
   },
   {
    "duration": 244,
    "start_time": "2023-06-01T15:28:59.740Z"
   },
   {
    "duration": 85,
    "start_time": "2023-06-01T15:28:59.986Z"
   },
   {
    "duration": 62,
    "start_time": "2023-06-01T15:29:00.074Z"
   },
   {
    "duration": 40,
    "start_time": "2023-06-01T15:29:00.138Z"
   },
   {
    "duration": 549,
    "start_time": "2023-06-01T15:29:00.180Z"
   },
   {
    "duration": 42,
    "start_time": "2023-06-01T15:29:00.731Z"
   },
   {
    "duration": 255,
    "start_time": "2023-06-01T15:29:00.775Z"
   },
   {
    "duration": 2068,
    "start_time": "2023-06-01T15:29:01.034Z"
   },
   {
    "duration": 234,
    "start_time": "2023-06-01T15:29:03.104Z"
   },
   {
    "duration": 0,
    "start_time": "2023-06-01T15:29:03.340Z"
   },
   {
    "duration": 0,
    "start_time": "2023-06-01T15:29:03.341Z"
   },
   {
    "duration": 5,
    "start_time": "2023-06-01T15:30:29.320Z"
   },
   {
    "duration": 237098,
    "start_time": "2023-06-01T15:30:36.389Z"
   },
   {
    "duration": 60,
    "start_time": "2023-06-01T15:34:53.760Z"
   },
   {
    "duration": 54,
    "start_time": "2023-06-01T15:35:17.073Z"
   },
   {
    "duration": 139155,
    "start_time": "2023-06-01T15:35:27.216Z"
   },
   {
    "duration": 53,
    "start_time": "2023-06-01T15:37:46.374Z"
   },
   {
    "duration": 104,
    "start_time": "2023-06-01T15:38:23.171Z"
   },
   {
    "duration": 9,
    "start_time": "2023-06-01T15:38:47.051Z"
   },
   {
    "duration": 683441,
    "start_time": "2023-06-01T15:38:52.269Z"
   },
   {
    "duration": 12,
    "start_time": "2023-06-01T15:51:10.294Z"
   },
   {
    "duration": 21,
    "start_time": "2023-06-01T15:51:18.652Z"
   },
   {
    "duration": 11,
    "start_time": "2023-06-01T15:51:23.370Z"
   },
   {
    "duration": 17,
    "start_time": "2023-06-01T15:51:50.517Z"
   },
   {
    "duration": 2531,
    "start_time": "2023-06-01T16:19:07.169Z"
   },
   {
    "duration": 1620,
    "start_time": "2023-06-01T16:19:09.703Z"
   },
   {
    "duration": 5,
    "start_time": "2023-06-01T16:19:11.325Z"
   },
   {
    "duration": 1051,
    "start_time": "2023-06-01T16:19:11.332Z"
   },
   {
    "duration": 14,
    "start_time": "2023-06-01T16:19:12.385Z"
   },
   {
    "duration": 125,
    "start_time": "2023-06-01T16:19:12.401Z"
   },
   {
    "duration": 362,
    "start_time": "2023-06-01T16:19:12.528Z"
   },
   {
    "duration": 379,
    "start_time": "2023-06-01T16:19:12.892Z"
   },
   {
    "duration": 471,
    "start_time": "2023-06-01T16:19:13.274Z"
   },
   {
    "duration": 472,
    "start_time": "2023-06-01T16:19:13.748Z"
   },
   {
    "duration": 105,
    "start_time": "2023-06-01T16:19:14.222Z"
   },
   {
    "duration": 48,
    "start_time": "2023-06-01T16:19:14.329Z"
   },
   {
    "duration": 22,
    "start_time": "2023-06-01T16:19:14.378Z"
   },
   {
    "duration": 31,
    "start_time": "2023-06-01T16:19:14.402Z"
   },
   {
    "duration": 44,
    "start_time": "2023-06-01T16:19:14.435Z"
   },
   {
    "duration": 18,
    "start_time": "2023-06-01T16:19:14.481Z"
   },
   {
    "duration": 25,
    "start_time": "2023-06-01T16:19:14.501Z"
   },
   {
    "duration": 44,
    "start_time": "2023-06-01T16:19:14.528Z"
   },
   {
    "duration": 85,
    "start_time": "2023-06-01T16:19:14.574Z"
   },
   {
    "duration": 157,
    "start_time": "2023-06-01T16:19:14.669Z"
   },
   {
    "duration": 240,
    "start_time": "2023-06-01T16:19:14.828Z"
   },
   {
    "duration": 64,
    "start_time": "2023-06-01T16:19:15.071Z"
   },
   {
    "duration": 65,
    "start_time": "2023-06-01T16:19:15.137Z"
   },
   {
    "duration": 31,
    "start_time": "2023-06-01T16:19:15.204Z"
   },
   {
    "duration": 552,
    "start_time": "2023-06-01T16:19:15.237Z"
   },
   {
    "duration": 39,
    "start_time": "2023-06-01T16:19:15.791Z"
   },
   {
    "duration": 218,
    "start_time": "2023-06-01T16:19:15.833Z"
   },
   {
    "duration": 592,
    "start_time": "2023-06-01T16:19:16.061Z"
   },
   {
    "duration": 130,
    "start_time": "2023-06-01T16:19:16.667Z"
   },
   {
    "duration": 0,
    "start_time": "2023-06-01T16:19:16.799Z"
   },
   {
    "duration": 1489,
    "start_time": "2023-06-01T16:19:47.779Z"
   },
   {
    "duration": 13,
    "start_time": "2023-06-01T16:20:02.397Z"
   },
   {
    "duration": 513,
    "start_time": "2023-06-01T16:20:20.070Z"
   },
   {
    "duration": 60577,
    "start_time": "2023-06-01T16:20:44.798Z"
   },
   {
    "duration": 2325,
    "start_time": "2023-06-01T17:04:03.312Z"
   },
   {
    "duration": 1729,
    "start_time": "2023-06-01T17:04:05.639Z"
   },
   {
    "duration": 6,
    "start_time": "2023-06-01T17:04:07.370Z"
   },
   {
    "duration": 1041,
    "start_time": "2023-06-01T17:04:07.378Z"
   },
   {
    "duration": 18,
    "start_time": "2023-06-01T17:04:08.421Z"
   },
   {
    "duration": 139,
    "start_time": "2023-06-01T17:04:08.441Z"
   },
   {
    "duration": 361,
    "start_time": "2023-06-01T17:04:08.582Z"
   },
   {
    "duration": 428,
    "start_time": "2023-06-01T17:04:08.946Z"
   },
   {
    "duration": 462,
    "start_time": "2023-06-01T17:04:09.377Z"
   },
   {
    "duration": 492,
    "start_time": "2023-06-01T17:04:09.841Z"
   },
   {
    "duration": 108,
    "start_time": "2023-06-01T17:04:10.335Z"
   },
   {
    "duration": 38,
    "start_time": "2023-06-01T17:04:10.456Z"
   },
   {
    "duration": 23,
    "start_time": "2023-06-01T17:04:10.496Z"
   },
   {
    "duration": 40,
    "start_time": "2023-06-01T17:04:10.522Z"
   },
   {
    "duration": 26,
    "start_time": "2023-06-01T17:04:10.564Z"
   },
   {
    "duration": 22,
    "start_time": "2023-06-01T17:04:10.592Z"
   },
   {
    "duration": 57,
    "start_time": "2023-06-01T17:04:10.617Z"
   },
   {
    "duration": 32,
    "start_time": "2023-06-01T17:04:10.676Z"
   },
   {
    "duration": 90,
    "start_time": "2023-06-01T17:04:10.710Z"
   },
   {
    "duration": 137,
    "start_time": "2023-06-01T17:04:10.801Z"
   },
   {
    "duration": 224,
    "start_time": "2023-06-01T17:04:10.940Z"
   },
   {
    "duration": 67,
    "start_time": "2023-06-01T17:04:11.165Z"
   },
   {
    "duration": 85,
    "start_time": "2023-06-01T17:04:11.234Z"
   },
   {
    "duration": 36,
    "start_time": "2023-06-01T17:04:11.321Z"
   },
   {
    "duration": 517,
    "start_time": "2023-06-01T17:04:11.360Z"
   },
   {
    "duration": 32,
    "start_time": "2023-06-01T17:04:11.879Z"
   },
   {
    "duration": 234,
    "start_time": "2023-06-01T17:04:11.913Z"
   },
   {
    "duration": 142,
    "start_time": "2023-06-01T17:04:12.149Z"
   },
   {
    "duration": 0,
    "start_time": "2023-06-01T17:04:12.293Z"
   },
   {
    "duration": 21,
    "start_time": "2023-06-01T17:05:27.478Z"
   },
   {
    "duration": 18,
    "start_time": "2023-06-01T17:05:39.663Z"
   },
   {
    "duration": 83,
    "start_time": "2023-06-01T17:06:19.463Z"
   },
   {
    "duration": 76,
    "start_time": "2023-06-01T17:06:36.081Z"
   },
   {
    "duration": 43,
    "start_time": "2023-06-01T17:06:49.080Z"
   },
   {
    "duration": 3,
    "start_time": "2023-06-01T17:07:34.559Z"
   },
   {
    "duration": 50,
    "start_time": "2023-06-01T17:08:22.247Z"
   },
   {
    "duration": 3,
    "start_time": "2023-06-01T17:08:33.494Z"
   },
   {
    "duration": 615,
    "start_time": "2023-06-01T17:08:34.120Z"
   },
   {
    "duration": 53,
    "start_time": "2023-06-01T17:09:09.795Z"
   },
   {
    "duration": 5,
    "start_time": "2023-06-01T17:09:38.705Z"
   },
   {
    "duration": 149,
    "start_time": "2023-06-01T17:09:39.502Z"
   },
   {
    "duration": 719,
    "start_time": "2023-06-01T17:11:17.958Z"
   },
   {
    "duration": 88,
    "start_time": "2023-06-01T17:11:33.996Z"
   },
   {
    "duration": 89,
    "start_time": "2023-06-01T17:12:15.168Z"
   },
   {
    "duration": 22,
    "start_time": "2023-06-01T17:12:19.661Z"
   },
   {
    "duration": 136,
    "start_time": "2023-06-01T17:12:19.958Z"
   },
   {
    "duration": 70,
    "start_time": "2023-06-01T17:12:20.218Z"
   },
   {
    "duration": 34,
    "start_time": "2023-06-01T17:12:20.438Z"
   },
   {
    "duration": 2,
    "start_time": "2023-06-01T17:12:20.724Z"
   },
   {
    "duration": 602,
    "start_time": "2023-06-01T17:12:21.423Z"
   },
   {
    "duration": 4,
    "start_time": "2023-06-01T17:12:22.858Z"
   },
   {
    "duration": 185,
    "start_time": "2023-06-01T17:12:23.553Z"
   },
   {
    "duration": 15,
    "start_time": "2023-06-01T17:13:00.103Z"
   },
   {
    "duration": 84,
    "start_time": "2023-06-01T17:13:15.514Z"
   },
   {
    "duration": 84,
    "start_time": "2023-06-01T17:13:16.414Z"
   },
   {
    "duration": 17,
    "start_time": "2023-06-01T17:13:17.045Z"
   },
   {
    "duration": 4,
    "start_time": "2023-06-01T17:13:34.504Z"
   },
   {
    "duration": 5,
    "start_time": "2023-06-01T17:13:35.013Z"
   },
   {
    "duration": 903,
    "start_time": "2023-06-01T17:13:35.088Z"
   },
   {
    "duration": 12,
    "start_time": "2023-06-01T17:13:35.993Z"
   },
   {
    "duration": 95,
    "start_time": "2023-06-01T17:13:36.006Z"
   },
   {
    "duration": 326,
    "start_time": "2023-06-01T17:13:36.103Z"
   },
   {
    "duration": 326,
    "start_time": "2023-06-01T17:13:36.431Z"
   },
   {
    "duration": 417,
    "start_time": "2023-06-01T17:13:36.759Z"
   },
   {
    "duration": 483,
    "start_time": "2023-06-01T17:13:37.179Z"
   },
   {
    "duration": 97,
    "start_time": "2023-06-01T17:13:37.664Z"
   },
   {
    "duration": 36,
    "start_time": "2023-06-01T17:13:37.763Z"
   },
   {
    "duration": 21,
    "start_time": "2023-06-01T17:13:37.802Z"
   },
   {
    "duration": 41,
    "start_time": "2023-06-01T17:13:37.825Z"
   },
   {
    "duration": 30,
    "start_time": "2023-06-01T17:13:37.868Z"
   },
   {
    "duration": 24,
    "start_time": "2023-06-01T17:13:37.900Z"
   },
   {
    "duration": 39,
    "start_time": "2023-06-01T17:13:37.926Z"
   },
   {
    "duration": 21,
    "start_time": "2023-06-01T17:13:37.967Z"
   },
   {
    "duration": 93,
    "start_time": "2023-06-01T17:13:37.989Z"
   },
   {
    "duration": 133,
    "start_time": "2023-06-01T17:13:38.084Z"
   },
   {
    "duration": 222,
    "start_time": "2023-06-01T17:13:38.219Z"
   },
   {
    "duration": 70,
    "start_time": "2023-06-01T17:13:38.443Z"
   },
   {
    "duration": 74,
    "start_time": "2023-06-01T17:13:38.515Z"
   },
   {
    "duration": 28,
    "start_time": "2023-06-01T17:13:38.591Z"
   },
   {
    "duration": 502,
    "start_time": "2023-06-01T17:13:38.620Z"
   },
   {
    "duration": 41,
    "start_time": "2023-06-01T17:13:39.124Z"
   },
   {
    "duration": 211,
    "start_time": "2023-06-01T17:13:39.168Z"
   },
   {
    "duration": 89,
    "start_time": "2023-06-01T17:13:40.751Z"
   },
   {
    "duration": 88,
    "start_time": "2023-06-01T17:13:41.419Z"
   },
   {
    "duration": 17,
    "start_time": "2023-06-01T17:13:42.257Z"
   },
   {
    "duration": 102,
    "start_time": "2023-06-01T17:15:40.860Z"
   },
   {
    "duration": 52,
    "start_time": "2023-06-01T17:16:24.394Z"
   },
   {
    "duration": 19,
    "start_time": "2023-06-01T17:16:39.490Z"
   },
   {
    "duration": 87,
    "start_time": "2023-06-01T17:16:39.956Z"
   },
   {
    "duration": 63,
    "start_time": "2023-06-01T17:16:40.158Z"
   },
   {
    "duration": 31,
    "start_time": "2023-06-01T17:16:40.305Z"
   },
   {
    "duration": 3,
    "start_time": "2023-06-01T17:16:40.555Z"
   },
   {
    "duration": 562,
    "start_time": "2023-06-01T17:16:40.781Z"
   },
   {
    "duration": 5,
    "start_time": "2023-06-01T17:16:41.356Z"
   },
   {
    "duration": 244,
    "start_time": "2023-06-01T17:16:41.662Z"
   },
   {
    "duration": 3,
    "start_time": "2023-06-01T17:18:01.053Z"
   },
   {
    "duration": 125,
    "start_time": "2023-06-01T17:18:28.259Z"
   },
   {
    "duration": 74,
    "start_time": "2023-06-01T17:18:58.185Z"
   },
   {
    "duration": 114,
    "start_time": "2023-06-01T17:19:19.851Z"
   },
   {
    "duration": 371,
    "start_time": "2023-06-01T17:19:28.594Z"
   },
   {
    "duration": 12,
    "start_time": "2023-06-01T17:19:58.278Z"
   },
   {
    "duration": 167,
    "start_time": "2023-06-01T17:37:16.687Z"
   },
   {
    "duration": 40,
    "start_time": "2023-06-01T17:38:01.407Z"
   },
   {
    "duration": 172,
    "start_time": "2023-06-01T17:38:07.480Z"
   },
   {
    "duration": 40,
    "start_time": "2023-06-01T17:38:07.686Z"
   },
   {
    "duration": 193,
    "start_time": "2023-06-01T17:47:44.444Z"
   },
   {
    "duration": 63771,
    "start_time": "2023-06-01T17:48:03.100Z"
   },
   {
    "duration": 30203,
    "start_time": "2023-06-01T17:49:06.874Z"
   },
   {
    "duration": 584708,
    "start_time": "2023-06-01T17:50:47.852Z"
   },
   {
    "duration": 13,
    "start_time": "2023-06-01T18:00:59.392Z"
   },
   {
    "duration": 2377,
    "start_time": "2023-06-01T18:20:01.010Z"
   },
   {
    "duration": 1639,
    "start_time": "2023-06-01T18:20:03.389Z"
   },
   {
    "duration": 5,
    "start_time": "2023-06-01T18:20:05.030Z"
   },
   {
    "duration": 976,
    "start_time": "2023-06-01T18:20:05.037Z"
   },
   {
    "duration": 15,
    "start_time": "2023-06-01T18:20:06.015Z"
   },
   {
    "duration": 126,
    "start_time": "2023-06-01T18:20:06.031Z"
   },
   {
    "duration": 320,
    "start_time": "2023-06-01T18:20:06.159Z"
   },
   {
    "duration": 326,
    "start_time": "2023-06-01T18:20:06.481Z"
   },
   {
    "duration": 497,
    "start_time": "2023-06-01T18:20:06.809Z"
   },
   {
    "duration": 509,
    "start_time": "2023-06-01T18:20:07.310Z"
   },
   {
    "duration": 108,
    "start_time": "2023-06-01T18:20:07.821Z"
   },
   {
    "duration": 46,
    "start_time": "2023-06-01T18:20:07.931Z"
   },
   {
    "duration": 21,
    "start_time": "2023-06-01T18:20:07.979Z"
   },
   {
    "duration": 21,
    "start_time": "2023-06-01T18:20:08.001Z"
   },
   {
    "duration": 51,
    "start_time": "2023-06-01T18:20:08.024Z"
   },
   {
    "duration": 22,
    "start_time": "2023-06-01T18:20:08.077Z"
   },
   {
    "duration": 23,
    "start_time": "2023-06-01T18:20:08.101Z"
   },
   {
    "duration": 44,
    "start_time": "2023-06-01T18:20:08.126Z"
   },
   {
    "duration": 94,
    "start_time": "2023-06-01T18:20:08.172Z"
   },
   {
    "duration": 159,
    "start_time": "2023-06-01T18:20:08.269Z"
   },
   {
    "duration": 213,
    "start_time": "2023-06-01T18:20:08.430Z"
   },
   {
    "duration": 64,
    "start_time": "2023-06-01T18:20:08.645Z"
   },
   {
    "duration": 79,
    "start_time": "2023-06-01T18:20:08.711Z"
   },
   {
    "duration": 27,
    "start_time": "2023-06-01T18:20:08.792Z"
   },
   {
    "duration": 528,
    "start_time": "2023-06-01T18:20:08.821Z"
   },
   {
    "duration": 33,
    "start_time": "2023-06-01T18:20:09.352Z"
   },
   {
    "duration": 225,
    "start_time": "2023-06-01T18:20:09.387Z"
   },
   {
    "duration": 233,
    "start_time": "2023-06-01T18:20:09.616Z"
   },
   {
    "duration": 82618,
    "start_time": "2023-06-01T18:20:09.851Z"
   },
   {
    "duration": 30949,
    "start_time": "2023-06-01T18:21:32.471Z"
   },
   {
    "duration": 566947,
    "start_time": "2023-06-01T18:22:03.422Z"
   },
   {
    "duration": 156,
    "start_time": "2023-06-01T18:31:30.371Z"
   },
   {
    "duration": 2309,
    "start_time": "2023-06-01T19:03:37.597Z"
   },
   {
    "duration": 1574,
    "start_time": "2023-06-01T19:03:39.910Z"
   },
   {
    "duration": 6,
    "start_time": "2023-06-01T19:03:41.486Z"
   },
   {
    "duration": 1050,
    "start_time": "2023-06-01T19:03:41.494Z"
   },
   {
    "duration": 22,
    "start_time": "2023-06-01T19:03:42.545Z"
   },
   {
    "duration": 122,
    "start_time": "2023-06-01T19:03:42.570Z"
   },
   {
    "duration": 318,
    "start_time": "2023-06-01T19:03:42.694Z"
   },
   {
    "duration": 320,
    "start_time": "2023-06-01T19:03:43.014Z"
   },
   {
    "duration": 463,
    "start_time": "2023-06-01T19:03:43.337Z"
   },
   {
    "duration": 463,
    "start_time": "2023-06-01T19:03:43.805Z"
   },
   {
    "duration": 107,
    "start_time": "2023-06-01T19:03:44.270Z"
   },
   {
    "duration": 40,
    "start_time": "2023-06-01T19:03:44.380Z"
   },
   {
    "duration": 38,
    "start_time": "2023-06-01T19:03:44.423Z"
   },
   {
    "duration": 52,
    "start_time": "2023-06-01T19:03:44.463Z"
   },
   {
    "duration": 45,
    "start_time": "2023-06-01T19:03:44.517Z"
   },
   {
    "duration": 31,
    "start_time": "2023-06-01T19:03:44.564Z"
   },
   {
    "duration": 32,
    "start_time": "2023-06-01T19:03:44.597Z"
   },
   {
    "duration": 46,
    "start_time": "2023-06-01T19:03:44.631Z"
   },
   {
    "duration": 100,
    "start_time": "2023-06-01T19:03:44.679Z"
   },
   {
    "duration": 146,
    "start_time": "2023-06-01T19:03:44.781Z"
   },
   {
    "duration": 196,
    "start_time": "2023-06-01T19:03:44.928Z"
   },
   {
    "duration": 71,
    "start_time": "2023-06-01T19:03:45.126Z"
   },
   {
    "duration": 84,
    "start_time": "2023-06-01T19:03:45.199Z"
   },
   {
    "duration": 27,
    "start_time": "2023-06-01T19:03:45.286Z"
   },
   {
    "duration": 478,
    "start_time": "2023-06-01T19:03:45.315Z"
   },
   {
    "duration": 28,
    "start_time": "2023-06-01T19:03:45.795Z"
   },
   {
    "duration": 210,
    "start_time": "2023-06-01T19:03:45.825Z"
   },
   {
    "duration": 227,
    "start_time": "2023-06-01T19:03:46.038Z"
   },
   {
    "duration": 45651,
    "start_time": "2023-06-01T19:03:46.267Z"
   },
   {
    "duration": 0,
    "start_time": "2023-06-01T19:04:31.920Z"
   },
   {
    "duration": 0,
    "start_time": "2023-06-01T19:04:31.921Z"
   },
   {
    "duration": 0,
    "start_time": "2023-06-01T19:04:31.922Z"
   },
   {
    "duration": 0,
    "start_time": "2023-06-01T19:04:31.924Z"
   },
   {
    "duration": 57469,
    "start_time": "2023-06-01T19:09:00.991Z"
   },
   {
    "duration": 29897,
    "start_time": "2023-06-01T19:09:58.462Z"
   },
   {
    "duration": 463805,
    "start_time": "2023-06-01T19:10:28.361Z"
   },
   {
    "duration": 9,
    "start_time": "2023-06-01T19:18:12.168Z"
   },
   {
    "duration": 7177,
    "start_time": "2023-06-01T19:18:12.180Z"
   },
   {
    "duration": 438,
    "start_time": "2023-06-01T20:55:13.898Z"
   },
   {
    "duration": 43746,
    "start_time": "2023-06-02T06:10:10.697Z"
   },
   {
    "duration": 2046,
    "start_time": "2023-06-02T06:10:54.445Z"
   },
   {
    "duration": 5,
    "start_time": "2023-06-02T06:10:56.493Z"
   },
   {
    "duration": 2857,
    "start_time": "2023-06-02T06:10:56.499Z"
   },
   {
    "duration": 15,
    "start_time": "2023-06-02T06:10:59.358Z"
   },
   {
    "duration": 96,
    "start_time": "2023-06-02T06:10:59.374Z"
   },
   {
    "duration": 318,
    "start_time": "2023-06-02T06:10:59.471Z"
   },
   {
    "duration": 314,
    "start_time": "2023-06-02T06:10:59.791Z"
   },
   {
    "duration": 399,
    "start_time": "2023-06-02T06:11:00.107Z"
   },
   {
    "duration": 411,
    "start_time": "2023-06-02T06:11:00.508Z"
   },
   {
    "duration": 94,
    "start_time": "2023-06-02T06:11:00.920Z"
   },
   {
    "duration": 46,
    "start_time": "2023-06-02T06:11:01.016Z"
   },
   {
    "duration": 51,
    "start_time": "2023-06-02T06:11:01.064Z"
   },
   {
    "duration": 51,
    "start_time": "2023-06-02T06:11:01.119Z"
   },
   {
    "duration": 44,
    "start_time": "2023-06-02T06:11:01.172Z"
   },
   {
    "duration": 37,
    "start_time": "2023-06-02T06:11:01.218Z"
   },
   {
    "duration": 58,
    "start_time": "2023-06-02T06:11:01.257Z"
   },
   {
    "duration": 46,
    "start_time": "2023-06-02T06:11:01.317Z"
   },
   {
    "duration": 102,
    "start_time": "2023-06-02T06:11:01.366Z"
   },
   {
    "duration": 145,
    "start_time": "2023-06-02T06:11:01.470Z"
   },
   {
    "duration": 243,
    "start_time": "2023-06-02T06:11:01.617Z"
   },
   {
    "duration": 57,
    "start_time": "2023-06-02T06:11:01.862Z"
   },
   {
    "duration": 74,
    "start_time": "2023-06-02T06:11:01.920Z"
   },
   {
    "duration": 23,
    "start_time": "2023-06-02T06:11:01.996Z"
   },
   {
    "duration": 503,
    "start_time": "2023-06-02T06:11:02.021Z"
   },
   {
    "duration": 28,
    "start_time": "2023-06-02T06:11:02.525Z"
   },
   {
    "duration": 199,
    "start_time": "2023-06-02T06:11:02.554Z"
   },
   {
    "duration": 214,
    "start_time": "2023-06-02T06:11:02.754Z"
   },
   {
    "duration": 73510,
    "start_time": "2023-06-02T06:11:02.970Z"
   },
   {
    "duration": 28459,
    "start_time": "2023-06-02T06:12:16.482Z"
   },
   {
    "duration": 1174935,
    "start_time": "2023-06-02T06:12:44.943Z"
   },
   {
    "duration": 70,
    "start_time": "2023-06-02T06:32:19.880Z"
   },
   {
    "duration": 6225,
    "start_time": "2023-06-02T06:32:19.952Z"
   },
   {
    "duration": 108,
    "start_time": "2023-06-02T06:39:15.025Z"
   },
   {
    "duration": 2130,
    "start_time": "2023-06-02T06:39:19.155Z"
   },
   {
    "duration": 2400,
    "start_time": "2023-06-02T06:40:11.942Z"
   },
   {
    "duration": 1517,
    "start_time": "2023-06-02T06:40:14.345Z"
   },
   {
    "duration": 6,
    "start_time": "2023-06-02T06:40:15.864Z"
   },
   {
    "duration": 933,
    "start_time": "2023-06-02T06:40:15.872Z"
   },
   {
    "duration": 16,
    "start_time": "2023-06-02T06:40:16.807Z"
   },
   {
    "duration": 120,
    "start_time": "2023-06-02T06:40:16.824Z"
   },
   {
    "duration": 344,
    "start_time": "2023-06-02T06:40:16.946Z"
   },
   {
    "duration": 327,
    "start_time": "2023-06-02T06:40:17.292Z"
   },
   {
    "duration": 390,
    "start_time": "2023-06-02T06:40:17.621Z"
   },
   {
    "duration": 435,
    "start_time": "2023-06-02T06:40:18.014Z"
   },
   {
    "duration": 99,
    "start_time": "2023-06-02T06:40:18.451Z"
   },
   {
    "duration": 33,
    "start_time": "2023-06-02T06:40:18.552Z"
   },
   {
    "duration": 22,
    "start_time": "2023-06-02T06:40:18.586Z"
   },
   {
    "duration": 40,
    "start_time": "2023-06-02T06:40:18.610Z"
   },
   {
    "duration": 41,
    "start_time": "2023-06-02T06:40:18.652Z"
   },
   {
    "duration": 21,
    "start_time": "2023-06-02T06:40:18.695Z"
   },
   {
    "duration": 27,
    "start_time": "2023-06-02T06:40:18.717Z"
   },
   {
    "duration": 26,
    "start_time": "2023-06-02T06:40:18.746Z"
   },
   {
    "duration": 76,
    "start_time": "2023-06-02T06:40:18.774Z"
   },
   {
    "duration": 130,
    "start_time": "2023-06-02T06:40:18.851Z"
   },
   {
    "duration": 219,
    "start_time": "2023-06-02T06:40:18.982Z"
   },
   {
    "duration": 69,
    "start_time": "2023-06-02T06:40:19.203Z"
   },
   {
    "duration": 61,
    "start_time": "2023-06-02T06:40:19.274Z"
   },
   {
    "duration": 35,
    "start_time": "2023-06-02T06:40:19.337Z"
   },
   {
    "duration": 502,
    "start_time": "2023-06-02T06:40:19.374Z"
   },
   {
    "duration": 27,
    "start_time": "2023-06-02T06:40:19.878Z"
   },
   {
    "duration": 208,
    "start_time": "2023-06-02T06:40:19.908Z"
   },
   {
    "duration": 216,
    "start_time": "2023-06-02T06:40:20.120Z"
   },
   {
    "duration": 69438,
    "start_time": "2023-06-02T06:40:20.338Z"
   },
   {
    "duration": 29080,
    "start_time": "2023-06-02T06:41:29.777Z"
   },
   {
    "duration": 668313,
    "start_time": "2023-06-02T06:41:58.859Z"
   },
   {
    "duration": 77,
    "start_time": "2023-06-02T06:53:07.174Z"
   },
   {
    "duration": 2131,
    "start_time": "2023-06-02T06:53:07.253Z"
   },
   {
    "duration": 54943,
    "start_time": "2023-06-02T12:46:31.201Z"
   },
   {
    "duration": 3077,
    "start_time": "2023-06-02T12:47:26.147Z"
   },
   {
    "duration": 4,
    "start_time": "2023-06-02T12:47:29.226Z"
   },
   {
    "duration": 1160,
    "start_time": "2023-06-02T12:47:29.232Z"
   },
   {
    "duration": 25,
    "start_time": "2023-06-02T12:47:30.395Z"
   },
   {
    "duration": 139,
    "start_time": "2023-06-02T12:47:30.422Z"
   },
   {
    "duration": 494,
    "start_time": "2023-06-02T12:47:30.563Z"
   },
   {
    "duration": 500,
    "start_time": "2023-06-02T12:47:31.059Z"
   },
   {
    "duration": 583,
    "start_time": "2023-06-02T12:47:31.561Z"
   },
   {
    "duration": 527,
    "start_time": "2023-06-02T12:47:32.146Z"
   },
   {
    "duration": 101,
    "start_time": "2023-06-02T12:47:32.675Z"
   },
   {
    "duration": 41,
    "start_time": "2023-06-02T12:47:32.786Z"
   },
   {
    "duration": 30,
    "start_time": "2023-06-02T12:47:32.829Z"
   },
   {
    "duration": 53,
    "start_time": "2023-06-02T12:47:32.863Z"
   },
   {
    "duration": 36,
    "start_time": "2023-06-02T12:47:32.918Z"
   },
   {
    "duration": 45,
    "start_time": "2023-06-02T12:47:32.956Z"
   },
   {
    "duration": 50,
    "start_time": "2023-06-02T12:47:33.009Z"
   },
   {
    "duration": 55,
    "start_time": "2023-06-02T12:47:33.061Z"
   },
   {
    "duration": 107,
    "start_time": "2023-06-02T12:47:33.118Z"
   },
   {
    "duration": 198,
    "start_time": "2023-06-02T12:47:33.227Z"
   },
   {
    "duration": 330,
    "start_time": "2023-06-02T12:47:33.428Z"
   },
   {
    "duration": 69,
    "start_time": "2023-06-02T12:47:33.760Z"
   },
   {
    "duration": 74,
    "start_time": "2023-06-02T12:47:33.831Z"
   },
   {
    "duration": 36,
    "start_time": "2023-06-02T12:47:33.907Z"
   },
   {
    "duration": 857,
    "start_time": "2023-06-02T12:47:33.945Z"
   },
   {
    "duration": 43,
    "start_time": "2023-06-02T12:47:34.808Z"
   },
   {
    "duration": 263,
    "start_time": "2023-06-02T12:47:34.853Z"
   },
   {
    "duration": 395,
    "start_time": "2023-06-02T12:47:35.117Z"
   },
   {
    "duration": 43689,
    "start_time": "2023-06-03T06:03:58.307Z"
   },
   {
    "duration": 2338,
    "start_time": "2023-06-03T06:04:41.998Z"
   },
   {
    "duration": 5,
    "start_time": "2023-06-03T06:04:44.338Z"
   },
   {
    "duration": 1197,
    "start_time": "2023-06-03T06:04:44.348Z"
   },
   {
    "duration": 14,
    "start_time": "2023-06-03T06:04:45.547Z"
   },
   {
    "duration": 109,
    "start_time": "2023-06-03T06:04:45.562Z"
   },
   {
    "duration": 332,
    "start_time": "2023-06-03T06:04:45.672Z"
   },
   {
    "duration": 322,
    "start_time": "2023-06-03T06:04:46.006Z"
   },
   {
    "duration": 376,
    "start_time": "2023-06-03T06:04:46.330Z"
   },
   {
    "duration": 377,
    "start_time": "2023-06-03T06:04:46.709Z"
   },
   {
    "duration": 91,
    "start_time": "2023-06-03T06:04:47.088Z"
   },
   {
    "duration": 30,
    "start_time": "2023-06-03T06:04:47.181Z"
   },
   {
    "duration": 22,
    "start_time": "2023-06-03T06:04:47.225Z"
   },
   {
    "duration": 58,
    "start_time": "2023-06-03T06:04:47.249Z"
   },
   {
    "duration": 31,
    "start_time": "2023-06-03T06:04:47.309Z"
   },
   {
    "duration": 21,
    "start_time": "2023-06-03T06:04:47.341Z"
   },
   {
    "duration": 35,
    "start_time": "2023-06-03T06:04:47.363Z"
   },
   {
    "duration": 25,
    "start_time": "2023-06-03T06:04:47.399Z"
   },
   {
    "duration": 84,
    "start_time": "2023-06-03T06:04:47.426Z"
   },
   {
    "duration": 128,
    "start_time": "2023-06-03T06:04:47.512Z"
   },
   {
    "duration": 226,
    "start_time": "2023-06-03T06:04:47.642Z"
   },
   {
    "duration": 59,
    "start_time": "2023-06-03T06:04:47.869Z"
   },
   {
    "duration": 58,
    "start_time": "2023-06-03T06:04:47.930Z"
   },
   {
    "duration": 38,
    "start_time": "2023-06-03T06:04:47.989Z"
   },
   {
    "duration": 557,
    "start_time": "2023-06-03T06:04:48.029Z"
   },
   {
    "duration": 27,
    "start_time": "2023-06-03T06:04:48.588Z"
   },
   {
    "duration": 198,
    "start_time": "2023-06-03T06:04:48.617Z"
   },
   {
    "duration": 200,
    "start_time": "2023-06-03T06:04:48.818Z"
   },
   {
    "duration": 112,
    "start_time": "2023-06-03T06:07:56.164Z"
   },
   {
    "duration": 42,
    "start_time": "2023-06-03T06:08:27.742Z"
   },
   {
    "duration": 86,
    "start_time": "2023-06-03T06:09:36.358Z"
   },
   {
    "duration": 451,
    "start_time": "2023-06-03T06:09:48.187Z"
   },
   {
    "duration": 8,
    "start_time": "2023-06-03T06:10:11.981Z"
   },
   {
    "duration": 8,
    "start_time": "2023-06-03T06:13:01.893Z"
   },
   {
    "duration": 8,
    "start_time": "2023-06-03T06:13:03.204Z"
   },
   {
    "duration": 12,
    "start_time": "2023-06-03T06:13:43.804Z"
   },
   {
    "duration": 131,
    "start_time": "2023-06-03T06:14:10.606Z"
   },
   {
    "duration": 87,
    "start_time": "2023-06-03T06:14:11.338Z"
   },
   {
    "duration": 4,
    "start_time": "2023-06-03T06:14:12.548Z"
   },
   {
    "duration": 16,
    "start_time": "2023-06-03T06:14:14.421Z"
   },
   {
    "duration": 6,
    "start_time": "2023-06-03T06:15:21.820Z"
   },
   {
    "duration": 14,
    "start_time": "2023-06-03T06:15:23.965Z"
   },
   {
    "duration": 9,
    "start_time": "2023-06-03T06:16:16.612Z"
   },
   {
    "duration": 15,
    "start_time": "2023-06-03T06:16:17.236Z"
   },
   {
    "duration": 20,
    "start_time": "2023-06-03T06:17:44.121Z"
   },
   {
    "duration": 18,
    "start_time": "2023-06-03T06:17:58.941Z"
   },
   {
    "duration": 17,
    "start_time": "2023-06-03T06:18:55.887Z"
   },
   {
    "duration": 156,
    "start_time": "2023-06-03T06:19:44.384Z"
   },
   {
    "duration": 8,
    "start_time": "2023-06-03T06:22:04.186Z"
   },
   {
    "duration": 4,
    "start_time": "2023-06-03T06:31:32.191Z"
   },
   {
    "duration": 44,
    "start_time": "2023-06-03T06:32:29.124Z"
   },
   {
    "duration": 8,
    "start_time": "2023-06-03T06:32:51.016Z"
   },
   {
    "duration": 155,
    "start_time": "2023-06-03T06:36:39.678Z"
   },
   {
    "duration": 8,
    "start_time": "2023-06-03T06:36:41.485Z"
   },
   {
    "duration": 2568,
    "start_time": "2023-06-03T06:47:31.502Z"
   },
   {
    "duration": 1496,
    "start_time": "2023-06-03T06:47:34.073Z"
   },
   {
    "duration": 7,
    "start_time": "2023-06-03T06:47:35.572Z"
   },
   {
    "duration": 911,
    "start_time": "2023-06-03T06:47:35.582Z"
   },
   {
    "duration": 17,
    "start_time": "2023-06-03T06:47:36.494Z"
   },
   {
    "duration": 133,
    "start_time": "2023-06-03T06:47:36.513Z"
   },
   {
    "duration": 339,
    "start_time": "2023-06-03T06:47:36.648Z"
   },
   {
    "duration": 390,
    "start_time": "2023-06-03T06:47:36.988Z"
   },
   {
    "duration": 410,
    "start_time": "2023-06-03T06:47:37.380Z"
   },
   {
    "duration": 407,
    "start_time": "2023-06-03T06:47:37.794Z"
   },
   {
    "duration": 93,
    "start_time": "2023-06-03T06:47:38.202Z"
   },
   {
    "duration": 45,
    "start_time": "2023-06-03T06:47:38.296Z"
   },
   {
    "duration": 23,
    "start_time": "2023-06-03T06:47:38.345Z"
   },
   {
    "duration": 35,
    "start_time": "2023-06-03T06:47:38.370Z"
   },
   {
    "duration": 47,
    "start_time": "2023-06-03T06:47:38.406Z"
   },
   {
    "duration": 21,
    "start_time": "2023-06-03T06:47:38.455Z"
   },
   {
    "duration": 28,
    "start_time": "2023-06-03T06:47:38.477Z"
   },
   {
    "duration": 41,
    "start_time": "2023-06-03T06:47:38.507Z"
   },
   {
    "duration": 114,
    "start_time": "2023-06-03T06:47:38.549Z"
   },
   {
    "duration": 149,
    "start_time": "2023-06-03T06:47:38.665Z"
   },
   {
    "duration": 311,
    "start_time": "2023-06-03T06:47:38.816Z"
   },
   {
    "duration": 73,
    "start_time": "2023-06-03T06:47:39.129Z"
   },
   {
    "duration": 72,
    "start_time": "2023-06-03T06:47:39.204Z"
   },
   {
    "duration": 33,
    "start_time": "2023-06-03T06:47:39.278Z"
   },
   {
    "duration": 658,
    "start_time": "2023-06-03T06:47:39.327Z"
   },
   {
    "duration": 39,
    "start_time": "2023-06-03T06:47:39.987Z"
   },
   {
    "duration": 224,
    "start_time": "2023-06-03T06:47:40.027Z"
   },
   {
    "duration": 229,
    "start_time": "2023-06-03T06:47:40.254Z"
   },
   {
    "duration": 93,
    "start_time": "2023-06-03T06:47:40.485Z"
   },
   {
    "duration": 245,
    "start_time": "2023-06-03T06:47:40.581Z"
   },
   {
    "duration": 2620,
    "start_time": "2023-06-03T07:01:20.494Z"
   },
   {
    "duration": 1575,
    "start_time": "2023-06-03T07:01:23.117Z"
   },
   {
    "duration": 6,
    "start_time": "2023-06-03T07:01:24.694Z"
   },
   {
    "duration": 1007,
    "start_time": "2023-06-03T07:01:24.701Z"
   },
   {
    "duration": 32,
    "start_time": "2023-06-03T07:01:25.710Z"
   },
   {
    "duration": 112,
    "start_time": "2023-06-03T07:01:25.745Z"
   },
   {
    "duration": 411,
    "start_time": "2023-06-03T07:01:25.859Z"
   },
   {
    "duration": 386,
    "start_time": "2023-06-03T07:01:26.271Z"
   },
   {
    "duration": 444,
    "start_time": "2023-06-03T07:01:26.659Z"
   },
   {
    "duration": 447,
    "start_time": "2023-06-03T07:01:27.104Z"
   },
   {
    "duration": 103,
    "start_time": "2023-06-03T07:01:27.554Z"
   },
   {
    "duration": 31,
    "start_time": "2023-06-03T07:01:27.659Z"
   },
   {
    "duration": 55,
    "start_time": "2023-06-03T07:01:27.692Z"
   },
   {
    "duration": 42,
    "start_time": "2023-06-03T07:01:27.750Z"
   },
   {
    "duration": 60,
    "start_time": "2023-06-03T07:01:27.794Z"
   },
   {
    "duration": 33,
    "start_time": "2023-06-03T07:01:27.855Z"
   },
   {
    "duration": 64,
    "start_time": "2023-06-03T07:01:27.889Z"
   },
   {
    "duration": 59,
    "start_time": "2023-06-03T07:01:27.954Z"
   },
   {
    "duration": 126,
    "start_time": "2023-06-03T07:01:28.016Z"
   },
   {
    "duration": 142,
    "start_time": "2023-06-03T07:01:28.144Z"
   },
   {
    "duration": 263,
    "start_time": "2023-06-03T07:01:28.288Z"
   },
   {
    "duration": 84,
    "start_time": "2023-06-03T07:01:28.553Z"
   },
   {
    "duration": 48,
    "start_time": "2023-06-03T07:01:28.639Z"
   },
   {
    "duration": 25,
    "start_time": "2023-06-03T07:01:28.689Z"
   },
   {
    "duration": 582,
    "start_time": "2023-06-03T07:01:28.716Z"
   },
   {
    "duration": 33,
    "start_time": "2023-06-03T07:01:29.299Z"
   },
   {
    "duration": 215,
    "start_time": "2023-06-03T07:01:29.334Z"
   },
   {
    "duration": 225,
    "start_time": "2023-06-03T07:01:29.551Z"
   },
   {
    "duration": 657772,
    "start_time": "2023-06-03T07:01:29.778Z"
   },
   {
    "duration": 26441,
    "start_time": "2023-06-03T07:12:27.552Z"
   },
   {
    "duration": 1089346,
    "start_time": "2023-06-03T07:12:53.995Z"
   },
   {
    "duration": 119,
    "start_time": "2023-06-03T07:31:03.343Z"
   },
   {
    "duration": 170,
    "start_time": "2023-06-03T07:31:03.465Z"
   },
   {
    "duration": 94,
    "start_time": "2023-06-03T07:31:03.638Z"
   },
   {
    "duration": 1994,
    "start_time": "2023-06-03T07:31:03.735Z"
   },
   {
    "duration": 63993,
    "start_time": "2023-06-03T20:05:08.805Z"
   },
   {
    "duration": 3468,
    "start_time": "2023-06-03T20:06:12.800Z"
   },
   {
    "duration": 8,
    "start_time": "2023-06-03T20:06:16.274Z"
   },
   {
    "duration": 4903,
    "start_time": "2023-06-03T20:06:16.288Z"
   },
   {
    "duration": 30,
    "start_time": "2023-06-03T20:06:21.194Z"
   },
   {
    "duration": 126,
    "start_time": "2023-06-03T20:06:21.229Z"
   },
   {
    "duration": 604,
    "start_time": "2023-06-03T20:06:21.357Z"
   },
   {
    "duration": 627,
    "start_time": "2023-06-03T20:06:21.963Z"
   },
   {
    "duration": 630,
    "start_time": "2023-06-03T20:06:22.592Z"
   },
   {
    "duration": 670,
    "start_time": "2023-06-03T20:06:23.227Z"
   },
   {
    "duration": 121,
    "start_time": "2023-06-03T20:06:23.899Z"
   },
   {
    "duration": 54,
    "start_time": "2023-06-03T20:06:24.023Z"
   },
   {
    "duration": 67,
    "start_time": "2023-06-03T20:06:24.079Z"
   },
   {
    "duration": 55,
    "start_time": "2023-06-03T20:06:24.148Z"
   },
   {
    "duration": 76,
    "start_time": "2023-06-03T20:06:24.205Z"
   },
   {
    "duration": 43,
    "start_time": "2023-06-03T20:06:24.283Z"
   },
   {
    "duration": 56,
    "start_time": "2023-06-03T20:06:24.328Z"
   },
   {
    "duration": 52,
    "start_time": "2023-06-03T20:06:24.386Z"
   },
   {
    "duration": 153,
    "start_time": "2023-06-03T20:06:24.440Z"
   },
   {
    "duration": 277,
    "start_time": "2023-06-03T20:06:24.595Z"
   },
   {
    "duration": 488,
    "start_time": "2023-06-03T20:06:24.874Z"
   },
   {
    "duration": 341,
    "start_time": "2023-06-03T20:06:25.363Z"
   },
   {
    "duration": 85,
    "start_time": "2023-06-03T20:06:25.706Z"
   },
   {
    "duration": 39,
    "start_time": "2023-06-03T20:06:25.798Z"
   },
   {
    "duration": 955,
    "start_time": "2023-06-03T20:06:25.839Z"
   },
   {
    "duration": 55,
    "start_time": "2023-06-03T20:06:26.796Z"
   },
   {
    "duration": 336,
    "start_time": "2023-06-03T20:06:26.855Z"
   },
   {
    "duration": 365,
    "start_time": "2023-06-03T20:06:27.200Z"
   },
   {
    "duration": 180,
    "start_time": "2023-06-03T20:12:02.802Z"
   },
   {
    "duration": 112,
    "start_time": "2023-06-03T20:12:14.564Z"
   },
   {
    "duration": 159,
    "start_time": "2023-06-03T20:12:15.819Z"
   },
   {
    "duration": 82,
    "start_time": "2023-06-03T20:12:19.271Z"
   },
   {
    "duration": 689,
    "start_time": "2023-06-03T20:12:21.951Z"
   },
   {
    "duration": 99,
    "start_time": "2023-06-03T20:21:48.365Z"
   },
   {
    "duration": 40,
    "start_time": "2023-06-03T20:22:07.224Z"
   },
   {
    "duration": 9455,
    "start_time": "2023-06-03T20:31:52.930Z"
   },
   {
    "duration": 3096,
    "start_time": "2023-06-03T20:40:25.129Z"
   },
   {
    "duration": 1819,
    "start_time": "2023-06-03T20:40:28.228Z"
   },
   {
    "duration": 9,
    "start_time": "2023-06-03T20:40:30.051Z"
   },
   {
    "duration": 1210,
    "start_time": "2023-06-03T20:40:30.063Z"
   },
   {
    "duration": 28,
    "start_time": "2023-06-03T20:40:31.275Z"
   },
   {
    "duration": 127,
    "start_time": "2023-06-03T20:40:31.314Z"
   },
   {
    "duration": 569,
    "start_time": "2023-06-03T20:40:31.443Z"
   },
   {
    "duration": 469,
    "start_time": "2023-06-03T20:40:32.019Z"
   },
   {
    "duration": 536,
    "start_time": "2023-06-03T20:40:32.495Z"
   },
   {
    "duration": 545,
    "start_time": "2023-06-03T20:40:33.038Z"
   },
   {
    "duration": 99,
    "start_time": "2023-06-03T20:40:33.586Z"
   },
   {
    "duration": 50,
    "start_time": "2023-06-03T20:40:33.689Z"
   },
   {
    "duration": 24,
    "start_time": "2023-06-03T20:40:33.741Z"
   },
   {
    "duration": 45,
    "start_time": "2023-06-03T20:40:33.767Z"
   },
   {
    "duration": 36,
    "start_time": "2023-06-03T20:40:33.816Z"
   },
   {
    "duration": 31,
    "start_time": "2023-06-03T20:40:33.854Z"
   },
   {
    "duration": 60,
    "start_time": "2023-06-03T20:40:33.887Z"
   },
   {
    "duration": 47,
    "start_time": "2023-06-03T20:40:33.950Z"
   },
   {
    "duration": 128,
    "start_time": "2023-06-03T20:40:34.003Z"
   },
   {
    "duration": 216,
    "start_time": "2023-06-03T20:40:34.132Z"
   },
   {
    "duration": 399,
    "start_time": "2023-06-03T20:40:34.350Z"
   },
   {
    "duration": 79,
    "start_time": "2023-06-03T20:40:34.751Z"
   },
   {
    "duration": 75,
    "start_time": "2023-06-03T20:40:34.832Z"
   },
   {
    "duration": 36,
    "start_time": "2023-06-03T20:40:34.909Z"
   },
   {
    "duration": 692,
    "start_time": "2023-06-03T20:40:34.947Z"
   },
   {
    "duration": 35,
    "start_time": "2023-06-03T20:40:35.641Z"
   },
   {
    "duration": 276,
    "start_time": "2023-06-03T20:40:35.679Z"
   },
   {
    "duration": 287,
    "start_time": "2023-06-03T20:40:35.958Z"
   },
   {
    "duration": 25545,
    "start_time": "2023-06-04T05:23:40.138Z"
   },
   {
    "duration": 1874,
    "start_time": "2023-06-04T05:24:05.685Z"
   },
   {
    "duration": 5,
    "start_time": "2023-06-04T05:24:07.561Z"
   },
   {
    "duration": 1181,
    "start_time": "2023-06-04T05:24:07.567Z"
   },
   {
    "duration": 15,
    "start_time": "2023-06-04T05:24:08.751Z"
   },
   {
    "duration": 106,
    "start_time": "2023-06-04T05:24:08.767Z"
   },
   {
    "duration": 325,
    "start_time": "2023-06-04T05:24:08.875Z"
   },
   {
    "duration": 328,
    "start_time": "2023-06-04T05:24:09.202Z"
   },
   {
    "duration": 382,
    "start_time": "2023-06-04T05:24:09.531Z"
   },
   {
    "duration": 443,
    "start_time": "2023-06-04T05:24:09.915Z"
   },
   {
    "duration": 87,
    "start_time": "2023-06-04T05:24:10.360Z"
   },
   {
    "duration": 37,
    "start_time": "2023-06-04T05:24:10.448Z"
   },
   {
    "duration": 21,
    "start_time": "2023-06-04T05:24:10.486Z"
   },
   {
    "duration": 41,
    "start_time": "2023-06-04T05:24:10.510Z"
   },
   {
    "duration": 27,
    "start_time": "2023-06-04T05:24:10.552Z"
   },
   {
    "duration": 24,
    "start_time": "2023-06-04T05:24:10.581Z"
   },
   {
    "duration": 27,
    "start_time": "2023-06-04T05:24:10.607Z"
   },
   {
    "duration": 19,
    "start_time": "2023-06-04T05:24:10.642Z"
   },
   {
    "duration": 88,
    "start_time": "2023-06-04T05:24:10.662Z"
   },
   {
    "duration": 155,
    "start_time": "2023-06-04T05:24:10.751Z"
   },
   {
    "duration": 209,
    "start_time": "2023-06-04T05:24:10.908Z"
   },
   {
    "duration": 56,
    "start_time": "2023-06-04T05:24:11.119Z"
   },
   {
    "duration": 65,
    "start_time": "2023-06-04T05:24:11.177Z"
   },
   {
    "duration": 24,
    "start_time": "2023-06-04T05:24:11.243Z"
   },
   {
    "duration": 504,
    "start_time": "2023-06-04T05:24:11.269Z"
   },
   {
    "duration": 27,
    "start_time": "2023-06-04T05:24:11.774Z"
   },
   {
    "duration": 203,
    "start_time": "2023-06-04T05:24:11.803Z"
   },
   {
    "duration": 222,
    "start_time": "2023-06-04T05:24:12.008Z"
   },
   {
    "duration": 68339,
    "start_time": "2023-06-04T05:24:12.232Z"
   },
   {
    "duration": 28945,
    "start_time": "2023-06-04T05:25:20.573Z"
   },
   {
    "duration": 592146,
    "start_time": "2023-06-04T05:25:49.520Z"
   },
   {
    "duration": 88,
    "start_time": "2023-06-04T05:35:41.743Z"
   },
   {
    "duration": 9916,
    "start_time": "2023-06-04T05:35:41.841Z"
   },
   {
    "duration": 284,
    "start_time": "2023-06-04T05:35:51.760Z"
   },
   {
    "duration": 0,
    "start_time": "2023-06-04T05:35:52.046Z"
   },
   {
    "duration": 9787,
    "start_time": "2023-06-04T05:44:33.076Z"
   },
   {
    "duration": 10,
    "start_time": "2023-06-04T05:44:45.941Z"
   },
   {
    "duration": 1933,
    "start_time": "2023-06-04T05:45:00.934Z"
   },
   {
    "duration": 35640,
    "start_time": "2023-06-04T14:17:12.365Z"
   },
   {
    "duration": 2614,
    "start_time": "2023-06-04T14:17:48.007Z"
   },
   {
    "duration": 6,
    "start_time": "2023-06-04T14:17:50.623Z"
   },
   {
    "duration": 1217,
    "start_time": "2023-06-04T14:17:50.651Z"
   },
   {
    "duration": 16,
    "start_time": "2023-06-04T14:17:51.869Z"
   },
   {
    "duration": 98,
    "start_time": "2023-06-04T14:17:51.887Z"
   },
   {
    "duration": 383,
    "start_time": "2023-06-04T14:17:51.986Z"
   },
   {
    "duration": 449,
    "start_time": "2023-06-04T14:17:52.371Z"
   },
   {
    "duration": 414,
    "start_time": "2023-06-04T14:17:52.822Z"
   },
   {
    "duration": 443,
    "start_time": "2023-06-04T14:17:53.239Z"
   },
   {
    "duration": 100,
    "start_time": "2023-06-04T14:17:53.683Z"
   },
   {
    "duration": 33,
    "start_time": "2023-06-04T14:17:53.785Z"
   },
   {
    "duration": 37,
    "start_time": "2023-06-04T14:17:53.820Z"
   },
   {
    "duration": 37,
    "start_time": "2023-06-04T14:17:53.858Z"
   },
   {
    "duration": 36,
    "start_time": "2023-06-04T14:17:53.897Z"
   },
   {
    "duration": 49,
    "start_time": "2023-06-04T14:17:53.934Z"
   },
   {
    "duration": 34,
    "start_time": "2023-06-04T14:17:53.984Z"
   },
   {
    "duration": 33,
    "start_time": "2023-06-04T14:17:54.020Z"
   },
   {
    "duration": 89,
    "start_time": "2023-06-04T14:17:54.055Z"
   },
   {
    "duration": 132,
    "start_time": "2023-06-04T14:17:54.146Z"
   },
   {
    "duration": 253,
    "start_time": "2023-06-04T14:17:54.280Z"
   },
   {
    "duration": 59,
    "start_time": "2023-06-04T14:17:54.534Z"
   },
   {
    "duration": 69,
    "start_time": "2023-06-04T14:17:54.595Z"
   },
   {
    "duration": 24,
    "start_time": "2023-06-04T14:17:54.665Z"
   },
   {
    "duration": 589,
    "start_time": "2023-06-04T14:17:54.691Z"
   },
   {
    "duration": 28,
    "start_time": "2023-06-04T14:17:55.282Z"
   },
   {
    "duration": 207,
    "start_time": "2023-06-04T14:17:55.313Z"
   },
   {
    "duration": 210,
    "start_time": "2023-06-04T14:17:55.524Z"
   },
   {
    "duration": 89432,
    "start_time": "2023-06-04T14:17:55.736Z"
   },
   {
    "duration": 29582,
    "start_time": "2023-06-04T14:19:25.170Z"
   },
   {
    "duration": 383514,
    "start_time": "2023-06-04T14:19:54.754Z"
   },
   {
    "duration": 122,
    "start_time": "2023-06-04T14:26:18.270Z"
   },
   {
    "duration": 9870,
    "start_time": "2023-06-04T14:26:18.394Z"
   },
   {
    "duration": 90,
    "start_time": "2023-06-04T14:26:28.266Z"
   },
   {
    "duration": 1921,
    "start_time": "2023-06-04T14:26:28.446Z"
   }
  ],
  "kernelspec": {
   "display_name": "Python 3 (ipykernel)",
   "language": "python",
   "name": "python3"
  },
  "language_info": {
   "codemirror_mode": {
    "name": "ipython",
    "version": 3
   },
   "file_extension": ".py",
   "mimetype": "text/x-python",
   "name": "python",
   "nbconvert_exporter": "python",
   "pygments_lexer": "ipython3",
   "version": "3.9.7"
  },
  "toc": {
   "base_numbering": 1,
   "nav_menu": {},
   "number_sections": true,
   "sideBar": true,
   "skip_h1_title": true,
   "title_cell": "Table of Contents",
   "title_sidebar": "Contents",
   "toc_cell": false,
   "toc_position": {},
   "toc_section_display": true,
   "toc_window_display": false
  }
 },
 "nbformat": 4,
 "nbformat_minor": 2
}
