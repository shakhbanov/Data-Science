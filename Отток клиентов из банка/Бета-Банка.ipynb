{
 "cells": [
  {
   "cell_type": "markdown",
   "metadata": {
    "toc": true
   },
   "source": [
    "<h1>Содержание<span class=\"tocSkip\"></span></h1>\n",
    "<div class=\"toc\"><ul class=\"toc-item\"><li><span><a href=\"#Подготовка-данных\" data-toc-modified-id=\"Подготовка-данных-1\"><span class=\"toc-item-num\">1&nbsp;&nbsp;</span>Подготовка данных</a></span></li><li><span><a href=\"#Исследование-задачи\" data-toc-modified-id=\"Исследование-задачи-2\"><span class=\"toc-item-num\">2&nbsp;&nbsp;</span>Исследование задачи</a></span><ul class=\"toc-item\"><li><span><a href=\"#Модель-дерева-решений-для-задачи-классификации-при-дисбалансе-классов\" data-toc-modified-id=\"Модель-дерева-решений-для-задачи-классификации-при-дисбалансе-классов-2.1\"><span class=\"toc-item-num\">2.1&nbsp;&nbsp;</span>Модель дерева решений для задачи классификации при дисбалансе классов</a></span></li><li><span><a href=\"#Модель-случайного-леса-для-задачи-классификации-при-дисбалансе-классов\" data-toc-modified-id=\"Модель-случайного-леса-для-задачи-классификации-при-дисбалансе-классов-2.2\"><span class=\"toc-item-num\">2.2&nbsp;&nbsp;</span>Модель случайного леса для задачи классификации при дисбалансе классов</a></span></li><li><span><a href=\"#Модель-логистической-регрессии-для-задачи-классификации-при-дисбалансе-классов\" data-toc-modified-id=\"Модель-логистической-регрессии-для-задачи-классификации-при-дисбалансе-классов-2.3\"><span class=\"toc-item-num\">2.3&nbsp;&nbsp;</span>Модель логистической регрессии для задачи классификации при дисбалансе классов</a></span></li></ul></li><li><span><a href=\"#Борьба-с-дисбалансом\" data-toc-modified-id=\"Борьба-с-дисбалансом-3\"><span class=\"toc-item-num\">3&nbsp;&nbsp;</span>Борьба с дисбалансом</a></span><ul class=\"toc-item\"><li><span><a href=\"#Модель-дерева-решений-для-задачи-классификации-при-сбалансированной-выборке\" data-toc-modified-id=\"Модель-дерева-решений-для-задачи-классификации-при-сбалансированной-выборке-3.1\"><span class=\"toc-item-num\">3.1&nbsp;&nbsp;</span>Модель дерева решений для задачи классификации при сбалансированной выборке</a></span></li><li><span><a href=\"#Модель-случайного-леса-для-задачи-классификации-при-сбалансированной-выборке\" data-toc-modified-id=\"Модель-случайного-леса-для-задачи-классификации-при-сбалансированной-выборке-3.2\"><span class=\"toc-item-num\">3.2&nbsp;&nbsp;</span>Модель случайного леса для задачи классификации при сбалансированной выборке</a></span></li><li><span><a href=\"#Модель-логистической-регрессии-для-задачи-классификации-при-сбалансированной-выборке.\" data-toc-modified-id=\"Модель-логистической-регрессии-для-задачи-классификации-при-сбалансированной-выборке.-3.3\"><span class=\"toc-item-num\">3.3&nbsp;&nbsp;</span>Модель логистической регрессии для задачи классификации при сбалансированной выборке.</a></span></li></ul></li><li><span><a href=\"#Тестирование-модели\" data-toc-modified-id=\"Тестирование-модели-4\"><span class=\"toc-item-num\">4&nbsp;&nbsp;</span>Тестирование модели</a></span></li><li><span><a href=\"#Вывод\" data-toc-modified-id=\"Вывод-5\"><span class=\"toc-item-num\">5&nbsp;&nbsp;</span>Вывод</a></span></li><li><span><a href=\"#Чек-лист-готовности-проекта\" data-toc-modified-id=\"Чек-лист-готовности-проекта-6\"><span class=\"toc-item-num\">6&nbsp;&nbsp;</span>Чек-лист готовности проекта</a></span></li></ul></div>"
   ]
  },
  {
   "cell_type": "markdown",
   "metadata": {},
   "source": [
    "# Отток клиентов"
   ]
  },
  {
   "cell_type": "markdown",
   "metadata": {},
   "source": [
    "Из «Бета-Банка» стали уходить клиенты. Каждый месяц. Немного, но заметно. Банковские маркетологи посчитали: сохранять текущих клиентов дешевле, чем привлекать новых.\n",
    "\n",
    "Нужно спрогнозировать, уйдёт клиент из банка в ближайшее время или нет. Вам предоставлены исторические данные о поведении клиентов и расторжении договоров с банком. \n",
    "\n",
    "Постройте модель с предельно большим значением *F1*-меры. Чтобы сдать проект успешно, нужно довести метрику до 0.59. Проверьте *F1*-меру на тестовой выборке самостоятельно.\n",
    "\n",
    "Дополнительно измеряйте *AUC-ROC*, сравнивайте её значение с *F1*-мерой.\n",
    "\n",
    "Источник данных: [https://www.kaggle.com/barelydedicated/bank-customer-churn-modeling](https://www.kaggle.com/barelydedicated/bank-customer-churn-modeling)"
   ]
  },
  {
   "cell_type": "markdown",
   "metadata": {},
   "source": [
    "# Цели и задачи проекта"
   ]
  },
  {
   "cell_type": "markdown",
   "metadata": {},
   "source": [
    "<div style=\"border:solid black 2px; padding: 10px\">  \n",
    "\n",
    "**Цели:**  \n",
    "   \n",
    "\n",
    "Провести исследование с целью прогнозирования ухода клиентов из «Бета-Банка» в ближайшее время.  \n",
    "  \n",
    "Результаты исследования позволят маркетологам сохранить текущих клиентов, т.к. это дешевле, чем привлекать новых.  \n",
    "\n",
    "**Задачи:**  \n",
    "\n",
    "1. Загрузим и подготовим данные. Поясним порядок действий.\n",
    "2. Исследуем баланс классов, обучим модель без учёта дисбаланса. Кратко опишем выводы.\n",
    "3. Улучшим качество модели, учитывая дисбаланс классов. Обучим разные модели и найдём лучшую. Кратко опишем выводы.\n",
    "4. Проведём финальное тестирование."
   ]
  },
  {
   "cell_type": "markdown",
   "metadata": {},
   "source": [
    "# Описание данных"
   ]
  },
  {
   "cell_type": "markdown",
   "metadata": {},
   "source": [
    "<div style=\"border:solid black 2px; padding: 10px\">  \n",
    "\n",
    "Нам предоставлены исторические данные о поведении клиентов и расторжении договоров с банком.\n",
    "\n",
    "Данные находятся в файле Churn.csv (англ. «отток клиентов»).\n",
    "\n",
    "Источник данных: https://www.kaggle.com/barelydedicated/bank-customer-churn-modeling\n",
    "\n",
    "**Признаки:**  \n",
    "\n",
    "`RowNumber` — индекс строки в данных  \n",
    "`CustomerId` — уникальный идентификатор клиента  \n",
    "`Surname` — фамилия  \n",
    "`CreditScore` — кредитный рейтинг  \n",
    "`Geography` — страна проживания  \n",
    "`Gender` — пол  \n",
    "`Age` — возраст  \n",
    "`Tenure` — сколько лет человек является клиентом банка  \n",
    "`Balance` — баланс на счёте  \n",
    "`NumOfProducts` — количество продуктов банка, используемых клиентом  \n",
    "`HasCrCard` — наличие кредитной карты  \n",
    "`IsActiveMember` — активность клиента  \n",
    "`EstimatedSalary` — предполагаемая зарплата  \n",
    "\n",
    "**Целевой признак:**  \n",
    "\n",
    "`Exited` — факт ухода клиента"
   ]
  },
  {
   "cell_type": "markdown",
   "metadata": {},
   "source": [
    "# План работы"
   ]
  },
  {
   "cell_type": "markdown",
   "metadata": {},
   "source": [
    "<div style=\"border:solid black 2px; padding: 10px\">   \n",
    "    \n",
    "1. Подготовка данных  \n",
    "2. Исследование задачи  \n",
    "3. Борьба с дисбалансом  \n",
    "4. Тестирование модели  \n",
    "5. Общий вывод  \n",
    "</div>"
   ]
  },
  {
   "cell_type": "code",
   "execution_count": 1,
   "metadata": {},
   "outputs": [
    {
     "name": "stdout",
     "output_type": "stream",
     "text": [
      "Requirement already satisfied: skimpy in /opt/conda/lib/python3.9/site-packages (0.0.8)\n",
      "Requirement already satisfied: pandas<2.0.0,>=1.3.2 in /opt/conda/lib/python3.9/site-packages (from skimpy) (1.5.3)\n",
      "Requirement already satisfied: rich<13.0,>=10.9 in /opt/conda/lib/python3.9/site-packages (from skimpy) (12.6.0)\n",
      "Requirement already satisfied: ipykernel<7.0.0,>=6.7.0 in /opt/conda/lib/python3.9/site-packages (from skimpy) (6.22.0)\n",
      "Requirement already satisfied: typeguard<3.0.0,>=2.12.1 in /opt/conda/lib/python3.9/site-packages (from skimpy) (2.13.3)\n",
      "Requirement already satisfied: jupyter<2.0.0,>=1.0.0 in /opt/conda/lib/python3.9/site-packages (from skimpy) (1.0.0)\n",
      "Requirement already satisfied: click<9.0.0,>=8.1.3 in /opt/conda/lib/python3.9/site-packages (from skimpy) (8.1.3)\n",
      "Requirement already satisfied: numpy<2.0.0,>=1.22.2 in /opt/conda/lib/python3.9/site-packages (from skimpy) (1.23.5)\n",
      "Requirement already satisfied: Pygments<3.0.0,>=2.10.0 in /opt/conda/lib/python3.9/site-packages (from skimpy) (2.14.0)\n",
      "Requirement already satisfied: jupyter-core!=5.0.*,>=4.12 in /opt/conda/lib/python3.9/site-packages (from ipykernel<7.0.0,>=6.7.0->skimpy) (5.3.0)\n",
      "Requirement already satisfied: traitlets>=5.4.0 in /opt/conda/lib/python3.9/site-packages (from ipykernel<7.0.0,>=6.7.0->skimpy) (5.9.0)\n",
      "Requirement already satisfied: comm>=0.1.1 in /opt/conda/lib/python3.9/site-packages (from ipykernel<7.0.0,>=6.7.0->skimpy) (0.1.3)\n",
      "Requirement already satisfied: ipython>=7.23.1 in /opt/conda/lib/python3.9/site-packages (from ipykernel<7.0.0,>=6.7.0->skimpy) (7.25.0)\n",
      "Requirement already satisfied: packaging in /opt/conda/lib/python3.9/site-packages (from ipykernel<7.0.0,>=6.7.0->skimpy) (21.3)\n",
      "Requirement already satisfied: nest-asyncio in /opt/conda/lib/python3.9/site-packages (from ipykernel<7.0.0,>=6.7.0->skimpy) (1.5.1)\n",
      "Requirement already satisfied: tornado>=6.1 in /opt/conda/lib/python3.9/site-packages (from ipykernel<7.0.0,>=6.7.0->skimpy) (6.1)\n",
      "Requirement already satisfied: matplotlib-inline>=0.1 in /opt/conda/lib/python3.9/site-packages (from ipykernel<7.0.0,>=6.7.0->skimpy) (0.1.2)\n",
      "Requirement already satisfied: pyzmq>=20 in /opt/conda/lib/python3.9/site-packages (from ipykernel<7.0.0,>=6.7.0->skimpy) (22.1.0)\n",
      "Requirement already satisfied: psutil in /opt/conda/lib/python3.9/site-packages (from ipykernel<7.0.0,>=6.7.0->skimpy) (5.9.4)\n",
      "Requirement already satisfied: debugpy>=1.6.5 in /opt/conda/lib/python3.9/site-packages (from ipykernel<7.0.0,>=6.7.0->skimpy) (1.6.6)\n",
      "Requirement already satisfied: jupyter-client>=6.1.12 in /opt/conda/lib/python3.9/site-packages (from ipykernel<7.0.0,>=6.7.0->skimpy) (6.1.12)\n",
      "Requirement already satisfied: setuptools>=18.5 in /opt/conda/lib/python3.9/site-packages (from ipython>=7.23.1->ipykernel<7.0.0,>=6.7.0->skimpy) (49.6.0.post20210108)\n",
      "Requirement already satisfied: backcall in /opt/conda/lib/python3.9/site-packages (from ipython>=7.23.1->ipykernel<7.0.0,>=6.7.0->skimpy) (0.2.0)\n",
      "Requirement already satisfied: pickleshare in /opt/conda/lib/python3.9/site-packages (from ipython>=7.23.1->ipykernel<7.0.0,>=6.7.0->skimpy) (0.7.5)\n",
      "Requirement already satisfied: decorator in /opt/conda/lib/python3.9/site-packages (from ipython>=7.23.1->ipykernel<7.0.0,>=6.7.0->skimpy) (5.0.9)\n",
      "Requirement already satisfied: jedi>=0.16 in /opt/conda/lib/python3.9/site-packages (from ipython>=7.23.1->ipykernel<7.0.0,>=6.7.0->skimpy) (0.18.0)\n",
      "Requirement already satisfied: pexpect>4.3 in /opt/conda/lib/python3.9/site-packages (from ipython>=7.23.1->ipykernel<7.0.0,>=6.7.0->skimpy) (4.8.0)\n",
      "Requirement already satisfied: prompt-toolkit!=3.0.0,!=3.0.1,<3.1.0,>=2.0.0 in /opt/conda/lib/python3.9/site-packages (from ipython>=7.23.1->ipykernel<7.0.0,>=6.7.0->skimpy) (3.0.19)\n",
      "Requirement already satisfied: parso<0.9.0,>=0.8.0 in /opt/conda/lib/python3.9/site-packages (from jedi>=0.16->ipython>=7.23.1->ipykernel<7.0.0,>=6.7.0->skimpy) (0.8.2)\n",
      "Requirement already satisfied: jupyter-console in /opt/conda/lib/python3.9/site-packages (from jupyter<2.0.0,>=1.0.0->skimpy) (6.4.2)\n",
      "Requirement already satisfied: nbconvert in /opt/conda/lib/python3.9/site-packages (from jupyter<2.0.0,>=1.0.0->skimpy) (6.1.0)\n",
      "Requirement already satisfied: qtconsole in /opt/conda/lib/python3.9/site-packages (from jupyter<2.0.0,>=1.0.0->skimpy) (5.3.2)\n",
      "Requirement already satisfied: ipywidgets in /opt/conda/lib/python3.9/site-packages (from jupyter<2.0.0,>=1.0.0->skimpy) (7.6.3)\n",
      "Requirement already satisfied: notebook in /opt/conda/lib/python3.9/site-packages (from jupyter<2.0.0,>=1.0.0->skimpy) (6.4.0)\n",
      "Requirement already satisfied: python-dateutil>=2.1 in /opt/conda/lib/python3.9/site-packages (from jupyter-client>=6.1.12->ipykernel<7.0.0,>=6.7.0->skimpy) (2.8.1)\n",
      "Requirement already satisfied: platformdirs>=2.5 in /opt/conda/lib/python3.9/site-packages (from jupyter-core!=5.0.*,>=4.12->ipykernel<7.0.0,>=6.7.0->skimpy) (3.2.0)\n",
      "Requirement already satisfied: pytz>=2020.1 in /opt/conda/lib/python3.9/site-packages (from pandas<2.0.0,>=1.3.2->skimpy) (2021.1)\n",
      "Requirement already satisfied: ptyprocess>=0.5 in /opt/conda/lib/python3.9/site-packages (from pexpect>4.3->ipython>=7.23.1->ipykernel<7.0.0,>=6.7.0->skimpy) (0.7.0)\n",
      "Requirement already satisfied: wcwidth in /opt/conda/lib/python3.9/site-packages (from prompt-toolkit!=3.0.0,!=3.0.1,<3.1.0,>=2.0.0->ipython>=7.23.1->ipykernel<7.0.0,>=6.7.0->skimpy) (0.2.5)\n",
      "Requirement already satisfied: six>=1.5 in /opt/conda/lib/python3.9/site-packages (from python-dateutil>=2.1->jupyter-client>=6.1.12->ipykernel<7.0.0,>=6.7.0->skimpy) (1.16.0)\n",
      "Requirement already satisfied: commonmark<0.10.0,>=0.9.0 in /opt/conda/lib/python3.9/site-packages (from rich<13.0,>=10.9->skimpy) (0.9.1)\n",
      "Requirement already satisfied: nbformat>=4.2.0 in /opt/conda/lib/python3.9/site-packages (from ipywidgets->jupyter<2.0.0,>=1.0.0->skimpy) (5.1.3)\n",
      "Requirement already satisfied: widgetsnbextension~=3.5.0 in /opt/conda/lib/python3.9/site-packages (from ipywidgets->jupyter<2.0.0,>=1.0.0->skimpy) (3.5.2)\n",
      "Requirement already satisfied: jupyterlab-widgets>=1.0.0 in /opt/conda/lib/python3.9/site-packages (from ipywidgets->jupyter<2.0.0,>=1.0.0->skimpy) (3.0.2)\n",
      "Requirement already satisfied: jsonschema!=2.5.0,>=2.4 in /opt/conda/lib/python3.9/site-packages (from nbformat>=4.2.0->ipywidgets->jupyter<2.0.0,>=1.0.0->skimpy) (3.2.0)\n",
      "Requirement already satisfied: ipython-genutils in /opt/conda/lib/python3.9/site-packages (from nbformat>=4.2.0->ipywidgets->jupyter<2.0.0,>=1.0.0->skimpy) (0.2.0)\n",
      "Requirement already satisfied: attrs>=17.4.0 in /opt/conda/lib/python3.9/site-packages (from jsonschema!=2.5.0,>=2.4->nbformat>=4.2.0->ipywidgets->jupyter<2.0.0,>=1.0.0->skimpy) (21.2.0)\n",
      "Requirement already satisfied: pyrsistent>=0.14.0 in /opt/conda/lib/python3.9/site-packages (from jsonschema!=2.5.0,>=2.4->nbformat>=4.2.0->ipywidgets->jupyter<2.0.0,>=1.0.0->skimpy) (0.17.3)\n",
      "Requirement already satisfied: Send2Trash>=1.5.0 in /opt/conda/lib/python3.9/site-packages (from notebook->jupyter<2.0.0,>=1.0.0->skimpy) (1.7.1)\n",
      "Requirement already satisfied: argon2-cffi in /opt/conda/lib/python3.9/site-packages (from notebook->jupyter<2.0.0,>=1.0.0->skimpy) (20.1.0)\n",
      "Requirement already satisfied: terminado>=0.8.3 in /opt/conda/lib/python3.9/site-packages (from notebook->jupyter<2.0.0,>=1.0.0->skimpy) (0.10.1)\n",
      "Requirement already satisfied: prometheus-client in /opt/conda/lib/python3.9/site-packages (from notebook->jupyter<2.0.0,>=1.0.0->skimpy) (0.11.0)\n",
      "Requirement already satisfied: jinja2 in /opt/conda/lib/python3.9/site-packages (from notebook->jupyter<2.0.0,>=1.0.0->skimpy) (3.0.1)\n",
      "Requirement already satisfied: cffi>=1.0.0 in /opt/conda/lib/python3.9/site-packages (from argon2-cffi->notebook->jupyter<2.0.0,>=1.0.0->skimpy) (1.14.5)\n",
      "Requirement already satisfied: pycparser in /opt/conda/lib/python3.9/site-packages (from cffi>=1.0.0->argon2-cffi->notebook->jupyter<2.0.0,>=1.0.0->skimpy) (2.20)\n",
      "Requirement already satisfied: MarkupSafe>=2.0 in /opt/conda/lib/python3.9/site-packages (from jinja2->notebook->jupyter<2.0.0,>=1.0.0->skimpy) (2.1.1)\n",
      "Requirement already satisfied: defusedxml in /opt/conda/lib/python3.9/site-packages (from nbconvert->jupyter<2.0.0,>=1.0.0->skimpy) (0.7.1)\n",
      "Requirement already satisfied: testpath in /opt/conda/lib/python3.9/site-packages (from nbconvert->jupyter<2.0.0,>=1.0.0->skimpy) (0.5.0)\n",
      "Requirement already satisfied: nbclient<0.6.0,>=0.5.0 in /opt/conda/lib/python3.9/site-packages (from nbconvert->jupyter<2.0.0,>=1.0.0->skimpy) (0.5.3)\n",
      "Requirement already satisfied: jupyterlab-pygments in /opt/conda/lib/python3.9/site-packages (from nbconvert->jupyter<2.0.0,>=1.0.0->skimpy) (0.1.2)\n",
      "Requirement already satisfied: entrypoints>=0.2.2 in /opt/conda/lib/python3.9/site-packages (from nbconvert->jupyter<2.0.0,>=1.0.0->skimpy) (0.3)\n",
      "Requirement already satisfied: mistune<2,>=0.8.1 in /opt/conda/lib/python3.9/site-packages (from nbconvert->jupyter<2.0.0,>=1.0.0->skimpy) (0.8.4)\n",
      "Requirement already satisfied: pandocfilters>=1.4.1 in /opt/conda/lib/python3.9/site-packages (from nbconvert->jupyter<2.0.0,>=1.0.0->skimpy) (1.4.2)\n",
      "Requirement already satisfied: bleach in /opt/conda/lib/python3.9/site-packages (from nbconvert->jupyter<2.0.0,>=1.0.0->skimpy) (3.3.0)\n",
      "Requirement already satisfied: async-generator in /opt/conda/lib/python3.9/site-packages (from nbclient<0.6.0,>=0.5.0->nbconvert->jupyter<2.0.0,>=1.0.0->skimpy) (1.10)\n",
      "Requirement already satisfied: webencodings in /opt/conda/lib/python3.9/site-packages (from bleach->nbconvert->jupyter<2.0.0,>=1.0.0->skimpy) (0.5.1)\n",
      "Requirement already satisfied: pyparsing!=3.0.5,>=2.0.2 in /opt/conda/lib/python3.9/site-packages (from packaging->ipykernel<7.0.0,>=6.7.0->skimpy) (2.4.7)\n",
      "Requirement already satisfied: qtpy>=2.0.1 in /opt/conda/lib/python3.9/site-packages (from qtconsole->jupyter<2.0.0,>=1.0.0->skimpy) (2.2.0)\n",
      "Note: you may need to restart the kernel to use updated packages.\n"
     ]
    }
   ],
   "source": [
    "pip install skimpy"
   ]
  },
  {
   "cell_type": "markdown",
   "metadata": {},
   "source": [
    "## Подготовка данных"
   ]
  },
  {
   "cell_type": "code",
   "execution_count": 2,
   "metadata": {},
   "outputs": [],
   "source": [
    "import pandas as pd\n",
    "import numpy as np\n",
    "import seaborn as sns\n",
    "import matplotlib.pyplot as plt\n",
    "\n",
    "from tqdm import tqdm_notebook\n",
    "from skimpy import clean_columns\n",
    "from sklearn.utils import shuffle\n",
    "from sklearn.tree import DecisionTreeClassifier\n",
    "from sklearn.ensemble import RandomForestClassifier\n",
    "from sklearn.linear_model import LogisticRegression\n",
    "from sklearn.model_selection import train_test_split\n",
    "from sklearn.preprocessing import StandardScaler, OneHotEncoder\n",
    "\n",
    "from sklearn.metrics import accuracy_score, confusion_matrix, recall_score, precision_recall_curve\n",
    "from sklearn.metrics import precision_score, f1_score, roc_curve, roc_auc_score"
   ]
  },
  {
   "cell_type": "code",
   "execution_count": 3,
   "metadata": {},
   "outputs": [],
   "source": [
    "# снимаем ограничение на количество столбцов\n",
    "pd.set_option('display.max_columns', None)\n",
    "\n",
    "# снимаем ограничение на ширину столбцов\n",
    "#pd.set_option('display.max_colwidth', None)\n",
    "\n",
    "# игнорируем предупреждения\n",
    "pd.set_option('chained_assignment', None)  \n",
    "\n",
    "# выставляем ограничение на показ знаков после запятой\n",
    "pd.options.display.float_format = '{:,.2f}'.format\n",
    "\n",
    "# устанавливаем стиль графиков\n",
    "sns.set_style('darkgrid')\n",
    "sns.set(rc={'figure.dpi':200, 'savefig.dpi':300})   \n",
    "sns.set_context('notebook')    \n",
    "sns.set_style('ticks')    "
   ]
  },
  {
   "cell_type": "code",
   "execution_count": 4,
   "metadata": {},
   "outputs": [],
   "source": [
    "try:\n",
    "    data = pd.read_csv('/datasets/Churn.csv')\n",
    "except:\n",
    "    data = pd.read_csv('Churn.csv')"
   ]
  },
  {
   "cell_type": "code",
   "execution_count": 5,
   "metadata": {},
   "outputs": [
    {
     "data": {
      "text/html": [
       "<div>\n",
       "<style scoped>\n",
       "    .dataframe tbody tr th:only-of-type {\n",
       "        vertical-align: middle;\n",
       "    }\n",
       "\n",
       "    .dataframe tbody tr th {\n",
       "        vertical-align: top;\n",
       "    }\n",
       "\n",
       "    .dataframe thead th {\n",
       "        text-align: right;\n",
       "    }\n",
       "</style>\n",
       "<table border=\"1\" class=\"dataframe\">\n",
       "  <thead>\n",
       "    <tr style=\"text-align: right;\">\n",
       "      <th></th>\n",
       "      <th>RowNumber</th>\n",
       "      <th>CustomerId</th>\n",
       "      <th>Surname</th>\n",
       "      <th>CreditScore</th>\n",
       "      <th>Geography</th>\n",
       "      <th>Gender</th>\n",
       "      <th>Age</th>\n",
       "      <th>Tenure</th>\n",
       "      <th>Balance</th>\n",
       "      <th>NumOfProducts</th>\n",
       "      <th>HasCrCard</th>\n",
       "      <th>IsActiveMember</th>\n",
       "      <th>EstimatedSalary</th>\n",
       "      <th>Exited</th>\n",
       "    </tr>\n",
       "  </thead>\n",
       "  <tbody>\n",
       "    <tr>\n",
       "      <th>0</th>\n",
       "      <td>1</td>\n",
       "      <td>15634602</td>\n",
       "      <td>Hargrave</td>\n",
       "      <td>619</td>\n",
       "      <td>France</td>\n",
       "      <td>Female</td>\n",
       "      <td>42</td>\n",
       "      <td>2.00</td>\n",
       "      <td>0.00</td>\n",
       "      <td>1</td>\n",
       "      <td>1</td>\n",
       "      <td>1</td>\n",
       "      <td>101,348.88</td>\n",
       "      <td>1</td>\n",
       "    </tr>\n",
       "    <tr>\n",
       "      <th>1</th>\n",
       "      <td>2</td>\n",
       "      <td>15647311</td>\n",
       "      <td>Hill</td>\n",
       "      <td>608</td>\n",
       "      <td>Spain</td>\n",
       "      <td>Female</td>\n",
       "      <td>41</td>\n",
       "      <td>1.00</td>\n",
       "      <td>83,807.86</td>\n",
       "      <td>1</td>\n",
       "      <td>0</td>\n",
       "      <td>1</td>\n",
       "      <td>112,542.58</td>\n",
       "      <td>0</td>\n",
       "    </tr>\n",
       "    <tr>\n",
       "      <th>2</th>\n",
       "      <td>3</td>\n",
       "      <td>15619304</td>\n",
       "      <td>Onio</td>\n",
       "      <td>502</td>\n",
       "      <td>France</td>\n",
       "      <td>Female</td>\n",
       "      <td>42</td>\n",
       "      <td>8.00</td>\n",
       "      <td>159,660.80</td>\n",
       "      <td>3</td>\n",
       "      <td>1</td>\n",
       "      <td>0</td>\n",
       "      <td>113,931.57</td>\n",
       "      <td>1</td>\n",
       "    </tr>\n",
       "    <tr>\n",
       "      <th>3</th>\n",
       "      <td>4</td>\n",
       "      <td>15701354</td>\n",
       "      <td>Boni</td>\n",
       "      <td>699</td>\n",
       "      <td>France</td>\n",
       "      <td>Female</td>\n",
       "      <td>39</td>\n",
       "      <td>1.00</td>\n",
       "      <td>0.00</td>\n",
       "      <td>2</td>\n",
       "      <td>0</td>\n",
       "      <td>0</td>\n",
       "      <td>93,826.63</td>\n",
       "      <td>0</td>\n",
       "    </tr>\n",
       "    <tr>\n",
       "      <th>4</th>\n",
       "      <td>5</td>\n",
       "      <td>15737888</td>\n",
       "      <td>Mitchell</td>\n",
       "      <td>850</td>\n",
       "      <td>Spain</td>\n",
       "      <td>Female</td>\n",
       "      <td>43</td>\n",
       "      <td>2.00</td>\n",
       "      <td>125,510.82</td>\n",
       "      <td>1</td>\n",
       "      <td>1</td>\n",
       "      <td>1</td>\n",
       "      <td>79,084.10</td>\n",
       "      <td>0</td>\n",
       "    </tr>\n",
       "  </tbody>\n",
       "</table>\n",
       "</div>"
      ],
      "text/plain": [
       "   RowNumber  CustomerId   Surname  CreditScore Geography  Gender  Age  \\\n",
       "0          1    15634602  Hargrave          619    France  Female   42   \n",
       "1          2    15647311      Hill          608     Spain  Female   41   \n",
       "2          3    15619304      Onio          502    France  Female   42   \n",
       "3          4    15701354      Boni          699    France  Female   39   \n",
       "4          5    15737888  Mitchell          850     Spain  Female   43   \n",
       "\n",
       "   Tenure    Balance  NumOfProducts  HasCrCard  IsActiveMember  \\\n",
       "0    2.00       0.00              1          1               1   \n",
       "1    1.00  83,807.86              1          0               1   \n",
       "2    8.00 159,660.80              3          1               0   \n",
       "3    1.00       0.00              2          0               0   \n",
       "4    2.00 125,510.82              1          1               1   \n",
       "\n",
       "   EstimatedSalary  Exited  \n",
       "0       101,348.88       1  \n",
       "1       112,542.58       0  \n",
       "2       113,931.57       1  \n",
       "3        93,826.63       0  \n",
       "4        79,084.10       0  "
      ]
     },
     "metadata": {},
     "output_type": "display_data"
    },
    {
     "data": {
      "text/html": [
       "<div>\n",
       "<style scoped>\n",
       "    .dataframe tbody tr th:only-of-type {\n",
       "        vertical-align: middle;\n",
       "    }\n",
       "\n",
       "    .dataframe tbody tr th {\n",
       "        vertical-align: top;\n",
       "    }\n",
       "\n",
       "    .dataframe thead th {\n",
       "        text-align: right;\n",
       "    }\n",
       "</style>\n",
       "<table border=\"1\" class=\"dataframe\">\n",
       "  <thead>\n",
       "    <tr style=\"text-align: right;\">\n",
       "      <th></th>\n",
       "      <th>RowNumber</th>\n",
       "      <th>CustomerId</th>\n",
       "      <th>Surname</th>\n",
       "      <th>CreditScore</th>\n",
       "      <th>Geography</th>\n",
       "      <th>Gender</th>\n",
       "      <th>Age</th>\n",
       "      <th>Tenure</th>\n",
       "      <th>Balance</th>\n",
       "      <th>NumOfProducts</th>\n",
       "      <th>HasCrCard</th>\n",
       "      <th>IsActiveMember</th>\n",
       "      <th>EstimatedSalary</th>\n",
       "      <th>Exited</th>\n",
       "    </tr>\n",
       "  </thead>\n",
       "  <tbody>\n",
       "    <tr>\n",
       "      <th>6254</th>\n",
       "      <td>6255</td>\n",
       "      <td>15721047</td>\n",
       "      <td>Ansell</td>\n",
       "      <td>578</td>\n",
       "      <td>Germany</td>\n",
       "      <td>Male</td>\n",
       "      <td>37</td>\n",
       "      <td>1.00</td>\n",
       "      <td>135,650.88</td>\n",
       "      <td>1</td>\n",
       "      <td>1</td>\n",
       "      <td>0</td>\n",
       "      <td>199,428.19</td>\n",
       "      <td>0</td>\n",
       "    </tr>\n",
       "    <tr>\n",
       "      <th>7045</th>\n",
       "      <td>7046</td>\n",
       "      <td>15648069</td>\n",
       "      <td>Onyemachukwu</td>\n",
       "      <td>850</td>\n",
       "      <td>France</td>\n",
       "      <td>Female</td>\n",
       "      <td>36</td>\n",
       "      <td>6.00</td>\n",
       "      <td>0.00</td>\n",
       "      <td>2</td>\n",
       "      <td>1</td>\n",
       "      <td>1</td>\n",
       "      <td>190,194.95</td>\n",
       "      <td>0</td>\n",
       "    </tr>\n",
       "    <tr>\n",
       "      <th>8558</th>\n",
       "      <td>8559</td>\n",
       "      <td>15774507</td>\n",
       "      <td>Furneaux</td>\n",
       "      <td>574</td>\n",
       "      <td>France</td>\n",
       "      <td>Female</td>\n",
       "      <td>39</td>\n",
       "      <td>5.00</td>\n",
       "      <td>119,013.86</td>\n",
       "      <td>1</td>\n",
       "      <td>1</td>\n",
       "      <td>0</td>\n",
       "      <td>103,421.91</td>\n",
       "      <td>0</td>\n",
       "    </tr>\n",
       "    <tr>\n",
       "      <th>362</th>\n",
       "      <td>363</td>\n",
       "      <td>15706365</td>\n",
       "      <td>Bianchi</td>\n",
       "      <td>648</td>\n",
       "      <td>France</td>\n",
       "      <td>Female</td>\n",
       "      <td>50</td>\n",
       "      <td>9.00</td>\n",
       "      <td>102,535.57</td>\n",
       "      <td>1</td>\n",
       "      <td>1</td>\n",
       "      <td>1</td>\n",
       "      <td>189,543.19</td>\n",
       "      <td>0</td>\n",
       "    </tr>\n",
       "    <tr>\n",
       "      <th>8869</th>\n",
       "      <td>8870</td>\n",
       "      <td>15733597</td>\n",
       "      <td>Y?an</td>\n",
       "      <td>669</td>\n",
       "      <td>France</td>\n",
       "      <td>Female</td>\n",
       "      <td>41</td>\n",
       "      <td>0.00</td>\n",
       "      <td>150,219.41</td>\n",
       "      <td>2</td>\n",
       "      <td>0</td>\n",
       "      <td>0</td>\n",
       "      <td>107,839.03</td>\n",
       "      <td>0</td>\n",
       "    </tr>\n",
       "  </tbody>\n",
       "</table>\n",
       "</div>"
      ],
      "text/plain": [
       "      RowNumber  CustomerId       Surname  CreditScore Geography  Gender  Age  \\\n",
       "6254       6255    15721047        Ansell          578   Germany    Male   37   \n",
       "7045       7046    15648069  Onyemachukwu          850    France  Female   36   \n",
       "8558       8559    15774507      Furneaux          574    France  Female   39   \n",
       "362         363    15706365       Bianchi          648    France  Female   50   \n",
       "8869       8870    15733597          Y?an          669    France  Female   41   \n",
       "\n",
       "      Tenure    Balance  NumOfProducts  HasCrCard  IsActiveMember  \\\n",
       "6254    1.00 135,650.88              1          1               0   \n",
       "7045    6.00       0.00              2          1               1   \n",
       "8558    5.00 119,013.86              1          1               0   \n",
       "362     9.00 102,535.57              1          1               1   \n",
       "8869    0.00 150,219.41              2          0               0   \n",
       "\n",
       "      EstimatedSalary  Exited  \n",
       "6254       199,428.19       0  \n",
       "7045       190,194.95       0  \n",
       "8558       103,421.91       0  \n",
       "362        189,543.19       0  \n",
       "8869       107,839.03       0  "
      ]
     },
     "metadata": {},
     "output_type": "display_data"
    },
    {
     "data": {
      "text/html": [
       "<div>\n",
       "<style scoped>\n",
       "    .dataframe tbody tr th:only-of-type {\n",
       "        vertical-align: middle;\n",
       "    }\n",
       "\n",
       "    .dataframe tbody tr th {\n",
       "        vertical-align: top;\n",
       "    }\n",
       "\n",
       "    .dataframe thead th {\n",
       "        text-align: right;\n",
       "    }\n",
       "</style>\n",
       "<table border=\"1\" class=\"dataframe\">\n",
       "  <thead>\n",
       "    <tr style=\"text-align: right;\">\n",
       "      <th></th>\n",
       "      <th>RowNumber</th>\n",
       "      <th>CustomerId</th>\n",
       "      <th>Surname</th>\n",
       "      <th>CreditScore</th>\n",
       "      <th>Geography</th>\n",
       "      <th>Gender</th>\n",
       "      <th>Age</th>\n",
       "      <th>Tenure</th>\n",
       "      <th>Balance</th>\n",
       "      <th>NumOfProducts</th>\n",
       "      <th>HasCrCard</th>\n",
       "      <th>IsActiveMember</th>\n",
       "      <th>EstimatedSalary</th>\n",
       "      <th>Exited</th>\n",
       "    </tr>\n",
       "  </thead>\n",
       "  <tbody>\n",
       "    <tr>\n",
       "      <th>9995</th>\n",
       "      <td>9996</td>\n",
       "      <td>15606229</td>\n",
       "      <td>Obijiaku</td>\n",
       "      <td>771</td>\n",
       "      <td>France</td>\n",
       "      <td>Male</td>\n",
       "      <td>39</td>\n",
       "      <td>5.00</td>\n",
       "      <td>0.00</td>\n",
       "      <td>2</td>\n",
       "      <td>1</td>\n",
       "      <td>0</td>\n",
       "      <td>96,270.64</td>\n",
       "      <td>0</td>\n",
       "    </tr>\n",
       "    <tr>\n",
       "      <th>9996</th>\n",
       "      <td>9997</td>\n",
       "      <td>15569892</td>\n",
       "      <td>Johnstone</td>\n",
       "      <td>516</td>\n",
       "      <td>France</td>\n",
       "      <td>Male</td>\n",
       "      <td>35</td>\n",
       "      <td>10.00</td>\n",
       "      <td>57,369.61</td>\n",
       "      <td>1</td>\n",
       "      <td>1</td>\n",
       "      <td>1</td>\n",
       "      <td>101,699.77</td>\n",
       "      <td>0</td>\n",
       "    </tr>\n",
       "    <tr>\n",
       "      <th>9997</th>\n",
       "      <td>9998</td>\n",
       "      <td>15584532</td>\n",
       "      <td>Liu</td>\n",
       "      <td>709</td>\n",
       "      <td>France</td>\n",
       "      <td>Female</td>\n",
       "      <td>36</td>\n",
       "      <td>7.00</td>\n",
       "      <td>0.00</td>\n",
       "      <td>1</td>\n",
       "      <td>0</td>\n",
       "      <td>1</td>\n",
       "      <td>42,085.58</td>\n",
       "      <td>1</td>\n",
       "    </tr>\n",
       "    <tr>\n",
       "      <th>9998</th>\n",
       "      <td>9999</td>\n",
       "      <td>15682355</td>\n",
       "      <td>Sabbatini</td>\n",
       "      <td>772</td>\n",
       "      <td>Germany</td>\n",
       "      <td>Male</td>\n",
       "      <td>42</td>\n",
       "      <td>3.00</td>\n",
       "      <td>75,075.31</td>\n",
       "      <td>2</td>\n",
       "      <td>1</td>\n",
       "      <td>0</td>\n",
       "      <td>92,888.52</td>\n",
       "      <td>1</td>\n",
       "    </tr>\n",
       "    <tr>\n",
       "      <th>9999</th>\n",
       "      <td>10000</td>\n",
       "      <td>15628319</td>\n",
       "      <td>Walker</td>\n",
       "      <td>792</td>\n",
       "      <td>France</td>\n",
       "      <td>Female</td>\n",
       "      <td>28</td>\n",
       "      <td>NaN</td>\n",
       "      <td>130,142.79</td>\n",
       "      <td>1</td>\n",
       "      <td>1</td>\n",
       "      <td>0</td>\n",
       "      <td>38,190.78</td>\n",
       "      <td>0</td>\n",
       "    </tr>\n",
       "  </tbody>\n",
       "</table>\n",
       "</div>"
      ],
      "text/plain": [
       "      RowNumber  CustomerId    Surname  CreditScore Geography  Gender  Age  \\\n",
       "9995       9996    15606229   Obijiaku          771    France    Male   39   \n",
       "9996       9997    15569892  Johnstone          516    France    Male   35   \n",
       "9997       9998    15584532        Liu          709    France  Female   36   \n",
       "9998       9999    15682355  Sabbatini          772   Germany    Male   42   \n",
       "9999      10000    15628319     Walker          792    France  Female   28   \n",
       "\n",
       "      Tenure    Balance  NumOfProducts  HasCrCard  IsActiveMember  \\\n",
       "9995    5.00       0.00              2          1               0   \n",
       "9996   10.00  57,369.61              1          1               1   \n",
       "9997    7.00       0.00              1          0               1   \n",
       "9998    3.00  75,075.31              2          1               0   \n",
       "9999     NaN 130,142.79              1          1               0   \n",
       "\n",
       "      EstimatedSalary  Exited  \n",
       "9995        96,270.64       0  \n",
       "9996       101,699.77       0  \n",
       "9997        42,085.58       1  \n",
       "9998        92,888.52       1  \n",
       "9999        38,190.78       0  "
      ]
     },
     "metadata": {},
     "output_type": "display_data"
    }
   ],
   "source": [
    "display(\n",
    "data.head(), data.sample(5), data.tail())"
   ]
  },
  {
   "cell_type": "code",
   "execution_count": 6,
   "metadata": {},
   "outputs": [
    {
     "data": {
      "text/plain": [
       "0"
      ]
     },
     "execution_count": 6,
     "metadata": {},
     "output_type": "execute_result"
    }
   ],
   "source": [
    "# Дубликаты\n",
    "data.duplicated().sum()"
   ]
  },
  {
   "cell_type": "code",
   "execution_count": 7,
   "metadata": {},
   "outputs": [
    {
     "name": "stdout",
     "output_type": "stream",
     "text": [
      "<class 'pandas.core.frame.DataFrame'>\n",
      "RangeIndex: 10000 entries, 0 to 9999\n",
      "Data columns (total 14 columns):\n",
      " #   Column           Non-Null Count  Dtype  \n",
      "---  ------           --------------  -----  \n",
      " 0   RowNumber        10000 non-null  int64  \n",
      " 1   CustomerId       10000 non-null  int64  \n",
      " 2   Surname          10000 non-null  object \n",
      " 3   CreditScore      10000 non-null  int64  \n",
      " 4   Geography        10000 non-null  object \n",
      " 5   Gender           10000 non-null  object \n",
      " 6   Age              10000 non-null  int64  \n",
      " 7   Tenure           9091 non-null   float64\n",
      " 8   Balance          10000 non-null  float64\n",
      " 9   NumOfProducts    10000 non-null  int64  \n",
      " 10  HasCrCard        10000 non-null  int64  \n",
      " 11  IsActiveMember   10000 non-null  int64  \n",
      " 12  EstimatedSalary  10000 non-null  float64\n",
      " 13  Exited           10000 non-null  int64  \n",
      "dtypes: float64(3), int64(8), object(3)\n",
      "memory usage: 1.1+ MB\n"
     ]
    }
   ],
   "source": [
    "data.info()"
   ]
  },
  {
   "cell_type": "code",
   "execution_count": 8,
   "metadata": {},
   "outputs": [
    {
     "data": {
      "text/plain": [
       "RowNumber            0\n",
       "CustomerId           0\n",
       "Surname              0\n",
       "CreditScore          0\n",
       "Geography            0\n",
       "Gender               0\n",
       "Age                  0\n",
       "Tenure             909\n",
       "Balance              0\n",
       "NumOfProducts        0\n",
       "HasCrCard            0\n",
       "IsActiveMember       0\n",
       "EstimatedSalary      0\n",
       "Exited               0\n",
       "dtype: int64"
      ]
     },
     "execution_count": 8,
     "metadata": {},
     "output_type": "execute_result"
    }
   ],
   "source": [
    "# Пропущенные значения\n",
    "data.isna().sum()"
   ]
  },
  {
   "cell_type": "code",
   "execution_count": 9,
   "metadata": {},
   "outputs": [
    {
     "data": {
      "text/plain": [
       "count   9,091.00\n",
       "mean        5.00\n",
       "std         2.89\n",
       "min         0.00\n",
       "25%         2.00\n",
       "50%         5.00\n",
       "75%         7.00\n",
       "max        10.00\n",
       "Name: Tenure, dtype: float64"
      ]
     },
     "execution_count": 9,
     "metadata": {},
     "output_type": "execute_result"
    }
   ],
   "source": [
    "data['Tenure'].describe()"
   ]
  },
  {
   "cell_type": "code",
   "execution_count": 10,
   "metadata": {},
   "outputs": [],
   "source": [
    "# Видим, что среднее и медианное значение равны, т.е. нет никакой разинцы чем запонить пропущенные значения\n",
    "# Также предлагаю изменить тип данных на int\n",
    "\n",
    "data['Tenure'] = data['Tenure'].fillna(data.Tenure.median()).astype('int')"
   ]
  },
  {
   "cell_type": "code",
   "execution_count": 11,
   "metadata": {},
   "outputs": [
    {
     "data": {
      "text/html": [
       "<div>\n",
       "<style scoped>\n",
       "    .dataframe tbody tr th:only-of-type {\n",
       "        vertical-align: middle;\n",
       "    }\n",
       "\n",
       "    .dataframe tbody tr th {\n",
       "        vertical-align: top;\n",
       "    }\n",
       "\n",
       "    .dataframe thead th {\n",
       "        text-align: right;\n",
       "    }\n",
       "</style>\n",
       "<table border=\"1\" class=\"dataframe\">\n",
       "  <thead>\n",
       "    <tr style=\"text-align: right;\">\n",
       "      <th></th>\n",
       "      <th>CreditScore</th>\n",
       "      <th>Geography</th>\n",
       "      <th>Gender</th>\n",
       "      <th>Age</th>\n",
       "      <th>Tenure</th>\n",
       "      <th>Balance</th>\n",
       "      <th>NumOfProducts</th>\n",
       "      <th>HasCrCard</th>\n",
       "      <th>IsActiveMember</th>\n",
       "      <th>EstimatedSalary</th>\n",
       "      <th>Exited</th>\n",
       "    </tr>\n",
       "  </thead>\n",
       "  <tbody>\n",
       "    <tr>\n",
       "      <th>0</th>\n",
       "      <td>619</td>\n",
       "      <td>France</td>\n",
       "      <td>Female</td>\n",
       "      <td>42</td>\n",
       "      <td>2</td>\n",
       "      <td>0.00</td>\n",
       "      <td>1</td>\n",
       "      <td>1</td>\n",
       "      <td>1</td>\n",
       "      <td>101,348.88</td>\n",
       "      <td>1</td>\n",
       "    </tr>\n",
       "    <tr>\n",
       "      <th>1</th>\n",
       "      <td>608</td>\n",
       "      <td>Spain</td>\n",
       "      <td>Female</td>\n",
       "      <td>41</td>\n",
       "      <td>1</td>\n",
       "      <td>83,807.86</td>\n",
       "      <td>1</td>\n",
       "      <td>0</td>\n",
       "      <td>1</td>\n",
       "      <td>112,542.58</td>\n",
       "      <td>0</td>\n",
       "    </tr>\n",
       "    <tr>\n",
       "      <th>2</th>\n",
       "      <td>502</td>\n",
       "      <td>France</td>\n",
       "      <td>Female</td>\n",
       "      <td>42</td>\n",
       "      <td>8</td>\n",
       "      <td>159,660.80</td>\n",
       "      <td>3</td>\n",
       "      <td>1</td>\n",
       "      <td>0</td>\n",
       "      <td>113,931.57</td>\n",
       "      <td>1</td>\n",
       "    </tr>\n",
       "    <tr>\n",
       "      <th>3</th>\n",
       "      <td>699</td>\n",
       "      <td>France</td>\n",
       "      <td>Female</td>\n",
       "      <td>39</td>\n",
       "      <td>1</td>\n",
       "      <td>0.00</td>\n",
       "      <td>2</td>\n",
       "      <td>0</td>\n",
       "      <td>0</td>\n",
       "      <td>93,826.63</td>\n",
       "      <td>0</td>\n",
       "    </tr>\n",
       "    <tr>\n",
       "      <th>4</th>\n",
       "      <td>850</td>\n",
       "      <td>Spain</td>\n",
       "      <td>Female</td>\n",
       "      <td>43</td>\n",
       "      <td>2</td>\n",
       "      <td>125,510.82</td>\n",
       "      <td>1</td>\n",
       "      <td>1</td>\n",
       "      <td>1</td>\n",
       "      <td>79,084.10</td>\n",
       "      <td>0</td>\n",
       "    </tr>\n",
       "  </tbody>\n",
       "</table>\n",
       "</div>"
      ],
      "text/plain": [
       "   CreditScore Geography  Gender  Age  Tenure    Balance  NumOfProducts  \\\n",
       "0          619    France  Female   42       2       0.00              1   \n",
       "1          608     Spain  Female   41       1  83,807.86              1   \n",
       "2          502    France  Female   42       8 159,660.80              3   \n",
       "3          699    France  Female   39       1       0.00              2   \n",
       "4          850     Spain  Female   43       2 125,510.82              1   \n",
       "\n",
       "   HasCrCard  IsActiveMember  EstimatedSalary  Exited  \n",
       "0          1               1       101,348.88       1  \n",
       "1          0               1       112,542.58       0  \n",
       "2          1               0       113,931.57       1  \n",
       "3          0               0        93,826.63       0  \n",
       "4          1               1        79,084.10       0  "
      ]
     },
     "execution_count": 11,
     "metadata": {},
     "output_type": "execute_result"
    }
   ],
   "source": [
    "# Предлагаю удалить первые три колонки, т.к. они не несут никакой ценности\n",
    "\n",
    "data = data.drop(['RowNumber', 'CustomerId', 'Surname'], axis=1)\n",
    "data.head()"
   ]
  },
  {
   "cell_type": "code",
   "execution_count": 12,
   "metadata": {},
   "outputs": [
    {
     "data": {
      "text/html": [
       "<pre style=\"white-space:pre;overflow-x:auto;line-height:normal;font-family:Menlo,'DejaVu Sans Mono',consolas,'Courier New',monospace\"><span style=\"color: #008080; text-decoration-color: #008080; font-weight: bold\">11</span> column names have been cleaned\n",
       "</pre>\n"
      ],
      "text/plain": [
       "\u001b[1;36m11\u001b[0m column names have been cleaned\n"
      ]
     },
     "metadata": {},
     "output_type": "display_data"
    },
    {
     "data": {
      "text/html": [
       "<div>\n",
       "<style scoped>\n",
       "    .dataframe tbody tr th:only-of-type {\n",
       "        vertical-align: middle;\n",
       "    }\n",
       "\n",
       "    .dataframe tbody tr th {\n",
       "        vertical-align: top;\n",
       "    }\n",
       "\n",
       "    .dataframe thead th {\n",
       "        text-align: right;\n",
       "    }\n",
       "</style>\n",
       "<table border=\"1\" class=\"dataframe\">\n",
       "  <thead>\n",
       "    <tr style=\"text-align: right;\">\n",
       "      <th></th>\n",
       "      <th>credit_score</th>\n",
       "      <th>geography</th>\n",
       "      <th>gender</th>\n",
       "      <th>age</th>\n",
       "      <th>tenure</th>\n",
       "      <th>balance</th>\n",
       "      <th>num_of_products</th>\n",
       "      <th>has_cr_card</th>\n",
       "      <th>is_active_member</th>\n",
       "      <th>estimated_salary</th>\n",
       "      <th>exited</th>\n",
       "    </tr>\n",
       "  </thead>\n",
       "  <tbody>\n",
       "    <tr>\n",
       "      <th>0</th>\n",
       "      <td>619</td>\n",
       "      <td>France</td>\n",
       "      <td>Female</td>\n",
       "      <td>42</td>\n",
       "      <td>2</td>\n",
       "      <td>0.00</td>\n",
       "      <td>1</td>\n",
       "      <td>1</td>\n",
       "      <td>1</td>\n",
       "      <td>101,348.88</td>\n",
       "      <td>1</td>\n",
       "    </tr>\n",
       "    <tr>\n",
       "      <th>1</th>\n",
       "      <td>608</td>\n",
       "      <td>Spain</td>\n",
       "      <td>Female</td>\n",
       "      <td>41</td>\n",
       "      <td>1</td>\n",
       "      <td>83,807.86</td>\n",
       "      <td>1</td>\n",
       "      <td>0</td>\n",
       "      <td>1</td>\n",
       "      <td>112,542.58</td>\n",
       "      <td>0</td>\n",
       "    </tr>\n",
       "    <tr>\n",
       "      <th>2</th>\n",
       "      <td>502</td>\n",
       "      <td>France</td>\n",
       "      <td>Female</td>\n",
       "      <td>42</td>\n",
       "      <td>8</td>\n",
       "      <td>159,660.80</td>\n",
       "      <td>3</td>\n",
       "      <td>1</td>\n",
       "      <td>0</td>\n",
       "      <td>113,931.57</td>\n",
       "      <td>1</td>\n",
       "    </tr>\n",
       "    <tr>\n",
       "      <th>3</th>\n",
       "      <td>699</td>\n",
       "      <td>France</td>\n",
       "      <td>Female</td>\n",
       "      <td>39</td>\n",
       "      <td>1</td>\n",
       "      <td>0.00</td>\n",
       "      <td>2</td>\n",
       "      <td>0</td>\n",
       "      <td>0</td>\n",
       "      <td>93,826.63</td>\n",
       "      <td>0</td>\n",
       "    </tr>\n",
       "    <tr>\n",
       "      <th>4</th>\n",
       "      <td>850</td>\n",
       "      <td>Spain</td>\n",
       "      <td>Female</td>\n",
       "      <td>43</td>\n",
       "      <td>2</td>\n",
       "      <td>125,510.82</td>\n",
       "      <td>1</td>\n",
       "      <td>1</td>\n",
       "      <td>1</td>\n",
       "      <td>79,084.10</td>\n",
       "      <td>0</td>\n",
       "    </tr>\n",
       "  </tbody>\n",
       "</table>\n",
       "</div>"
      ],
      "text/plain": [
       "   credit_score geography  gender  age  tenure    balance  num_of_products  \\\n",
       "0           619    France  Female   42       2       0.00                1   \n",
       "1           608     Spain  Female   41       1  83,807.86                1   \n",
       "2           502    France  Female   42       8 159,660.80                3   \n",
       "3           699    France  Female   39       1       0.00                2   \n",
       "4           850     Spain  Female   43       2 125,510.82                1   \n",
       "\n",
       "   has_cr_card  is_active_member  estimated_salary  exited  \n",
       "0            1                 1        101,348.88       1  \n",
       "1            0                 1        112,542.58       0  \n",
       "2            1                 0        113,931.57       1  \n",
       "3            0                 0         93,826.63       0  \n",
       "4            1                 1         79,084.10       0  "
      ]
     },
     "execution_count": 12,
     "metadata": {},
     "output_type": "execute_result"
    }
   ],
   "source": [
    "# Приведем наименования столбцов к хорошему стилю\n",
    "data = clean_columns(data)\n",
    "data.head()"
   ]
  },
  {
   "cell_type": "code",
   "execution_count": 13,
   "metadata": {},
   "outputs": [
    {
     "data": {
      "text/plain": [
       "France     5014\n",
       "Germany    2509\n",
       "Spain      2477\n",
       "Name: geography, dtype: int64"
      ]
     },
     "execution_count": 13,
     "metadata": {},
     "output_type": "execute_result"
    }
   ],
   "source": [
    "data['geography'].value_counts()"
   ]
  },
  {
   "cell_type": "code",
   "execution_count": 14,
   "metadata": {},
   "outputs": [
    {
     "data": {
      "text/plain": [
       "Male      5457\n",
       "Female    4543\n",
       "Name: gender, dtype: int64"
      ]
     },
     "execution_count": 14,
     "metadata": {},
     "output_type": "execute_result"
    }
   ],
   "source": [
    "data['gender'].value_counts()"
   ]
  },
  {
   "cell_type": "markdown",
   "metadata": {},
   "source": [
    "<div style=\"border:solid black 2px; padding: 10px\">  \n",
    "    \n",
    "**Промежуточный вывод:**  \n",
    "    \n",
    "1. В датасете 10000 объектов, пропуски в колонке `Tenure` заполнили медианным значением и изменили тип данных на int, явных дубликатов нет.  \n",
    "2. Удалили из датасета след.колонки `RowNumber`, `CustomerId`, `Surname`\n",
    "3. Привели наименования колонок к хорошему стилю"
   ]
  },
  {
   "cell_type": "markdown",
   "metadata": {},
   "source": [
    "## Исследование задачи"
   ]
  },
  {
   "cell_type": "code",
   "execution_count": 15,
   "metadata": {},
   "outputs": [
    {
     "data": {
      "text/html": [
       "<div>\n",
       "<style scoped>\n",
       "    .dataframe tbody tr th:only-of-type {\n",
       "        vertical-align: middle;\n",
       "    }\n",
       "\n",
       "    .dataframe tbody tr th {\n",
       "        vertical-align: top;\n",
       "    }\n",
       "\n",
       "    .dataframe thead th {\n",
       "        text-align: right;\n",
       "    }\n",
       "</style>\n",
       "<table border=\"1\" class=\"dataframe\">\n",
       "  <thead>\n",
       "    <tr style=\"text-align: right;\">\n",
       "      <th></th>\n",
       "      <th>credit_score</th>\n",
       "      <th>age</th>\n",
       "      <th>tenure</th>\n",
       "      <th>balance</th>\n",
       "      <th>num_of_products</th>\n",
       "      <th>has_cr_card</th>\n",
       "      <th>is_active_member</th>\n",
       "      <th>estimated_salary</th>\n",
       "      <th>exited</th>\n",
       "      <th>geography_Germany</th>\n",
       "      <th>geography_Spain</th>\n",
       "      <th>gender_Male</th>\n",
       "    </tr>\n",
       "  </thead>\n",
       "  <tbody>\n",
       "    <tr>\n",
       "      <th>0</th>\n",
       "      <td>619</td>\n",
       "      <td>42</td>\n",
       "      <td>2</td>\n",
       "      <td>0.00</td>\n",
       "      <td>1</td>\n",
       "      <td>1</td>\n",
       "      <td>1</td>\n",
       "      <td>101,348.88</td>\n",
       "      <td>1</td>\n",
       "      <td>0</td>\n",
       "      <td>0</td>\n",
       "      <td>0</td>\n",
       "    </tr>\n",
       "    <tr>\n",
       "      <th>1</th>\n",
       "      <td>608</td>\n",
       "      <td>41</td>\n",
       "      <td>1</td>\n",
       "      <td>83,807.86</td>\n",
       "      <td>1</td>\n",
       "      <td>0</td>\n",
       "      <td>1</td>\n",
       "      <td>112,542.58</td>\n",
       "      <td>0</td>\n",
       "      <td>0</td>\n",
       "      <td>1</td>\n",
       "      <td>0</td>\n",
       "    </tr>\n",
       "    <tr>\n",
       "      <th>2</th>\n",
       "      <td>502</td>\n",
       "      <td>42</td>\n",
       "      <td>8</td>\n",
       "      <td>159,660.80</td>\n",
       "      <td>3</td>\n",
       "      <td>1</td>\n",
       "      <td>0</td>\n",
       "      <td>113,931.57</td>\n",
       "      <td>1</td>\n",
       "      <td>0</td>\n",
       "      <td>0</td>\n",
       "      <td>0</td>\n",
       "    </tr>\n",
       "    <tr>\n",
       "      <th>3</th>\n",
       "      <td>699</td>\n",
       "      <td>39</td>\n",
       "      <td>1</td>\n",
       "      <td>0.00</td>\n",
       "      <td>2</td>\n",
       "      <td>0</td>\n",
       "      <td>0</td>\n",
       "      <td>93,826.63</td>\n",
       "      <td>0</td>\n",
       "      <td>0</td>\n",
       "      <td>0</td>\n",
       "      <td>0</td>\n",
       "    </tr>\n",
       "    <tr>\n",
       "      <th>4</th>\n",
       "      <td>850</td>\n",
       "      <td>43</td>\n",
       "      <td>2</td>\n",
       "      <td>125,510.82</td>\n",
       "      <td>1</td>\n",
       "      <td>1</td>\n",
       "      <td>1</td>\n",
       "      <td>79,084.10</td>\n",
       "      <td>0</td>\n",
       "      <td>0</td>\n",
       "      <td>1</td>\n",
       "      <td>0</td>\n",
       "    </tr>\n",
       "    <tr>\n",
       "      <th>...</th>\n",
       "      <td>...</td>\n",
       "      <td>...</td>\n",
       "      <td>...</td>\n",
       "      <td>...</td>\n",
       "      <td>...</td>\n",
       "      <td>...</td>\n",
       "      <td>...</td>\n",
       "      <td>...</td>\n",
       "      <td>...</td>\n",
       "      <td>...</td>\n",
       "      <td>...</td>\n",
       "      <td>...</td>\n",
       "    </tr>\n",
       "    <tr>\n",
       "      <th>9995</th>\n",
       "      <td>771</td>\n",
       "      <td>39</td>\n",
       "      <td>5</td>\n",
       "      <td>0.00</td>\n",
       "      <td>2</td>\n",
       "      <td>1</td>\n",
       "      <td>0</td>\n",
       "      <td>96,270.64</td>\n",
       "      <td>0</td>\n",
       "      <td>0</td>\n",
       "      <td>0</td>\n",
       "      <td>1</td>\n",
       "    </tr>\n",
       "    <tr>\n",
       "      <th>9996</th>\n",
       "      <td>516</td>\n",
       "      <td>35</td>\n",
       "      <td>10</td>\n",
       "      <td>57,369.61</td>\n",
       "      <td>1</td>\n",
       "      <td>1</td>\n",
       "      <td>1</td>\n",
       "      <td>101,699.77</td>\n",
       "      <td>0</td>\n",
       "      <td>0</td>\n",
       "      <td>0</td>\n",
       "      <td>1</td>\n",
       "    </tr>\n",
       "    <tr>\n",
       "      <th>9997</th>\n",
       "      <td>709</td>\n",
       "      <td>36</td>\n",
       "      <td>7</td>\n",
       "      <td>0.00</td>\n",
       "      <td>1</td>\n",
       "      <td>0</td>\n",
       "      <td>1</td>\n",
       "      <td>42,085.58</td>\n",
       "      <td>1</td>\n",
       "      <td>0</td>\n",
       "      <td>0</td>\n",
       "      <td>0</td>\n",
       "    </tr>\n",
       "    <tr>\n",
       "      <th>9998</th>\n",
       "      <td>772</td>\n",
       "      <td>42</td>\n",
       "      <td>3</td>\n",
       "      <td>75,075.31</td>\n",
       "      <td>2</td>\n",
       "      <td>1</td>\n",
       "      <td>0</td>\n",
       "      <td>92,888.52</td>\n",
       "      <td>1</td>\n",
       "      <td>1</td>\n",
       "      <td>0</td>\n",
       "      <td>1</td>\n",
       "    </tr>\n",
       "    <tr>\n",
       "      <th>9999</th>\n",
       "      <td>792</td>\n",
       "      <td>28</td>\n",
       "      <td>5</td>\n",
       "      <td>130,142.79</td>\n",
       "      <td>1</td>\n",
       "      <td>1</td>\n",
       "      <td>0</td>\n",
       "      <td>38,190.78</td>\n",
       "      <td>0</td>\n",
       "      <td>0</td>\n",
       "      <td>0</td>\n",
       "      <td>0</td>\n",
       "    </tr>\n",
       "  </tbody>\n",
       "</table>\n",
       "<p>10000 rows × 12 columns</p>\n",
       "</div>"
      ],
      "text/plain": [
       "      credit_score  age  tenure    balance  num_of_products  has_cr_card  \\\n",
       "0              619   42       2       0.00                1            1   \n",
       "1              608   41       1  83,807.86                1            0   \n",
       "2              502   42       8 159,660.80                3            1   \n",
       "3              699   39       1       0.00                2            0   \n",
       "4              850   43       2 125,510.82                1            1   \n",
       "...            ...  ...     ...        ...              ...          ...   \n",
       "9995           771   39       5       0.00                2            1   \n",
       "9996           516   35      10  57,369.61                1            1   \n",
       "9997           709   36       7       0.00                1            0   \n",
       "9998           772   42       3  75,075.31                2            1   \n",
       "9999           792   28       5 130,142.79                1            1   \n",
       "\n",
       "      is_active_member  estimated_salary  exited  geography_Germany  \\\n",
       "0                    1        101,348.88       1                  0   \n",
       "1                    1        112,542.58       0                  0   \n",
       "2                    0        113,931.57       1                  0   \n",
       "3                    0         93,826.63       0                  0   \n",
       "4                    1         79,084.10       0                  0   \n",
       "...                ...               ...     ...                ...   \n",
       "9995                 0         96,270.64       0                  0   \n",
       "9996                 1        101,699.77       0                  0   \n",
       "9997                 1         42,085.58       1                  0   \n",
       "9998                 0         92,888.52       1                  1   \n",
       "9999                 0         38,190.78       0                  0   \n",
       "\n",
       "      geography_Spain  gender_Male  \n",
       "0                   0            0  \n",
       "1                   1            0  \n",
       "2                   0            0  \n",
       "3                   0            0  \n",
       "4                   1            0  \n",
       "...               ...          ...  \n",
       "9995                0            1  \n",
       "9996                0            1  \n",
       "9997                0            0  \n",
       "9998                0            1  \n",
       "9999                0            0  \n",
       "\n",
       "[10000 rows x 12 columns]"
      ]
     },
     "execution_count": 15,
     "metadata": {},
     "output_type": "execute_result"
    }
   ],
   "source": [
    "# Преобразуем категориальные значения в численные с помощью техники прямого кодирования (One-Hot Encoding, OHE)\n",
    "\n",
    "df_ohe = pd.get_dummies(data, drop_first=True, columns=['geography', 'gender'])\n",
    "df_ohe"
   ]
  },
  {
   "cell_type": "code",
   "execution_count": 16,
   "metadata": {},
   "outputs": [],
   "source": [
    "#encoder = OneHotEncoder(handle_unknown='ignore', drop='first') #удаляем первый столбец чтобы не попасть в дамми-ловушку\n",
    "\n",
    "#features_train_ohe = pd.DataFrame(\n",
    "#encoder.fit_transform(features_train[geography]).toarray(),\n",
    "#columns=encoder.get_feature_names_out()\n",
    "#)\n",
    "\n",
    "#features_valid_ohe = pd.DataFrame(\n",
    "#encoder.transform(features_valid[var_categorical]).toarray(),\n",
    "#columns=encoder.get_feature_names_out()\n",
    "#)\n",
    "#\n",
    "#features_test_ohe = pd.DataFrame(\n",
    "#encoder.transform(features_test[var_categorical]).toarray(),\n",
    "#columns=encoder.get_feature_names_out()\n",
    "#)"
   ]
  },
  {
   "cell_type": "code",
   "execution_count": 17,
   "metadata": {},
   "outputs": [],
   "source": [
    "# Выделим из датасета target(целевой признак) и features(все остальные признаки)\n",
    "\n",
    "features = df_ohe.drop('exited', axis=1)\n",
    "target = df_ohe['exited']"
   ]
  },
  {
   "cell_type": "code",
   "execution_count": 18,
   "metadata": {},
   "outputs": [],
   "source": [
    "# Предлагаю разделить исходный датасет на обучающую, валидационную и тестовую выборки в пропорции 3:1:1\n",
    "# Применим агрумент stratify для корректного разбиения датасета\n",
    "\n",
    "# Разделим данные на промежуточную и тестовую(20%)\n",
    "features_interim, features_test, target_interim, target_test = train_test_split(\n",
    "    features, target, test_size=0.20, random_state=12345, stratify=target)\n",
    "\n",
    "# Теперь промежуточную разделим на обучающую и валидационную \n",
    "features_train, features_valid, target_train, target_valid = train_test_split(\n",
    "    features_interim, target_interim, test_size=0.25, random_state=12345, stratify=target_interim)"
   ]
  },
  {
   "cell_type": "code",
   "execution_count": 19,
   "metadata": {},
   "outputs": [
    {
     "name": "stdout",
     "output_type": "stream",
     "text": [
      "(6000, 11)\n",
      "(2000, 11)\n",
      "(2000, 11)\n"
     ]
    }
   ],
   "source": [
    "# Проигнорим предупреждение SettingWithCopy\n",
    "pd.options.mode.chained_assignment = None\n",
    "\n",
    "numeric = ['credit_score', 'age', 'tenure', 'balance', 'estimated_salary']\n",
    "\n",
    "# Создадим объект структруы StandardScaler\n",
    "scaler = StandardScaler()\n",
    "\n",
    "# Настроим объект на обучающих данных (настройка - это вычисление среднего и дисперсии)\n",
    "scaler.fit(features_train[numeric])\n",
    "\n",
    "# Преобразуем обучающую выборку функцией transform()\n",
    "# то есть нормируем значение признаков, все значения становятся в диапозоне от 0 до 1)\n",
    "features_train[numeric] = scaler.transform(features_train[numeric])\n",
    "features_valid[numeric] = scaler.transform(features_valid[numeric])\n",
    "features_test[numeric] = scaler.transform(features_test[numeric])\n",
    "\n",
    "print(features_train.shape)\n",
    "print(features_valid.shape)\n",
    "print(features_test.shape)"
   ]
  },
  {
   "cell_type": "markdown",
   "metadata": {},
   "source": [
    "<div style=\"border:solid black 2px; padding: 10px\">  \n",
    "    \n",
    "**Комментарий:**  \n",
    "\n",
    "Данные подготовлены для исследовательской работы"
   ]
  },
  {
   "cell_type": "markdown",
   "metadata": {},
   "source": [
    "**Задание №2. Исследуйте баланс классов, обучите модель без учёта дисбаланса. Кратко опишите выводы.**"
   ]
  },
  {
   "cell_type": "code",
   "execution_count": 20,
   "metadata": {},
   "outputs": [
    {
     "data": {
      "text/plain": [
       "0    7963\n",
       "1    2037\n",
       "Name: exited, dtype: int64"
      ]
     },
     "execution_count": 20,
     "metadata": {},
     "output_type": "execute_result"
    }
   ],
   "source": [
    "# Посмотрим на значения оттока и оставшихся клиентов:\n",
    "data['exited'].value_counts()"
   ]
  },
  {
   "cell_type": "code",
   "execution_count": 21,
   "metadata": {},
   "outputs": [
    {
     "data": {
      "image/png": "[encoded data removed]",
      "text/plain": [
       "<Figure size 3000x1200 with 1 Axes>"
      ]
     },
     "metadata": {},
     "output_type": "display_data"
    }
   ],
   "source": [
    "# Посмотрим как зависит возраст и отток клиентов\n",
    "data.groupby('age').agg({'exited':'sum'}).plot(kind='bar', title='Гистограмма возраста и оттока', figsize=(15,6))\n",
    "plt.xlabel('Возраст')\n",
    "plt.ylabel('Отток клиентов')\n",
    "plt.show()"
   ]
  },
  {
   "cell_type": "code",
   "execution_count": 22,
   "metadata": {},
   "outputs": [
    {
     "data": {
      "image/png": "[encoded data removed]",
      "text/plain": [
       "<Figure size 3000x1200 with 1 Axes>"
      ]
     },
     "metadata": {},
     "output_type": "display_data"
    }
   ],
   "source": [
    "# Посмотрим с какой страны больше отток клиентов\n",
    "data.groupby('geography').agg({'exited':'sum'}).plot(kind='bar', title='Гистограмма возраста и оттока', figsize=(15,6))\n",
    "plt.xlabel('Страна')\n",
    "plt.ylabel('Отток клиентов')\n",
    "plt.show()"
   ]
  },
  {
   "cell_type": "markdown",
   "metadata": {},
   "source": [
    "<div style=\"border:solid black 2px; padding: 10px\">  \n",
    "    \n",
    "**Комментарий:**  \n",
    "    \n",
    "Мы видим, что состав классов в таргете показывает, что количество ушедших клиентов (положительных ответов) почти в 4 раза меньше чем оставшихся в банке. И по гистограмме распределения видно, что отток зависит от возраста и распределено нормально. Больше всего уходит клиентов в возрасте от 37 до 50 лет, c Франции и Германии"
   ]
  },
  {
   "cell_type": "markdown",
   "metadata": {},
   "source": [
    "###  Модель дерева решений для задачи классификации при дисбалансе классов"
   ]
  },
  {
   "cell_type": "code",
   "execution_count": 23,
   "metadata": {},
   "outputs": [
    {
     "name": "stderr",
     "output_type": "stream",
     "text": [
      "<timed exec>:6: TqdmDeprecationWarning: This function will be removed in tqdm==5.0.0\n",
      "Please use `tqdm.notebook.tqdm` instead of `tqdm.tqdm_notebook`\n"
     ]
    },
    {
     "data": {
      "application/vnd.jupyter.widget-view+json": {
       "model_id": "1405a29cdad14ad48c4e0ed36cd25d8f",
       "version_major": 2,
       "version_minor": 0
      },
      "text/plain": [
       "  0%|          | 0/10 [00:00<?, ?it/s]"
      ]
     },
     "metadata": {},
     "output_type": "display_data"
    },
    {
     "name": "stdout",
     "output_type": "stream",
     "text": [
      "Наилучшая модель \"дерево решений\" для валидационной выборки: DecisionTreeClassifier(max_depth=8, random_state=12345)\n",
      "Глубина дерева наилучшей модели \"дерево решений\" для валидационной выборки: 8\n",
      "F1-мера наилучшей модели \"дерево решений\" для валидационной выборки: 0.5816618911174785\n",
      "AUC-ROC наилучшей модели \"дерево решений\" для валидационной выборки: 0.8097265215909283\n",
      "CPU times: user 242 ms, sys: 10.9 ms, total: 253 ms\n",
      "Wall time: 271 ms\n"
     ]
    }
   ],
   "source": [
    "%%time\n",
    "\n",
    "best_model = None\n",
    "best_depth = 0\n",
    "best_f1 = 0\n",
    "best_auc_roc = 0\n",
    "\n",
    "for depth in tqdm_notebook(range(1, 11)):\n",
    "    # инициализируем модель - дерево решений\n",
    "    model = DecisionTreeClassifier(random_state=12345, max_depth=depth)\n",
    "    \n",
    "    # обучим модель на обучающей выборке\n",
    "    model.fit(features_train, target_train)\n",
    "    \n",
    "    prediction_train = pd.Series(model.predict(features_train))\n",
    "    \n",
    "    # F1 для дерева решений на обуч.выборке\n",
    "    f1_train = f1_score(target_train, prediction_train)\n",
    "    \n",
    "    # предсказание модели на валидационной выборке\n",
    "    prediction_valid = pd.Series(model.predict(features_valid))\n",
    "    \n",
    "    # F1 для дерева решений на валидационной.выборке\n",
    "    f1_valid = f1_score(target_valid, prediction_valid)\n",
    "    \n",
    "    # Найдем вероятность классов на валидационной выборке\n",
    "    probabilities_valid = model.predict_proba(features_valid)\n",
    "    \n",
    "    # Сохраним значения класса 1\n",
    "    probab_one_valid = probabilities_valid[:, 1]\n",
    "    \n",
    "    # AUC-ROC для модели дерева решений\n",
    "    roc_auc_valid = roc_auc_score(target_valid, probab_one_valid)\n",
    "    \n",
    "    if f1_valid > best_f1:\n",
    "        best_model = model\n",
    "        best_depth = depth\n",
    "        best_f1 = f1_valid\n",
    "        best_auc_roc = roc_auc_valid\n",
    "        \n",
    "print('Наилучшая модель \"дерево решений\" для валидационной выборки:', best_model)\n",
    "print('Глубина дерева наилучшей модели \"дерево решений\" для валидационной выборки:', best_depth)\n",
    "print('F1-мера наилучшей модели \"дерево решений\" для валидационной выборки:', best_f1)\n",
    "print('AUC-ROC наилучшей модели \"дерево решений\" для валидационной выборки:', best_auc_roc)"
   ]
  },
  {
   "cell_type": "markdown",
   "metadata": {},
   "source": [
    "<div style=\"border:solid black 2px; padding: 10px\">  \n",
    "    \n",
    "**Комментарий:**  \n",
    "    \n",
    "Видим, что F1-мера наилучшей модели для валидационной выборки состовляет = 0.5816618911174785  \n",
    "AUC-ROC = 0.8097265215909283 соответственно, где глубина состовляла 8"
   ]
  },
  {
   "cell_type": "markdown",
   "metadata": {},
   "source": [
    "### Модель случайного леса для задачи классификации при дисбалансе классов"
   ]
  },
  {
   "cell_type": "code",
   "execution_count": 24,
   "metadata": {},
   "outputs": [
    {
     "name": "stderr",
     "output_type": "stream",
     "text": [
      "<timed exec>:7: TqdmDeprecationWarning: This function will be removed in tqdm==5.0.0\n",
      "Please use `tqdm.notebook.tqdm` instead of `tqdm.tqdm_notebook`\n"
     ]
    },
    {
     "data": {
      "application/vnd.jupyter.widget-view+json": {
       "model_id": "caa201e0eb9e46f6adea409f092452e4",
       "version_major": 2,
       "version_minor": 0
      },
      "text/plain": [
       "  0%|          | 0/10 [00:00<?, ?it/s]"
      ]
     },
     "metadata": {},
     "output_type": "display_data"
    },
    {
     "name": "stdout",
     "output_type": "stream",
     "text": [
      "Наилучшая модель \"случайный лес\" для валидационной выборки: DecisionTreeClassifier(max_depth=10, random_state=12345)\n",
      "Количество деревьев наилучшей модели \"случайный лес\" для валидационной выборки: 39\n",
      "Глубина дерева наилучшей модели \"случайный лес\" для валидационной выборки: 10\n",
      "F1-мера наилучшей модели \"случайный лес\" для валидационной выборки: 0.5709677419354838\n",
      "AUC-ROC наилучшей модели \"случайный лес\" для валидационной выборки: 0.778875177180262\n",
      "CPU times: user 4min 12s, sys: 810 ms, total: 4min 13s\n",
      "Wall time: 4min 13s\n"
     ]
    }
   ],
   "source": [
    "%%time\n",
    "\n",
    "best_model = None\n",
    "best_depth = 0\n",
    "best_est = 0\n",
    "best_f1 = 0\n",
    "best_auc_roc = 0\n",
    "\n",
    "for depth in tqdm_notebook(range(1, 11)):\n",
    "    for est in range(1, 101):\n",
    "    # инициализируем модель - дерево решений\n",
    "        model_rf = RandomForestClassifier(max_depth=depth, n_estimators=est, random_state=12345)\n",
    "\n",
    "        # обучим модель на обучающей выборке\n",
    "        model_rf.fit(features_train, target_train)\n",
    "\n",
    "        prediction_train = pd.Series(model_rf.predict(features_train))\n",
    "\n",
    "        # F1 для дерева решений на обуч.выборке\n",
    "        f1_train = f1_score(target_train, prediction_train)\n",
    "\n",
    "        # предсказание модели на валидационной выборке\n",
    "        prediction_valid = pd.Series(model_rf.predict(features_valid))\n",
    "\n",
    "        # F1 для дерева решений на валидационной.выборке\n",
    "        f1_valid = f1_score(target_valid, prediction_valid)\n",
    "\n",
    "        # Найдем вероятность классов на валидационной выборке\n",
    "        probabilities_valid = model.predict_proba(features_valid)\n",
    "\n",
    "        # Сохраним значения класса 1\n",
    "        probab_one_valid = probabilities_valid[:, 1]\n",
    "    \n",
    "        # AUC-ROC для модели дерева решений\n",
    "        roc_auc_valid = roc_auc_score(target_valid, probab_one_valid)\n",
    "\n",
    "        if f1_valid > best_f1:\n",
    "            best_model = model\n",
    "            best_depth = depth\n",
    "            best_est = est\n",
    "            best_f1 = f1_valid\n",
    "            best_auc_roc = roc_auc_valid\n",
    "\n",
    "print('Наилучшая модель \"случайный лес\" для валидационной выборки:', best_model)\n",
    "print('Количество деревьев наилучшей модели \"случайный лес\" для валидационной выборки:', best_est)\n",
    "print('Глубина дерева наилучшей модели \"случайный лес\" для валидационной выборки:', best_depth)\n",
    "print('F1-мера наилучшей модели \"случайный лес\" для валидационной выборки:', best_f1)\n",
    "print('AUC-ROC наилучшей модели \"случайный лес\" для валидационной выборки:', best_auc_roc)"
   ]
  },
  {
   "cell_type": "markdown",
   "metadata": {},
   "source": [
    "<div style=\"border:solid black 2px; padding: 10px\">  \n",
    "    \n",
    "**Комментарий:**  \n",
    "    \n",
    "Здесь мы видим, что F1 у **случайного леса** чуть выше **дерева решений**, что состовляет 0.6450116009280743"
   ]
  },
  {
   "cell_type": "markdown",
   "metadata": {},
   "source": [
    "### Модель логистической регрессии для задачи классификации при дисбалансе классов"
   ]
  },
  {
   "cell_type": "code",
   "execution_count": 25,
   "metadata": {},
   "outputs": [
    {
     "name": "stdout",
     "output_type": "stream",
     "text": [
      "F1-мера модели 'логистическая регрессия' на валидационной выборке: 0.3214953271028037\n",
      "AUC-ROC модели 'логистическая регрессия' на валидационной выборке: 0.7875656858707706\n",
      "CPU times: user 133 ms, sys: 144 ms, total: 277 ms\n",
      "Wall time: 285 ms\n"
     ]
    }
   ],
   "source": [
    "%%time\n",
    "\n",
    "model = LogisticRegression(random_state=12345, solver='lbfgs', max_iter=1000)\n",
    "model.fit(features_train, target_train)\n",
    "\n",
    "prediction_valid = pd.Series(model.predict(features_valid))\n",
    "f1_valid = f1_score(target_valid, prediction_valid)\n",
    "\n",
    "probab_valid = model.predict_proba(features_valid) \n",
    "probab_valid_one = probab_valid[:, 1]\n",
    "roc_auc_valid = roc_auc_score(target_valid, probab_valid_one)\n",
    "\n",
    "print(\"F1-мера модели 'логистическая регрессия' на валидационной выборке:\", f1_valid)\n",
    "print(\"AUC-ROC модели 'логистическая регрессия' на валидационной выборке:\", roc_auc_valid)"
   ]
  },
  {
   "cell_type": "markdown",
   "metadata": {},
   "source": [
    "<div style=\"border:solid black 2px; padding: 10px\">  \n",
    "    \n",
    "**Комментарий:**  \n",
    "    \n",
    "Значение F1 у логистической регрессии наименьшее = 0.3214953271028037  \n",
    "Так, по итогу при дисбалансе классов лидирует модель **слуйчаный лес** "
   ]
  },
  {
   "cell_type": "code",
   "execution_count": 26,
   "metadata": {},
   "outputs": [
    {
     "data": {
      "text/plain": [
       "0    4777\n",
       "1    1223\n",
       "Name: exited, dtype: int64"
      ]
     },
     "execution_count": 26,
     "metadata": {},
     "output_type": "execute_result"
    }
   ],
   "source": [
    "#2. Выведем баланс классов в таргете на обучающей выборке:\n",
    "target_train.value_counts()"
   ]
  },
  {
   "cell_type": "code",
   "execution_count": 27,
   "metadata": {},
   "outputs": [
    {
     "data": {
      "text/plain": [
       "array([[4747,   30],\n",
       "       [ 579,  644]])"
      ]
     },
     "execution_count": 27,
     "metadata": {},
     "output_type": "execute_result"
    }
   ],
   "source": [
    "# расчитаем матрицу ошибок для модели случайного леса\n",
    "predictions_train = pd.Series(model_rf.predict(features_train))\n",
    "confusion_matrix(target_train, predictions_train)"
   ]
  },
  {
   "cell_type": "code",
   "execution_count": 28,
   "metadata": {},
   "outputs": [
    {
     "data": {
      "text/plain": [
       "0    1593\n",
       "1     407\n",
       "Name: exited, dtype: int64"
      ]
     },
     "execution_count": 28,
     "metadata": {},
     "output_type": "execute_result"
    }
   ],
   "source": [
    "# 2. Выведем баланс классов в таргете на валидационной выборке:\n",
    "target_valid.value_counts()"
   ]
  },
  {
   "cell_type": "code",
   "execution_count": 29,
   "metadata": {},
   "outputs": [
    {
     "data": {
      "text/plain": [
       "array([[1559,   34],\n",
       "       [ 231,  176]])"
      ]
     },
     "execution_count": 29,
     "metadata": {},
     "output_type": "execute_result"
    }
   ],
   "source": [
    "predictions_valid = pd.Series(model_rf.predict(features_valid))\n",
    "confusion_matrix(target_valid, predictions_valid)"
   ]
  },
  {
   "cell_type": "markdown",
   "metadata": {},
   "source": [
    "Очевидно, что на валидационной выборке при дисбалансе классов модель случайного леса с циклом for часто видит отрицательные ответы там, где их нет: ложноотрицательные ответы составляют 37% от общего количества положительных ответов"
   ]
  },
  {
   "cell_type": "markdown",
   "metadata": {},
   "source": [
    "## Борьба с дисбалансом"
   ]
  },
  {
   "cell_type": "code",
   "execution_count": 30,
   "metadata": {},
   "outputs": [],
   "source": [
    "#X = data.drop(\"exited\",axis=1)\n",
    "#y = data[\"exited\"]\n",
    "#X_sm,y_sm = smote.fit_resample(X.astype(float),y)\n",
    "#x_train,x_test,y_train,y_test = train_test_split(X_sm,y_sm,test_size=0.2,random_state=42)\n",
    "#len(x_train),len(x_test),len(y_train),len(y_test)"
   ]
  },
  {
   "cell_type": "markdown",
   "metadata": {},
   "source": [
    "**Задание №3. Улучшите качество модели, учитывая дисбаланс классов. Обучите разные модели и найдите лучшую. Кратко опишите выводы.**\n",
    "\n",
    "Проделаем те же самые действия, что и в задании 2, но при этом улучшим качество моделей при помощи:\n",
    "\n",
    "1. взвешивания классов - добавление в модели параметра `class_weight='balanced'`,\n",
    "2. увеличения обучающей выборки засчёт объектов положительного класса в таргете - применение техники upsampling,\n",
    "3. уменьшения обучающей выборки засчёт объектов отрицательного класса в таргете - применение техники downsampling.\n"
   ]
  },
  {
   "cell_type": "code",
   "execution_count": 31,
   "metadata": {},
   "outputs": [],
   "source": [
    "# Функция для улучшения качества модели с помощью увеличения выборки\n",
    "def upsample(features, target, repeat):\n",
    "    features_zeros = features[target == 0]\n",
    "    features_ones = features[target == 1]\n",
    "    target_zeros = target[target == 0]\n",
    "    target_ones = target[target == 1]\n",
    "    \n",
    "    # Объединим\n",
    "    repeat = 2\n",
    "    features_upsampled = pd.concat([features_zeros] + [features_ones] * repeat)\n",
    "    target_upsampled = pd.concat([target_zeros] + [target_ones] * repeat)\n",
    "    \n",
    "    # Перемещаем данные \n",
    "    features_upsampled, target_upsampled = shuffle(features_upsampled, target_upsampled, random_state=12345)\n",
    "    return features_upsampled, target_upsampled"
   ]
  },
  {
   "cell_type": "code",
   "execution_count": 32,
   "metadata": {},
   "outputs": [
    {
     "name": "stdout",
     "output_type": "stream",
     "text": [
      "(7223, 11)\n",
      "(7223,)\n"
     ]
    }
   ],
   "source": [
    "# Протестируем функцию\n",
    "features_train_upsampled, target_train_upsampled = upsample(features_train, target_train, 2)\n",
    "print(features_train_upsampled.shape)\n",
    "print(target_train_upsampled.shape)"
   ]
  },
  {
   "cell_type": "code",
   "execution_count": 33,
   "metadata": {},
   "outputs": [],
   "source": [
    "# Функция для уменьшения представленной класса в выборке \n",
    "def downsample(features, target, fraction):\n",
    "    features_zeros = features[target == 0]\n",
    "    features_ones = features[target == 1]\n",
    "    target_zeros = target[target == 0]\n",
    "    target_ones = target[target == 1]  \n",
    "    \n",
    "    # Объединим\n",
    "    frection = 0.5\n",
    "    features_downsample = pd.concat([features_zeros.sample(frac=fraction, random_state = 12345)] + [features_ones])\n",
    "    target_downsample = pd.concat([target_zeros.sample(frac=fraction, random_state = 12345)] + [target_ones])\n",
    "    \n",
    "    # Перемещаем данные\n",
    "    features_downsample, target_downsample = shuffle(features_downsample, target_downsample, random_state=12345)\n",
    "    return features_downsample, target_downsample"
   ]
  },
  {
   "cell_type": "code",
   "execution_count": 34,
   "metadata": {},
   "outputs": [
    {
     "name": "stdout",
     "output_type": "stream",
     "text": [
      "(4834, 11)\n",
      "(4834,)\n"
     ]
    }
   ],
   "source": [
    "# Протестируем функцию \n",
    "features_train_downsampled, target_train_downsampled = downsample(features_train_upsampled,\n",
    "                                                                  target_train_upsampled, 0.5)\n",
    "print(features_train_downsampled.shape)\n",
    "print(target_train_downsampled.shape)"
   ]
  },
  {
   "cell_type": "code",
   "execution_count": 35,
   "metadata": {},
   "outputs": [
    {
     "data": {
      "text/plain": [
       "1   0.51\n",
       "0   0.49\n",
       "Name: exited, dtype: float64"
      ]
     },
     "execution_count": 35,
     "metadata": {},
     "output_type": "execute_result"
    }
   ],
   "source": [
    "target_train_downsampled.value_counts(normalize=True)"
   ]
  },
  {
   "cell_type": "markdown",
   "metadata": {},
   "source": [
    "### Модель дерева решений для задачи классификации при сбалансированной выборке"
   ]
  },
  {
   "cell_type": "code",
   "execution_count": 36,
   "metadata": {},
   "outputs": [
    {
     "name": "stderr",
     "output_type": "stream",
     "text": [
      "<timed exec>:6: TqdmDeprecationWarning: This function will be removed in tqdm==5.0.0\n",
      "Please use `tqdm.notebook.tqdm` instead of `tqdm.tqdm_notebook`\n"
     ]
    },
    {
     "data": {
      "application/vnd.jupyter.widget-view+json": {
       "model_id": "3e90b6eeb09d424bbcbe075c15f79829",
       "version_major": 2,
       "version_minor": 0
      },
      "text/plain": [
       "  0%|          | 0/10 [00:00<?, ?it/s]"
      ]
     },
     "metadata": {},
     "output_type": "display_data"
    },
    {
     "name": "stdout",
     "output_type": "stream",
     "text": [
      "Наилучшая модель \"дерево решений\" для валидационной выборки: DecisionTreeClassifier(max_depth=8, random_state=12345)\n",
      "Глубина дерева наилучшей модели \"дерево решений\" для валидационной выборки: 8\n",
      "F1-мера наилучшей модели \"дерево решений\" для валидационной выборки: 0.5697560975609756\n",
      "AUC-ROC наилучшей модели \"дерево решений\" для валидационной выборки: 0.8000766560088595\n",
      "CPU times: user 218 ms, sys: 16 µs, total: 218 ms\n",
      "Wall time: 221 ms\n"
     ]
    }
   ],
   "source": [
    "%%time\n",
    "\n",
    "best_model = None\n",
    "best_depth = 0\n",
    "best_f1 = 0\n",
    "best_auc_roc = 0\n",
    "\n",
    "for depth in tqdm_notebook(range(1, 11)):\n",
    "    # инициализируем модель - дерево решений\n",
    "    model = DecisionTreeClassifier(random_state=12345, max_depth=depth)\n",
    "    \n",
    "    # обучим модель на обучающей выборке\n",
    "    model.fit(features_train_downsampled, target_train_downsampled)\n",
    "    \n",
    "    prediction_train = pd.Series(model.predict(features_train_downsampled))\n",
    "    \n",
    "    # F1 для дерева решений на обуч.выборке\n",
    "    f1_train = f1_score(target_train_downsampled, prediction_train)\n",
    "    \n",
    "    # предсказание модели на валидационной выборке\n",
    "    prediction_valid = pd.Series(model.predict(features_valid))\n",
    "    \n",
    "    # F1 для дерева решений на валидационной.выборке\n",
    "    f1_valid = f1_score(target_valid, prediction_valid)\n",
    "    \n",
    "    # найдем вероятность классов на валидационной выборке\n",
    "    probabilities_valid = model.predict_proba(features_valid)\n",
    "    \n",
    "    # сохраним значения класса 1\n",
    "    probab_one_valid = probabilities_valid[:, 1]\n",
    "    \n",
    "    # AUC-ROC для модели дерева решений\n",
    "    roc_auc_valid = roc_auc_score(target_valid, probab_one_valid)\n",
    "    \n",
    "    if f1_valid > best_f1:\n",
    "        best_model = model\n",
    "        best_depth = depth\n",
    "        best_f1 = f1_valid\n",
    "        best_auc_roc = roc_auc_valid\n",
    "        \n",
    "print('Наилучшая модель \"дерево решений\" для валидационной выборки:', best_model)\n",
    "print('Глубина дерева наилучшей модели \"дерево решений\" для валидационной выборки:', best_depth)\n",
    "print('F1-мера наилучшей модели \"дерево решений\" для валидационной выборки:', best_f1)\n",
    "print('AUC-ROC наилучшей модели \"дерево решений\" для валидационной выборки:', best_auc_roc)"
   ]
  },
  {
   "cell_type": "markdown",
   "metadata": {},
   "source": [
    "<div style=\"border:solid black 2px; padding: 10px\">  \n",
    "    \n",
    "**Комментарий:**  \n",
    "Наилучшая модель \"дерево решений\" на валидационной выборке имеет F1-меру = 0.5697560975609756  \n",
    "AUC-ROC = 0.8000766560088595 при глубине дерева depth = 7. Т.е. F1-мера не превышает заданный порог 0,59."
   ]
  },
  {
   "cell_type": "markdown",
   "metadata": {},
   "source": [
    "### Модель случайного леса для задачи классификации при сбалансированной выборке"
   ]
  },
  {
   "cell_type": "code",
   "execution_count": 37,
   "metadata": {},
   "outputs": [
    {
     "name": "stderr",
     "output_type": "stream",
     "text": [
      "<timed exec>:7: TqdmDeprecationWarning: This function will be removed in tqdm==5.0.0\n",
      "Please use `tqdm.notebook.tqdm` instead of `tqdm.tqdm_notebook`\n"
     ]
    },
    {
     "data": {
      "application/vnd.jupyter.widget-view+json": {
       "model_id": "61a8cf6c0250407986388e9a9facf9b1",
       "version_major": 2,
       "version_minor": 0
      },
      "text/plain": [
       "  0%|          | 0/10 [00:00<?, ?it/s]"
      ]
     },
     "metadata": {},
     "output_type": "display_data"
    },
    {
     "name": "stdout",
     "output_type": "stream",
     "text": [
      "Наилучшая модель \"случайный лес\" для валидационной выборки: RandomForestClassifier(max_depth=9, n_estimators=39, random_state=12345)\n",
      "Количество деревьев наилучшей модели \"случайный лес\" для валидационной выборки: 39\n",
      "Глубина дерева наилучшей модели \"случайный лес\" для валидационной выборки: 9\n",
      "F1-мера наилучшей модели \"случайный лес\" для валидационной выборки: 0.624\n",
      "AUC-ROC наилучшей модели \"случайный лес\" для валидационной выборки: 0.8673604266824605\n",
      "CPU times: user 3min 57s, sys: 895 ms, total: 3min 58s\n",
      "Wall time: 3min 59s\n"
     ]
    }
   ],
   "source": [
    "%%time\n",
    "\n",
    "best_model = None\n",
    "best_depth = 0\n",
    "best_est = 0\n",
    "best_f1 = 0\n",
    "best_auc_roc = 0\n",
    "\n",
    "for depth in tqdm_notebook(range(1, 11)):\n",
    "    for est in range(1, 101):\n",
    "    # инициализируем модель - дерево решений\n",
    "        model = RandomForestClassifier(max_depth=depth, n_estimators=est, random_state=12345)\n",
    "\n",
    "        # обучим модель на обучающей выборке\n",
    "        model.fit(features_train_downsampled, target_train_downsampled)\n",
    "\n",
    "        prediction_train = pd.Series(model.predict(features_train))\n",
    "\n",
    "        # F1 для дерева решений на обуч.выборке\n",
    "        f1_train = f1_score(target_train, prediction_train)\n",
    "\n",
    "        # предсказание модели на валидационной выборке\n",
    "        prediction_valid = pd.Series(model.predict(features_valid))\n",
    "\n",
    "        # F1 для дерева решений на валидационной.выборке\n",
    "        f1_valid = f1_score(target_valid, prediction_valid)\n",
    "\n",
    "        # найдем вероятность классов на валидационной выборке\n",
    "        probabilities_valid = model.predict_proba(features_valid)\n",
    "\n",
    "        # cохраним значения класса 1\n",
    "        probab_one_valid = probabilities_valid[:, 1]\n",
    "    \n",
    "        # AUC-ROC для модели дерева решений\n",
    "        roc_auc_valid = roc_auc_score(target_valid, probab_one_valid)\n",
    "\n",
    "        if f1_valid > best_f1:\n",
    "            best_model = model\n",
    "            best_depth = depth\n",
    "            best_est = est\n",
    "            best_f1 = f1_valid\n",
    "            best_auc_roc = roc_auc_valid\n",
    "\n",
    "print('Наилучшая модель \"случайный лес\" для валидационной выборки:', best_model)\n",
    "print('Количество деревьев наилучшей модели \"случайный лес\" для валидационной выборки:', best_est)\n",
    "print('Глубина дерева наилучшей модели \"случайный лес\" для валидационной выборки:', best_depth)\n",
    "print('F1-мера наилучшей модели \"случайный лес\" для валидационной выборки:', best_f1)\n",
    "print('AUC-ROC наилучшей модели \"случайный лес\" для валидационной выборки:', best_auc_roc)"
   ]
  },
  {
   "cell_type": "markdown",
   "metadata": {},
   "source": [
    "<div style=\"border:solid black 2px; padding: 10px\">  \n",
    "    \n",
    "**Комментарий:**  \n",
    "Наилучшая модель **\"случайный лес\"** на валидационной выборке имеет F1-меру = 0.624  \n",
    "AUC-ROC = 0.8673604266824605 при количестве деревьев est = 51 и глубине дерева depth = 9. Т.е. F1-мера превышает заданный порог 0,59."
   ]
  },
  {
   "cell_type": "markdown",
   "metadata": {},
   "source": [
    "### Модель логистической регрессии для задачи классификации при сбалансированной выборке."
   ]
  },
  {
   "cell_type": "code",
   "execution_count": 38,
   "metadata": {},
   "outputs": [
    {
     "name": "stdout",
     "output_type": "stream",
     "text": [
      "F1-мера модели 'логистическая регрессия' на валидационной выборке: 0.5094991364421416\n",
      "AUC-ROC модели 'логистическая регрессия' на валидационной выборке: 0.7899394001088915\n",
      "CPU times: user 182 ms, sys: 184 ms, total: 366 ms\n",
      "Wall time: 342 ms\n"
     ]
    }
   ],
   "source": [
    "%%time\n",
    "\n",
    "model = LogisticRegression(random_state=12345, solver='lbfgs', max_iter=1000)\n",
    "model.fit(features_train_downsampled, target_train_downsampled)\n",
    "\n",
    "prediction_valid = pd.Series(model.predict(features_valid))\n",
    "f1_valid = f1_score(target_valid, prediction_valid)\n",
    "\n",
    "probab_valid = model.predict_proba(features_valid) \n",
    "probab_valid_one = probab_valid[:, 1]\n",
    "roc_auc_valid = roc_auc_score(target_valid, probab_valid_one)\n",
    "\n",
    "print(\"F1-мера модели 'логистическая регрессия' на валидационной выборке:\", f1_valid)\n",
    "print(\"AUC-ROC модели 'логистическая регрессия' на валидационной выборке:\", roc_auc_valid)"
   ]
  },
  {
   "cell_type": "markdown",
   "metadata": {},
   "source": [
    "<div style=\"border:solid black 2px; padding: 10px\">  \n",
    "    \n",
    "**Комментарий:**  \n",
    "Модель **\"логистическая регрессия\"** на валидационной выборке имеет F1-меру = 0.5091543156059285  \n",
    "AUC-ROC = 0.7898946712506034, однозначно, что данная модель нам не подходит"
   ]
  },
  {
   "cell_type": "markdown",
   "metadata": {},
   "source": [
    "## Тестирование модели"
   ]
  },
  {
   "cell_type": "markdown",
   "metadata": {},
   "source": [
    "**Задание 4. Проведём финальное тестирование.**  \n",
    "Проверим на тестовой выборке F1-меру и AUC-ROC при помощи модели случайного леса, полученной на сбалансированной в таргете обучающей выборке."
   ]
  },
  {
   "cell_type": "code",
   "execution_count": 39,
   "metadata": {},
   "outputs": [
    {
     "name": "stdout",
     "output_type": "stream",
     "text": [
      "F1-мера наилучшей модели \"случайный лес\" для тестовой выборки: 0.6238938053097345\n",
      "AUC-ROC наилучшей модели \"случайный лес\" для тестовой выборки: 0.8628551509907441\n"
     ]
    }
   ],
   "source": [
    "model = RandomForestClassifier(bootstrap = True, class_weight = 'balanced', max_depth= 9,\n",
    "                               n_estimators = 51, random_state=12345)\n",
    "model.fit(features_train_upsampled, target_train_upsampled)\n",
    "\n",
    "predictions_test = pd.Series(model.predict(features_test))\n",
    "\n",
    "f1_test = f1_score(target_test, predictions_test)\n",
    "\n",
    "probabilities_test = model.predict_proba(features_test)\n",
    "probabilities_one_test = probabilities_test[:, 1]\n",
    "roc_auc_score_test = roc_auc_score(target_test, probabilities_one_test)   \n",
    "\n",
    "print('F1-мера наилучшей модели \"случайный лес\" для тестовой выборки:', f1_test)\n",
    "print('AUC-ROC наилучшей модели \"случайный лес\" для тестовой выборки:', roc_auc_score_test)"
   ]
  },
  {
   "cell_type": "markdown",
   "metadata": {},
   "source": [
    "<div style=\"border:solid black 2px; padding: 10px\">  \n",
    "    \n",
    "**Комментарий:**  \n",
    "Обученная модель случайного леса со взвешенными классами имеет достаточную адекватность, подтвержденная ее значением  \n",
    "AUC-ROC = 0.8628551509907441 и F1-меру = 0.6238938053097345 превыщающая заданный порог в 0.59."
   ]
  },
  {
   "cell_type": "code",
   "execution_count": 40,
   "metadata": {},
   "outputs": [
    {
     "data": {
      "image/png": "[encoded data removed]",
      "text/plain": [
       "<Figure size 1200x800 with 1 Axes>"
      ]
     },
     "metadata": {},
     "output_type": "display_data"
    }
   ],
   "source": [
    "fpr_test, tpr_test, thresholds = roc_curve(target_test, probabilities_one_test)\n",
    "plt.figure()\n",
    "plt.plot(fpr_test, tpr_test)\n",
    "\n",
    "# ROC-кривая случайной модели (выглядит как прямая):\n",
    "plt.plot([0, 1], [0, 1], linestyle='--')\n",
    "plt.xlim([0.0, 1.0])\n",
    "plt.ylim([0.0, 1.0])\n",
    "plt.legend(['ROC-кривая модели случайного леса', 'ROC-кривая случайной модели'])\n",
    "plt.xlabel('False Positive Rate')\n",
    "plt.ylabel('True Positive Rate')\n",
    "plt.title('ROC-кривая для модели случайного леса на тестовой выборке при сбалансированном таргете в обучающей выборке')\n",
    "plt.show()"
   ]
  },
  {
   "cell_type": "markdown",
   "metadata": {},
   "source": [
    "<div style=\"border:solid black 2px; padding: 10px\">  \n",
    "    \n",
    "**Комментарий:**  \n",
    "На графике наглядно видно, что площадь под ROC-кривой модели случайного леса (AUC-ROC = 0.866754) превышает площадь под ROC-кривой случайной модели (AUC-ROC = 0.5)."
   ]
  },
  {
   "cell_type": "markdown",
   "metadata": {},
   "source": [
    "## Вывод"
   ]
  },
  {
   "cell_type": "markdown",
   "metadata": {},
   "source": [
    "<div style=\"border:solid black 2px; padding: 10px\">  \n",
    "\n",
    "В первоначальных данных наблюдался значительный дисбаланс из-за чего обученная на этих данных модель не проходила проверку на адекватность. \n",
    "Все модели не первоначальных данных характеризовались высокой степенью ошибок и низким качеством взвешенной величины (F1) — модели показывали низкие результаты точности и полноты.\n",
    "    \n",
    "По итогу мы устранили дисбаланс классов двумя методами upsampling и downsampling, так мы достигли баланса классо в обучеющей выборки:  \n",
    "**1** - 0.51  \n",
    "**0** - 0.49  \n",
    "___________________\n",
    "\n",
    "На новых данных все модели показали результат выше, чем на несбалансированной выборке. Лучшие показатели были у модели случайного леса:  \n",
    "**F1 мера** = 0.6288659793814434  \n",
    "**AUC-ROC** = 0.8685557668608516\n",
    "    \n",
    "___________________\n",
    "    \n",
    "Финальная модель также прошла проверку на адекватность успешно:  \n",
    "**F1 мера** = 0.633879781420765  \n",
    "**AUC-ROC** = 0.8667542735339345"
   ]
  },
  {
   "cell_type": "markdown",
   "metadata": {},
   "source": [
    "## Чек-лист готовности проекта"
   ]
  },
  {
   "cell_type": "markdown",
   "metadata": {},
   "source": [
    "Поставьте 'x' в выполненных пунктах. Далее нажмите Shift+Enter."
   ]
  },
  {
   "cell_type": "markdown",
   "metadata": {},
   "source": [
    "- [x]  Jupyter Notebook открыт\n",
    "- [x]  Весь код выполняется без ошибок\n",
    "- [x]  Ячейки с кодом расположены в порядке исполнения\n",
    "- [x]  Выполнен шаг 1: данные подготовлены\n",
    "- [x]  Выполнен шаг 2: задача исследована\n",
    "    - [x]  Исследован баланс классов\n",
    "    - [x]  Изучены модели без учёта дисбаланса\n",
    "    - [x]  Написаны выводы по результатам исследования\n",
    "- [x]  Выполнен шаг 3: учтён дисбаланс\n",
    "    - [x]  Применено несколько способов борьбы с дисбалансом\n",
    "    - [x]  Написаны выводы по результатам исследования\n",
    "- [x]  Выполнен шаг 4: проведено тестирование\n",
    "- [x]  Удалось достичь *F1*-меры не менее 0.59\n",
    "- [x]  Исследована метрика *AUC-ROC*"
   ]
  },
  {
   "cell_type": "markdown",
   "metadata": {},
   "source": [
    "<div class=\"alert alert-success\">\n",
    "<b> Дополнительные ссылки ✔️: </b>  \n",
    "    \n",
    "Если интересно, существует библиотека атоматического перевода строки в `snake-case` с одноименным названием. <a href=\"https://pypi.org/project/snakecase/\">Ссылка</a> на источник.  \n",
    "    \n",
    "И еще библиотека `skimpy` с методом `clean_columns`. <a href=\"https://towardsdatascience.com/how-to-clean-messy-pandas-column-names-20dc7400cea7\">Статья-тьюториал</a>.  \n",
    "\n",
    "    \n",
    "Часто бывает удобно быстро посмотреть датасет. Для этого существует множество информативных пакетов для быстрого первичного анализа данных. Если интересно, можешь посмотреть, например <a href='https://github.com/man-group/dtale'> это </a> или <a href='https://github.com/ydataai/ydata-profiling'> это </a> 😌.  \n",
    "\n",
    "    \n",
    "В теории тренажера предлагается использовать `get_dummies`, однако предпочтительным является использование класса <a href=\"https://scikit-learn.org/stable/modules/generated/sklearn.preprocessing.OneHotEncoder.html\">OHE из sklearn</a>. По аналогии с масштабированием делаем `fit` только на трейне, а `transform` на всех выборках.  \n",
    "    \n",
    "Дело в том, `get_dummies` подходит для анализа данных, а для машинного обучения более предпочтителен `OHE`, т.к. он позоволяет избежать ряд ошибок при обучении моделей, в том числе может работать с неизвестными ранее уровнями категорий, которых не было изначально (например, если появится еще одна страна `Italy`).    \n",
    "    \n",
    "    \n",
    "Могу также предложить построить <a href=\"https://scikit-learn.org/stable/modules/generated/sklearn.metrics.ConfusionMatrixDisplay.html\"> `confusion matrix` </a>.  \n",
    "\n",
    "Матрица ошибок — это таблица, которая позволяет визуализировать эффективность алгоритма классификации путем сравнения прогнозируемого значения целевой переменной с ее фактическим значением. Столбцы матрицы представляют наблюдения в прогнозируемом классе, а строки — наблюдения в фактическом классе (или наоборот).   \n",
    "    \n",
    "Также для <a href=\"https://scikit-learn.org/stable/modules/generated/sklearn.metrics.RocCurveDisplay.html\">`auc-roc`</a> кривой тоже есть метод на `sklearn`. Можешь глянуть, если интересно   "
   ]
  }
 ],
 "metadata": {
  "ExecuteTimeLog": [
   {
    "duration": 1079,
    "start_time": "2023-03-23T09:28:21.705Z"
   },
   {
    "duration": 968,
    "start_time": "2023-03-23T09:33:07.805Z"
   },
   {
    "duration": 5,
    "start_time": "2023-03-23T09:33:13.291Z"
   },
   {
    "duration": 99,
    "start_time": "2023-03-23T09:36:15.646Z"
   },
   {
    "duration": 11,
    "start_time": "2023-03-23T09:36:41.964Z"
   },
   {
    "duration": 181,
    "start_time": "2023-03-23T09:37:30.869Z"
   },
   {
    "duration": 1902,
    "start_time": "2023-03-23T09:58:41.679Z"
   },
   {
    "duration": 7,
    "start_time": "2023-03-23T09:58:43.587Z"
   },
   {
    "duration": 48,
    "start_time": "2023-03-23T09:58:43.596Z"
   },
   {
    "duration": 20,
    "start_time": "2023-03-23T09:58:43.647Z"
   },
   {
    "duration": 50,
    "start_time": "2023-03-23T09:58:55.191Z"
   },
   {
    "duration": 30,
    "start_time": "2023-03-23T09:58:55.859Z"
   },
   {
    "duration": 48,
    "start_time": "2023-03-23T09:59:42.139Z"
   },
   {
    "duration": 49,
    "start_time": "2023-03-23T10:00:12.804Z"
   },
   {
    "duration": 23,
    "start_time": "2023-03-23T10:01:25.136Z"
   },
   {
    "duration": 14,
    "start_time": "2023-03-23T10:02:01.247Z"
   },
   {
    "duration": 16,
    "start_time": "2023-03-23T10:02:48.891Z"
   },
   {
    "duration": 17,
    "start_time": "2023-03-23T10:04:19.630Z"
   },
   {
    "duration": 11,
    "start_time": "2023-03-23T10:04:51.444Z"
   },
   {
    "duration": 6,
    "start_time": "2023-03-23T10:09:36.875Z"
   },
   {
    "duration": 10,
    "start_time": "2023-03-23T10:09:44.555Z"
   },
   {
    "duration": 10,
    "start_time": "2023-03-23T10:09:52.762Z"
   },
   {
    "duration": 1889,
    "start_time": "2023-03-23T10:09:59.588Z"
   },
   {
    "duration": 7,
    "start_time": "2023-03-23T10:10:01.480Z"
   },
   {
    "duration": 71,
    "start_time": "2023-03-23T10:10:01.489Z"
   },
   {
    "duration": 55,
    "start_time": "2023-03-23T10:10:01.564Z"
   },
   {
    "duration": 18,
    "start_time": "2023-03-23T10:10:01.622Z"
   },
   {
    "duration": 24,
    "start_time": "2023-03-23T10:10:01.644Z"
   },
   {
    "duration": 33,
    "start_time": "2023-03-23T10:10:01.673Z"
   },
   {
    "duration": 20,
    "start_time": "2023-03-23T10:10:01.708Z"
   },
   {
    "duration": 44,
    "start_time": "2023-03-23T10:10:01.730Z"
   },
   {
    "duration": 6,
    "start_time": "2023-03-23T10:15:34.033Z"
   },
   {
    "duration": 191,
    "start_time": "2023-03-23T10:15:39.910Z"
   },
   {
    "duration": 18,
    "start_time": "2023-03-23T10:15:58.113Z"
   },
   {
    "duration": 1895,
    "start_time": "2023-03-23T10:16:22.311Z"
   },
   {
    "duration": 7,
    "start_time": "2023-03-23T10:16:24.209Z"
   },
   {
    "duration": 54,
    "start_time": "2023-03-23T10:16:24.218Z"
   },
   {
    "duration": 52,
    "start_time": "2023-03-23T10:16:24.275Z"
   },
   {
    "duration": 18,
    "start_time": "2023-03-23T10:16:24.330Z"
   },
   {
    "duration": 19,
    "start_time": "2023-03-23T10:16:24.350Z"
   },
   {
    "duration": 33,
    "start_time": "2023-03-23T10:16:24.371Z"
   },
   {
    "duration": 12,
    "start_time": "2023-03-23T10:16:24.406Z"
   },
   {
    "duration": 6,
    "start_time": "2023-03-23T10:16:24.420Z"
   },
   {
    "duration": 3,
    "start_time": "2023-03-23T10:16:24.428Z"
   },
   {
    "duration": 25,
    "start_time": "2023-03-23T10:16:24.434Z"
   },
   {
    "duration": 11,
    "start_time": "2023-03-23T10:18:27.496Z"
   },
   {
    "duration": 7,
    "start_time": "2023-03-23T10:18:47.561Z"
   },
   {
    "duration": 10,
    "start_time": "2023-03-23T10:19:10.230Z"
   },
   {
    "duration": 6,
    "start_time": "2023-03-23T10:20:18.921Z"
   },
   {
    "duration": 17,
    "start_time": "2023-03-23T10:20:26.208Z"
   },
   {
    "duration": 6,
    "start_time": "2023-03-23T10:20:36.269Z"
   },
   {
    "duration": 5,
    "start_time": "2023-03-23T10:20:44.020Z"
   },
   {
    "duration": 7,
    "start_time": "2023-03-23T10:20:50.446Z"
   },
   {
    "duration": 16,
    "start_time": "2023-03-23T10:20:54.201Z"
   },
   {
    "duration": 1813,
    "start_time": "2023-03-23T10:21:02.162Z"
   },
   {
    "duration": 7,
    "start_time": "2023-03-23T10:21:03.978Z"
   },
   {
    "duration": 68,
    "start_time": "2023-03-23T10:21:03.987Z"
   },
   {
    "duration": 54,
    "start_time": "2023-03-23T10:21:04.058Z"
   },
   {
    "duration": 19,
    "start_time": "2023-03-23T10:21:04.115Z"
   },
   {
    "duration": 20,
    "start_time": "2023-03-23T10:21:04.136Z"
   },
   {
    "duration": 12,
    "start_time": "2023-03-23T10:21:04.158Z"
   },
   {
    "duration": 41,
    "start_time": "2023-03-23T10:21:04.172Z"
   },
   {
    "duration": 6,
    "start_time": "2023-03-23T10:21:04.216Z"
   },
   {
    "duration": 3,
    "start_time": "2023-03-23T10:21:04.225Z"
   },
   {
    "duration": 19,
    "start_time": "2023-03-23T10:21:04.230Z"
   },
   {
    "duration": 7,
    "start_time": "2023-03-23T10:21:04.251Z"
   },
   {
    "duration": 45,
    "start_time": "2023-03-23T10:21:04.260Z"
   },
   {
    "duration": 27,
    "start_time": "2023-03-23T10:21:38.010Z"
   },
   {
    "duration": 44,
    "start_time": "2023-03-23T10:22:50.808Z"
   },
   {
    "duration": 158,
    "start_time": "2023-03-23T10:36:37.075Z"
   },
   {
    "duration": 15,
    "start_time": "2023-03-23T10:38:19.939Z"
   },
   {
    "duration": 11,
    "start_time": "2023-03-23T10:38:27.238Z"
   },
   {
    "duration": 1802,
    "start_time": "2023-03-23T10:38:38.832Z"
   },
   {
    "duration": 7,
    "start_time": "2023-03-23T10:38:40.636Z"
   },
   {
    "duration": 55,
    "start_time": "2023-03-23T10:38:40.646Z"
   },
   {
    "duration": 51,
    "start_time": "2023-03-23T10:38:40.705Z"
   },
   {
    "duration": 19,
    "start_time": "2023-03-23T10:38:40.759Z"
   },
   {
    "duration": 42,
    "start_time": "2023-03-23T10:38:40.780Z"
   },
   {
    "duration": 10,
    "start_time": "2023-03-23T10:38:40.824Z"
   },
   {
    "duration": 13,
    "start_time": "2023-03-23T10:38:40.837Z"
   },
   {
    "duration": 9,
    "start_time": "2023-03-23T10:38:40.852Z"
   },
   {
    "duration": 6,
    "start_time": "2023-03-23T10:38:40.864Z"
   },
   {
    "duration": 228,
    "start_time": "2023-03-23T10:38:40.872Z"
   },
   {
    "duration": 0,
    "start_time": "2023-03-23T10:38:41.103Z"
   },
   {
    "duration": 0,
    "start_time": "2023-03-23T10:38:41.104Z"
   },
   {
    "duration": 1753,
    "start_time": "2023-03-23T10:39:09.260Z"
   },
   {
    "duration": 9,
    "start_time": "2023-03-23T10:39:11.015Z"
   },
   {
    "duration": 62,
    "start_time": "2023-03-23T10:39:11.025Z"
   },
   {
    "duration": 65,
    "start_time": "2023-03-23T10:39:11.090Z"
   },
   {
    "duration": 21,
    "start_time": "2023-03-23T10:39:11.157Z"
   },
   {
    "duration": 36,
    "start_time": "2023-03-23T10:39:11.180Z"
   },
   {
    "duration": 9,
    "start_time": "2023-03-23T10:39:11.218Z"
   },
   {
    "duration": 14,
    "start_time": "2023-03-23T10:39:11.229Z"
   },
   {
    "duration": 6,
    "start_time": "2023-03-23T10:39:11.246Z"
   },
   {
    "duration": 17,
    "start_time": "2023-03-23T10:39:11.256Z"
   },
   {
    "duration": 28,
    "start_time": "2023-03-23T10:39:11.275Z"
   },
   {
    "duration": 16,
    "start_time": "2023-03-23T10:39:11.307Z"
   },
   {
    "duration": 23,
    "start_time": "2023-03-23T10:39:11.326Z"
   },
   {
    "duration": 6,
    "start_time": "2023-03-23T10:39:27.438Z"
   },
   {
    "duration": 9,
    "start_time": "2023-03-23T10:39:27.754Z"
   },
   {
    "duration": 11,
    "start_time": "2023-03-23T10:39:28.448Z"
   },
   {
    "duration": 19,
    "start_time": "2023-03-23T10:46:24.002Z"
   },
   {
    "duration": 7,
    "start_time": "2023-03-23T10:47:26.246Z"
   },
   {
    "duration": 353,
    "start_time": "2023-03-23T10:47:41.783Z"
   },
   {
    "duration": 262,
    "start_time": "2023-03-23T10:47:55.315Z"
   },
   {
    "duration": 50,
    "start_time": "2023-03-23T10:48:21.712Z"
   },
   {
    "duration": 330,
    "start_time": "2023-03-23T10:48:24.350Z"
   },
   {
    "duration": 40,
    "start_time": "2023-03-23T10:48:29.068Z"
   },
   {
    "duration": 319,
    "start_time": "2023-03-23T10:48:32.703Z"
   },
   {
    "duration": 352,
    "start_time": "2023-03-23T10:49:42.419Z"
   },
   {
    "duration": 49,
    "start_time": "2023-03-23T10:49:59.211Z"
   },
   {
    "duration": 468,
    "start_time": "2023-03-23T10:50:01.976Z"
   },
   {
    "duration": 490,
    "start_time": "2023-03-23T10:50:09.942Z"
   },
   {
    "duration": 880,
    "start_time": "2023-03-23T10:50:45.789Z"
   },
   {
    "duration": 81,
    "start_time": "2023-03-23T10:50:59.688Z"
   },
   {
    "duration": 244,
    "start_time": "2023-03-23T10:51:02.595Z"
   },
   {
    "duration": 213,
    "start_time": "2023-03-23T10:51:13.924Z"
   },
   {
    "duration": 210,
    "start_time": "2023-03-23T10:51:24.660Z"
   },
   {
    "duration": 181,
    "start_time": "2023-03-23T10:51:51.258Z"
   },
   {
    "duration": 233,
    "start_time": "2023-03-23T10:52:00.037Z"
   },
   {
    "duration": 195,
    "start_time": "2023-03-23T10:52:06.059Z"
   },
   {
    "duration": 223,
    "start_time": "2023-03-23T10:52:12.106Z"
   },
   {
    "duration": 216,
    "start_time": "2023-03-23T10:52:17.622Z"
   },
   {
    "duration": 9,
    "start_time": "2023-03-23T10:52:30.841Z"
   },
   {
    "duration": 7,
    "start_time": "2023-03-23T10:53:10.859Z"
   },
   {
    "duration": 287,
    "start_time": "2023-03-23T10:54:25.820Z"
   },
   {
    "duration": 86,
    "start_time": "2023-03-23T10:57:33.050Z"
   },
   {
    "duration": 81,
    "start_time": "2023-03-23T10:57:37.492Z"
   },
   {
    "duration": 89,
    "start_time": "2023-03-23T10:57:58.362Z"
   },
   {
    "duration": 152,
    "start_time": "2023-03-23T10:58:12.775Z"
   },
   {
    "duration": 6,
    "start_time": "2023-03-23T10:58:50.218Z"
   },
   {
    "duration": 49,
    "start_time": "2023-03-23T10:58:55.934Z"
   },
   {
    "duration": 1956,
    "start_time": "2023-03-23T11:00:34.621Z"
   },
   {
    "duration": 1743,
    "start_time": "2023-03-23T11:00:57.247Z"
   },
   {
    "duration": 1781,
    "start_time": "2023-03-23T11:01:40.710Z"
   },
   {
    "duration": 1565,
    "start_time": "2023-03-23T11:02:59.694Z"
   },
   {
    "duration": 1958,
    "start_time": "2023-03-23T11:04:55.555Z"
   },
   {
    "duration": 33,
    "start_time": "2023-03-23T11:05:20.522Z"
   },
   {
    "duration": 2150,
    "start_time": "2023-03-23T11:05:27.942Z"
   },
   {
    "duration": 22,
    "start_time": "2023-03-23T11:06:02.958Z"
   },
   {
    "duration": 473,
    "start_time": "2023-03-23T11:06:08.551Z"
   },
   {
    "duration": 3490,
    "start_time": "2023-03-23T11:06:30.388Z"
   },
   {
    "duration": 2179,
    "start_time": "2023-03-23T11:06:57.179Z"
   },
   {
    "duration": 1926,
    "start_time": "2023-03-23T11:07:09.687Z"
   },
   {
    "duration": 35,
    "start_time": "2023-03-23T11:13:06.994Z"
   },
   {
    "duration": 13,
    "start_time": "2023-03-23T11:13:15.364Z"
   },
   {
    "duration": 22,
    "start_time": "2023-03-23T11:13:49.565Z"
   },
   {
    "duration": 1958,
    "start_time": "2023-03-23T11:13:59.588Z"
   },
   {
    "duration": 8,
    "start_time": "2023-03-23T11:14:01.548Z"
   },
   {
    "duration": 136,
    "start_time": "2023-03-23T11:14:01.560Z"
   },
   {
    "duration": 62,
    "start_time": "2023-03-23T11:14:01.699Z"
   },
   {
    "duration": 20,
    "start_time": "2023-03-23T11:14:01.763Z"
   },
   {
    "duration": 38,
    "start_time": "2023-03-23T11:14:01.785Z"
   },
   {
    "duration": 27,
    "start_time": "2023-03-23T11:14:01.830Z"
   },
   {
    "duration": 14,
    "start_time": "2023-03-23T11:14:01.860Z"
   },
   {
    "duration": 58,
    "start_time": "2023-03-23T11:14:01.878Z"
   },
   {
    "duration": 62,
    "start_time": "2023-03-23T11:14:01.939Z"
   },
   {
    "duration": 33,
    "start_time": "2023-03-23T11:14:02.011Z"
   },
   {
    "duration": 45,
    "start_time": "2023-03-23T11:14:02.048Z"
   },
   {
    "duration": 36,
    "start_time": "2023-03-23T11:14:02.095Z"
   },
   {
    "duration": 39,
    "start_time": "2023-03-23T11:14:02.134Z"
   },
   {
    "duration": 2051,
    "start_time": "2023-03-23T11:14:02.176Z"
   },
   {
    "duration": 584,
    "start_time": "2023-03-23T11:14:04.236Z"
   },
   {
    "duration": 15,
    "start_time": "2023-03-23T11:14:04.822Z"
   },
   {
    "duration": 211,
    "start_time": "2023-03-23T11:15:14.582Z"
   },
   {
    "duration": 1842,
    "start_time": "2023-03-23T11:15:24.130Z"
   },
   {
    "duration": 10,
    "start_time": "2023-03-23T11:15:25.974Z"
   },
   {
    "duration": 81,
    "start_time": "2023-03-23T11:15:25.986Z"
   },
   {
    "duration": 66,
    "start_time": "2023-03-23T11:15:26.070Z"
   },
   {
    "duration": 18,
    "start_time": "2023-03-23T11:15:26.139Z"
   },
   {
    "duration": 19,
    "start_time": "2023-03-23T11:15:26.159Z"
   },
   {
    "duration": 36,
    "start_time": "2023-03-23T11:15:26.180Z"
   },
   {
    "duration": 15,
    "start_time": "2023-03-23T11:15:26.221Z"
   },
   {
    "duration": 7,
    "start_time": "2023-03-23T11:15:26.238Z"
   },
   {
    "duration": 21,
    "start_time": "2023-03-23T11:15:26.248Z"
   },
   {
    "duration": 7,
    "start_time": "2023-03-23T11:15:26.271Z"
   },
   {
    "duration": 30,
    "start_time": "2023-03-23T11:15:26.280Z"
   },
   {
    "duration": 14,
    "start_time": "2023-03-23T11:15:26.313Z"
   },
   {
    "duration": 10,
    "start_time": "2023-03-23T11:15:26.334Z"
   },
   {
    "duration": 2007,
    "start_time": "2023-03-23T11:15:26.346Z"
   },
   {
    "duration": 605,
    "start_time": "2023-03-23T11:15:28.356Z"
   },
   {
    "duration": 12,
    "start_time": "2023-03-23T11:15:28.964Z"
   },
   {
    "duration": 206,
    "start_time": "2023-03-23T11:15:40.385Z"
   },
   {
    "duration": 21,
    "start_time": "2023-03-23T11:15:48.228Z"
   },
   {
    "duration": 1836,
    "start_time": "2023-03-23T11:15:57.232Z"
   },
   {
    "duration": 6,
    "start_time": "2023-03-23T11:15:59.071Z"
   },
   {
    "duration": 66,
    "start_time": "2023-03-23T11:15:59.080Z"
   },
   {
    "duration": 39,
    "start_time": "2023-03-23T11:15:59.148Z"
   },
   {
    "duration": 23,
    "start_time": "2023-03-23T11:15:59.190Z"
   },
   {
    "duration": 15,
    "start_time": "2023-03-23T11:15:59.216Z"
   },
   {
    "duration": 10,
    "start_time": "2023-03-23T11:15:59.233Z"
   },
   {
    "duration": 10,
    "start_time": "2023-03-23T11:15:59.245Z"
   },
   {
    "duration": 6,
    "start_time": "2023-03-23T11:15:59.257Z"
   },
   {
    "duration": 48,
    "start_time": "2023-03-23T11:15:59.266Z"
   },
   {
    "duration": 9,
    "start_time": "2023-03-23T11:15:59.317Z"
   },
   {
    "duration": 13,
    "start_time": "2023-03-23T11:15:59.330Z"
   },
   {
    "duration": 10,
    "start_time": "2023-03-23T11:15:59.345Z"
   },
   {
    "duration": 6,
    "start_time": "2023-03-23T11:15:59.358Z"
   },
   {
    "duration": 1779,
    "start_time": "2023-03-23T11:15:59.366Z"
   },
   {
    "duration": 729,
    "start_time": "2023-03-23T11:16:01.148Z"
   },
   {
    "duration": 44,
    "start_time": "2023-03-23T11:16:01.880Z"
   },
   {
    "duration": 1835,
    "start_time": "2023-03-23T11:17:52.438Z"
   },
   {
    "duration": 5,
    "start_time": "2023-03-23T11:17:54.275Z"
   },
   {
    "duration": 81,
    "start_time": "2023-03-23T11:17:54.282Z"
   },
   {
    "duration": 60,
    "start_time": "2023-03-23T11:17:54.366Z"
   },
   {
    "duration": 17,
    "start_time": "2023-03-23T11:17:54.435Z"
   },
   {
    "duration": 14,
    "start_time": "2023-03-23T11:17:54.454Z"
   },
   {
    "duration": 8,
    "start_time": "2023-03-23T11:17:54.471Z"
   },
   {
    "duration": 38,
    "start_time": "2023-03-23T11:17:54.481Z"
   },
   {
    "duration": 9,
    "start_time": "2023-03-23T11:17:54.521Z"
   },
   {
    "duration": 22,
    "start_time": "2023-03-23T11:17:54.535Z"
   },
   {
    "duration": 5,
    "start_time": "2023-03-23T11:17:54.560Z"
   },
   {
    "duration": 21,
    "start_time": "2023-03-23T11:17:54.568Z"
   },
   {
    "duration": 30,
    "start_time": "2023-03-23T11:17:54.592Z"
   },
   {
    "duration": 9,
    "start_time": "2023-03-23T11:17:54.624Z"
   },
   {
    "duration": 1664,
    "start_time": "2023-03-23T11:17:54.635Z"
   },
   {
    "duration": 547,
    "start_time": "2023-03-23T11:17:56.301Z"
   },
   {
    "duration": 27,
    "start_time": "2023-03-23T11:17:56.850Z"
   },
   {
    "duration": 31,
    "start_time": "2023-03-23T11:18:53.835Z"
   },
   {
    "duration": 34,
    "start_time": "2023-03-23T11:20:48.026Z"
   },
   {
    "duration": 41,
    "start_time": "2023-03-23T11:22:45.335Z"
   },
   {
    "duration": 42,
    "start_time": "2023-03-23T11:22:51.376Z"
   },
   {
    "duration": 1738,
    "start_time": "2023-03-23T11:23:02.892Z"
   },
   {
    "duration": 7,
    "start_time": "2023-03-23T11:23:04.632Z"
   },
   {
    "duration": 53,
    "start_time": "2023-03-23T11:23:04.641Z"
   },
   {
    "duration": 56,
    "start_time": "2023-03-23T11:23:04.696Z"
   },
   {
    "duration": 18,
    "start_time": "2023-03-23T11:23:04.754Z"
   },
   {
    "duration": 57,
    "start_time": "2023-03-23T11:23:04.774Z"
   },
   {
    "duration": 11,
    "start_time": "2023-03-23T11:23:04.833Z"
   },
   {
    "duration": 11,
    "start_time": "2023-03-23T11:23:04.846Z"
   },
   {
    "duration": 7,
    "start_time": "2023-03-23T11:23:04.859Z"
   },
   {
    "duration": 33,
    "start_time": "2023-03-23T11:23:04.871Z"
   },
   {
    "duration": 7,
    "start_time": "2023-03-23T11:23:04.908Z"
   },
   {
    "duration": 26,
    "start_time": "2023-03-23T11:23:04.917Z"
   },
   {
    "duration": 17,
    "start_time": "2023-03-23T11:23:04.944Z"
   },
   {
    "duration": 11,
    "start_time": "2023-03-23T11:23:04.963Z"
   },
   {
    "duration": 1639,
    "start_time": "2023-03-23T11:23:04.976Z"
   },
   {
    "duration": 615,
    "start_time": "2023-03-23T11:23:06.618Z"
   },
   {
    "duration": 38,
    "start_time": "2023-03-23T11:23:07.235Z"
   },
   {
    "duration": 7,
    "start_time": "2023-03-23T11:23:07.276Z"
   },
   {
    "duration": 28,
    "start_time": "2023-03-23T11:25:45.534Z"
   },
   {
    "duration": 19,
    "start_time": "2023-03-23T11:25:56.840Z"
   },
   {
    "duration": 31,
    "start_time": "2023-03-23T11:26:02.293Z"
   },
   {
    "duration": 41,
    "start_time": "2023-03-23T11:26:16.454Z"
   },
   {
    "duration": 1390,
    "start_time": "2023-03-23T13:37:25.508Z"
   },
   {
    "duration": 5,
    "start_time": "2023-03-23T13:37:26.899Z"
   },
   {
    "duration": 370,
    "start_time": "2023-03-23T13:37:26.906Z"
   },
   {
    "duration": 28,
    "start_time": "2023-03-23T13:37:27.278Z"
   },
   {
    "duration": 10,
    "start_time": "2023-03-23T13:37:27.308Z"
   },
   {
    "duration": 11,
    "start_time": "2023-03-23T13:37:27.319Z"
   },
   {
    "duration": 5,
    "start_time": "2023-03-23T13:37:27.331Z"
   },
   {
    "duration": 7,
    "start_time": "2023-03-23T13:37:27.338Z"
   },
   {
    "duration": 5,
    "start_time": "2023-03-23T13:37:27.368Z"
   },
   {
    "duration": 10,
    "start_time": "2023-03-23T13:37:27.375Z"
   },
   {
    "duration": 4,
    "start_time": "2023-03-23T13:37:27.387Z"
   },
   {
    "duration": 7,
    "start_time": "2023-03-23T13:37:27.392Z"
   },
   {
    "duration": 9,
    "start_time": "2023-03-23T13:37:27.401Z"
   },
   {
    "duration": 6,
    "start_time": "2023-03-23T13:37:27.412Z"
   },
   {
    "duration": 1076,
    "start_time": "2023-03-23T13:37:27.419Z"
   },
   {
    "duration": 365,
    "start_time": "2023-03-23T13:37:28.497Z"
   },
   {
    "duration": 23,
    "start_time": "2023-03-23T13:37:28.868Z"
   },
   {
    "duration": 1179,
    "start_time": "2023-03-23T13:38:25.398Z"
   },
   {
    "duration": 4,
    "start_time": "2023-03-23T13:38:26.579Z"
   },
   {
    "duration": 41,
    "start_time": "2023-03-23T13:38:26.585Z"
   },
   {
    "duration": 27,
    "start_time": "2023-03-23T13:38:26.628Z"
   },
   {
    "duration": 10,
    "start_time": "2023-03-23T13:38:26.656Z"
   },
   {
    "duration": 10,
    "start_time": "2023-03-23T13:38:26.667Z"
   },
   {
    "duration": 6,
    "start_time": "2023-03-23T13:38:26.678Z"
   },
   {
    "duration": 7,
    "start_time": "2023-03-23T13:38:26.685Z"
   },
   {
    "duration": 4,
    "start_time": "2023-03-23T13:38:26.693Z"
   },
   {
    "duration": 10,
    "start_time": "2023-03-23T13:38:26.700Z"
   },
   {
    "duration": 4,
    "start_time": "2023-03-23T13:38:26.712Z"
   },
   {
    "duration": 6,
    "start_time": "2023-03-23T13:38:26.718Z"
   },
   {
    "duration": 44,
    "start_time": "2023-03-23T13:38:26.725Z"
   },
   {
    "duration": 5,
    "start_time": "2023-03-23T13:38:26.771Z"
   },
   {
    "duration": 1065,
    "start_time": "2023-03-23T13:38:26.778Z"
   },
   {
    "duration": 421,
    "start_time": "2023-03-23T13:38:27.845Z"
   },
   {
    "duration": 24,
    "start_time": "2023-03-23T13:38:28.268Z"
   },
   {
    "duration": 1765,
    "start_time": "2023-03-23T19:32:53.695Z"
   },
   {
    "duration": 6,
    "start_time": "2023-03-23T19:32:55.463Z"
   },
   {
    "duration": 100,
    "start_time": "2023-03-23T19:32:55.471Z"
   },
   {
    "duration": 37,
    "start_time": "2023-03-23T19:32:55.574Z"
   },
   {
    "duration": 17,
    "start_time": "2023-03-23T19:32:55.613Z"
   },
   {
    "duration": 13,
    "start_time": "2023-03-23T19:32:55.631Z"
   },
   {
    "duration": 7,
    "start_time": "2023-03-23T19:32:55.646Z"
   },
   {
    "duration": 10,
    "start_time": "2023-03-23T19:32:55.655Z"
   },
   {
    "duration": 10,
    "start_time": "2023-03-23T19:32:55.667Z"
   },
   {
    "duration": 45,
    "start_time": "2023-03-23T19:32:55.679Z"
   },
   {
    "duration": 5,
    "start_time": "2023-03-23T19:32:55.726Z"
   },
   {
    "duration": 15,
    "start_time": "2023-03-23T19:32:55.733Z"
   },
   {
    "duration": 16,
    "start_time": "2023-03-23T19:32:55.750Z"
   },
   {
    "duration": 35,
    "start_time": "2023-03-23T19:32:55.767Z"
   },
   {
    "duration": 1331,
    "start_time": "2023-03-23T19:32:55.804Z"
   },
   {
    "duration": 453,
    "start_time": "2023-03-23T19:32:57.137Z"
   },
   {
    "duration": 36,
    "start_time": "2023-03-23T19:32:57.592Z"
   },
   {
    "duration": 29,
    "start_time": "2023-03-23T19:38:38.236Z"
   },
   {
    "duration": 22,
    "start_time": "2023-03-23T19:38:43.425Z"
   },
   {
    "duration": 91,
    "start_time": "2023-03-23T19:42:04.226Z"
   },
   {
    "duration": 6,
    "start_time": "2023-03-23T19:42:37.645Z"
   },
   {
    "duration": 8,
    "start_time": "2023-03-23T19:52:58.845Z"
   },
   {
    "duration": 12,
    "start_time": "2023-03-23T19:58:47.323Z"
   },
   {
    "duration": 12,
    "start_time": "2023-03-23T19:58:51.186Z"
   },
   {
    "duration": 31,
    "start_time": "2023-03-23T19:59:56.210Z"
   },
   {
    "duration": 10,
    "start_time": "2023-03-23T20:01:58.286Z"
   },
   {
    "duration": 31,
    "start_time": "2023-03-23T20:02:00.613Z"
   },
   {
    "duration": 1438,
    "start_time": "2023-03-23T20:02:07.762Z"
   },
   {
    "duration": 5,
    "start_time": "2023-03-23T20:02:09.202Z"
   },
   {
    "duration": 51,
    "start_time": "2023-03-23T20:02:09.209Z"
   },
   {
    "duration": 33,
    "start_time": "2023-03-23T20:02:09.262Z"
   },
   {
    "duration": 12,
    "start_time": "2023-03-23T20:02:09.297Z"
   },
   {
    "duration": 21,
    "start_time": "2023-03-23T20:02:09.311Z"
   },
   {
    "duration": 6,
    "start_time": "2023-03-23T20:02:09.334Z"
   },
   {
    "duration": 12,
    "start_time": "2023-03-23T20:02:09.342Z"
   },
   {
    "duration": 12,
    "start_time": "2023-03-23T20:02:09.356Z"
   },
   {
    "duration": 13,
    "start_time": "2023-03-23T20:02:09.369Z"
   },
   {
    "duration": 4,
    "start_time": "2023-03-23T20:02:09.383Z"
   },
   {
    "duration": 14,
    "start_time": "2023-03-23T20:02:09.389Z"
   },
   {
    "duration": 15,
    "start_time": "2023-03-23T20:02:09.404Z"
   },
   {
    "duration": 18,
    "start_time": "2023-03-23T20:02:09.422Z"
   },
   {
    "duration": 1302,
    "start_time": "2023-03-23T20:02:09.441Z"
   },
   {
    "duration": 478,
    "start_time": "2023-03-23T20:02:10.745Z"
   },
   {
    "duration": 28,
    "start_time": "2023-03-23T20:02:11.224Z"
   },
   {
    "duration": 6,
    "start_time": "2023-03-23T20:02:11.253Z"
   },
   {
    "duration": 16,
    "start_time": "2023-03-23T20:02:11.261Z"
   },
   {
    "duration": 55,
    "start_time": "2023-03-23T20:02:11.279Z"
   },
   {
    "duration": 36,
    "start_time": "2023-03-23T20:14:08.906Z"
   },
   {
    "duration": 1594,
    "start_time": "2023-03-23T20:14:19.106Z"
   },
   {
    "duration": 6,
    "start_time": "2023-03-23T20:14:20.702Z"
   },
   {
    "duration": 63,
    "start_time": "2023-03-23T20:14:20.709Z"
   },
   {
    "duration": 36,
    "start_time": "2023-03-23T20:14:20.774Z"
   },
   {
    "duration": 14,
    "start_time": "2023-03-23T20:14:20.812Z"
   },
   {
    "duration": 25,
    "start_time": "2023-03-23T20:14:20.828Z"
   },
   {
    "duration": 33,
    "start_time": "2023-03-23T20:14:20.855Z"
   },
   {
    "duration": 21,
    "start_time": "2023-03-23T20:14:20.890Z"
   },
   {
    "duration": 20,
    "start_time": "2023-03-23T20:14:20.913Z"
   },
   {
    "duration": 21,
    "start_time": "2023-03-23T20:14:20.934Z"
   },
   {
    "duration": 24,
    "start_time": "2023-03-23T20:14:20.957Z"
   },
   {
    "duration": 13,
    "start_time": "2023-03-23T20:14:20.983Z"
   },
   {
    "duration": 9,
    "start_time": "2023-03-23T20:14:20.997Z"
   },
   {
    "duration": 21,
    "start_time": "2023-03-23T20:14:21.009Z"
   },
   {
    "duration": 1420,
    "start_time": "2023-03-23T20:14:21.032Z"
   },
   {
    "duration": 513,
    "start_time": "2023-03-23T20:14:22.454Z"
   },
   {
    "duration": 25,
    "start_time": "2023-03-23T20:14:22.969Z"
   },
   {
    "duration": 23,
    "start_time": "2023-03-23T20:14:22.995Z"
   },
   {
    "duration": 19,
    "start_time": "2023-03-23T20:14:23.020Z"
   },
   {
    "duration": 117,
    "start_time": "2023-03-23T20:14:23.041Z"
   },
   {
    "duration": 4,
    "start_time": "2023-03-23T20:22:32.115Z"
   },
   {
    "duration": 3,
    "start_time": "2023-03-23T20:22:35.323Z"
   },
   {
    "duration": 287,
    "start_time": "2023-03-23T20:27:04.142Z"
   },
   {
    "duration": 4672,
    "start_time": "2023-03-23T20:27:35.498Z"
   },
   {
    "duration": 484843,
    "start_time": "2023-03-23T20:27:48.609Z"
   },
   {
    "duration": 306,
    "start_time": "2023-03-23T20:40:15.395Z"
   },
   {
    "duration": 2417,
    "start_time": "2023-03-24T12:15:11.882Z"
   },
   {
    "duration": 9,
    "start_time": "2023-03-24T12:15:14.303Z"
   },
   {
    "duration": 174,
    "start_time": "2023-03-24T12:15:14.313Z"
   },
   {
    "duration": 47,
    "start_time": "2023-03-24T12:15:14.489Z"
   },
   {
    "duration": 29,
    "start_time": "2023-03-24T12:15:14.539Z"
   },
   {
    "duration": 40,
    "start_time": "2023-03-24T12:15:14.570Z"
   },
   {
    "duration": 29,
    "start_time": "2023-03-24T12:15:14.612Z"
   },
   {
    "duration": 52,
    "start_time": "2023-03-24T12:15:14.642Z"
   },
   {
    "duration": 47,
    "start_time": "2023-03-24T12:15:14.695Z"
   },
   {
    "duration": 89,
    "start_time": "2023-03-24T12:15:14.743Z"
   },
   {
    "duration": 58,
    "start_time": "2023-03-24T12:15:14.834Z"
   },
   {
    "duration": 49,
    "start_time": "2023-03-24T12:15:14.898Z"
   },
   {
    "duration": 86,
    "start_time": "2023-03-24T12:15:14.954Z"
   },
   {
    "duration": 90,
    "start_time": "2023-03-24T12:15:15.043Z"
   },
   {
    "duration": 6,
    "start_time": "2023-03-24T12:15:15.134Z"
   },
   {
    "duration": 61,
    "start_time": "2023-03-24T12:15:15.141Z"
   },
   {
    "duration": 63,
    "start_time": "2023-03-24T12:15:15.204Z"
   },
   {
    "duration": 7,
    "start_time": "2023-03-24T12:15:15.269Z"
   },
   {
    "duration": 1486,
    "start_time": "2023-03-24T12:15:15.278Z"
   },
   {
    "duration": 575,
    "start_time": "2023-03-24T12:15:16.766Z"
   },
   {
    "duration": 375,
    "start_time": "2023-03-24T12:15:17.342Z"
   },
   {
    "duration": 348,
    "start_time": "2023-03-24T12:18:33.390Z"
   },
   {
    "duration": 373,
    "start_time": "2023-03-24T12:18:47.532Z"
   },
   {
    "duration": 5,
    "start_time": "2023-03-24T14:04:31.312Z"
   },
   {
    "duration": 1860,
    "start_time": "2023-03-24T14:04:46.079Z"
   },
   {
    "duration": 5,
    "start_time": "2023-03-24T14:04:47.941Z"
   },
   {
    "duration": 91,
    "start_time": "2023-03-24T14:04:47.955Z"
   },
   {
    "duration": 51,
    "start_time": "2023-03-24T14:04:48.048Z"
   },
   {
    "duration": 43,
    "start_time": "2023-03-24T14:04:48.101Z"
   },
   {
    "duration": 80,
    "start_time": "2023-03-24T14:04:48.146Z"
   },
   {
    "duration": 7,
    "start_time": "2023-03-24T14:04:48.228Z"
   },
   {
    "duration": 47,
    "start_time": "2023-03-24T14:04:48.237Z"
   },
   {
    "duration": 69,
    "start_time": "2023-03-24T14:04:48.286Z"
   },
   {
    "duration": 75,
    "start_time": "2023-03-24T14:04:48.357Z"
   },
   {
    "duration": 7,
    "start_time": "2023-03-24T14:04:48.434Z"
   },
   {
    "duration": 76,
    "start_time": "2023-03-24T14:04:48.443Z"
   },
   {
    "duration": 20,
    "start_time": "2023-03-24T14:04:48.521Z"
   },
   {
    "duration": 63,
    "start_time": "2023-03-24T14:04:48.544Z"
   },
   {
    "duration": 5,
    "start_time": "2023-03-24T14:04:48.609Z"
   },
   {
    "duration": 14,
    "start_time": "2023-03-24T14:04:48.615Z"
   },
   {
    "duration": 49,
    "start_time": "2023-03-24T14:04:48.630Z"
   },
   {
    "duration": 18,
    "start_time": "2023-03-24T14:04:48.695Z"
   },
   {
    "duration": 1446,
    "start_time": "2023-03-24T14:04:48.714Z"
   },
   {
    "duration": 576,
    "start_time": "2023-03-24T14:04:50.162Z"
   },
   {
    "duration": 4,
    "start_time": "2023-03-24T14:04:50.740Z"
   },
   {
    "duration": 0,
    "start_time": "2023-03-24T14:04:50.746Z"
   },
   {
    "duration": 324,
    "start_time": "2023-03-24T14:05:19.003Z"
   },
   {
    "duration": 190,
    "start_time": "2023-03-24T14:05:46.141Z"
   },
   {
    "duration": 424,
    "start_time": "2023-03-24T14:05:58.943Z"
   },
   {
    "duration": 1920,
    "start_time": "2023-03-24T20:26:49.499Z"
   },
   {
    "duration": 15,
    "start_time": "2023-03-24T20:26:51.421Z"
   },
   {
    "duration": 170,
    "start_time": "2023-03-24T20:26:51.438Z"
   },
   {
    "duration": 54,
    "start_time": "2023-03-24T20:26:51.610Z"
   },
   {
    "duration": 18,
    "start_time": "2023-03-24T20:26:51.667Z"
   },
   {
    "duration": 18,
    "start_time": "2023-03-24T20:26:51.687Z"
   },
   {
    "duration": 28,
    "start_time": "2023-03-24T20:26:51.707Z"
   },
   {
    "duration": 25,
    "start_time": "2023-03-24T20:26:51.738Z"
   },
   {
    "duration": 7,
    "start_time": "2023-03-24T20:26:51.766Z"
   },
   {
    "duration": 14,
    "start_time": "2023-03-24T20:26:51.775Z"
   },
   {
    "duration": 6,
    "start_time": "2023-03-24T20:26:51.792Z"
   },
   {
    "duration": 10,
    "start_time": "2023-03-24T20:26:51.799Z"
   },
   {
    "duration": 12,
    "start_time": "2023-03-24T20:26:51.826Z"
   },
   {
    "duration": 35,
    "start_time": "2023-03-24T20:26:51.841Z"
   },
   {
    "duration": 7,
    "start_time": "2023-03-24T20:26:51.878Z"
   },
   {
    "duration": 14,
    "start_time": "2023-03-24T20:26:51.886Z"
   },
   {
    "duration": 60,
    "start_time": "2023-03-24T20:26:51.902Z"
   },
   {
    "duration": 10,
    "start_time": "2023-03-24T20:26:51.964Z"
   },
   {
    "duration": 1515,
    "start_time": "2023-03-24T20:26:51.977Z"
   },
   {
    "duration": 497,
    "start_time": "2023-03-24T20:26:53.494Z"
   },
   {
    "duration": 411,
    "start_time": "2023-03-24T20:26:53.992Z"
   },
   {
    "duration": 2384,
    "start_time": "2023-03-25T07:13:43.977Z"
   },
   {
    "duration": 6,
    "start_time": "2023-03-25T07:13:46.364Z"
   },
   {
    "duration": 125,
    "start_time": "2023-03-25T07:13:46.372Z"
   },
   {
    "duration": 46,
    "start_time": "2023-03-25T07:13:46.499Z"
   },
   {
    "duration": 13,
    "start_time": "2023-03-25T07:13:46.547Z"
   },
   {
    "duration": 15,
    "start_time": "2023-03-25T07:13:46.562Z"
   },
   {
    "duration": 19,
    "start_time": "2023-03-25T07:13:46.579Z"
   },
   {
    "duration": 14,
    "start_time": "2023-03-25T07:13:46.617Z"
   },
   {
    "duration": 25,
    "start_time": "2023-03-25T07:13:46.634Z"
   },
   {
    "duration": 37,
    "start_time": "2023-03-25T07:13:46.661Z"
   },
   {
    "duration": 5,
    "start_time": "2023-03-25T07:13:46.700Z"
   },
   {
    "duration": 43,
    "start_time": "2023-03-25T07:13:46.707Z"
   },
   {
    "duration": 11,
    "start_time": "2023-03-25T07:13:46.752Z"
   },
   {
    "duration": 27,
    "start_time": "2023-03-25T07:13:46.767Z"
   },
   {
    "duration": 7,
    "start_time": "2023-03-25T07:13:46.795Z"
   },
   {
    "duration": 55,
    "start_time": "2023-03-25T07:13:46.804Z"
   },
   {
    "duration": 30,
    "start_time": "2023-03-25T07:13:46.861Z"
   },
   {
    "duration": 7,
    "start_time": "2023-03-25T07:13:46.892Z"
   },
   {
    "duration": 1543,
    "start_time": "2023-03-25T07:13:46.901Z"
   },
   {
    "duration": 522,
    "start_time": "2023-03-25T07:13:48.446Z"
   },
   {
    "duration": 386,
    "start_time": "2023-03-25T07:13:48.970Z"
   },
   {
    "duration": 40708,
    "start_time": "2023-03-25T07:27:53.653Z"
   },
   {
    "duration": 274017,
    "start_time": "2023-03-25T07:28:46.471Z"
   },
   {
    "duration": 5939,
    "start_time": "2023-03-25T07:37:59.338Z"
   },
   {
    "duration": 6059,
    "start_time": "2023-03-25T07:39:24.135Z"
   },
   {
    "duration": 1499,
    "start_time": "2023-03-25T08:09:57.470Z"
   },
   {
    "duration": 6,
    "start_time": "2023-03-25T08:09:58.971Z"
   },
   {
    "duration": 60,
    "start_time": "2023-03-25T08:09:58.979Z"
   },
   {
    "duration": 37,
    "start_time": "2023-03-25T08:09:59.041Z"
   },
   {
    "duration": 13,
    "start_time": "2023-03-25T08:09:59.080Z"
   },
   {
    "duration": 50,
    "start_time": "2023-03-25T08:09:59.095Z"
   },
   {
    "duration": 13,
    "start_time": "2023-03-25T08:09:59.147Z"
   },
   {
    "duration": 12,
    "start_time": "2023-03-25T08:09:59.162Z"
   },
   {
    "duration": 12,
    "start_time": "2023-03-25T08:09:59.177Z"
   },
   {
    "duration": 24,
    "start_time": "2023-03-25T08:09:59.191Z"
   },
   {
    "duration": 7,
    "start_time": "2023-03-25T08:09:59.216Z"
   },
   {
    "duration": 35,
    "start_time": "2023-03-25T08:09:59.225Z"
   },
   {
    "duration": 25,
    "start_time": "2023-03-25T08:09:59.262Z"
   },
   {
    "duration": 44,
    "start_time": "2023-03-25T08:09:59.290Z"
   },
   {
    "duration": 17,
    "start_time": "2023-03-25T08:09:59.335Z"
   },
   {
    "duration": 27,
    "start_time": "2023-03-25T08:09:59.353Z"
   },
   {
    "duration": 46,
    "start_time": "2023-03-25T08:09:59.382Z"
   },
   {
    "duration": 6,
    "start_time": "2023-03-25T08:09:59.430Z"
   },
   {
    "duration": 1430,
    "start_time": "2023-03-25T08:09:59.438Z"
   },
   {
    "duration": 486,
    "start_time": "2023-03-25T08:10:00.870Z"
   },
   {
    "duration": 386,
    "start_time": "2023-03-25T08:10:01.358Z"
   },
   {
    "duration": 1437,
    "start_time": "2023-03-25T09:11:20.306Z"
   },
   {
    "duration": 5,
    "start_time": "2023-03-25T09:11:21.745Z"
   },
   {
    "duration": 56,
    "start_time": "2023-03-25T09:11:21.751Z"
   },
   {
    "duration": 38,
    "start_time": "2023-03-25T09:11:21.810Z"
   },
   {
    "duration": 14,
    "start_time": "2023-03-25T09:11:21.850Z"
   },
   {
    "duration": 32,
    "start_time": "2023-03-25T09:11:21.866Z"
   },
   {
    "duration": 28,
    "start_time": "2023-03-25T09:11:21.900Z"
   },
   {
    "duration": 22,
    "start_time": "2023-03-25T09:11:21.930Z"
   },
   {
    "duration": 20,
    "start_time": "2023-03-25T09:11:21.954Z"
   },
   {
    "duration": 20,
    "start_time": "2023-03-25T09:11:21.978Z"
   },
   {
    "duration": 14,
    "start_time": "2023-03-25T09:11:22.000Z"
   },
   {
    "duration": 38,
    "start_time": "2023-03-25T09:11:22.016Z"
   },
   {
    "duration": 16,
    "start_time": "2023-03-25T09:11:22.055Z"
   },
   {
    "duration": 40,
    "start_time": "2023-03-25T09:11:22.072Z"
   },
   {
    "duration": 34,
    "start_time": "2023-03-25T09:11:22.114Z"
   },
   {
    "duration": 31,
    "start_time": "2023-03-25T09:11:22.150Z"
   },
   {
    "duration": 38,
    "start_time": "2023-03-25T09:11:22.183Z"
   },
   {
    "duration": 17,
    "start_time": "2023-03-25T09:11:22.223Z"
   },
   {
    "duration": 1377,
    "start_time": "2023-03-25T09:11:22.242Z"
   },
   {
    "duration": 478,
    "start_time": "2023-03-25T09:11:23.621Z"
   },
   {
    "duration": 332,
    "start_time": "2023-03-25T09:11:24.100Z"
   },
   {
    "duration": 271307,
    "start_time": "2023-03-25T09:11:24.435Z"
   },
   {
    "duration": 65443,
    "start_time": "2023-03-25T09:21:47.463Z"
   },
   {
    "duration": 47,
    "start_time": "2023-03-25T09:23:40.894Z"
   },
   {
    "duration": 69,
    "start_time": "2023-03-25T09:24:32.789Z"
   },
   {
    "duration": 95,
    "start_time": "2023-03-25T09:24:58.310Z"
   },
   {
    "duration": 247,
    "start_time": "2023-03-25T09:25:10.032Z"
   },
   {
    "duration": 9947,
    "start_time": "2023-03-25T09:25:39.264Z"
   },
   {
    "duration": 15,
    "start_time": "2023-03-25T09:26:23.546Z"
   },
   {
    "duration": 125,
    "start_time": "2023-03-25T09:27:42.820Z"
   },
   {
    "duration": 15465,
    "start_time": "2023-03-25T09:27:52.101Z"
   },
   {
    "duration": 1603,
    "start_time": "2023-03-25T10:09:49.504Z"
   },
   {
    "duration": 6,
    "start_time": "2023-03-25T10:09:51.109Z"
   },
   {
    "duration": 74,
    "start_time": "2023-03-25T10:09:51.117Z"
   },
   {
    "duration": 45,
    "start_time": "2023-03-25T10:09:51.193Z"
   },
   {
    "duration": 15,
    "start_time": "2023-03-25T10:09:51.242Z"
   },
   {
    "duration": 17,
    "start_time": "2023-03-25T10:09:51.258Z"
   },
   {
    "duration": 8,
    "start_time": "2023-03-25T10:09:51.277Z"
   },
   {
    "duration": 43,
    "start_time": "2023-03-25T10:09:51.287Z"
   },
   {
    "duration": 30,
    "start_time": "2023-03-25T10:09:51.333Z"
   },
   {
    "duration": 30,
    "start_time": "2023-03-25T10:09:51.364Z"
   },
   {
    "duration": 15,
    "start_time": "2023-03-25T10:09:51.396Z"
   },
   {
    "duration": 25,
    "start_time": "2023-03-25T10:09:51.412Z"
   },
   {
    "duration": 12,
    "start_time": "2023-03-25T10:09:51.438Z"
   },
   {
    "duration": 22,
    "start_time": "2023-03-25T10:09:51.453Z"
   },
   {
    "duration": 9,
    "start_time": "2023-03-25T10:09:51.477Z"
   },
   {
    "duration": 36,
    "start_time": "2023-03-25T10:09:51.488Z"
   },
   {
    "duration": 48,
    "start_time": "2023-03-25T10:09:51.531Z"
   },
   {
    "duration": 5,
    "start_time": "2023-03-25T10:09:51.581Z"
   },
   {
    "duration": 1467,
    "start_time": "2023-03-25T10:09:51.588Z"
   },
   {
    "duration": 488,
    "start_time": "2023-03-25T10:09:53.057Z"
   },
   {
    "duration": 356,
    "start_time": "2023-03-25T10:09:53.548Z"
   },
   {
    "duration": 282223,
    "start_time": "2023-03-25T10:09:53.917Z"
   },
   {
    "duration": 815,
    "start_time": "2023-03-25T10:14:36.142Z"
   },
   {
    "duration": 598,
    "start_time": "2023-03-25T10:18:54.631Z"
   },
   {
    "duration": 439,
    "start_time": "2023-03-25T10:18:59.398Z"
   },
   {
    "duration": 4,
    "start_time": "2023-03-25T10:29:30.095Z"
   },
   {
    "duration": 1561,
    "start_time": "2023-03-25T10:37:13.435Z"
   },
   {
    "duration": 6,
    "start_time": "2023-03-25T10:37:14.999Z"
   },
   {
    "duration": 92,
    "start_time": "2023-03-25T10:37:15.007Z"
   },
   {
    "duration": 40,
    "start_time": "2023-03-25T10:37:15.101Z"
   },
   {
    "duration": 16,
    "start_time": "2023-03-25T10:37:15.143Z"
   },
   {
    "duration": 14,
    "start_time": "2023-03-25T10:37:15.160Z"
   },
   {
    "duration": 26,
    "start_time": "2023-03-25T10:37:15.176Z"
   },
   {
    "duration": 26,
    "start_time": "2023-03-25T10:37:15.204Z"
   },
   {
    "duration": 12,
    "start_time": "2023-03-25T10:37:15.232Z"
   },
   {
    "duration": 29,
    "start_time": "2023-03-25T10:37:15.246Z"
   },
   {
    "duration": 9,
    "start_time": "2023-03-25T10:37:15.277Z"
   },
   {
    "duration": 27,
    "start_time": "2023-03-25T10:37:15.287Z"
   },
   {
    "duration": 24,
    "start_time": "2023-03-25T10:37:15.315Z"
   },
   {
    "duration": 32,
    "start_time": "2023-03-25T10:37:15.341Z"
   },
   {
    "duration": 13,
    "start_time": "2023-03-25T10:37:15.375Z"
   },
   {
    "duration": 36,
    "start_time": "2023-03-25T10:37:15.390Z"
   },
   {
    "duration": 31,
    "start_time": "2023-03-25T10:37:15.429Z"
   },
   {
    "duration": 6,
    "start_time": "2023-03-25T10:37:15.462Z"
   },
   {
    "duration": 1315,
    "start_time": "2023-03-25T10:37:15.469Z"
   },
   {
    "duration": 494,
    "start_time": "2023-03-25T10:37:16.785Z"
   },
   {
    "duration": 355,
    "start_time": "2023-03-25T10:37:17.281Z"
   },
   {
    "duration": 285842,
    "start_time": "2023-03-25T10:37:17.639Z"
   },
   {
    "duration": 743,
    "start_time": "2023-03-25T10:42:03.482Z"
   },
   {
    "duration": 84,
    "start_time": "2023-03-25T10:42:04.238Z"
   },
   {
    "duration": 94,
    "start_time": "2023-03-25T10:44:09.940Z"
   },
   {
    "duration": 6,
    "start_time": "2023-03-25T11:14:11.150Z"
   },
   {
    "duration": 5,
    "start_time": "2023-03-25T11:14:13.462Z"
   },
   {
    "duration": 5,
    "start_time": "2023-03-25T11:14:30.052Z"
   },
   {
    "duration": 127,
    "start_time": "2023-03-25T11:15:50.834Z"
   },
   {
    "duration": 5,
    "start_time": "2023-03-25T11:16:56.962Z"
   },
   {
    "duration": 5,
    "start_time": "2023-03-25T11:17:06.743Z"
   },
   {
    "duration": 4,
    "start_time": "2023-03-25T11:17:06.944Z"
   },
   {
    "duration": 10,
    "start_time": "2023-03-25T11:17:07.539Z"
   },
   {
    "duration": 18,
    "start_time": "2023-03-25T11:17:27.365Z"
   },
   {
    "duration": 10,
    "start_time": "2023-03-25T11:17:48.590Z"
   },
   {
    "duration": 13,
    "start_time": "2023-03-25T11:18:03.024Z"
   },
   {
    "duration": 12,
    "start_time": "2023-03-25T11:18:23.601Z"
   },
   {
    "duration": 110,
    "start_time": "2023-03-25T11:18:57.248Z"
   },
   {
    "duration": 4,
    "start_time": "2023-03-25T11:21:34.004Z"
   },
   {
    "duration": 11,
    "start_time": "2023-03-25T11:21:54.644Z"
   },
   {
    "duration": 5,
    "start_time": "2023-03-25T11:22:17.357Z"
   },
   {
    "duration": 13,
    "start_time": "2023-03-25T11:22:35.686Z"
   },
   {
    "duration": 6,
    "start_time": "2023-03-25T11:22:51.502Z"
   },
   {
    "duration": 4,
    "start_time": "2023-03-25T11:48:09.815Z"
   },
   {
    "duration": 17,
    "start_time": "2023-03-25T11:50:45.573Z"
   },
   {
    "duration": 5,
    "start_time": "2023-03-25T11:50:54.475Z"
   },
   {
    "duration": 10,
    "start_time": "2023-03-25T11:50:55.781Z"
   },
   {
    "duration": 27,
    "start_time": "2023-03-25T11:53:14.605Z"
   },
   {
    "duration": 5,
    "start_time": "2023-03-25T11:53:21.522Z"
   },
   {
    "duration": 27,
    "start_time": "2023-03-25T11:53:23.471Z"
   },
   {
    "duration": 12,
    "start_time": "2023-03-25T11:53:28.597Z"
   },
   {
    "duration": 5,
    "start_time": "2023-03-25T11:53:54.813Z"
   },
   {
    "duration": 11,
    "start_time": "2023-03-25T11:53:55.224Z"
   },
   {
    "duration": 13,
    "start_time": "2023-03-25T11:54:11.401Z"
   },
   {
    "duration": 5,
    "start_time": "2023-03-25T12:01:00.637Z"
   },
   {
    "duration": 14,
    "start_time": "2023-03-25T12:01:05.851Z"
   },
   {
    "duration": 13,
    "start_time": "2023-03-25T12:02:22.353Z"
   },
   {
    "duration": 5,
    "start_time": "2023-03-25T12:02:23.351Z"
   },
   {
    "duration": 14,
    "start_time": "2023-03-25T12:03:47.174Z"
   },
   {
    "duration": 1450,
    "start_time": "2023-03-25T12:04:04.781Z"
   },
   {
    "duration": 6,
    "start_time": "2023-03-25T12:04:06.233Z"
   },
   {
    "duration": 47,
    "start_time": "2023-03-25T12:04:06.241Z"
   },
   {
    "duration": 34,
    "start_time": "2023-03-25T12:04:06.289Z"
   },
   {
    "duration": 13,
    "start_time": "2023-03-25T12:04:06.325Z"
   },
   {
    "duration": 13,
    "start_time": "2023-03-25T12:04:06.340Z"
   },
   {
    "duration": 10,
    "start_time": "2023-03-25T12:04:06.355Z"
   },
   {
    "duration": 9,
    "start_time": "2023-03-25T12:04:06.367Z"
   },
   {
    "duration": 41,
    "start_time": "2023-03-25T12:04:06.377Z"
   },
   {
    "duration": 14,
    "start_time": "2023-03-25T12:04:06.420Z"
   },
   {
    "duration": 7,
    "start_time": "2023-03-25T12:04:06.436Z"
   },
   {
    "duration": 11,
    "start_time": "2023-03-25T12:04:06.444Z"
   },
   {
    "duration": 13,
    "start_time": "2023-03-25T12:04:06.457Z"
   },
   {
    "duration": 52,
    "start_time": "2023-03-25T12:04:06.472Z"
   },
   {
    "duration": 6,
    "start_time": "2023-03-25T12:04:06.526Z"
   },
   {
    "duration": 17,
    "start_time": "2023-03-25T12:04:06.534Z"
   },
   {
    "duration": 26,
    "start_time": "2023-03-25T12:04:06.553Z"
   },
   {
    "duration": 6,
    "start_time": "2023-03-25T12:04:06.581Z"
   },
   {
    "duration": 1287,
    "start_time": "2023-03-25T12:04:06.588Z"
   },
   {
    "duration": 419,
    "start_time": "2023-03-25T12:04:07.877Z"
   },
   {
    "duration": 299,
    "start_time": "2023-03-25T12:04:08.297Z"
   },
   {
    "duration": 273981,
    "start_time": "2023-03-25T12:04:08.598Z"
   },
   {
    "duration": 2341,
    "start_time": "2023-03-25T12:08:42.581Z"
   },
   {
    "duration": 14,
    "start_time": "2023-03-25T12:08:44.924Z"
   },
   {
    "duration": 34,
    "start_time": "2023-03-25T12:08:45.019Z"
   },
   {
    "duration": 6,
    "start_time": "2023-03-25T12:08:45.055Z"
   },
   {
    "duration": 28,
    "start_time": "2023-03-25T12:08:45.063Z"
   },
   {
    "duration": 1654,
    "start_time": "2023-03-25T12:26:50.102Z"
   },
   {
    "duration": 6,
    "start_time": "2023-03-25T12:26:51.758Z"
   },
   {
    "duration": 100,
    "start_time": "2023-03-25T12:26:51.766Z"
   },
   {
    "duration": 38,
    "start_time": "2023-03-25T12:26:51.869Z"
   },
   {
    "duration": 19,
    "start_time": "2023-03-25T12:26:51.909Z"
   },
   {
    "duration": 112,
    "start_time": "2023-03-25T12:26:51.930Z"
   },
   {
    "duration": 108,
    "start_time": "2023-03-25T12:26:52.044Z"
   },
   {
    "duration": 40,
    "start_time": "2023-03-25T12:26:52.154Z"
   },
   {
    "duration": 106,
    "start_time": "2023-03-25T12:26:52.196Z"
   },
   {
    "duration": 46,
    "start_time": "2023-03-25T12:26:52.305Z"
   },
   {
    "duration": 31,
    "start_time": "2023-03-25T12:26:52.354Z"
   },
   {
    "duration": 70,
    "start_time": "2023-03-25T12:26:52.387Z"
   },
   {
    "duration": 62,
    "start_time": "2023-03-25T12:26:52.458Z"
   },
   {
    "duration": 81,
    "start_time": "2023-03-25T12:26:52.523Z"
   },
   {
    "duration": 88,
    "start_time": "2023-03-25T12:26:52.606Z"
   },
   {
    "duration": 63,
    "start_time": "2023-03-25T12:26:52.697Z"
   },
   {
    "duration": 58,
    "start_time": "2023-03-25T12:26:52.763Z"
   },
   {
    "duration": 43,
    "start_time": "2023-03-25T12:26:52.823Z"
   },
   {
    "duration": 1531,
    "start_time": "2023-03-25T12:26:52.868Z"
   },
   {
    "duration": 508,
    "start_time": "2023-03-25T12:26:54.401Z"
   },
   {
    "duration": 386,
    "start_time": "2023-03-25T12:26:54.917Z"
   },
   {
    "duration": 282672,
    "start_time": "2023-03-25T12:26:55.305Z"
   },
   {
    "duration": 245,
    "start_time": "2023-03-25T12:31:37.978Z"
   },
   {
    "duration": 94,
    "start_time": "2023-03-25T12:31:38.226Z"
   },
   {
    "duration": 113,
    "start_time": "2023-03-25T12:31:38.322Z"
   },
   {
    "duration": 5,
    "start_time": "2023-03-25T12:31:38.436Z"
   },
   {
    "duration": 15,
    "start_time": "2023-03-25T12:31:38.443Z"
   },
   {
    "duration": 7,
    "start_time": "2023-03-25T12:36:22.840Z"
   },
   {
    "duration": 6,
    "start_time": "2023-03-25T12:37:07.279Z"
   },
   {
    "duration": 2002,
    "start_time": "2023-03-25T14:03:58.801Z"
   },
   {
    "duration": 9,
    "start_time": "2023-03-25T14:04:00.806Z"
   },
   {
    "duration": 159,
    "start_time": "2023-03-25T14:04:00.817Z"
   },
   {
    "duration": 56,
    "start_time": "2023-03-25T14:04:00.978Z"
   },
   {
    "duration": 41,
    "start_time": "2023-03-25T14:04:01.037Z"
   },
   {
    "duration": 79,
    "start_time": "2023-03-25T14:04:01.080Z"
   },
   {
    "duration": 79,
    "start_time": "2023-03-25T14:04:01.161Z"
   },
   {
    "duration": 62,
    "start_time": "2023-03-25T14:04:01.243Z"
   },
   {
    "duration": 61,
    "start_time": "2023-03-25T14:04:01.307Z"
   },
   {
    "duration": 103,
    "start_time": "2023-03-25T14:04:01.370Z"
   },
   {
    "duration": 43,
    "start_time": "2023-03-25T14:04:01.475Z"
   },
   {
    "duration": 66,
    "start_time": "2023-03-25T14:04:01.520Z"
   },
   {
    "duration": 100,
    "start_time": "2023-03-25T14:04:01.590Z"
   },
   {
    "duration": 131,
    "start_time": "2023-03-25T14:04:01.694Z"
   },
   {
    "duration": 47,
    "start_time": "2023-03-25T14:04:01.827Z"
   },
   {
    "duration": 61,
    "start_time": "2023-03-25T14:04:01.876Z"
   },
   {
    "duration": 67,
    "start_time": "2023-03-25T14:04:01.938Z"
   },
   {
    "duration": 40,
    "start_time": "2023-03-25T14:04:02.007Z"
   },
   {
    "duration": 1618,
    "start_time": "2023-03-25T14:04:02.049Z"
   },
   {
    "duration": 606,
    "start_time": "2023-03-25T14:04:03.669Z"
   },
   {
    "duration": 397,
    "start_time": "2023-03-25T14:04:04.278Z"
   },
   {
    "duration": 309424,
    "start_time": "2023-03-25T14:04:04.688Z"
   },
   {
    "duration": 775,
    "start_time": "2023-03-25T14:09:14.114Z"
   },
   {
    "duration": 6,
    "start_time": "2023-03-25T14:09:14.891Z"
   },
   {
    "duration": 116,
    "start_time": "2023-03-25T14:09:14.899Z"
   },
   {
    "duration": 6,
    "start_time": "2023-03-25T14:09:15.017Z"
   },
   {
    "duration": 40,
    "start_time": "2023-03-25T14:09:15.024Z"
   },
   {
    "duration": 7,
    "start_time": "2023-03-25T14:09:15.066Z"
   },
   {
    "duration": 331,
    "start_time": "2023-03-25T14:25:55.622Z"
   },
   {
    "duration": 342,
    "start_time": "2023-03-25T14:26:35.307Z"
   },
   {
    "duration": 363,
    "start_time": "2023-03-25T14:27:17.395Z"
   },
   {
    "duration": 305,
    "start_time": "2023-03-25T14:30:51.149Z"
   },
   {
    "duration": 322,
    "start_time": "2023-03-25T14:33:00.224Z"
   },
   {
    "duration": 283933,
    "start_time": "2023-03-25T14:35:22.495Z"
   },
   {
    "duration": 927,
    "start_time": "2023-03-25T14:55:44.790Z"
   },
   {
    "duration": 254,
    "start_time": "2023-03-25T14:56:13.456Z"
   },
   {
    "duration": 225,
    "start_time": "2023-03-25T14:57:39.584Z"
   },
   {
    "duration": 432,
    "start_time": "2023-03-25T14:57:45.158Z"
   },
   {
    "duration": 589,
    "start_time": "2023-03-25T14:58:42.213Z"
   },
   {
    "duration": 2466,
    "start_time": "2023-03-26T09:38:53.912Z"
   },
   {
    "duration": 8,
    "start_time": "2023-03-26T09:38:56.380Z"
   },
   {
    "duration": 199,
    "start_time": "2023-03-26T09:38:56.389Z"
   },
   {
    "duration": 106,
    "start_time": "2023-03-26T09:38:56.590Z"
   },
   {
    "duration": 19,
    "start_time": "2023-03-26T09:38:56.700Z"
   },
   {
    "duration": 97,
    "start_time": "2023-03-26T09:38:56.722Z"
   },
   {
    "duration": 90,
    "start_time": "2023-03-26T09:38:56.822Z"
   },
   {
    "duration": 37,
    "start_time": "2023-03-26T09:38:56.914Z"
   },
   {
    "duration": 48,
    "start_time": "2023-03-26T09:38:56.953Z"
   },
   {
    "duration": 36,
    "start_time": "2023-03-26T09:38:57.003Z"
   },
   {
    "duration": 67,
    "start_time": "2023-03-26T09:38:57.043Z"
   },
   {
    "duration": 96,
    "start_time": "2023-03-26T09:38:57.114Z"
   },
   {
    "duration": 28,
    "start_time": "2023-03-26T09:38:57.212Z"
   },
   {
    "duration": 107,
    "start_time": "2023-03-26T09:38:57.244Z"
   },
   {
    "duration": 99,
    "start_time": "2023-03-26T09:38:57.353Z"
   },
   {
    "duration": 94,
    "start_time": "2023-03-26T09:38:57.461Z"
   },
   {
    "duration": 120,
    "start_time": "2023-03-26T09:38:57.561Z"
   },
   {
    "duration": 70,
    "start_time": "2023-03-26T09:38:57.684Z"
   },
   {
    "duration": 1928,
    "start_time": "2023-03-26T09:38:57.757Z"
   },
   {
    "duration": 672,
    "start_time": "2023-03-26T09:38:59.693Z"
   },
   {
    "duration": 501,
    "start_time": "2023-03-26T09:39:00.367Z"
   },
   {
    "duration": 367895,
    "start_time": "2023-03-26T09:39:00.874Z"
   },
   {
    "duration": 813,
    "start_time": "2023-03-26T09:45:08.771Z"
   },
   {
    "duration": 61,
    "start_time": "2023-03-26T09:45:09.589Z"
   },
   {
    "duration": 139,
    "start_time": "2023-03-26T09:45:09.652Z"
   },
   {
    "duration": 12,
    "start_time": "2023-03-26T09:45:09.792Z"
   },
   {
    "duration": 18,
    "start_time": "2023-03-26T09:45:09.806Z"
   },
   {
    "duration": 25,
    "start_time": "2023-03-26T09:45:09.826Z"
   },
   {
    "duration": 365,
    "start_time": "2023-03-26T09:45:09.859Z"
   },
   {
    "duration": 302236,
    "start_time": "2023-03-26T09:45:10.226Z"
   },
   {
    "duration": 775,
    "start_time": "2023-03-26T09:50:12.466Z"
   },
   {
    "duration": 179,
    "start_time": "2023-03-26T09:58:03.662Z"
   },
   {
    "duration": 101,
    "start_time": "2023-03-26T09:58:17.462Z"
   },
   {
    "duration": 40,
    "start_time": "2023-03-26T09:58:28.268Z"
   },
   {
    "duration": 179,
    "start_time": "2023-03-26T09:59:27.217Z"
   },
   {
    "duration": 234,
    "start_time": "2023-03-26T09:59:38.517Z"
   },
   {
    "duration": 15,
    "start_time": "2023-03-26T10:00:13.892Z"
   },
   {
    "duration": 1855,
    "start_time": "2023-03-26T10:02:59.476Z"
   },
   {
    "duration": 12,
    "start_time": "2023-03-26T10:03:01.333Z"
   },
   {
    "duration": 120,
    "start_time": "2023-03-26T10:03:01.350Z"
   },
   {
    "duration": 68,
    "start_time": "2023-03-26T10:03:01.475Z"
   },
   {
    "duration": 69,
    "start_time": "2023-03-26T10:03:01.545Z"
   },
   {
    "duration": 68,
    "start_time": "2023-03-26T10:03:01.615Z"
   },
   {
    "duration": 72,
    "start_time": "2023-03-26T10:03:01.686Z"
   },
   {
    "duration": 63,
    "start_time": "2023-03-26T10:03:01.760Z"
   },
   {
    "duration": 79,
    "start_time": "2023-03-26T10:03:01.825Z"
   },
   {
    "duration": 101,
    "start_time": "2023-03-26T10:03:01.906Z"
   },
   {
    "duration": 67,
    "start_time": "2023-03-26T10:03:02.009Z"
   },
   {
    "duration": 97,
    "start_time": "2023-03-26T10:03:02.078Z"
   },
   {
    "duration": 40,
    "start_time": "2023-03-26T10:03:02.177Z"
   },
   {
    "duration": 85,
    "start_time": "2023-03-26T10:03:02.220Z"
   },
   {
    "duration": 18,
    "start_time": "2023-03-26T10:03:02.307Z"
   },
   {
    "duration": 68,
    "start_time": "2023-03-26T10:03:02.327Z"
   },
   {
    "duration": 60,
    "start_time": "2023-03-26T10:03:02.398Z"
   },
   {
    "duration": 43,
    "start_time": "2023-03-26T10:03:02.460Z"
   },
   {
    "duration": 1769,
    "start_time": "2023-03-26T10:03:02.505Z"
   },
   {
    "duration": 609,
    "start_time": "2023-03-26T10:03:04.277Z"
   },
   {
    "duration": 422,
    "start_time": "2023-03-26T10:03:04.894Z"
   },
   {
    "duration": 349418,
    "start_time": "2023-03-26T10:03:05.333Z"
   },
   {
    "duration": 1011,
    "start_time": "2023-03-26T10:08:54.753Z"
   },
   {
    "duration": 23,
    "start_time": "2023-03-26T10:08:55.770Z"
   },
   {
    "duration": 76,
    "start_time": "2023-03-26T10:08:55.795Z"
   },
   {
    "duration": 23,
    "start_time": "2023-03-26T10:08:55.875Z"
   },
   {
    "duration": 19,
    "start_time": "2023-03-26T10:08:55.900Z"
   },
   {
    "duration": 7,
    "start_time": "2023-03-26T10:08:55.921Z"
   },
   {
    "duration": 378,
    "start_time": "2023-03-26T10:08:55.930Z"
   },
   {
    "duration": 282805,
    "start_time": "2023-03-26T10:08:56.310Z"
   },
   {
    "duration": 458,
    "start_time": "2023-03-26T10:13:39.117Z"
   },
   {
    "duration": 220,
    "start_time": "2023-03-26T10:13:39.596Z"
   },
   {
    "duration": 577,
    "start_time": "2023-03-26T10:25:43.906Z"
   },
   {
    "duration": 104,
    "start_time": "2023-03-26T10:41:29.195Z"
   },
   {
    "duration": 173,
    "start_time": "2023-03-26T10:44:46.531Z"
   },
   {
    "duration": 12,
    "start_time": "2023-03-26T10:45:09.256Z"
   },
   {
    "duration": 483,
    "start_time": "2023-03-26T10:45:16.149Z"
   },
   {
    "duration": 452,
    "start_time": "2023-03-26T10:46:41.290Z"
   },
   {
    "duration": 8,
    "start_time": "2023-03-26T10:59:40.652Z"
   },
   {
    "duration": 6,
    "start_time": "2023-03-26T10:59:46.556Z"
   },
   {
    "duration": 7,
    "start_time": "2023-03-26T11:00:03.056Z"
   },
   {
    "duration": 251,
    "start_time": "2023-03-26T11:10:50.778Z"
   },
   {
    "duration": 293,
    "start_time": "2023-03-26T11:13:47.431Z"
   },
   {
    "duration": 103,
    "start_time": "2023-03-26T11:13:55.794Z"
   },
   {
    "duration": 1578,
    "start_time": "2023-03-26T11:14:28.095Z"
   },
   {
    "duration": 5,
    "start_time": "2023-03-26T11:14:29.675Z"
   },
   {
    "duration": 49,
    "start_time": "2023-03-26T11:14:29.682Z"
   },
   {
    "duration": 44,
    "start_time": "2023-03-26T11:14:29.734Z"
   },
   {
    "duration": 13,
    "start_time": "2023-03-26T11:14:29.780Z"
   },
   {
    "duration": 14,
    "start_time": "2023-03-26T11:14:29.794Z"
   },
   {
    "duration": 15,
    "start_time": "2023-03-26T11:14:29.833Z"
   },
   {
    "duration": 19,
    "start_time": "2023-03-26T11:14:29.850Z"
   },
   {
    "duration": 6,
    "start_time": "2023-03-26T11:14:29.871Z"
   },
   {
    "duration": 20,
    "start_time": "2023-03-26T11:14:29.881Z"
   },
   {
    "duration": 6,
    "start_time": "2023-03-26T11:14:29.903Z"
   },
   {
    "duration": 37,
    "start_time": "2023-03-26T11:14:29.911Z"
   },
   {
    "duration": 14,
    "start_time": "2023-03-26T11:14:29.953Z"
   },
   {
    "duration": 36,
    "start_time": "2023-03-26T11:14:29.969Z"
   },
   {
    "duration": 6,
    "start_time": "2023-03-26T11:14:30.007Z"
   },
   {
    "duration": 31,
    "start_time": "2023-03-26T11:14:30.015Z"
   },
   {
    "duration": 82,
    "start_time": "2023-03-26T11:14:30.048Z"
   },
   {
    "duration": 6,
    "start_time": "2023-03-26T11:14:30.132Z"
   },
   {
    "duration": 1415,
    "start_time": "2023-03-26T11:14:30.139Z"
   },
   {
    "duration": 499,
    "start_time": "2023-03-26T11:14:31.556Z"
   },
   {
    "duration": 341,
    "start_time": "2023-03-26T11:14:32.058Z"
   },
   {
    "duration": 319945,
    "start_time": "2023-03-26T11:14:32.402Z"
   },
   {
    "duration": 715,
    "start_time": "2023-03-26T11:19:52.349Z"
   },
   {
    "duration": 74,
    "start_time": "2023-03-26T11:19:53.067Z"
   },
   {
    "duration": 79,
    "start_time": "2023-03-26T11:19:53.143Z"
   },
   {
    "duration": 5,
    "start_time": "2023-03-26T11:19:53.224Z"
   },
   {
    "duration": 71,
    "start_time": "2023-03-26T11:19:53.232Z"
   },
   {
    "duration": 6,
    "start_time": "2023-03-26T11:19:53.308Z"
   },
   {
    "duration": 357,
    "start_time": "2023-03-26T11:19:53.316Z"
   },
   {
    "duration": 280132,
    "start_time": "2023-03-26T11:19:53.674Z"
   },
   {
    "duration": 674,
    "start_time": "2023-03-26T11:24:33.808Z"
   },
   {
    "duration": 417,
    "start_time": "2023-03-26T11:24:34.543Z"
   },
   {
    "duration": 198,
    "start_time": "2023-03-26T11:24:34.972Z"
   },
   {
    "duration": 0,
    "start_time": "2023-03-26T11:24:35.175Z"
   },
   {
    "duration": 470,
    "start_time": "2023-03-26T11:25:15.951Z"
   },
   {
    "duration": 402,
    "start_time": "2023-03-26T11:40:03.275Z"
   },
   {
    "duration": 5,
    "start_time": "2023-03-26T11:54:19.169Z"
   },
   {
    "duration": 19,
    "start_time": "2023-03-26T11:54:19.630Z"
   },
   {
    "duration": 4,
    "start_time": "2023-03-26T11:54:21.108Z"
   },
   {
    "duration": 15,
    "start_time": "2023-03-26T11:54:30.727Z"
   },
   {
    "duration": 6,
    "start_time": "2023-03-26T11:54:31.588Z"
   },
   {
    "duration": 343,
    "start_time": "2023-03-26T11:54:32.704Z"
   },
   {
    "duration": 1666,
    "start_time": "2023-03-26T11:57:17.761Z"
   },
   {
    "duration": 13,
    "start_time": "2023-03-26T11:57:19.429Z"
   },
   {
    "duration": 80,
    "start_time": "2023-03-26T11:57:19.449Z"
   },
   {
    "duration": 49,
    "start_time": "2023-03-26T11:57:19.531Z"
   },
   {
    "duration": 17,
    "start_time": "2023-03-26T11:57:19.583Z"
   },
   {
    "duration": 18,
    "start_time": "2023-03-26T11:57:19.602Z"
   },
   {
    "duration": 38,
    "start_time": "2023-03-26T11:57:19.634Z"
   },
   {
    "duration": 11,
    "start_time": "2023-03-26T11:57:19.674Z"
   },
   {
    "duration": 5,
    "start_time": "2023-03-26T11:57:19.687Z"
   },
   {
    "duration": 15,
    "start_time": "2023-03-26T11:57:19.693Z"
   },
   {
    "duration": 6,
    "start_time": "2023-03-26T11:57:19.710Z"
   },
   {
    "duration": 12,
    "start_time": "2023-03-26T11:57:19.718Z"
   },
   {
    "duration": 37,
    "start_time": "2023-03-26T11:57:19.732Z"
   },
   {
    "duration": 27,
    "start_time": "2023-03-26T11:57:19.773Z"
   },
   {
    "duration": 6,
    "start_time": "2023-03-26T11:57:19.802Z"
   },
   {
    "duration": 16,
    "start_time": "2023-03-26T11:57:19.810Z"
   },
   {
    "duration": 50,
    "start_time": "2023-03-26T11:57:19.827Z"
   },
   {
    "duration": 6,
    "start_time": "2023-03-26T11:57:19.879Z"
   },
   {
    "duration": 1411,
    "start_time": "2023-03-26T11:57:19.887Z"
   },
   {
    "duration": 500,
    "start_time": "2023-03-26T11:57:21.300Z"
   },
   {
    "duration": 361,
    "start_time": "2023-03-26T11:57:21.802Z"
   },
   {
    "duration": 1631,
    "start_time": "2023-03-26T12:10:49.989Z"
   },
   {
    "duration": 5,
    "start_time": "2023-03-26T12:10:51.622Z"
   },
   {
    "duration": 80,
    "start_time": "2023-03-26T12:10:51.639Z"
   },
   {
    "duration": 48,
    "start_time": "2023-03-26T12:10:51.722Z"
   },
   {
    "duration": 13,
    "start_time": "2023-03-26T12:10:51.772Z"
   },
   {
    "duration": 13,
    "start_time": "2023-03-26T12:10:51.787Z"
   },
   {
    "duration": 8,
    "start_time": "2023-03-26T12:10:51.802Z"
   },
   {
    "duration": 50,
    "start_time": "2023-03-26T12:10:51.811Z"
   },
   {
    "duration": 7,
    "start_time": "2023-03-26T12:10:51.863Z"
   },
   {
    "duration": 16,
    "start_time": "2023-03-26T12:10:51.872Z"
   },
   {
    "duration": 5,
    "start_time": "2023-03-26T12:10:51.889Z"
   },
   {
    "duration": 10,
    "start_time": "2023-03-26T12:10:51.896Z"
   },
   {
    "duration": 9,
    "start_time": "2023-03-26T12:10:51.908Z"
   },
   {
    "duration": 32,
    "start_time": "2023-03-26T12:10:51.918Z"
   },
   {
    "duration": 20,
    "start_time": "2023-03-26T12:10:51.955Z"
   },
   {
    "duration": 21,
    "start_time": "2023-03-26T12:10:51.977Z"
   },
   {
    "duration": 32,
    "start_time": "2023-03-26T12:10:51.999Z"
   },
   {
    "duration": 28,
    "start_time": "2023-03-26T12:10:52.033Z"
   },
   {
    "duration": 1433,
    "start_time": "2023-03-26T12:10:52.065Z"
   },
   {
    "duration": 484,
    "start_time": "2023-03-26T12:10:53.500Z"
   },
   {
    "duration": 340,
    "start_time": "2023-03-26T12:10:53.986Z"
   },
   {
    "duration": 292282,
    "start_time": "2023-03-26T12:10:54.328Z"
   },
   {
    "duration": 435,
    "start_time": "2023-03-26T12:15:46.613Z"
   },
   {
    "duration": 94,
    "start_time": "2023-03-26T12:15:47.050Z"
   },
   {
    "duration": 31,
    "start_time": "2023-03-26T12:15:47.152Z"
   },
   {
    "duration": 58,
    "start_time": "2023-03-26T12:15:47.185Z"
   },
   {
    "duration": 31,
    "start_time": "2023-03-26T12:15:47.245Z"
   },
   {
    "duration": 6,
    "start_time": "2023-03-26T12:15:47.279Z"
   },
   {
    "duration": 314,
    "start_time": "2023-03-26T12:15:47.287Z"
   },
   {
    "duration": 261891,
    "start_time": "2023-03-26T12:15:47.603Z"
   },
   {
    "duration": 750,
    "start_time": "2023-03-26T12:20:09.496Z"
   },
   {
    "duration": 550,
    "start_time": "2023-03-26T12:20:10.248Z"
   },
   {
    "duration": 375,
    "start_time": "2023-03-26T12:20:10.800Z"
   },
   {
    "duration": 1669,
    "start_time": "2023-03-26T14:26:46.759Z"
   },
   {
    "duration": 6,
    "start_time": "2023-03-26T14:26:48.430Z"
   },
   {
    "duration": 182,
    "start_time": "2023-03-26T14:26:48.437Z"
   },
   {
    "duration": 45,
    "start_time": "2023-03-26T14:26:48.621Z"
   },
   {
    "duration": 16,
    "start_time": "2023-03-26T14:26:48.668Z"
   },
   {
    "duration": 14,
    "start_time": "2023-03-26T14:26:48.685Z"
   },
   {
    "duration": 8,
    "start_time": "2023-03-26T14:26:48.700Z"
   },
   {
    "duration": 9,
    "start_time": "2023-03-26T14:26:48.709Z"
   },
   {
    "duration": 5,
    "start_time": "2023-03-26T14:26:48.720Z"
   },
   {
    "duration": 13,
    "start_time": "2023-03-26T14:26:48.728Z"
   },
   {
    "duration": 5,
    "start_time": "2023-03-26T14:26:48.743Z"
   },
   {
    "duration": 44,
    "start_time": "2023-03-26T14:26:48.749Z"
   },
   {
    "duration": 12,
    "start_time": "2023-03-26T14:26:48.795Z"
   },
   {
    "duration": 41,
    "start_time": "2023-03-26T14:26:48.809Z"
   },
   {
    "duration": 6,
    "start_time": "2023-03-26T14:26:48.852Z"
   },
   {
    "duration": 14,
    "start_time": "2023-03-26T14:26:48.859Z"
   },
   {
    "duration": 39,
    "start_time": "2023-03-26T14:26:48.875Z"
   },
   {
    "duration": 5,
    "start_time": "2023-03-26T14:26:48.916Z"
   },
   {
    "duration": 1291,
    "start_time": "2023-03-26T14:26:48.923Z"
   },
   {
    "duration": 439,
    "start_time": "2023-03-26T14:26:50.216Z"
   },
   {
    "duration": 314,
    "start_time": "2023-03-26T14:26:50.657Z"
   },
   {
    "duration": 260290,
    "start_time": "2023-03-26T14:26:50.988Z"
   },
   {
    "duration": 400,
    "start_time": "2023-03-26T14:31:11.290Z"
   },
   {
    "duration": 98,
    "start_time": "2023-03-26T14:31:11.692Z"
   },
   {
    "duration": 13,
    "start_time": "2023-03-26T14:31:11.792Z"
   },
   {
    "duration": 4,
    "start_time": "2023-03-26T14:31:11.806Z"
   },
   {
    "duration": 11,
    "start_time": "2023-03-26T14:31:11.812Z"
   },
   {
    "duration": 5,
    "start_time": "2023-03-26T14:31:11.827Z"
   },
   {
    "duration": 319,
    "start_time": "2023-03-26T14:31:11.834Z"
   },
   {
    "duration": 233787,
    "start_time": "2023-03-26T14:31:12.155Z"
   },
   {
    "duration": 246,
    "start_time": "2023-03-26T14:35:05.944Z"
   },
   {
    "duration": 446,
    "start_time": "2023-03-26T14:35:06.193Z"
   },
   {
    "duration": 339,
    "start_time": "2023-03-26T14:35:06.641Z"
   },
   {
    "duration": 373,
    "start_time": "2023-03-26T14:40:37.298Z"
   },
   {
    "duration": 1548,
    "start_time": "2023-03-26T20:04:07.471Z"
   },
   {
    "duration": 5,
    "start_time": "2023-03-26T20:04:09.021Z"
   },
   {
    "duration": 175,
    "start_time": "2023-03-26T20:04:09.028Z"
   },
   {
    "duration": 31,
    "start_time": "2023-03-26T20:04:09.205Z"
   },
   {
    "duration": 12,
    "start_time": "2023-03-26T20:04:09.238Z"
   },
   {
    "duration": 12,
    "start_time": "2023-03-26T20:04:09.251Z"
   },
   {
    "duration": 8,
    "start_time": "2023-03-26T20:04:09.265Z"
   },
   {
    "duration": 8,
    "start_time": "2023-03-26T20:04:09.275Z"
   },
   {
    "duration": 5,
    "start_time": "2023-03-26T20:04:09.285Z"
   },
   {
    "duration": 11,
    "start_time": "2023-03-26T20:04:09.292Z"
   },
   {
    "duration": 37,
    "start_time": "2023-03-26T20:04:09.305Z"
   },
   {
    "duration": 6,
    "start_time": "2023-03-26T20:04:09.344Z"
   },
   {
    "duration": 5,
    "start_time": "2023-03-26T20:04:09.352Z"
   },
   {
    "duration": 20,
    "start_time": "2023-03-26T20:04:09.360Z"
   },
   {
    "duration": 5,
    "start_time": "2023-03-26T20:04:09.381Z"
   },
   {
    "duration": 17,
    "start_time": "2023-03-26T20:04:09.387Z"
   },
   {
    "duration": 55,
    "start_time": "2023-03-26T20:04:09.406Z"
   },
   {
    "duration": 5,
    "start_time": "2023-03-26T20:04:09.463Z"
   },
   {
    "duration": 1169,
    "start_time": "2023-03-26T20:04:09.470Z"
   },
   {
    "duration": 474,
    "start_time": "2023-03-26T20:04:10.640Z"
   },
   {
    "duration": 305,
    "start_time": "2023-03-26T20:04:11.115Z"
   },
   {
    "duration": 259150,
    "start_time": "2023-03-26T20:04:11.421Z"
   },
   {
    "duration": 177,
    "start_time": "2023-03-26T20:08:30.572Z"
   },
   {
    "duration": 5,
    "start_time": "2023-03-26T20:08:30.841Z"
   },
   {
    "duration": 121,
    "start_time": "2023-03-26T20:08:30.850Z"
   },
   {
    "duration": 14,
    "start_time": "2023-03-26T20:08:30.972Z"
   },
   {
    "duration": 31,
    "start_time": "2023-03-26T20:08:30.988Z"
   },
   {
    "duration": 19,
    "start_time": "2023-03-26T20:08:31.021Z"
   },
   {
    "duration": 281,
    "start_time": "2023-03-26T20:08:31.042Z"
   },
   {
    "duration": 232894,
    "start_time": "2023-03-26T20:08:31.325Z"
   },
   {
    "duration": 127,
    "start_time": "2023-03-26T20:12:24.221Z"
   },
   {
    "duration": 528,
    "start_time": "2023-03-26T20:12:24.350Z"
   },
   {
    "duration": 351,
    "start_time": "2023-03-26T20:12:24.880Z"
   },
   {
    "duration": 5,
    "start_time": "2023-03-26T20:49:51.856Z"
   },
   {
    "duration": 6,
    "start_time": "2023-03-26T20:50:20.264Z"
   },
   {
    "duration": 1329,
    "start_time": "2023-03-26T20:58:10.364Z"
   },
   {
    "duration": 5,
    "start_time": "2023-03-26T20:58:11.695Z"
   },
   {
    "duration": 46,
    "start_time": "2023-03-26T20:58:11.701Z"
   },
   {
    "duration": 35,
    "start_time": "2023-03-26T20:58:11.749Z"
   },
   {
    "duration": 11,
    "start_time": "2023-03-26T20:58:11.786Z"
   },
   {
    "duration": 10,
    "start_time": "2023-03-26T20:58:11.799Z"
   },
   {
    "duration": 32,
    "start_time": "2023-03-26T20:58:11.811Z"
   },
   {
    "duration": 7,
    "start_time": "2023-03-26T20:58:11.845Z"
   },
   {
    "duration": 5,
    "start_time": "2023-03-26T20:58:11.853Z"
   },
   {
    "duration": 10,
    "start_time": "2023-03-26T20:58:11.860Z"
   },
   {
    "duration": 4,
    "start_time": "2023-03-26T20:58:11.872Z"
   },
   {
    "duration": 7,
    "start_time": "2023-03-26T20:58:11.877Z"
   },
   {
    "duration": 8,
    "start_time": "2023-03-26T20:58:11.885Z"
   },
   {
    "duration": 56,
    "start_time": "2023-03-26T20:58:11.894Z"
   },
   {
    "duration": 5,
    "start_time": "2023-03-26T20:58:11.952Z"
   },
   {
    "duration": 12,
    "start_time": "2023-03-26T20:58:11.958Z"
   },
   {
    "duration": 24,
    "start_time": "2023-03-26T20:58:11.971Z"
   },
   {
    "duration": 4,
    "start_time": "2023-03-26T20:58:11.997Z"
   },
   {
    "duration": 1163,
    "start_time": "2023-03-26T20:58:12.003Z"
   },
   {
    "duration": 449,
    "start_time": "2023-03-26T20:58:13.168Z"
   },
   {
    "duration": 299,
    "start_time": "2023-03-26T20:58:13.619Z"
   },
   {
    "duration": 1430,
    "start_time": "2023-03-26T21:09:36.692Z"
   },
   {
    "duration": 7,
    "start_time": "2023-03-26T21:09:38.124Z"
   },
   {
    "duration": 47,
    "start_time": "2023-03-26T21:09:38.133Z"
   },
   {
    "duration": 48,
    "start_time": "2023-03-26T21:09:38.182Z"
   },
   {
    "duration": 13,
    "start_time": "2023-03-26T21:09:38.232Z"
   },
   {
    "duration": 12,
    "start_time": "2023-03-26T21:09:38.246Z"
   },
   {
    "duration": 7,
    "start_time": "2023-03-26T21:09:38.260Z"
   },
   {
    "duration": 11,
    "start_time": "2023-03-26T21:09:38.269Z"
   },
   {
    "duration": 6,
    "start_time": "2023-03-26T21:09:38.282Z"
   },
   {
    "duration": 20,
    "start_time": "2023-03-26T21:09:38.292Z"
   },
   {
    "duration": 31,
    "start_time": "2023-03-26T21:09:38.314Z"
   },
   {
    "duration": 7,
    "start_time": "2023-03-26T21:09:38.347Z"
   },
   {
    "duration": 6,
    "start_time": "2023-03-26T21:09:38.356Z"
   },
   {
    "duration": 24,
    "start_time": "2023-03-26T21:09:38.364Z"
   },
   {
    "duration": 6,
    "start_time": "2023-03-26T21:09:38.391Z"
   },
   {
    "duration": 57,
    "start_time": "2023-03-26T21:09:38.399Z"
   },
   {
    "duration": 30,
    "start_time": "2023-03-26T21:09:38.458Z"
   },
   {
    "duration": 6,
    "start_time": "2023-03-26T21:09:38.490Z"
   },
   {
    "duration": 1168,
    "start_time": "2023-03-26T21:09:38.498Z"
   },
   {
    "duration": 445,
    "start_time": "2023-03-26T21:09:39.668Z"
   },
   {
    "duration": 312,
    "start_time": "2023-03-26T21:09:40.114Z"
   },
   {
    "duration": 259521,
    "start_time": "2023-03-26T21:09:40.441Z"
   },
   {
    "duration": 181,
    "start_time": "2023-03-26T21:13:59.963Z"
   },
   {
    "duration": 95,
    "start_time": "2023-03-26T21:14:00.146Z"
   },
   {
    "duration": 45,
    "start_time": "2023-03-26T21:14:00.242Z"
   },
   {
    "duration": 21,
    "start_time": "2023-03-26T21:14:00.289Z"
   },
   {
    "duration": 36,
    "start_time": "2023-03-26T21:14:00.312Z"
   },
   {
    "duration": 16,
    "start_time": "2023-03-26T21:14:00.351Z"
   },
   {
    "duration": 295,
    "start_time": "2023-03-26T21:14:00.369Z"
   },
   {
    "duration": 232997,
    "start_time": "2023-03-26T21:14:00.666Z"
   },
   {
    "duration": 179,
    "start_time": "2023-03-26T21:17:53.665Z"
   },
   {
    "duration": 507,
    "start_time": "2023-03-26T21:17:53.846Z"
   },
   {
    "duration": 348,
    "start_time": "2023-03-26T21:17:54.354Z"
   },
   {
    "duration": 1576,
    "start_time": "2023-03-29T07:40:16.920Z"
   },
   {
    "duration": 5,
    "start_time": "2023-03-29T07:40:18.498Z"
   },
   {
    "duration": 83,
    "start_time": "2023-03-29T07:40:18.504Z"
   },
   {
    "duration": 33,
    "start_time": "2023-03-29T07:40:18.588Z"
   },
   {
    "duration": 13,
    "start_time": "2023-03-29T07:40:18.623Z"
   },
   {
    "duration": 12,
    "start_time": "2023-03-29T07:40:18.638Z"
   },
   {
    "duration": 27,
    "start_time": "2023-03-29T07:40:18.652Z"
   },
   {
    "duration": 14,
    "start_time": "2023-03-29T07:40:18.681Z"
   },
   {
    "duration": 5,
    "start_time": "2023-03-29T07:40:18.697Z"
   },
   {
    "duration": 14,
    "start_time": "2023-03-29T07:40:18.704Z"
   },
   {
    "duration": 5,
    "start_time": "2023-03-29T07:40:18.720Z"
   },
   {
    "duration": 8,
    "start_time": "2023-03-29T07:40:18.727Z"
   },
   {
    "duration": 44,
    "start_time": "2023-03-29T07:40:18.736Z"
   },
   {
    "duration": 27,
    "start_time": "2023-03-29T07:40:18.784Z"
   },
   {
    "duration": 4,
    "start_time": "2023-03-29T07:40:18.813Z"
   },
   {
    "duration": 14,
    "start_time": "2023-03-29T07:40:18.819Z"
   },
   {
    "duration": 58,
    "start_time": "2023-03-29T07:40:18.835Z"
   },
   {
    "duration": 5,
    "start_time": "2023-03-29T07:40:18.895Z"
   },
   {
    "duration": 1395,
    "start_time": "2023-03-29T07:40:18.902Z"
   },
   {
    "duration": 459,
    "start_time": "2023-03-29T07:40:20.299Z"
   },
   {
    "duration": 361,
    "start_time": "2023-03-29T07:40:20.760Z"
   },
   {
    "duration": 1359,
    "start_time": "2023-03-29T07:42:36.207Z"
   },
   {
    "duration": 5,
    "start_time": "2023-03-29T07:42:37.568Z"
   },
   {
    "duration": 50,
    "start_time": "2023-03-29T07:42:37.574Z"
   },
   {
    "duration": 33,
    "start_time": "2023-03-29T07:42:37.626Z"
   },
   {
    "duration": 13,
    "start_time": "2023-03-29T07:42:37.660Z"
   },
   {
    "duration": 14,
    "start_time": "2023-03-29T07:42:37.674Z"
   },
   {
    "duration": 8,
    "start_time": "2023-03-29T07:42:37.690Z"
   },
   {
    "duration": 13,
    "start_time": "2023-03-29T07:42:37.700Z"
   },
   {
    "duration": 6,
    "start_time": "2023-03-29T07:42:37.715Z"
   },
   {
    "duration": 13,
    "start_time": "2023-03-29T07:42:37.724Z"
   },
   {
    "duration": 37,
    "start_time": "2023-03-29T07:42:37.740Z"
   },
   {
    "duration": 7,
    "start_time": "2023-03-29T07:42:37.778Z"
   },
   {
    "duration": 6,
    "start_time": "2023-03-29T07:42:37.788Z"
   },
   {
    "duration": 22,
    "start_time": "2023-03-29T07:42:37.796Z"
   },
   {
    "duration": 5,
    "start_time": "2023-03-29T07:42:37.820Z"
   },
   {
    "duration": 48,
    "start_time": "2023-03-29T07:42:37.827Z"
   },
   {
    "duration": 27,
    "start_time": "2023-03-29T07:42:37.877Z"
   },
   {
    "duration": 5,
    "start_time": "2023-03-29T07:42:37.905Z"
   },
   {
    "duration": 1373,
    "start_time": "2023-03-29T07:42:37.912Z"
   },
   {
    "duration": 509,
    "start_time": "2023-03-29T07:42:39.287Z"
   },
   {
    "duration": 320,
    "start_time": "2023-03-29T07:42:39.798Z"
   },
   {
    "duration": 32658,
    "start_time": "2023-03-29T07:42:40.120Z"
   },
   {
    "duration": 201,
    "start_time": "2023-03-29T07:43:12.779Z"
   },
   {
    "duration": 95,
    "start_time": "2023-03-29T07:43:12.982Z"
   },
   {
    "duration": 104,
    "start_time": "2023-03-29T07:43:13.082Z"
   },
   {
    "duration": 5,
    "start_time": "2023-03-29T07:43:13.187Z"
   },
   {
    "duration": 17,
    "start_time": "2023-03-29T07:43:13.194Z"
   },
   {
    "duration": 11,
    "start_time": "2023-03-29T07:43:13.214Z"
   },
   {
    "duration": 278,
    "start_time": "2023-03-29T07:43:13.227Z"
   },
   {
    "duration": 881,
    "start_time": "2023-03-29T07:43:13.507Z"
   },
   {
    "duration": 286,
    "start_time": "2023-03-29T07:43:14.390Z"
   },
   {
    "duration": 130,
    "start_time": "2023-03-29T07:43:14.678Z"
   },
   {
    "duration": 0,
    "start_time": "2023-03-29T07:43:14.810Z"
   },
   {
    "duration": 0,
    "start_time": "2023-03-29T07:43:14.812Z"
   },
   {
    "duration": 5,
    "start_time": "2023-03-29T07:43:30.353Z"
   },
   {
    "duration": 5,
    "start_time": "2023-03-29T07:43:41.105Z"
   },
   {
    "duration": 59,
    "start_time": "2023-03-29T07:43:45.445Z"
   },
   {
    "duration": 4,
    "start_time": "2023-03-29T07:44:05.223Z"
   },
   {
    "duration": 4,
    "start_time": "2023-03-29T07:44:46.003Z"
   },
   {
    "duration": 4,
    "start_time": "2023-03-29T07:44:53.421Z"
   },
   {
    "duration": 5,
    "start_time": "2023-03-29T07:44:54.904Z"
   },
   {
    "duration": 33,
    "start_time": "2023-03-29T07:44:55.698Z"
   },
   {
    "duration": 31,
    "start_time": "2023-03-29T07:44:57.013Z"
   },
   {
    "duration": 14,
    "start_time": "2023-03-29T07:45:01.043Z"
   },
   {
    "duration": 12,
    "start_time": "2023-03-29T07:45:01.605Z"
   },
   {
    "duration": 8,
    "start_time": "2023-03-29T07:45:02.355Z"
   },
   {
    "duration": 10,
    "start_time": "2023-03-29T07:45:03.653Z"
   },
   {
    "duration": 5,
    "start_time": "2023-03-29T07:45:04.135Z"
   },
   {
    "duration": 13,
    "start_time": "2023-03-29T07:45:04.706Z"
   },
   {
    "duration": 5,
    "start_time": "2023-03-29T07:45:04.961Z"
   },
   {
    "duration": 3304,
    "start_time": "2023-03-29T07:45:46.705Z"
   },
   {
    "duration": 47,
    "start_time": "2023-03-29T07:46:11.243Z"
   },
   {
    "duration": 2038,
    "start_time": "2023-03-29T07:46:15.155Z"
   },
   {
    "duration": 46541,
    "start_time": "2023-03-29T07:46:24.555Z"
   },
   {
    "duration": 2375,
    "start_time": "2023-03-29T07:47:52.559Z"
   },
   {
    "duration": 59,
    "start_time": "2023-03-29T07:49:45.295Z"
   },
   {
    "duration": 83,
    "start_time": "2023-03-29T07:50:14.423Z"
   },
   {
    "duration": 77,
    "start_time": "2023-03-29T07:50:42.394Z"
   },
   {
    "duration": 77,
    "start_time": "2023-03-29T07:51:07.494Z"
   },
   {
    "duration": 86,
    "start_time": "2023-03-29T07:51:19.203Z"
   },
   {
    "duration": 38,
    "start_time": "2023-03-29T07:52:43.168Z"
   },
   {
    "duration": 9,
    "start_time": "2023-03-29T07:53:53.261Z"
   },
   {
    "duration": 12,
    "start_time": "2023-03-29T07:54:04.698Z"
   },
   {
    "duration": 5,
    "start_time": "2023-03-29T07:56:26.396Z"
   },
   {
    "duration": 3,
    "start_time": "2023-03-29T07:58:17.234Z"
   },
   {
    "duration": 11,
    "start_time": "2023-03-29T07:58:35.693Z"
   },
   {
    "duration": 12,
    "start_time": "2023-03-29T07:59:15.720Z"
   },
   {
    "duration": 11,
    "start_time": "2023-03-29T07:59:20.091Z"
   },
   {
    "duration": 12,
    "start_time": "2023-03-29T07:59:53.509Z"
   },
   {
    "duration": 172,
    "start_time": "2023-03-29T08:00:06.561Z"
   },
   {
    "duration": 5,
    "start_time": "2023-03-29T08:00:31.111Z"
   },
   {
    "duration": 4,
    "start_time": "2023-03-29T08:00:45.469Z"
   },
   {
    "duration": 11,
    "start_time": "2023-03-29T08:00:58.859Z"
   },
   {
    "duration": 46,
    "start_time": "2023-03-29T08:02:01.651Z"
   },
   {
    "duration": 10,
    "start_time": "2023-03-29T08:02:09.092Z"
   },
   {
    "duration": 11,
    "start_time": "2023-03-29T08:02:25.668Z"
   },
   {
    "duration": 171,
    "start_time": "2023-03-29T08:02:30.601Z"
   },
   {
    "duration": 40,
    "start_time": "2023-03-29T08:02:45.752Z"
   },
   {
    "duration": 4462,
    "start_time": "2023-04-02T14:14:17.608Z"
   },
   {
    "duration": 30218,
    "start_time": "2023-04-02T14:14:22.079Z"
   },
   {
    "duration": 2552,
    "start_time": "2023-04-02T14:14:52.299Z"
   },
   {
    "duration": 9,
    "start_time": "2023-04-02T14:14:54.859Z"
   },
   {
    "duration": 119,
    "start_time": "2023-04-02T14:14:54.875Z"
   },
   {
    "duration": 25,
    "start_time": "2023-04-02T14:14:54.996Z"
   },
   {
    "duration": 9,
    "start_time": "2023-04-02T14:14:55.023Z"
   },
   {
    "duration": 18,
    "start_time": "2023-04-02T14:14:55.033Z"
   },
   {
    "duration": 22,
    "start_time": "2023-04-02T14:14:55.057Z"
   },
   {
    "duration": 9,
    "start_time": "2023-04-02T14:14:55.080Z"
   },
   {
    "duration": 5,
    "start_time": "2023-04-02T14:14:55.091Z"
   },
   {
    "duration": 13,
    "start_time": "2023-04-02T14:14:55.098Z"
   },
   {
    "duration": 5,
    "start_time": "2023-04-02T14:14:55.113Z"
   },
   {
    "duration": 22,
    "start_time": "2023-04-02T14:14:55.122Z"
   },
   {
    "duration": 17,
    "start_time": "2023-04-02T14:14:55.151Z"
   },
   {
    "duration": 27,
    "start_time": "2023-04-02T14:14:55.171Z"
   },
   {
    "duration": 4,
    "start_time": "2023-04-02T14:14:55.200Z"
   },
   {
    "duration": 14,
    "start_time": "2023-04-02T14:14:55.205Z"
   },
   {
    "duration": 137,
    "start_time": "2023-04-02T14:14:55.221Z"
   },
   {
    "duration": 0,
    "start_time": "2023-04-02T14:14:55.365Z"
   },
   {
    "duration": 0,
    "start_time": "2023-04-02T14:14:55.365Z"
   },
   {
    "duration": 0,
    "start_time": "2023-04-02T14:14:55.366Z"
   },
   {
    "duration": 0,
    "start_time": "2023-04-02T14:14:55.367Z"
   },
   {
    "duration": 0,
    "start_time": "2023-04-02T14:14:55.367Z"
   },
   {
    "duration": 0,
    "start_time": "2023-04-02T14:14:55.368Z"
   },
   {
    "duration": 0,
    "start_time": "2023-04-02T14:14:55.369Z"
   },
   {
    "duration": 0,
    "start_time": "2023-04-02T14:14:55.371Z"
   },
   {
    "duration": 0,
    "start_time": "2023-04-02T14:14:55.372Z"
   },
   {
    "duration": 0,
    "start_time": "2023-04-02T14:14:55.374Z"
   },
   {
    "duration": 0,
    "start_time": "2023-04-02T14:14:55.376Z"
   },
   {
    "duration": 0,
    "start_time": "2023-04-02T14:14:55.377Z"
   },
   {
    "duration": 0,
    "start_time": "2023-04-02T14:14:55.378Z"
   },
   {
    "duration": 0,
    "start_time": "2023-04-02T14:14:55.379Z"
   },
   {
    "duration": 0,
    "start_time": "2023-04-02T14:14:55.380Z"
   },
   {
    "duration": 0,
    "start_time": "2023-04-02T14:14:55.382Z"
   },
   {
    "duration": 2375,
    "start_time": "2023-04-02T14:17:56.115Z"
   },
   {
    "duration": 2906,
    "start_time": "2023-04-02T14:17:58.492Z"
   },
   {
    "duration": 1650,
    "start_time": "2023-04-02T14:18:01.400Z"
   },
   {
    "duration": 19,
    "start_time": "2023-04-02T14:18:03.059Z"
   },
   {
    "duration": 73,
    "start_time": "2023-04-02T14:18:03.080Z"
   },
   {
    "duration": 37,
    "start_time": "2023-04-02T14:18:03.158Z"
   },
   {
    "duration": 13,
    "start_time": "2023-04-02T14:18:03.197Z"
   },
   {
    "duration": 40,
    "start_time": "2023-04-02T14:18:03.212Z"
   },
   {
    "duration": 20,
    "start_time": "2023-04-02T14:18:03.260Z"
   },
   {
    "duration": 17,
    "start_time": "2023-04-02T14:18:03.283Z"
   },
   {
    "duration": 6,
    "start_time": "2023-04-02T14:18:03.301Z"
   },
   {
    "duration": 30,
    "start_time": "2023-04-02T14:18:03.309Z"
   },
   {
    "duration": 12,
    "start_time": "2023-04-02T14:18:03.353Z"
   },
   {
    "duration": 20,
    "start_time": "2023-04-02T14:18:03.366Z"
   },
   {
    "duration": 20,
    "start_time": "2023-04-02T14:18:03.388Z"
   },
   {
    "duration": 65,
    "start_time": "2023-04-02T14:18:03.410Z"
   },
   {
    "duration": 52,
    "start_time": "2023-04-02T14:18:03.476Z"
   },
   {
    "duration": 51,
    "start_time": "2023-04-02T14:18:03.530Z"
   },
   {
    "duration": 32,
    "start_time": "2023-04-02T14:18:03.583Z"
   },
   {
    "duration": 6,
    "start_time": "2023-04-02T14:18:03.617Z"
   },
   {
    "duration": 1524,
    "start_time": "2023-04-02T14:18:03.624Z"
   },
   {
    "duration": 555,
    "start_time": "2023-04-02T14:18:05.156Z"
   },
   {
    "duration": 358,
    "start_time": "2023-04-02T14:18:05.713Z"
   },
   {
    "duration": 305383,
    "start_time": "2023-04-02T14:18:06.076Z"
   },
   {
    "duration": 623,
    "start_time": "2023-04-02T14:23:11.461Z"
   },
   {
    "duration": 49,
    "start_time": "2023-04-02T14:23:12.112Z"
   },
   {
    "duration": 21,
    "start_time": "2023-04-02T14:23:12.171Z"
   },
   {
    "duration": 9,
    "start_time": "2023-04-02T14:23:12.199Z"
   },
   {
    "duration": 17,
    "start_time": "2023-04-02T14:23:12.211Z"
   },
   {
    "duration": 26,
    "start_time": "2023-04-02T14:23:12.230Z"
   },
   {
    "duration": 346,
    "start_time": "2023-04-02T14:23:12.270Z"
   },
   {
    "duration": 285477,
    "start_time": "2023-04-02T14:23:12.624Z"
   },
   {
    "duration": 858,
    "start_time": "2023-04-02T14:27:58.104Z"
   },
   {
    "duration": 529,
    "start_time": "2023-04-02T14:27:58.972Z"
   },
   {
    "duration": 415,
    "start_time": "2023-04-02T14:27:59.503Z"
   },
   {
    "duration": 3132,
    "start_time": "2023-04-03T07:34:04.198Z"
   },
   {
    "duration": 51018,
    "start_time": "2023-04-03T07:34:07.332Z"
   },
   {
    "duration": 1710,
    "start_time": "2023-04-03T07:34:58.352Z"
   },
   {
    "duration": 5,
    "start_time": "2023-04-03T07:35:00.064Z"
   },
   {
    "duration": 205,
    "start_time": "2023-04-03T07:35:00.070Z"
   },
   {
    "duration": 25,
    "start_time": "2023-04-03T07:35:00.276Z"
   },
   {
    "duration": 14,
    "start_time": "2023-04-03T07:35:00.302Z"
   },
   {
    "duration": 32,
    "start_time": "2023-04-03T07:35:00.317Z"
   },
   {
    "duration": 42,
    "start_time": "2023-04-03T07:35:00.351Z"
   },
   {
    "duration": 36,
    "start_time": "2023-04-03T07:35:00.396Z"
   },
   {
    "duration": 38,
    "start_time": "2023-04-03T07:35:00.434Z"
   },
   {
    "duration": 54,
    "start_time": "2023-04-03T07:35:00.474Z"
   },
   {
    "duration": 40,
    "start_time": "2023-04-03T07:35:00.530Z"
   },
   {
    "duration": 28,
    "start_time": "2023-04-03T07:35:00.572Z"
   },
   {
    "duration": 35,
    "start_time": "2023-04-03T07:35:00.602Z"
   },
   {
    "duration": 39,
    "start_time": "2023-04-03T07:35:00.639Z"
   },
   {
    "duration": 60,
    "start_time": "2023-04-03T07:35:00.679Z"
   },
   {
    "duration": 41,
    "start_time": "2023-04-03T07:35:00.741Z"
   },
   {
    "duration": 88,
    "start_time": "2023-04-03T07:35:00.784Z"
   },
   {
    "duration": 27,
    "start_time": "2023-04-03T07:35:00.873Z"
   },
   {
    "duration": 1056,
    "start_time": "2023-04-03T07:35:00.901Z"
   },
   {
    "duration": 400,
    "start_time": "2023-04-03T07:35:01.958Z"
   },
   {
    "duration": 267,
    "start_time": "2023-04-03T07:35:02.360Z"
   },
   {
    "duration": 211312,
    "start_time": "2023-04-03T07:38:55.826Z"
   },
   {
    "duration": 126,
    "start_time": "2023-04-03T07:42:27.139Z"
   },
   {
    "duration": 494,
    "start_time": "2023-04-03T07:42:27.266Z"
   },
   {
    "duration": 316,
    "start_time": "2023-04-03T07:42:27.762Z"
   },
   {
    "duration": 2115,
    "start_time": "2023-04-03T08:08:27.766Z"
   },
   {
    "duration": 2602,
    "start_time": "2023-04-03T08:08:29.884Z"
   },
   {
    "duration": 1552,
    "start_time": "2023-04-03T08:08:32.488Z"
   },
   {
    "duration": 5,
    "start_time": "2023-04-03T08:08:34.042Z"
   },
   {
    "duration": 63,
    "start_time": "2023-04-03T08:08:34.050Z"
   },
   {
    "duration": 45,
    "start_time": "2023-04-03T08:08:34.114Z"
   },
   {
    "duration": 10,
    "start_time": "2023-04-03T08:08:34.164Z"
   },
   {
    "duration": 13,
    "start_time": "2023-04-03T08:08:34.176Z"
   },
   {
    "duration": 10,
    "start_time": "2023-04-03T08:08:34.190Z"
   },
   {
    "duration": 14,
    "start_time": "2023-04-03T08:08:34.203Z"
   },
   {
    "duration": 8,
    "start_time": "2023-04-03T08:08:34.219Z"
   },
   {
    "duration": 34,
    "start_time": "2023-04-03T08:08:34.229Z"
   },
   {
    "duration": 23,
    "start_time": "2023-04-03T08:08:34.264Z"
   },
   {
    "duration": 9,
    "start_time": "2023-04-03T08:08:34.289Z"
   },
   {
    "duration": 10,
    "start_time": "2023-04-03T08:08:34.300Z"
   },
   {
    "duration": 29,
    "start_time": "2023-04-03T08:08:34.312Z"
   },
   {
    "duration": 4,
    "start_time": "2023-04-03T08:08:34.343Z"
   },
   {
    "duration": 32,
    "start_time": "2023-04-03T08:08:34.349Z"
   },
   {
    "duration": 14,
    "start_time": "2023-04-03T08:08:34.383Z"
   },
   {
    "duration": 4,
    "start_time": "2023-04-03T08:08:34.399Z"
   },
   {
    "duration": 1212,
    "start_time": "2023-04-03T08:08:34.404Z"
   },
   {
    "duration": 422,
    "start_time": "2023-04-03T08:08:35.618Z"
   },
   {
    "duration": 281,
    "start_time": "2023-04-03T08:08:36.042Z"
   },
   {
    "duration": 2277,
    "start_time": "2023-04-03T08:09:29.238Z"
   },
   {
    "duration": 2373,
    "start_time": "2023-04-03T08:09:31.517Z"
   },
   {
    "duration": 1380,
    "start_time": "2023-04-03T08:09:33.892Z"
   },
   {
    "duration": 7,
    "start_time": "2023-04-03T08:09:35.275Z"
   },
   {
    "duration": 80,
    "start_time": "2023-04-03T08:09:35.284Z"
   },
   {
    "duration": 25,
    "start_time": "2023-04-03T08:09:35.366Z"
   },
   {
    "duration": 9,
    "start_time": "2023-04-03T08:09:35.392Z"
   },
   {
    "duration": 27,
    "start_time": "2023-04-03T08:09:35.402Z"
   },
   {
    "duration": 29,
    "start_time": "2023-04-03T08:09:35.431Z"
   },
   {
    "duration": 22,
    "start_time": "2023-04-03T08:09:35.469Z"
   },
   {
    "duration": 5,
    "start_time": "2023-04-03T08:09:35.493Z"
   },
   {
    "duration": 28,
    "start_time": "2023-04-03T08:09:35.499Z"
   },
   {
    "duration": 37,
    "start_time": "2023-04-03T08:09:35.528Z"
   },
   {
    "duration": 30,
    "start_time": "2023-04-03T08:09:35.567Z"
   },
   {
    "duration": 23,
    "start_time": "2023-04-03T08:09:35.599Z"
   },
   {
    "duration": 72,
    "start_time": "2023-04-03T08:09:35.625Z"
   },
   {
    "duration": 21,
    "start_time": "2023-04-03T08:09:35.699Z"
   },
   {
    "duration": 33,
    "start_time": "2023-04-03T08:09:35.722Z"
   },
   {
    "duration": 18,
    "start_time": "2023-04-03T08:09:35.764Z"
   },
   {
    "duration": 40,
    "start_time": "2023-04-03T08:09:35.784Z"
   },
   {
    "duration": 1099,
    "start_time": "2023-04-03T08:09:35.825Z"
   },
   {
    "duration": 446,
    "start_time": "2023-04-03T08:09:36.925Z"
   },
   {
    "duration": 286,
    "start_time": "2023-04-03T08:09:37.373Z"
   },
   {
    "duration": 259770,
    "start_time": "2023-04-03T08:09:37.666Z"
   },
   {
    "duration": 616,
    "start_time": "2023-04-03T08:13:57.439Z"
   },
   {
    "duration": 12,
    "start_time": "2023-04-03T08:13:58.059Z"
   },
   {
    "duration": 121,
    "start_time": "2023-04-03T08:13:58.076Z"
   },
   {
    "duration": 19,
    "start_time": "2023-04-03T08:13:58.200Z"
   },
   {
    "duration": 22,
    "start_time": "2023-04-03T08:13:58.221Z"
   },
   {
    "duration": 34,
    "start_time": "2023-04-03T08:13:58.245Z"
   },
   {
    "duration": 325,
    "start_time": "2023-04-03T08:13:58.281Z"
   },
   {
    "duration": 224491,
    "start_time": "2023-04-03T08:13:58.608Z"
   },
   {
    "duration": 271,
    "start_time": "2023-04-03T08:17:43.100Z"
   },
   {
    "duration": 426,
    "start_time": "2023-04-03T08:17:43.373Z"
   },
   {
    "duration": 323,
    "start_time": "2023-04-03T08:17:43.800Z"
   },
   {
    "duration": 4,
    "start_time": "2023-04-03T08:22:58.343Z"
   },
   {
    "duration": 5,
    "start_time": "2023-04-03T08:22:59.561Z"
   },
   {
    "duration": 43,
    "start_time": "2023-04-03T08:23:00.020Z"
   },
   {
    "duration": 24,
    "start_time": "2023-04-03T08:23:00.711Z"
   },
   {
    "duration": 13,
    "start_time": "2023-04-03T08:23:01.438Z"
   },
   {
    "duration": 5,
    "start_time": "2023-04-03T08:23:19.233Z"
   },
   {
    "duration": 9,
    "start_time": "2023-04-03T08:23:20.361Z"
   },
   {
    "duration": 19,
    "start_time": "2023-04-03T08:23:38.489Z"
   },
   {
    "duration": 12,
    "start_time": "2023-04-03T08:24:29.700Z"
   },
   {
    "duration": 12,
    "start_time": "2023-04-03T08:24:33.343Z"
   },
   {
    "duration": 5,
    "start_time": "2023-04-03T08:24:33.992Z"
   },
   {
    "duration": 16,
    "start_time": "2023-04-03T08:24:36.685Z"
   },
   {
    "duration": 18009,
    "start_time": "2023-04-03T08:29:14.988Z"
   },
   {
    "duration": 616,
    "start_time": "2023-04-03T08:30:01.515Z"
   },
   {
    "duration": 116038,
    "start_time": "2023-04-03T08:31:01.473Z"
   },
   {
    "duration": 47,
    "start_time": "2023-04-03T08:33:40.548Z"
   },
   {
    "duration": 2552,
    "start_time": "2023-04-03T08:34:14.361Z"
   },
   {
    "duration": 29,
    "start_time": "2023-04-03T08:34:22.240Z"
   },
   {
    "duration": 21,
    "start_time": "2023-04-03T08:35:13.974Z"
   },
   {
    "duration": 11,
    "start_time": "2023-04-03T08:35:23.852Z"
   },
   {
    "duration": 165,
    "start_time": "2023-04-03T08:36:19.661Z"
   },
   {
    "duration": 78,
    "start_time": "2023-04-03T08:36:28.784Z"
   },
   {
    "duration": 3497,
    "start_time": "2023-04-03T08:37:30.437Z"
   },
   {
    "duration": 27,
    "start_time": "2023-04-03T08:37:54.809Z"
   },
   {
    "duration": 19,
    "start_time": "2023-04-03T08:38:24.995Z"
   },
   {
    "duration": 2730,
    "start_time": "2023-04-03T08:39:58.975Z"
   },
   {
    "duration": 28,
    "start_time": "2023-04-03T08:40:07.388Z"
   },
   {
    "duration": 19,
    "start_time": "2023-04-03T08:40:19.316Z"
   },
   {
    "duration": 4,
    "start_time": "2023-04-03T08:40:32.682Z"
   },
   {
    "duration": 21465,
    "start_time": "2023-04-03T08:41:50.402Z"
   },
   {
    "duration": 651,
    "start_time": "2023-04-03T08:44:09.434Z"
   },
   {
    "duration": 324,
    "start_time": "2023-04-03T08:44:38.882Z"
   },
   {
    "duration": 4,
    "start_time": "2023-04-03T08:45:09.504Z"
   },
   {
    "duration": 4,
    "start_time": "2023-04-03T08:45:11.469Z"
   },
   {
    "duration": 38,
    "start_time": "2023-04-03T08:45:11.686Z"
   },
   {
    "duration": 23,
    "start_time": "2023-04-03T08:45:12.102Z"
   },
   {
    "duration": 10,
    "start_time": "2023-04-03T08:45:12.324Z"
   },
   {
    "duration": 10,
    "start_time": "2023-04-03T08:45:12.651Z"
   },
   {
    "duration": 8,
    "start_time": "2023-04-03T08:45:13.095Z"
   },
   {
    "duration": 7,
    "start_time": "2023-04-03T08:45:13.313Z"
   },
   {
    "duration": 5,
    "start_time": "2023-04-03T08:45:13.813Z"
   },
   {
    "duration": 9,
    "start_time": "2023-04-03T08:45:14.179Z"
   },
   {
    "duration": 14,
    "start_time": "2023-04-03T08:45:14.410Z"
   },
   {
    "duration": 5,
    "start_time": "2023-04-03T08:45:15.393Z"
   },
   {
    "duration": 4,
    "start_time": "2023-04-03T08:45:15.870Z"
   },
   {
    "duration": 65,
    "start_time": "2023-04-03T08:45:17.620Z"
   },
   {
    "duration": 59,
    "start_time": "2023-04-03T08:46:44.010Z"
   },
   {
    "duration": 71943,
    "start_time": "2023-04-03T08:47:59.988Z"
   },
   {
    "duration": 41641,
    "start_time": "2023-04-03T08:49:11.933Z"
   },
   {
    "duration": 79,
    "start_time": "2023-04-03T08:52:34.532Z"
   },
   {
    "duration": 95,
    "start_time": "2023-04-03T08:52:40.558Z"
   },
   {
    "duration": 85,
    "start_time": "2023-04-03T08:53:04.466Z"
   },
   {
    "duration": 16,
    "start_time": "2023-04-03T08:53:52.822Z"
   },
   {
    "duration": 4,
    "start_time": "2023-04-03T08:56:01.130Z"
   },
   {
    "duration": 64,
    "start_time": "2023-04-03T08:57:35.482Z"
   },
   {
    "duration": 17,
    "start_time": "2023-04-03T08:58:29.974Z"
   },
   {
    "duration": 16,
    "start_time": "2023-04-03T08:59:02.906Z"
   },
   {
    "duration": 30,
    "start_time": "2023-04-03T08:59:20.486Z"
   },
   {
    "duration": 33,
    "start_time": "2023-04-03T08:59:32.926Z"
   },
   {
    "duration": 30,
    "start_time": "2023-04-03T08:59:39.080Z"
   },
   {
    "duration": 23,
    "start_time": "2023-04-03T09:09:25.192Z"
   },
   {
    "duration": 4,
    "start_time": "2023-04-03T09:21:46.978Z"
   },
   {
    "duration": 51,
    "start_time": "2023-04-03T09:32:57.390Z"
   },
   {
    "duration": 246208,
    "start_time": "2023-04-03T09:33:47.573Z"
   },
   {
    "duration": 64,
    "start_time": "2023-04-03T09:40:45.998Z"
   },
   {
    "duration": 73,
    "start_time": "2023-04-03T09:40:49.077Z"
   },
   {
    "duration": 110,
    "start_time": "2023-04-03T09:41:00.039Z"
   },
   {
    "duration": 6,
    "start_time": "2023-04-03T09:41:24.172Z"
   },
   {
    "duration": 90,
    "start_time": "2023-04-03T09:41:30.513Z"
   },
   {
    "duration": 9,
    "start_time": "2023-04-03T09:42:24.349Z"
   },
   {
    "duration": 40,
    "start_time": "2023-04-03T09:42:45.627Z"
   },
   {
    "duration": 37,
    "start_time": "2023-04-03T09:43:07.096Z"
   },
   {
    "duration": 2265,
    "start_time": "2023-04-03T09:55:48.298Z"
   },
   {
    "duration": 5,
    "start_time": "2023-04-03T09:55:50.565Z"
   },
   {
    "duration": 59,
    "start_time": "2023-04-03T09:55:50.572Z"
   },
   {
    "duration": 29,
    "start_time": "2023-04-03T09:55:50.634Z"
   },
   {
    "duration": 11,
    "start_time": "2023-04-03T09:55:50.664Z"
   },
   {
    "duration": 15,
    "start_time": "2023-04-03T09:55:50.677Z"
   },
   {
    "duration": 11,
    "start_time": "2023-04-03T09:55:50.694Z"
   },
   {
    "duration": 9,
    "start_time": "2023-04-03T09:55:50.707Z"
   },
   {
    "duration": 31,
    "start_time": "2023-04-03T09:55:50.718Z"
   },
   {
    "duration": 10,
    "start_time": "2023-04-03T09:55:50.752Z"
   },
   {
    "duration": 25,
    "start_time": "2023-04-03T09:55:50.764Z"
   },
   {
    "duration": 6,
    "start_time": "2023-04-03T09:55:50.792Z"
   },
   {
    "duration": 8,
    "start_time": "2023-04-03T09:55:50.801Z"
   },
   {
    "duration": 264,
    "start_time": "2023-04-03T09:55:50.811Z"
   },
   {
    "duration": 18,
    "start_time": "2023-04-03T09:55:51.078Z"
   },
   {
    "duration": 203,
    "start_time": "2023-04-03T09:55:51.098Z"
   },
   {
    "duration": 0,
    "start_time": "2023-04-03T09:55:51.303Z"
   },
   {
    "duration": 0,
    "start_time": "2023-04-03T09:55:51.305Z"
   },
   {
    "duration": 0,
    "start_time": "2023-04-03T09:55:51.305Z"
   },
   {
    "duration": 0,
    "start_time": "2023-04-03T09:55:51.306Z"
   },
   {
    "duration": 0,
    "start_time": "2023-04-03T09:55:51.308Z"
   },
   {
    "duration": 0,
    "start_time": "2023-04-03T09:55:51.309Z"
   },
   {
    "duration": 0,
    "start_time": "2023-04-03T09:55:51.310Z"
   },
   {
    "duration": 0,
    "start_time": "2023-04-03T09:55:51.312Z"
   },
   {
    "duration": 0,
    "start_time": "2023-04-03T09:55:51.314Z"
   },
   {
    "duration": 0,
    "start_time": "2023-04-03T09:55:51.314Z"
   },
   {
    "duration": 0,
    "start_time": "2023-04-03T09:55:51.316Z"
   },
   {
    "duration": 0,
    "start_time": "2023-04-03T09:55:51.317Z"
   },
   {
    "duration": 0,
    "start_time": "2023-04-03T09:55:51.318Z"
   },
   {
    "duration": 0,
    "start_time": "2023-04-03T09:55:51.318Z"
   },
   {
    "duration": 0,
    "start_time": "2023-04-03T09:55:51.349Z"
   },
   {
    "duration": 0,
    "start_time": "2023-04-03T09:55:51.350Z"
   },
   {
    "duration": 0,
    "start_time": "2023-04-03T09:55:51.351Z"
   },
   {
    "duration": 0,
    "start_time": "2023-04-03T09:55:51.352Z"
   },
   {
    "duration": 0,
    "start_time": "2023-04-03T09:55:51.353Z"
   },
   {
    "duration": 0,
    "start_time": "2023-04-03T09:55:51.354Z"
   },
   {
    "duration": 0,
    "start_time": "2023-04-03T09:55:51.355Z"
   },
   {
    "duration": 0,
    "start_time": "2023-04-03T09:55:51.356Z"
   },
   {
    "duration": 0,
    "start_time": "2023-04-03T09:55:51.357Z"
   },
   {
    "duration": 14,
    "start_time": "2023-04-03T09:57:27.063Z"
   },
   {
    "duration": 12,
    "start_time": "2023-04-03T09:57:33.750Z"
   },
   {
    "duration": 5,
    "start_time": "2023-04-03T09:58:56.613Z"
   },
   {
    "duration": 70,
    "start_time": "2023-04-03T10:04:59.279Z"
   },
   {
    "duration": 3842,
    "start_time": "2023-04-03T10:05:22.312Z"
   },
   {
    "duration": 49,
    "start_time": "2023-04-03T10:06:00.174Z"
   },
   {
    "duration": 27,
    "start_time": "2023-04-03T10:13:48.329Z"
   },
   {
    "duration": 12,
    "start_time": "2023-04-03T10:14:25.747Z"
   },
   {
    "duration": 11,
    "start_time": "2023-04-03T10:25:07.706Z"
   },
   {
    "duration": 3,
    "start_time": "2023-04-03T10:25:20.765Z"
   },
   {
    "duration": 5,
    "start_time": "2023-04-03T10:25:21.384Z"
   },
   {
    "duration": 43,
    "start_time": "2023-04-03T10:25:21.864Z"
   },
   {
    "duration": 25,
    "start_time": "2023-04-03T10:25:22.066Z"
   },
   {
    "duration": 10,
    "start_time": "2023-04-03T10:25:22.697Z"
   },
   {
    "duration": 11,
    "start_time": "2023-04-03T10:25:22.899Z"
   },
   {
    "duration": 8,
    "start_time": "2023-04-03T10:25:23.078Z"
   },
   {
    "duration": 8,
    "start_time": "2023-04-03T10:25:23.257Z"
   },
   {
    "duration": 6,
    "start_time": "2023-04-03T10:25:23.447Z"
   },
   {
    "duration": 11,
    "start_time": "2023-04-03T10:25:23.625Z"
   },
   {
    "duration": 14,
    "start_time": "2023-04-03T10:25:23.803Z"
   },
   {
    "duration": 6,
    "start_time": "2023-04-03T10:25:24.322Z"
   },
   {
    "duration": 8,
    "start_time": "2023-04-03T10:25:24.506Z"
   },
   {
    "duration": 66,
    "start_time": "2023-04-03T10:25:24.885Z"
   },
   {
    "duration": 17,
    "start_time": "2023-04-03T10:25:25.456Z"
   },
   {
    "duration": 6,
    "start_time": "2023-04-03T10:25:25.654Z"
   },
   {
    "duration": 11,
    "start_time": "2023-04-03T10:25:25.998Z"
   },
   {
    "duration": 12,
    "start_time": "2023-04-03T10:25:26.165Z"
   },
   {
    "duration": 13,
    "start_time": "2023-04-03T10:25:26.549Z"
   },
   {
    "duration": 5,
    "start_time": "2023-04-03T10:25:27.550Z"
   },
   {
    "duration": 562,
    "start_time": "2023-04-03T10:25:27.738Z"
   },
   {
    "duration": 378,
    "start_time": "2023-04-03T10:25:28.302Z"
   },
   {
    "duration": 138,
    "start_time": "2023-04-03T10:25:28.683Z"
   },
   {
    "duration": 134,
    "start_time": "2023-04-03T10:25:29.006Z"
   },
   {
    "duration": 104,
    "start_time": "2023-04-03T10:25:29.549Z"
   },
   {
    "duration": 12,
    "start_time": "2023-04-03T10:25:30.515Z"
   },
   {
    "duration": 12,
    "start_time": "2023-04-03T10:25:30.626Z"
   },
   {
    "duration": 11,
    "start_time": "2023-04-03T10:25:30.797Z"
   },
   {
    "duration": 11,
    "start_time": "2023-04-03T10:25:30.961Z"
   },
   {
    "duration": 14,
    "start_time": "2023-04-03T10:26:00.821Z"
   },
   {
    "duration": 4,
    "start_time": "2023-04-03T10:26:01.430Z"
   },
   {
    "duration": 11,
    "start_time": "2023-04-03T10:26:01.625Z"
   },
   {
    "duration": 14,
    "start_time": "2023-04-03T10:26:02.286Z"
   },
   {
    "duration": 6,
    "start_time": "2023-04-03T10:26:03.013Z"
   },
   {
    "duration": 521,
    "start_time": "2023-04-03T10:26:03.210Z"
   },
   {
    "duration": 274,
    "start_time": "2023-04-03T10:26:03.733Z"
   },
   {
    "duration": 242,
    "start_time": "2023-04-03T10:26:04.118Z"
   },
   {
    "duration": 239178,
    "start_time": "2023-04-03T10:26:04.773Z"
   },
   {
    "duration": 96,
    "start_time": "2023-04-03T10:30:03.953Z"
   },
   {
    "duration": 8,
    "start_time": "2023-04-03T10:30:04.051Z"
   },
   {
    "duration": 166,
    "start_time": "2023-04-03T10:30:04.062Z"
   },
   {
    "duration": 6,
    "start_time": "2023-04-03T10:30:04.230Z"
   },
   {
    "duration": 54,
    "start_time": "2023-04-03T10:30:04.238Z"
   },
   {
    "duration": 14,
    "start_time": "2023-04-03T10:30:04.294Z"
   },
   {
    "duration": 0,
    "start_time": "2023-04-03T10:30:04.309Z"
   },
   {
    "duration": 0,
    "start_time": "2023-04-03T10:30:04.310Z"
   },
   {
    "duration": 0,
    "start_time": "2023-04-03T10:30:04.312Z"
   },
   {
    "duration": 0,
    "start_time": "2023-04-03T10:30:04.312Z"
   },
   {
    "duration": 0,
    "start_time": "2023-04-03T10:30:04.314Z"
   },
   {
    "duration": 0,
    "start_time": "2023-04-03T10:30:04.315Z"
   },
   {
    "duration": 0,
    "start_time": "2023-04-03T10:30:04.316Z"
   },
   {
    "duration": 0,
    "start_time": "2023-04-03T10:30:04.317Z"
   },
   {
    "duration": 0,
    "start_time": "2023-04-03T10:30:04.318Z"
   },
   {
    "duration": 0,
    "start_time": "2023-04-03T10:30:04.319Z"
   },
   {
    "duration": 13,
    "start_time": "2023-04-03T10:32:53.442Z"
   },
   {
    "duration": 13,
    "start_time": "2023-04-03T10:33:07.425Z"
   },
   {
    "duration": 52,
    "start_time": "2023-04-04T14:27:22.441Z"
   },
   {
    "duration": 1354,
    "start_time": "2023-04-04T14:27:37.721Z"
   },
   {
    "duration": 9,
    "start_time": "2023-04-04T14:27:44.589Z"
   },
   {
    "duration": 54810,
    "start_time": "2023-04-04T14:34:05.754Z"
   },
   {
    "duration": 325,
    "start_time": "2023-04-04T14:35:00.566Z"
   },
   {
    "duration": 4,
    "start_time": "2023-04-04T14:36:31.311Z"
   },
   {
    "duration": 4,
    "start_time": "2023-04-04T14:36:32.301Z"
   },
   {
    "duration": 152,
    "start_time": "2023-04-04T14:36:33.120Z"
   },
   {
    "duration": 26,
    "start_time": "2023-04-04T14:36:33.833Z"
   },
   {
    "duration": 11,
    "start_time": "2023-04-04T14:36:34.478Z"
   },
   {
    "duration": 10,
    "start_time": "2023-04-04T14:36:35.034Z"
   },
   {
    "duration": 7,
    "start_time": "2023-04-04T14:36:35.884Z"
   },
   {
    "duration": 7,
    "start_time": "2023-04-04T14:36:36.446Z"
   },
   {
    "duration": 4,
    "start_time": "2023-04-04T14:36:36.962Z"
   },
   {
    "duration": 10,
    "start_time": "2023-04-04T14:36:37.478Z"
   },
   {
    "duration": 17,
    "start_time": "2023-04-04T14:36:37.979Z"
   },
   {
    "duration": 6,
    "start_time": "2023-04-04T14:36:39.477Z"
   },
   {
    "duration": 6,
    "start_time": "2023-04-04T14:36:40.000Z"
   },
   {
    "duration": 25,
    "start_time": "2023-04-04T14:36:42.819Z"
   },
   {
    "duration": 1630,
    "start_time": "2023-04-04T14:40:30.614Z"
   },
   {
    "duration": 16987,
    "start_time": "2023-04-04T14:40:45.878Z"
   },
   {
    "duration": 78,
    "start_time": "2023-04-04T14:41:09.975Z"
   },
   {
    "duration": 96,
    "start_time": "2023-04-04T14:41:16.829Z"
   },
   {
    "duration": 2289,
    "start_time": "2023-04-04T14:41:23.783Z"
   },
   {
    "duration": 2156,
    "start_time": "2023-04-04T14:41:33.093Z"
   },
   {
    "duration": 859,
    "start_time": "2023-04-04T14:42:55.738Z"
   },
   {
    "duration": 19,
    "start_time": "2023-04-04T14:43:51.604Z"
   },
   {
    "duration": 2226,
    "start_time": "2023-04-04T14:44:38.245Z"
   },
   {
    "duration": 26,
    "start_time": "2023-04-04T14:45:09.393Z"
   },
   {
    "duration": 4,
    "start_time": "2023-04-04T14:46:50.671Z"
   },
   {
    "duration": 5,
    "start_time": "2023-04-04T14:46:54.520Z"
   },
   {
    "duration": 41,
    "start_time": "2023-04-04T14:46:54.967Z"
   },
   {
    "duration": 28,
    "start_time": "2023-04-04T14:46:55.653Z"
   },
   {
    "duration": 13,
    "start_time": "2023-04-04T14:46:56.351Z"
   },
   {
    "duration": 12,
    "start_time": "2023-04-04T14:46:56.861Z"
   },
   {
    "duration": 7,
    "start_time": "2023-04-04T14:46:58.109Z"
   },
   {
    "duration": 8,
    "start_time": "2023-04-04T14:46:58.595Z"
   },
   {
    "duration": 5,
    "start_time": "2023-04-04T14:46:59.115Z"
   },
   {
    "duration": 14,
    "start_time": "2023-04-04T14:46:59.643Z"
   },
   {
    "duration": 14,
    "start_time": "2023-04-04T14:47:00.364Z"
   },
   {
    "duration": 7,
    "start_time": "2023-04-04T14:47:01.942Z"
   },
   {
    "duration": 5,
    "start_time": "2023-04-04T14:47:02.146Z"
   },
   {
    "duration": 19,
    "start_time": "2023-04-04T14:47:03.409Z"
   },
   {
    "duration": 5,
    "start_time": "2023-04-04T14:47:04.575Z"
   },
   {
    "duration": 11,
    "start_time": "2023-04-04T14:47:05.234Z"
   },
   {
    "duration": 11,
    "start_time": "2023-04-04T14:47:43.638Z"
   },
   {
    "duration": 1489,
    "start_time": "2023-04-04T14:55:52.448Z"
   },
   {
    "duration": 13,
    "start_time": "2023-04-04T15:00:03.887Z"
   },
   {
    "duration": 7290,
    "start_time": "2023-04-04T15:00:51.413Z"
   },
   {
    "duration": 24,
    "start_time": "2023-04-04T15:01:02.783Z"
   },
   {
    "duration": 4,
    "start_time": "2023-04-04T15:01:29.240Z"
   },
   {
    "duration": 17,
    "start_time": "2023-04-04T15:02:37.983Z"
   },
   {
    "duration": 3,
    "start_time": "2023-04-04T15:02:46.133Z"
   },
   {
    "duration": 2,
    "start_time": "2023-04-04T15:03:30.240Z"
   },
   {
    "duration": 4,
    "start_time": "2023-04-04T15:06:39.333Z"
   },
   {
    "duration": 4,
    "start_time": "2023-04-04T15:06:40.521Z"
   },
   {
    "duration": 49,
    "start_time": "2023-04-04T15:06:40.734Z"
   },
   {
    "duration": 26,
    "start_time": "2023-04-04T15:06:41.132Z"
   },
   {
    "duration": 12,
    "start_time": "2023-04-04T15:06:41.407Z"
   },
   {
    "duration": 11,
    "start_time": "2023-04-04T15:06:41.811Z"
   },
   {
    "duration": 7,
    "start_time": "2023-04-04T15:06:42.091Z"
   },
   {
    "duration": 8,
    "start_time": "2023-04-04T15:06:42.501Z"
   },
   {
    "duration": 5,
    "start_time": "2023-04-04T15:06:42.918Z"
   },
   {
    "duration": 12,
    "start_time": "2023-04-04T15:06:43.311Z"
   },
   {
    "duration": 14,
    "start_time": "2023-04-04T15:06:43.719Z"
   },
   {
    "duration": 6,
    "start_time": "2023-04-04T15:06:45.029Z"
   },
   {
    "duration": 6,
    "start_time": "2023-04-04T15:06:45.410Z"
   },
   {
    "duration": 24,
    "start_time": "2023-04-04T15:06:47.162Z"
   },
   {
    "duration": 1578,
    "start_time": "2023-04-04T15:06:48.942Z"
   },
   {
    "duration": 13,
    "start_time": "2023-04-04T15:06:59.394Z"
   },
   {
    "duration": 2317,
    "start_time": "2023-04-04T15:08:13.718Z"
   },
   {
    "duration": 0,
    "start_time": "2023-04-04T15:08:16.036Z"
   },
   {
    "duration": 3,
    "start_time": "2023-04-04T15:09:06.089Z"
   },
   {
    "duration": 5,
    "start_time": "2023-04-04T15:09:09.089Z"
   },
   {
    "duration": 11,
    "start_time": "2023-04-04T15:09:09.484Z"
   },
   {
    "duration": 22,
    "start_time": "2023-04-04T15:09:10.648Z"
   },
   {
    "duration": 5,
    "start_time": "2023-04-04T15:09:12.578Z"
   },
   {
    "duration": 23,
    "start_time": "2023-04-04T15:09:13.096Z"
   },
   {
    "duration": 17,
    "start_time": "2023-04-04T15:09:13.315Z"
   },
   {
    "duration": 4,
    "start_time": "2023-04-04T15:09:39.815Z"
   },
   {
    "duration": 4,
    "start_time": "2023-04-04T15:09:41.068Z"
   },
   {
    "duration": 41,
    "start_time": "2023-04-04T15:09:41.263Z"
   },
   {
    "duration": 25,
    "start_time": "2023-04-04T15:09:41.446Z"
   },
   {
    "duration": 10,
    "start_time": "2023-04-04T15:09:41.642Z"
   },
   {
    "duration": 11,
    "start_time": "2023-04-04T15:09:41.811Z"
   },
   {
    "duration": 6,
    "start_time": "2023-04-04T15:09:41.995Z"
   },
   {
    "duration": 6,
    "start_time": "2023-04-04T15:09:42.195Z"
   },
   {
    "duration": 4,
    "start_time": "2023-04-04T15:09:42.403Z"
   },
   {
    "duration": 11,
    "start_time": "2023-04-04T15:09:42.552Z"
   },
   {
    "duration": 13,
    "start_time": "2023-04-04T15:09:42.732Z"
   },
   {
    "duration": 6,
    "start_time": "2023-04-04T15:09:43.342Z"
   },
   {
    "duration": 5,
    "start_time": "2023-04-04T15:09:43.546Z"
   },
   {
    "duration": 19,
    "start_time": "2023-04-04T15:09:44.280Z"
   },
   {
    "duration": 2,
    "start_time": "2023-04-04T15:09:44.721Z"
   },
   {
    "duration": 5,
    "start_time": "2023-04-04T15:09:45.082Z"
   },
   {
    "duration": 11,
    "start_time": "2023-04-04T15:09:45.296Z"
   },
   {
    "duration": 25,
    "start_time": "2023-04-04T15:09:45.728Z"
   },
   {
    "duration": 5,
    "start_time": "2023-04-04T15:09:46.888Z"
   },
   {
    "duration": 17,
    "start_time": "2023-04-04T15:09:47.053Z"
   },
   {
    "duration": 16,
    "start_time": "2023-04-04T15:09:47.311Z"
   },
   {
    "duration": 2,
    "start_time": "2023-04-04T15:14:10.275Z"
   },
   {
    "duration": 4,
    "start_time": "2023-04-04T15:14:10.648Z"
   },
   {
    "duration": 11,
    "start_time": "2023-04-04T15:14:10.961Z"
   },
   {
    "duration": 24,
    "start_time": "2023-04-04T15:14:11.641Z"
   },
   {
    "duration": 5,
    "start_time": "2023-04-04T15:14:13.110Z"
   },
   {
    "duration": 16,
    "start_time": "2023-04-04T15:14:13.359Z"
   },
   {
    "duration": 2404,
    "start_time": "2023-04-04T15:14:40.877Z"
   },
   {
    "duration": 1771,
    "start_time": "2023-04-04T15:14:43.283Z"
   },
   {
    "duration": 4,
    "start_time": "2023-04-04T15:14:45.056Z"
   },
   {
    "duration": 63,
    "start_time": "2023-04-04T15:14:45.062Z"
   },
   {
    "duration": 23,
    "start_time": "2023-04-04T15:14:45.127Z"
   },
   {
    "duration": 9,
    "start_time": "2023-04-04T15:14:45.152Z"
   },
   {
    "duration": 17,
    "start_time": "2023-04-04T15:14:45.162Z"
   },
   {
    "duration": 8,
    "start_time": "2023-04-04T15:14:45.180Z"
   },
   {
    "duration": 18,
    "start_time": "2023-04-04T15:14:45.190Z"
   },
   {
    "duration": 12,
    "start_time": "2023-04-04T15:14:45.210Z"
   },
   {
    "duration": 23,
    "start_time": "2023-04-04T15:14:45.223Z"
   },
   {
    "duration": 26,
    "start_time": "2023-04-04T15:14:45.247Z"
   },
   {
    "duration": 5,
    "start_time": "2023-04-04T15:14:45.274Z"
   },
   {
    "duration": 14,
    "start_time": "2023-04-04T15:14:45.281Z"
   },
   {
    "duration": 21,
    "start_time": "2023-04-04T15:14:45.297Z"
   },
   {
    "duration": 4,
    "start_time": "2023-04-04T15:14:45.319Z"
   },
   {
    "duration": 15,
    "start_time": "2023-04-04T15:14:45.324Z"
   },
   {
    "duration": 13,
    "start_time": "2023-04-04T15:14:45.340Z"
   },
   {
    "duration": 14,
    "start_time": "2023-04-04T15:14:45.354Z"
   },
   {
    "duration": 6,
    "start_time": "2023-04-04T15:14:45.369Z"
   },
   {
    "duration": 1146,
    "start_time": "2023-04-04T15:14:45.377Z"
   },
   {
    "duration": 417,
    "start_time": "2023-04-04T15:14:46.524Z"
   },
   {
    "duration": 277,
    "start_time": "2023-04-04T15:14:46.943Z"
   },
   {
    "duration": 253960,
    "start_time": "2023-04-04T15:14:47.222Z"
   },
   {
    "duration": 302,
    "start_time": "2023-04-04T15:19:01.184Z"
   },
   {
    "duration": 94,
    "start_time": "2023-04-04T15:19:01.488Z"
   },
   {
    "duration": 137,
    "start_time": "2023-04-04T15:19:01.583Z"
   },
   {
    "duration": 5,
    "start_time": "2023-04-04T15:19:01.723Z"
   },
   {
    "duration": 69,
    "start_time": "2023-04-04T15:19:01.730Z"
   },
   {
    "duration": 4,
    "start_time": "2023-04-04T15:19:01.801Z"
   },
   {
    "duration": 40,
    "start_time": "2023-04-04T15:19:01.807Z"
   },
   {
    "duration": 57,
    "start_time": "2023-04-04T15:19:01.849Z"
   },
   {
    "duration": 21,
    "start_time": "2023-04-04T15:19:01.908Z"
   },
   {
    "duration": 56,
    "start_time": "2023-04-04T15:19:01.931Z"
   },
   {
    "duration": 41,
    "start_time": "2023-04-04T15:19:01.988Z"
   },
   {
    "duration": 278,
    "start_time": "2023-04-04T15:19:02.031Z"
   },
   {
    "duration": 239031,
    "start_time": "2023-04-04T15:19:02.311Z"
   },
   {
    "duration": 349,
    "start_time": "2023-04-04T15:23:01.344Z"
   },
   {
    "duration": 539,
    "start_time": "2023-04-04T15:23:01.695Z"
   },
   {
    "duration": 332,
    "start_time": "2023-04-04T15:23:02.236Z"
   }
  ],
  "kernelspec": {
   "display_name": "Python 3 (ipykernel)",
   "language": "python",
   "name": "python3"
  },
  "language_info": {
   "codemirror_mode": {
    "name": "ipython",
    "version": 3
   },
   "file_extension": ".py",
   "mimetype": "text/x-python",
   "name": "python",
   "nbconvert_exporter": "python",
   "pygments_lexer": "ipython3",
   "version": "3.9.7"
  },
  "toc": {
   "base_numbering": 1,
   "nav_menu": {},
   "number_sections": true,
   "sideBar": true,
   "skip_h1_title": true,
   "title_cell": "Содержание",
   "title_sidebar": "Contents",
   "toc_cell": true,
   "toc_position": {
    "height": "calc(100% - 180px)",
    "left": "10px",
    "top": "150px",
    "width": "270.195px"
   },
   "toc_section_display": true,
   "toc_window_display": false
  }
 },
 "nbformat": 4,
 "nbformat_minor": 2
}
