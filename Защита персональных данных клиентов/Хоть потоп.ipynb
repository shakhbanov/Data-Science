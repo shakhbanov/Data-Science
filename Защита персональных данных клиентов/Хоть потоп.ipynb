{
 "cells": [
  {
   "cell_type": "markdown",
   "metadata": {
    "toc": true
   },
   "source": [
    "<h1>Содержание<span class=\"tocSkip\"></span></h1>\n",
    "<div class=\"toc\"><ul class=\"toc-item\"><li><span><a href=\"#Загрузка-данных\" data-toc-modified-id=\"Загрузка-данных-1\"><span class=\"toc-item-num\">1&nbsp;&nbsp;</span>Загрузка данных</a></span></li><li><span><a href=\"#Умножение-матриц\" data-toc-modified-id=\"Умножение-матриц-2\"><span class=\"toc-item-num\">2&nbsp;&nbsp;</span>Умножение матриц</a></span></li><li><span><a href=\"#Алгоритм-преобразования\" data-toc-modified-id=\"Алгоритм-преобразования-3\"><span class=\"toc-item-num\">3&nbsp;&nbsp;</span>Алгоритм преобразования</a></span></li><li><span><a href=\"#Проверка-алгоритма\" data-toc-modified-id=\"Проверка-алгоритма-4\"><span class=\"toc-item-num\">4&nbsp;&nbsp;</span>Проверка алгоритма</a></span></li><li><span><a href=\"#Вывод\" data-toc-modified-id=\"Вывод-5\"><span class=\"toc-item-num\">5&nbsp;&nbsp;</span>Вывод</a></span></li><li><span><a href=\"#Чек-лист-проверки\" data-toc-modified-id=\"Чек-лист-проверки-6\"><span class=\"toc-item-num\">6&nbsp;&nbsp;</span>Чек-лист проверки</a></span></li></ul></div>"
   ]
  },
  {
   "cell_type": "markdown",
   "metadata": {},
   "source": [
    "# Защита персональных данных клиентов"
   ]
  },
  {
   "cell_type": "markdown",
   "metadata": {},
   "source": [
    "Вам нужно защитить данные клиентов страховой компании «Хоть потоп». Разработайте такой метод преобразования данных, чтобы по ним было сложно восстановить персональную информацию. Обоснуйте корректность его работы.\n",
    "\n",
    "Нужно защитить данные, чтобы при преобразовании качество моделей машинного обучения не ухудшилось. Подбирать наилучшую модель не требуется."
   ]
  },
  {
   "cell_type": "markdown",
   "metadata": {},
   "source": [
    "## Загрузка данных"
   ]
  },
  {
   "cell_type": "code",
   "execution_count": 1,
   "metadata": {},
   "outputs": [],
   "source": [
    "import pandas as pd\n",
    "import numpy as np\n",
    "import seaborn as sns\n",
    "import warnings\n",
    "\n",
    "from sklearn.linear_model import LinearRegression\n",
    "from sklearn.metrics import r2_score\n",
    "\n",
    "warnings.filterwarnings('ignore')"
   ]
  },
  {
   "cell_type": "code",
   "execution_count": 2,
   "metadata": {},
   "outputs": [],
   "source": [
    "try:\n",
    "    data = pd.read_csv('/datasets/insurance.csv')\n",
    "except:\n",
    "    data = pd.read_csv('F:/insurance.csv')"
   ]
  },
  {
   "cell_type": "code",
   "execution_count": 3,
   "metadata": {},
   "outputs": [
    {
     "data": {
      "text/html": [
       "<div>\n",
       "<style scoped>\n",
       "    .dataframe tbody tr th:only-of-type {\n",
       "        vertical-align: middle;\n",
       "    }\n",
       "\n",
       "    .dataframe tbody tr th {\n",
       "        vertical-align: top;\n",
       "    }\n",
       "\n",
       "    .dataframe thead th {\n",
       "        text-align: right;\n",
       "    }\n",
       "</style>\n",
       "<table border=\"1\" class=\"dataframe\">\n",
       "  <thead>\n",
       "    <tr style=\"text-align: right;\">\n",
       "      <th></th>\n",
       "      <th>Пол</th>\n",
       "      <th>Возраст</th>\n",
       "      <th>Зарплата</th>\n",
       "      <th>Члены семьи</th>\n",
       "      <th>Страховые выплаты</th>\n",
       "    </tr>\n",
       "  </thead>\n",
       "  <tbody>\n",
       "    <tr>\n",
       "      <th>0</th>\n",
       "      <td>1</td>\n",
       "      <td>41.0</td>\n",
       "      <td>49600.0</td>\n",
       "      <td>1</td>\n",
       "      <td>0</td>\n",
       "    </tr>\n",
       "    <tr>\n",
       "      <th>1</th>\n",
       "      <td>0</td>\n",
       "      <td>46.0</td>\n",
       "      <td>38000.0</td>\n",
       "      <td>1</td>\n",
       "      <td>1</td>\n",
       "    </tr>\n",
       "    <tr>\n",
       "      <th>2</th>\n",
       "      <td>0</td>\n",
       "      <td>29.0</td>\n",
       "      <td>21000.0</td>\n",
       "      <td>0</td>\n",
       "      <td>0</td>\n",
       "    </tr>\n",
       "    <tr>\n",
       "      <th>3</th>\n",
       "      <td>0</td>\n",
       "      <td>21.0</td>\n",
       "      <td>41700.0</td>\n",
       "      <td>2</td>\n",
       "      <td>0</td>\n",
       "    </tr>\n",
       "    <tr>\n",
       "      <th>4</th>\n",
       "      <td>1</td>\n",
       "      <td>28.0</td>\n",
       "      <td>26100.0</td>\n",
       "      <td>0</td>\n",
       "      <td>0</td>\n",
       "    </tr>\n",
       "  </tbody>\n",
       "</table>\n",
       "</div>"
      ],
      "text/plain": [
       "   Пол  Возраст  Зарплата  Члены семьи  Страховые выплаты\n",
       "0    1     41.0   49600.0            1                  0\n",
       "1    0     46.0   38000.0            1                  1\n",
       "2    0     29.0   21000.0            0                  0\n",
       "3    0     21.0   41700.0            2                  0\n",
       "4    1     28.0   26100.0            0                  0"
      ]
     },
     "metadata": {},
     "output_type": "display_data"
    },
    {
     "data": {
      "text/plain": [
       "(5000, 5)"
      ]
     },
     "metadata": {},
     "output_type": "display_data"
    }
   ],
   "source": [
    "display(data.head(), data.shape,)"
   ]
  },
  {
   "cell_type": "code",
   "execution_count": 4,
   "metadata": {},
   "outputs": [
    {
     "name": "stdout",
     "output_type": "stream",
     "text": [
      "<class 'pandas.core.frame.DataFrame'>\n",
      "RangeIndex: 5000 entries, 0 to 4999\n",
      "Data columns (total 5 columns):\n",
      " #   Column             Non-Null Count  Dtype  \n",
      "---  ------             --------------  -----  \n",
      " 0   Пол                5000 non-null   int64  \n",
      " 1   Возраст            5000 non-null   float64\n",
      " 2   Зарплата           5000 non-null   float64\n",
      " 3   Члены семьи        5000 non-null   int64  \n",
      " 4   Страховые выплаты  5000 non-null   int64  \n",
      "dtypes: float64(2), int64(3)\n",
      "memory usage: 195.4 KB\n"
     ]
    }
   ],
   "source": [
    "data.info()"
   ]
  },
  {
   "cell_type": "code",
   "execution_count": 5,
   "metadata": {},
   "outputs": [
    {
     "data": {
      "text/html": [
       "<div>\n",
       "<style scoped>\n",
       "    .dataframe tbody tr th:only-of-type {\n",
       "        vertical-align: middle;\n",
       "    }\n",
       "\n",
       "    .dataframe tbody tr th {\n",
       "        vertical-align: top;\n",
       "    }\n",
       "\n",
       "    .dataframe thead th {\n",
       "        text-align: right;\n",
       "    }\n",
       "</style>\n",
       "<table border=\"1\" class=\"dataframe\">\n",
       "  <thead>\n",
       "    <tr style=\"text-align: right;\">\n",
       "      <th></th>\n",
       "      <th>Пол</th>\n",
       "      <th>Возраст</th>\n",
       "      <th>Зарплата</th>\n",
       "      <th>Члены семьи</th>\n",
       "      <th>Страховые выплаты</th>\n",
       "    </tr>\n",
       "  </thead>\n",
       "  <tbody>\n",
       "    <tr>\n",
       "      <th>count</th>\n",
       "      <td>5000.000000</td>\n",
       "      <td>5000.000000</td>\n",
       "      <td>5000.000000</td>\n",
       "      <td>5000.000000</td>\n",
       "      <td>5000.000000</td>\n",
       "    </tr>\n",
       "    <tr>\n",
       "      <th>mean</th>\n",
       "      <td>0.499000</td>\n",
       "      <td>30.952800</td>\n",
       "      <td>39916.360000</td>\n",
       "      <td>1.194200</td>\n",
       "      <td>0.148000</td>\n",
       "    </tr>\n",
       "    <tr>\n",
       "      <th>std</th>\n",
       "      <td>0.500049</td>\n",
       "      <td>8.440807</td>\n",
       "      <td>9900.083569</td>\n",
       "      <td>1.091387</td>\n",
       "      <td>0.463183</td>\n",
       "    </tr>\n",
       "    <tr>\n",
       "      <th>min</th>\n",
       "      <td>0.000000</td>\n",
       "      <td>18.000000</td>\n",
       "      <td>5300.000000</td>\n",
       "      <td>0.000000</td>\n",
       "      <td>0.000000</td>\n",
       "    </tr>\n",
       "    <tr>\n",
       "      <th>25%</th>\n",
       "      <td>0.000000</td>\n",
       "      <td>24.000000</td>\n",
       "      <td>33300.000000</td>\n",
       "      <td>0.000000</td>\n",
       "      <td>0.000000</td>\n",
       "    </tr>\n",
       "    <tr>\n",
       "      <th>50%</th>\n",
       "      <td>0.000000</td>\n",
       "      <td>30.000000</td>\n",
       "      <td>40200.000000</td>\n",
       "      <td>1.000000</td>\n",
       "      <td>0.000000</td>\n",
       "    </tr>\n",
       "    <tr>\n",
       "      <th>75%</th>\n",
       "      <td>1.000000</td>\n",
       "      <td>37.000000</td>\n",
       "      <td>46600.000000</td>\n",
       "      <td>2.000000</td>\n",
       "      <td>0.000000</td>\n",
       "    </tr>\n",
       "    <tr>\n",
       "      <th>max</th>\n",
       "      <td>1.000000</td>\n",
       "      <td>65.000000</td>\n",
       "      <td>79000.000000</td>\n",
       "      <td>6.000000</td>\n",
       "      <td>5.000000</td>\n",
       "    </tr>\n",
       "  </tbody>\n",
       "</table>\n",
       "</div>"
      ],
      "text/plain": [
       "               Пол      Возраст      Зарплата  Члены семьи  Страховые выплаты\n",
       "count  5000.000000  5000.000000   5000.000000  5000.000000        5000.000000\n",
       "mean      0.499000    30.952800  39916.360000     1.194200           0.148000\n",
       "std       0.500049     8.440807   9900.083569     1.091387           0.463183\n",
       "min       0.000000    18.000000   5300.000000     0.000000           0.000000\n",
       "25%       0.000000    24.000000  33300.000000     0.000000           0.000000\n",
       "50%       0.000000    30.000000  40200.000000     1.000000           0.000000\n",
       "75%       1.000000    37.000000  46600.000000     2.000000           0.000000\n",
       "max       1.000000    65.000000  79000.000000     6.000000           5.000000"
      ]
     },
     "execution_count": 5,
     "metadata": {},
     "output_type": "execute_result"
    }
   ],
   "source": [
    "data.describe()"
   ]
  },
  {
   "cell_type": "code",
   "execution_count": 6,
   "metadata": {},
   "outputs": [
    {
     "data": {
      "text/html": [
       "<div>\n",
       "<style scoped>\n",
       "    .dataframe tbody tr th:only-of-type {\n",
       "        vertical-align: middle;\n",
       "    }\n",
       "\n",
       "    .dataframe tbody tr th {\n",
       "        vertical-align: top;\n",
       "    }\n",
       "\n",
       "    .dataframe thead th {\n",
       "        text-align: right;\n",
       "    }\n",
       "</style>\n",
       "<table border=\"1\" class=\"dataframe\">\n",
       "  <thead>\n",
       "    <tr style=\"text-align: right;\">\n",
       "      <th></th>\n",
       "      <th>Пол</th>\n",
       "      <th>Возраст</th>\n",
       "      <th>Зарплата</th>\n",
       "      <th>Члены семьи</th>\n",
       "      <th>Страховые выплаты</th>\n",
       "    </tr>\n",
       "  </thead>\n",
       "  <tbody>\n",
       "    <tr>\n",
       "      <th>Пол</th>\n",
       "      <td>1.000000</td>\n",
       "      <td>0.002074</td>\n",
       "      <td>0.014910</td>\n",
       "      <td>-0.008991</td>\n",
       "      <td>0.010140</td>\n",
       "    </tr>\n",
       "    <tr>\n",
       "      <th>Возраст</th>\n",
       "      <td>0.002074</td>\n",
       "      <td>1.000000</td>\n",
       "      <td>-0.019093</td>\n",
       "      <td>-0.006692</td>\n",
       "      <td>0.651030</td>\n",
       "    </tr>\n",
       "    <tr>\n",
       "      <th>Зарплата</th>\n",
       "      <td>0.014910</td>\n",
       "      <td>-0.019093</td>\n",
       "      <td>1.000000</td>\n",
       "      <td>-0.030296</td>\n",
       "      <td>-0.014963</td>\n",
       "    </tr>\n",
       "    <tr>\n",
       "      <th>Члены семьи</th>\n",
       "      <td>-0.008991</td>\n",
       "      <td>-0.006692</td>\n",
       "      <td>-0.030296</td>\n",
       "      <td>1.000000</td>\n",
       "      <td>-0.036290</td>\n",
       "    </tr>\n",
       "    <tr>\n",
       "      <th>Страховые выплаты</th>\n",
       "      <td>0.010140</td>\n",
       "      <td>0.651030</td>\n",
       "      <td>-0.014963</td>\n",
       "      <td>-0.036290</td>\n",
       "      <td>1.000000</td>\n",
       "    </tr>\n",
       "  </tbody>\n",
       "</table>\n",
       "</div>"
      ],
      "text/plain": [
       "                        Пол   Возраст  Зарплата  Члены семьи  \\\n",
       "Пол                1.000000  0.002074  0.014910    -0.008991   \n",
       "Возраст            0.002074  1.000000 -0.019093    -0.006692   \n",
       "Зарплата           0.014910 -0.019093  1.000000    -0.030296   \n",
       "Члены семьи       -0.008991 -0.006692 -0.030296     1.000000   \n",
       "Страховые выплаты  0.010140  0.651030 -0.014963    -0.036290   \n",
       "\n",
       "                   Страховые выплаты  \n",
       "Пол                         0.010140  \n",
       "Возраст                     0.651030  \n",
       "Зарплата                   -0.014963  \n",
       "Члены семьи                -0.036290  \n",
       "Страховые выплаты           1.000000  "
      ]
     },
     "metadata": {},
     "output_type": "display_data"
    },
    {
     "data": {
      "text/plain": [
       "<AxesSubplot:>"
      ]
     },
     "metadata": {},
     "output_type": "display_data"
    },
    {
     "data": {
      "image/png": "[encoded data removed]",
      "text/plain": [
       "<Figure size 432x288 with 2 Axes>"
      ]
     },
     "metadata": {
      "needs_background": "light"
     },
     "output_type": "display_data"
    }
   ],
   "source": [
    "display(data.corr(), sns.heatmap(data.corr(), annot=True))"
   ]
  },
  {
   "cell_type": "code",
   "execution_count": 7,
   "metadata": {},
   "outputs": [
    {
     "data": {
      "text/plain": [
       "Пол                  0\n",
       "Возраст              0\n",
       "Зарплата             0\n",
       "Члены семьи          0\n",
       "Страховые выплаты    0\n",
       "dtype: int64"
      ]
     },
     "execution_count": 7,
     "metadata": {},
     "output_type": "execute_result"
    }
   ],
   "source": [
    "data.isna().sum()"
   ]
  },
  {
   "cell_type": "code",
   "execution_count": 8,
   "metadata": {},
   "outputs": [
    {
     "data": {
      "text/plain": [
       "153"
      ]
     },
     "execution_count": 8,
     "metadata": {},
     "output_type": "execute_result"
    }
   ],
   "source": [
    "data.duplicated().sum()"
   ]
  },
  {
   "cell_type": "markdown",
   "metadata": {},
   "source": [
    "<div style=\"border:solid black 2px; padding: 10px\">  \n",
    "    \n",
    "**Комментарий:**  \n",
    "    \n",
    "Данные успешно загружены и имеют подходящий тип данных. Для удобства переведем возраст и зарплату в целочисленный формат, так как дробная часть не имеет значения в данном контексте. В таблице отсутствуют лишние столбцы и пропущенные значения. Дубликаты будут удалены, их происхождение неясно, однако они не являются необходимыми для обучения модели.  Проверка основных статистических показателей не выявила явных выбросов. Наблюдается высокая корреляция между возрастом и зарплатой (коэффициент корреляции 0.65)."
   ]
  },
  {
   "cell_type": "code",
   "execution_count": 9,
   "metadata": {},
   "outputs": [],
   "source": [
    "data = data.drop_duplicates()\n",
    "data['Возраст'] = data['Возраст'].astype(\"int64\")\n",
    "data['Зарплата'] = data['Зарплата'].astype(\"int64\")"
   ]
  },
  {
   "cell_type": "markdown",
   "metadata": {},
   "source": [
    "## Умножение матриц"
   ]
  },
  {
   "cell_type": "markdown",
   "metadata": {},
   "source": [
    "В этом задании вы можете записывать формулы в *Jupyter Notebook.*\n",
    "\n",
    "Чтобы записать формулу внутри текста, окружите её символами доллара \\\\$; если снаружи —  двойными символами \\\\$\\\\$. Эти формулы записываются на языке вёрстки *LaTeX.* \n",
    "\n",
    "Для примера мы записали формулы линейной регрессии. Можете их скопировать и отредактировать, чтобы решить задачу.\n",
    "\n",
    "Работать в *LaTeX* необязательно."
   ]
  },
  {
   "cell_type": "markdown",
   "metadata": {},
   "source": [
    "Обозначения:\n",
    "\n",
    "- $X$ — матрица признаков (нулевой столбец состоит из единиц)\n",
    "\n",
    "- $y$ — вектор целевого признака\n",
    "\n",
    "- $P$ — матрица, на которую умножаются признаки\n",
    "\n",
    "- $w$ — вектор весов линейной регрессии (нулевой элемент равен сдвигу)"
   ]
  },
  {
   "cell_type": "markdown",
   "metadata": {},
   "source": [
    "Предсказания:\n",
    "\n",
    "$$\n",
    "a = Xw\n",
    "$$\n",
    "\n",
    "Задача обучения:\n",
    "\n",
    "$$\n",
    "w = \\arg\\min_w MSE(Xw, y)\n",
    "$$\n",
    "\n",
    "Формула обучения:\n",
    "\n",
    "$$\n",
    "w = (X^T X)^{-1} X^T y\n",
    "$$"
   ]
  },
  {
   "cell_type": "markdown",
   "metadata": {},
   "source": [
    "<div style=\"border:solid black 2px; padding: 10px\">   \n",
    "    \n",
    "**Ответ:** R2 не изменится\n",
    "\n",
    "**Обоснование:** \n",
    "\n",
    "Умножение матрицы на матрицу возможно, если ширина первой матрицы $А(𝑚×𝑛)$ равна высоте второй матрицы $P (𝑛×r)$. Тогда размер произведения этих матриц будет $m×r$. Размерность n «cхлопывается».\n",
    "\n",
    "При умножении признаков выборки $A$ размерностью $(3750,4)$ на обратимую произвольную матрицу $P$ размерностью $(4,4)$, результатом получаем новый *(изменённый)* набор данных скалярных произведений $M$ размернотью $(3750, 4)$<br>\n",
    "Формула выглядит следующим образом:\n",
    "$$\n",
    "Mij = (Ai,Bj)\n",
    "$$\n",
    "В каждую новую ячейку записывается результат сложения произведений строки $i$ на столбец $j$. Так например в первой ячейке новой таблицы будет записан результат по этой формуле:\n",
    "$$\n",
    "M_{11}=A_{11}×P_{11} + A_{12}×P_{21} + A_{13}×P_{31} + A_{14}×P_{41}\n",
    "$$\n",
    "\n",
    "Далее вычисляется важный параметр - вектор $w$ по формуле:\n",
    "$$\n",
    "w = (X^T X)^{-1} X^T y\n",
    "$$\n",
    "<br>\n",
    "В которой $X$ - таблица признков, где нулевой столбец заполнен $1$ (единицами), а $y$ - вектор целевого признака<br><br>\n",
    "$$\n",
    "X_{i} = (1  M_{i2} M_{i3} M_{i4} M_{i5})\n",
    "$$\n",
    "\n",
    "В `Линейной регрессии` предсказания вычисляются по формуле:\n",
    "\n",
    "$$\n",
    "a = Xw + w0\n",
    "$$, \n",
    "где $w0$ - значение нулевого аргумента вектора $w$, которое предствляет собой величину сдвига модели, при подборе которого можно достигать более низкого значения среднеквадратичного отклонения $MSE$"
   ]
  },
  {
   "cell_type": "markdown",
   "metadata": {},
   "source": [
    "<div style=\"border:solid black 2px; padding: 10px\">   \n",
    "      \n",
    "Рассмотрим упрощённую запись формулы предсказания `Линейной регрессии`\n",
    "$\n",
    "a = X_i w\n",
    "$,  где $X_i$ - новые строки признаков<br>\n",
    "Подставим вместо параметра $w$, формулу её вычисления:\n",
    "$$\n",
    "a = X_i w = X_i (X^T X)^{-1} X^T y\n",
    "$$\n",
    "\n",
    "Упроситим формулу используя принцип ассоциативности ($A(BC) = (AB)C$) и то, что транспонированное произведение матриц равно произведению транспонированных матриц взятых в обратном порядке ($(AB)^T = B^T A^T$):\n",
    "\n",
    "$$\n",
    "a = X_i (X^T X)^{-1} X^T y = X_iX^{-1}(X^T)^{-1}X^T y = X_iX^{-1}y\n",
    "$$\n",
    "\n",
    "Домножим наши признаки на случайную матрицу $P$, в которой число строк равно чилу столбцов $X$ и $P$ - обратима, то есть из матрицы $P$ можно получить матрицу $P^{-1}$, при этом $PP^{-1} = E$, где $E$ - единичная матрица <br>\n",
    "\n",
    "Если обучить нашу модель на новых (изменённых) признаках, то модель найдёт новые коэффициенты $w'$\n",
    "\n",
    "$$\n",
    "w' = ((XP)^T(XP))^{-1}(XP)^Ty\n",
    "$$\n",
    "\n",
    "Подставим их в формулу предсказания и упростим выражение\n",
    "\n",
    "$$\n",
    "a'= X_iPw' = X_iP((XP)^T(XP))^{-1}(XP)^Ty = X_iP(XP)^{-1}((XP)^T)^{-1}(XP)^Ty = X_iX^{-1}y\n",
    "$$\n",
    "\n",
    "Таким образом мы пришли к заключению, о том что результат предсказания не изменится не смотря на измениения признаков, т.к. исходя из результатов наших преобразований очевидно, что $a$ = $a'$"
   ]
  },
  {
   "cell_type": "markdown",
   "metadata": {},
   "source": [
    "## Алгоритм преобразования"
   ]
  },
  {
   "cell_type": "markdown",
   "metadata": {},
   "source": [
    "<div style=\"border:solid black 2px; padding: 10px\">  \n",
    "    \n",
    "**Алгоритм**\n",
    "\n",
    "Мы создаем квадратную матрицу, размер которой соответствует количеству признаков, и заполняем ее случайными числами. Затем мы проверяем, является ли эта матрица обратимой, то есть имеет обратную матрицу. Если матрица обратима, мы умножаем наши признаки на эту матрицу.\n",
    "\n",
    "Важно отметить, что требуется, чтобы матрица была обратимой, чтобы мы могли успешно восстановить исходные данные. В противном случае, если матрица необратима, мы не сможем расшифровать наши данные."
   ]
  },
  {
   "cell_type": "markdown",
   "metadata": {},
   "source": [
    "<div style=\"border:solid black 2px; padding: 10px\">   \n",
    "    \n",
    "**Обоснование**\n",
    "\n",
    "Мы можем ожидать, что качество линейной регрессии будет одинаковым до и после преобразования данных. Преобразование данных не влияет на способность модели предсказывать целевой признак. Однако, эти действия имеют важное значение для защиты персональных данных клиентов. В случае возможной утечки данных, преобразование матрицы признаков обеспечивает дополнительную безопасность, поскольку злоумышленникам эти данные будут бесполезны."
   ]
  },
  {
   "cell_type": "markdown",
   "metadata": {},
   "source": [
    "## Проверка алгоритма"
   ]
  },
  {
   "cell_type": "code",
   "execution_count": 10,
   "metadata": {},
   "outputs": [
    {
     "data": {
      "text/plain": [
       "((4847, 4), (4847,))"
      ]
     },
     "execution_count": 10,
     "metadata": {},
     "output_type": "execute_result"
    }
   ],
   "source": [
    "features = data.drop([\"Страховые выплаты\"], axis=1)\n",
    "target = data[\"Страховые выплаты\"]\n",
    "features.shape, target.shape"
   ]
  },
  {
   "cell_type": "code",
   "execution_count": 11,
   "metadata": {},
   "outputs": [
    {
     "data": {
      "text/plain": [
       "array([[61, 78, 66, 57],\n",
       "       [96, 25, 62, 81],\n",
       "       [33,  9, 67, 57],\n",
       "       [22, 51, 88, 30]])"
      ]
     },
     "execution_count": 11,
     "metadata": {},
     "output_type": "execute_result"
    }
   ],
   "source": [
    "matrix = np.random.randint(100,size = (4, 4))\n",
    "matrix"
   ]
  },
  {
   "cell_type": "code",
   "execution_count": 12,
   "metadata": {},
   "outputs": [
    {
     "data": {
      "text/plain": [
       "array([[-0.01671234,  0.02824602, -0.03262188,  0.01747076],\n",
       "       [ 0.02102849, -0.01135376, -0.00134096, -0.00675118],\n",
       "       [-0.0169794 ,  0.00747934, -0.0059387 ,  0.02335016],\n",
       "       [ 0.02631352, -0.02335177,  0.04362251, -0.03649535]])"
      ]
     },
     "execution_count": 12,
     "metadata": {},
     "output_type": "execute_result"
    }
   ],
   "source": [
    "matrix_inv = np.linalg.inv(matrix)\n",
    "matrix_inv"
   ]
  },
  {
   "cell_type": "code",
   "execution_count": 13,
   "metadata": {},
   "outputs": [
    {
     "name": "stdout",
     "output_type": "stream",
     "text": [
      "R2_score: 0.4302010046633\n"
     ]
    }
   ],
   "source": [
    "model = LinearRegression(normalize=True).fit(features, target)\n",
    "predictions = model.predict(features)\n",
    "r2_score_value = r2_score(target, predictions)\n",
    "print(f\"R2_score: {r2_score_value:.13f}\")"
   ]
  },
  {
   "cell_type": "code",
   "execution_count": 14,
   "metadata": {},
   "outputs": [],
   "source": [
    "features_matrix = features.dot(matrix)"
   ]
  },
  {
   "cell_type": "code",
   "execution_count": 15,
   "metadata": {},
   "outputs": [
    {
     "name": "stdout",
     "output_type": "stream",
     "text": [
      "R2_score: 0.4302010046633\n"
     ]
    }
   ],
   "source": [
    "model = LinearRegression(normalize = True).fit(features_matrix, target)\n",
    "predictions = model.predict(features_matrix)\n",
    "r2_score_value = r2_score(target, predictions)\n",
    "print(f\"R2_score: {r2_score_value:.13f}\")"
   ]
  },
  {
   "cell_type": "markdown",
   "metadata": {},
   "source": [
    "## Вывод"
   ]
  },
  {
   "cell_type": "markdown",
   "metadata": {},
   "source": [
    "<div style=\"border:solid black 2px; padding: 10px\">   \n",
    "Поскольку значения сошлись, мы успешно защитили данные пользователей, применив умножение на матрицу, при этом не потеряв качество модели."
   ]
  },
  {
   "cell_type": "markdown",
   "metadata": {},
   "source": [
    "<div class=\"alert alert-success\">\n",
    "<b>Оставлю немного полезного материала::</b>  \n",
    "\n",
    "Оставлю хороший учебник по ML:\n",
    "+  https://academy.yandex.ru/handbook/ml\n",
    "+  https://habr.com/ru/post/595281/  \n",
    "    \n",
    "Немного новостей с мира DL(вдруг заинтересует):\n",
    "+  https://habr.com/ru/company/ods/blog/686962/\n",
    "    \n",
    "Вот тут проходят всякие соревнования, можешь себя попробовать:\n",
    "+  https://hacks-ai.ru/championships#competitions\n",
    "    \n",
    "    \n",
    "Если хочешь подтянуть Математику для DS то, например:\n",
    "+  https://mml-book.github.io/book/mml-book.pdf\n",
    "+  https://www.coursera.org/specializations/mathematics-machine-learning\n",
    "Coursera, к сожалению уходит из России...но все равно расскажу лайфхак как там получить курс бесплатно. https://techrocks.ru/2021/07/31/coursera-edx-udacity-free-learning-resources/#:~:text=%D0%9D%D0%BE%20%D0%B5%D1%81%D1%82%D1%8C%20%D0%B5%D1%89%D0%B5%20%D0%BE%D0%B4%D0%BD%D0%B0%20%D0%BE%D0%BF%D1%86%D0%B8%D1%8F,%D1%80%D0%B5%D1%88%D0%B5%D0%BD%D0%B8%D0%B5%20%D0%B2%20%D1%82%D0%B5%D1%87%D0%B5%D0%BD%D0%B8%D0%B5%20%D0%B4%D0%B2%D1%83%D1%85%20%D0%BD%D0%B5%D0%B4%D0%B5%D0%BB%D1%8C.\n",
    "    \n",
    "Возможно, что нить пригодится:  \n",
    "+  https://drive.google.com/file/d/1r8CJHH_hwDM16l1Pnpb4KJzoJFrJ5XRi/view\n",
    "+  https://arxiv.org/ftp/arxiv/papers/2201/2201.00650.pdf\n",
    "+  https://github.com/slgero/testovoe\n",
    "    \n",
    "    \n",
    "Курс от МФТИ математика для DS:\n",
    "    \n",
    "+  https://www.youtube.com/watch?v=xccjt6lOoow&list=PLk4h7dmY2eYHHTyfLyrl7HmP-H3mMAW08&index=1\n",
    "    \n",
    "    \n",
    "Тут много соревнований/лекций:\n",
    "    \n",
    "+  https://ods.ai/\n",
    "    \n",
    "stepic NLP/CV:\n",
    "    \n",
    "+  https://stepik.org/course/54098/syllabus\n",
    "+  https://stepik.org/course/50352/syllabus\n",
    "    \n",
    "Еще есть от ВШЭ:\n",
    "    \n",
    "+  https://www.youtube.com/watch?v=mwjQaNt8qxk&list=PLEwK9wdS5g0og-DcF1apxutSM0GDLHz_3&ab_channel=%D0%A4%D0%9A%D0%9D%D0%92%D0%A8%D0%AD%E2%80%94%D0%B4%D0%B8%D1%81%D1%82%D0%B0%D0%BD%D1%86%D0%B8%D0%BE%D0%BD%D0%BD%D1%8B%D0%B5%D0%B7%D0%B0%D0%BD%D1%8F%D1%82%D0%B8%D1%8F\n",
    "+  https://github.com/hse-ds/iad-deep-learning\n",
    "</div>"
   ]
  },
  {
   "cell_type": "markdown",
   "metadata": {},
   "source": [
    "## Чек-лист проверки"
   ]
  },
  {
   "cell_type": "markdown",
   "metadata": {},
   "source": [
    "Поставьте 'x' в выполненных пунктах. Далее нажмите Shift+Enter."
   ]
  },
  {
   "cell_type": "markdown",
   "metadata": {},
   "source": [
    "- [x]  Jupyter Notebook открыт\n",
    "- [x]  Весь код выполняется без ошибок\n",
    "- [x]  Ячейки с кодом расположены в порядке исполнения\n",
    "- [x]  Выполнен шаг 1: данные загружены\n",
    "- [x]  Выполнен шаг 2: получен ответ на вопрос об умножении матриц\n",
    "    - [x]  Указан правильный вариант ответа\n",
    "    - [x]  Вариант обоснован\n",
    "- [x]  Выполнен шаг 3: предложен алгоритм преобразования\n",
    "    - [x]  Алгоритм описан\n",
    "    - [x]  Алгоритм обоснован\n",
    "- [x]  Выполнен шаг 4: алгоритм проверен\n",
    "    - [x]  Алгоритм реализован\n",
    "    - [x]  Проведено сравнение качества моделей до и после преобразования"
   ]
  }
 ],
 "metadata": {
  "ExecuteTimeLog": [
   {
    "duration": 1705,
    "start_time": "2023-05-07T15:04:25.061Z"
   },
   {
    "duration": 91,
    "start_time": "2023-05-07T15:05:40.318Z"
   },
   {
    "duration": 49,
    "start_time": "2023-05-07T15:11:35.926Z"
   },
   {
    "duration": 31,
    "start_time": "2023-05-07T15:11:52.025Z"
   },
   {
    "duration": 33,
    "start_time": "2023-05-07T15:12:22.065Z"
   },
   {
    "duration": 46,
    "start_time": "2023-05-07T15:12:32.860Z"
   },
   {
    "duration": 34,
    "start_time": "2023-05-07T15:12:39.220Z"
   },
   {
    "duration": 34,
    "start_time": "2023-05-07T15:12:57.059Z"
   },
   {
    "duration": 33,
    "start_time": "2023-05-07T15:13:06.542Z"
   },
   {
    "duration": 11,
    "start_time": "2023-05-07T15:14:05.532Z"
   },
   {
    "duration": 24,
    "start_time": "2023-05-07T15:15:01.332Z"
   },
   {
    "duration": 30,
    "start_time": "2023-05-07T15:16:06.617Z"
   },
   {
    "duration": 44,
    "start_time": "2023-05-07T20:09:59.761Z"
   },
   {
    "duration": 2104,
    "start_time": "2023-05-07T20:10:05.260Z"
   },
   {
    "duration": 108,
    "start_time": "2023-05-07T20:10:07.365Z"
   },
   {
    "duration": 52,
    "start_time": "2023-05-07T20:10:07.474Z"
   },
   {
    "duration": 48,
    "start_time": "2023-05-07T20:10:42.695Z"
   },
   {
    "duration": 7,
    "start_time": "2023-05-07T20:23:45.702Z"
   },
   {
    "duration": 82,
    "start_time": "2023-05-07T20:24:46.845Z"
   },
   {
    "duration": 443,
    "start_time": "2023-05-07T20:24:54.245Z"
   },
   {
    "duration": 388,
    "start_time": "2023-05-07T20:25:09.147Z"
   },
   {
    "duration": 75,
    "start_time": "2023-05-07T20:25:17.121Z"
   },
   {
    "duration": 68,
    "start_time": "2023-05-07T20:25:38.690Z"
   },
   {
    "duration": 371,
    "start_time": "2023-05-07T20:25:45.295Z"
   },
   {
    "duration": 343,
    "start_time": "2023-05-07T20:26:32.943Z"
   },
   {
    "duration": 364,
    "start_time": "2023-05-07T20:26:42.024Z"
   },
   {
    "duration": 2,
    "start_time": "2023-05-07T20:26:46.812Z"
   },
   {
    "duration": 28,
    "start_time": "2023-05-07T20:26:47.093Z"
   },
   {
    "duration": 433,
    "start_time": "2023-05-07T20:26:47.703Z"
   },
   {
    "duration": 27,
    "start_time": "2023-05-07T20:26:51.205Z"
   },
   {
    "duration": 22,
    "start_time": "2023-05-07T20:27:25.060Z"
   },
   {
    "duration": 364,
    "start_time": "2023-05-07T20:28:06.721Z"
   },
   {
    "duration": 8,
    "start_time": "2023-05-07T20:28:42.327Z"
   },
   {
    "duration": 13,
    "start_time": "2023-05-07T20:28:53.390Z"
   },
   {
    "duration": 11,
    "start_time": "2023-05-07T20:29:03.919Z"
   },
   {
    "duration": 10,
    "start_time": "2023-05-07T20:29:35.687Z"
   },
   {
    "duration": 18,
    "start_time": "2023-05-07T20:30:10.631Z"
   },
   {
    "duration": 370,
    "start_time": "2023-05-07T20:30:31.736Z"
   },
   {
    "duration": 6,
    "start_time": "2023-05-07T20:31:05.811Z"
   },
   {
    "duration": 6,
    "start_time": "2023-05-07T20:31:14.392Z"
   },
   {
    "duration": 6,
    "start_time": "2023-05-07T20:31:28.676Z"
   },
   {
    "duration": 1549,
    "start_time": "2023-05-08T06:18:52.771Z"
   },
   {
    "duration": 84,
    "start_time": "2023-05-08T06:18:54.322Z"
   },
   {
    "duration": 13,
    "start_time": "2023-05-08T06:18:54.407Z"
   },
   {
    "duration": 10,
    "start_time": "2023-05-08T06:18:54.422Z"
   },
   {
    "duration": 23,
    "start_time": "2023-05-08T06:18:54.434Z"
   },
   {
    "duration": 481,
    "start_time": "2023-05-08T06:18:54.458Z"
   },
   {
    "duration": 6,
    "start_time": "2023-05-08T06:18:57.276Z"
   },
   {
    "duration": 5,
    "start_time": "2023-05-08T06:18:58.547Z"
   },
   {
    "duration": 7,
    "start_time": "2023-05-08T06:19:00.118Z"
   },
   {
    "duration": 5,
    "start_time": "2023-05-08T06:39:57.620Z"
   },
   {
    "duration": 51,
    "start_time": "2023-05-08T11:03:24.229Z"
   },
   {
    "duration": 1539,
    "start_time": "2023-05-08T11:03:34.288Z"
   },
   {
    "duration": 85,
    "start_time": "2023-05-08T11:03:35.829Z"
   },
   {
    "duration": 14,
    "start_time": "2023-05-08T11:03:35.916Z"
   },
   {
    "duration": 21,
    "start_time": "2023-05-08T11:03:35.932Z"
   },
   {
    "duration": 24,
    "start_time": "2023-05-08T11:03:35.955Z"
   },
   {
    "duration": 424,
    "start_time": "2023-05-08T11:03:35.980Z"
   },
   {
    "duration": 5,
    "start_time": "2023-05-08T11:03:36.406Z"
   },
   {
    "duration": 11,
    "start_time": "2023-05-08T11:03:36.413Z"
   },
   {
    "duration": 6,
    "start_time": "2023-05-08T11:03:36.426Z"
   },
   {
    "duration": 5,
    "start_time": "2023-05-08T11:03:36.434Z"
   },
   {
    "duration": 130,
    "start_time": "2023-05-08T11:03:36.441Z"
   },
   {
    "duration": 10,
    "start_time": "2023-05-08T11:04:00.224Z"
   },
   {
    "duration": 5,
    "start_time": "2023-05-08T11:04:05.582Z"
   },
   {
    "duration": 50,
    "start_time": "2023-05-08T11:04:37.380Z"
   },
   {
    "duration": 12,
    "start_time": "2023-05-08T11:04:42.238Z"
   },
   {
    "duration": 4,
    "start_time": "2023-05-08T11:04:45.958Z"
   },
   {
    "duration": 57,
    "start_time": "2023-05-08T11:04:54.967Z"
   },
   {
    "duration": 5,
    "start_time": "2023-05-08T11:04:57.910Z"
   },
   {
    "duration": 7,
    "start_time": "2023-05-08T11:05:12.229Z"
   },
   {
    "duration": 1421,
    "start_time": "2023-05-08T12:56:35.667Z"
   },
   {
    "duration": 26,
    "start_time": "2023-05-08T12:56:37.090Z"
   },
   {
    "duration": 16,
    "start_time": "2023-05-08T12:56:37.118Z"
   },
   {
    "duration": 15,
    "start_time": "2023-05-08T12:56:37.136Z"
   },
   {
    "duration": 24,
    "start_time": "2023-05-08T12:56:37.154Z"
   },
   {
    "duration": 404,
    "start_time": "2023-05-08T12:56:37.185Z"
   },
   {
    "duration": 7,
    "start_time": "2023-05-08T12:56:37.591Z"
   },
   {
    "duration": 8,
    "start_time": "2023-05-08T12:56:37.599Z"
   },
   {
    "duration": 11,
    "start_time": "2023-05-08T12:56:37.608Z"
   },
   {
    "duration": 8,
    "start_time": "2023-05-08T12:56:37.621Z"
   },
   {
    "duration": 24,
    "start_time": "2023-05-08T12:56:37.630Z"
   },
   {
    "duration": 3,
    "start_time": "2023-05-08T12:56:45.881Z"
   },
   {
    "duration": 4,
    "start_time": "2023-05-08T12:56:53.384Z"
   },
   {
    "duration": 8,
    "start_time": "2023-05-08T12:57:20.789Z"
   },
   {
    "duration": 19,
    "start_time": "2023-05-08T12:58:00.814Z"
   },
   {
    "duration": 3,
    "start_time": "2023-05-08T12:58:52.807Z"
   },
   {
    "duration": 10,
    "start_time": "2023-05-08T12:59:29.960Z"
   },
   {
    "duration": 52,
    "start_time": "2023-05-08T12:59:47.753Z"
   },
   {
    "duration": 259,
    "start_time": "2023-05-08T13:00:19.774Z"
   },
   {
    "duration": 3,
    "start_time": "2023-05-08T13:02:37.320Z"
   },
   {
    "duration": 13,
    "start_time": "2023-05-08T13:02:37.969Z"
   },
   {
    "duration": 1372,
    "start_time": "2023-05-08T13:02:49.739Z"
   },
   {
    "duration": 27,
    "start_time": "2023-05-08T13:02:51.113Z"
   },
   {
    "duration": 19,
    "start_time": "2023-05-08T13:02:51.142Z"
   },
   {
    "duration": 31,
    "start_time": "2023-05-08T13:02:51.163Z"
   },
   {
    "duration": 36,
    "start_time": "2023-05-08T13:02:51.195Z"
   },
   {
    "duration": 411,
    "start_time": "2023-05-08T13:02:51.233Z"
   },
   {
    "duration": 6,
    "start_time": "2023-05-08T13:02:51.646Z"
   },
   {
    "duration": 26,
    "start_time": "2023-05-08T13:02:51.654Z"
   },
   {
    "duration": 15,
    "start_time": "2023-05-08T13:02:51.681Z"
   },
   {
    "duration": 19,
    "start_time": "2023-05-08T13:02:51.698Z"
   },
   {
    "duration": 35,
    "start_time": "2023-05-08T13:02:51.719Z"
   },
   {
    "duration": 34,
    "start_time": "2023-05-08T13:02:51.756Z"
   },
   {
    "duration": 199,
    "start_time": "2023-05-08T13:02:51.792Z"
   },
   {
    "duration": 95,
    "start_time": "2023-05-08T13:02:51.993Z"
   },
   {
    "duration": 37,
    "start_time": "2023-05-08T13:02:52.090Z"
   },
   {
    "duration": 9,
    "start_time": "2023-05-08T13:08:23.113Z"
   },
   {
    "duration": 58,
    "start_time": "2023-05-08T13:09:00.337Z"
   },
   {
    "duration": 15,
    "start_time": "2023-05-08T13:09:06.257Z"
   },
   {
    "duration": 11,
    "start_time": "2023-05-08T13:09:18.914Z"
   },
   {
    "duration": 4,
    "start_time": "2023-05-08T13:09:21.640Z"
   },
   {
    "duration": 108,
    "start_time": "2023-05-08T13:11:20.854Z"
   },
   {
    "duration": 3,
    "start_time": "2023-05-08T13:11:59.533Z"
   },
   {
    "duration": 12,
    "start_time": "2023-05-08T13:12:51.776Z"
   },
   {
    "duration": 4,
    "start_time": "2023-05-08T13:12:52.295Z"
   },
   {
    "duration": 1421,
    "start_time": "2023-05-08T13:33:18.192Z"
   },
   {
    "duration": 29,
    "start_time": "2023-05-08T13:33:19.615Z"
   },
   {
    "duration": 17,
    "start_time": "2023-05-08T13:33:19.646Z"
   },
   {
    "duration": 13,
    "start_time": "2023-05-08T13:33:19.665Z"
   },
   {
    "duration": 31,
    "start_time": "2023-05-08T13:33:19.686Z"
   },
   {
    "duration": 397,
    "start_time": "2023-05-08T13:33:19.719Z"
   },
   {
    "duration": 7,
    "start_time": "2023-05-08T13:33:20.118Z"
   },
   {
    "duration": 15,
    "start_time": "2023-05-08T13:33:20.127Z"
   },
   {
    "duration": 16,
    "start_time": "2023-05-08T13:33:20.144Z"
   },
   {
    "duration": 8,
    "start_time": "2023-05-08T13:33:20.162Z"
   },
   {
    "duration": 34,
    "start_time": "2023-05-08T13:33:20.171Z"
   },
   {
    "duration": 25,
    "start_time": "2023-05-08T13:33:20.206Z"
   },
   {
    "duration": 61,
    "start_time": "2023-05-08T13:33:20.234Z"
   },
   {
    "duration": 88,
    "start_time": "2023-05-08T13:33:20.298Z"
   },
   {
    "duration": 100,
    "start_time": "2023-05-08T13:33:20.389Z"
   },
   {
    "duration": 1307,
    "start_time": "2023-05-08T13:44:34.232Z"
   },
   {
    "duration": 27,
    "start_time": "2023-05-08T13:44:35.541Z"
   },
   {
    "duration": 15,
    "start_time": "2023-05-08T13:44:35.570Z"
   },
   {
    "duration": 21,
    "start_time": "2023-05-08T13:44:35.588Z"
   },
   {
    "duration": 33,
    "start_time": "2023-05-08T13:44:35.611Z"
   },
   {
    "duration": 402,
    "start_time": "2023-05-08T13:44:35.646Z"
   },
   {
    "duration": 5,
    "start_time": "2023-05-08T13:44:36.050Z"
   },
   {
    "duration": 9,
    "start_time": "2023-05-08T13:44:36.056Z"
   },
   {
    "duration": 21,
    "start_time": "2023-05-08T13:44:36.067Z"
   },
   {
    "duration": 6,
    "start_time": "2023-05-08T13:44:36.091Z"
   },
   {
    "duration": 8,
    "start_time": "2023-05-08T13:44:36.099Z"
   },
   {
    "duration": 13,
    "start_time": "2023-05-08T13:44:36.108Z"
   },
   {
    "duration": 68,
    "start_time": "2023-05-08T13:44:36.123Z"
   },
   {
    "duration": 99,
    "start_time": "2023-05-08T13:44:36.193Z"
   },
   {
    "duration": 11,
    "start_time": "2023-05-08T13:44:36.384Z"
   },
   {
    "duration": 1742,
    "start_time": "2023-05-20T18:26:14.469Z"
   },
   {
    "duration": 79,
    "start_time": "2023-05-20T18:26:16.213Z"
   },
   {
    "duration": 16,
    "start_time": "2023-05-20T18:26:16.293Z"
   },
   {
    "duration": 14,
    "start_time": "2023-05-20T18:26:16.311Z"
   },
   {
    "duration": 31,
    "start_time": "2023-05-20T18:26:16.332Z"
   },
   {
    "duration": 465,
    "start_time": "2023-05-20T18:26:16.365Z"
   },
   {
    "duration": 7,
    "start_time": "2023-05-20T18:26:16.832Z"
   },
   {
    "duration": 6,
    "start_time": "2023-05-20T18:26:16.842Z"
   },
   {
    "duration": 18,
    "start_time": "2023-05-20T18:26:16.849Z"
   },
   {
    "duration": 5,
    "start_time": "2023-05-20T18:26:16.869Z"
   },
   {
    "duration": 10,
    "start_time": "2023-05-20T18:26:16.876Z"
   },
   {
    "duration": 33,
    "start_time": "2023-05-20T18:26:16.888Z"
   },
   {
    "duration": 96,
    "start_time": "2023-05-20T18:26:16.926Z"
   },
   {
    "duration": 111,
    "start_time": "2023-05-20T18:26:17.026Z"
   },
   {
    "duration": 81,
    "start_time": "2023-05-20T18:26:17.139Z"
   }
  ],
  "kernelspec": {
   "display_name": "Python 3 (ipykernel)",
   "language": "python",
   "name": "python3"
  },
  "language_info": {
   "codemirror_mode": {
    "name": "ipython",
    "version": 3
   },
   "file_extension": ".py",
   "mimetype": "text/x-python",
   "name": "python",
   "nbconvert_exporter": "python",
   "pygments_lexer": "ipython3",
   "version": "3.9.7"
  },
  "toc": {
   "base_numbering": 1,
   "nav_menu": {},
   "number_sections": true,
   "sideBar": false,
   "skip_h1_title": true,
   "title_cell": "Содержание",
   "title_sidebar": "Contents",
   "toc_cell": true,
   "toc_position": {
    "height": "628.889px",
    "left": "112px",
    "top": "308.113px",
    "width": "307.109px"
   },
   "toc_section_display": true,
   "toc_window_display": true
  }
 },
 "nbformat": 4,
 "nbformat_minor": 2
}
